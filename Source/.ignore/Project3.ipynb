{
 "cells": [
  {
   "cell_type": "markdown",
   "metadata": {},
   "source": [
    "# Project 3\n",
    "Fraud detection. Using dataset from Kaggle."
   ]
  },
  {
   "cell_type": "markdown",
   "metadata": {},
   "source": [
    "## Importing Modules"
   ]
  },
  {
   "cell_type": "code",
   "execution_count": 1,
   "metadata": {
    "execution": {
     "iopub.execute_input": "2020-10-24T20:15:52.381252Z",
     "iopub.status.busy": "2020-10-24T20:15:52.380967Z",
     "iopub.status.idle": "2020-10-24T20:15:53.705571Z",
     "shell.execute_reply": "2020-10-24T20:15:53.704883Z",
     "shell.execute_reply.started": "2020-10-24T20:15:52.381181Z"
    }
   },
   "outputs": [],
   "source": [
    "from bs4 import BeautifulSoup\n",
    "from random import randint\n",
    "import pandas as pd\n",
    "import numpy as np\n",
    "import matplotlib.pyplot as plt\n",
    "import requests\n",
    "import re\n",
    "import time\n",
    "import pickle\n",
    "import os\n",
    "import datetime\n",
    "import seaborn as sns\n",
    "import math\n",
    "import scipy.stats as stats\n",
    "\n",
    "from sklearn.linear_model import LinearRegression\n",
    "from sklearn.linear_model import LogisticRegressionCV\n",
    "from sklearn.linear_model import LogisticRegression\n",
    "\n",
    "from sklearn.linear_model import Ridge\n",
    "from sklearn.linear_model import Lasso\n",
    "from sklearn.linear_model import RidgeCV\n",
    "from sklearn.linear_model import LassoCV\n",
    "from sklearn.model_selection import train_test_split\n",
    "from sklearn.preprocessing import PolynomialFeatures\n",
    "from sklearn.model_selection import cross_validate\n",
    "from sklearn.model_selection import KFold\n",
    "from sklearn.pipeline import Pipeline\n",
    "from sklearn.preprocessing import StandardScaler\n",
    "from sklearn.model_selection import cross_val_score\n",
    "from sklearn.model_selection import cross_validate\n",
    "from sklearn.preprocessing import OneHotEncoder, StandardScaler\n",
    "from sklearn.metrics import plot_confusion_matrix, plot_roc_curve, classification_report, confusion_matrix\n",
    "from sklearn.metrics import precision_recall_curve\n",
    "from imblearn.over_sampling import RandomOverSampler\n",
    "from imblearn.over_sampling import SMOTE\n",
    "from imblearn.over_sampling import ADASYN\n",
    "\n",
    "import pymysql.cursors\n",
    "import sys\n",
    "\n",
    "#to speed up pandas operands\n",
    "from pandarallel import pandarallel\n",
    "\n"
   ]
  },
  {
   "cell_type": "code",
   "execution_count": 2,
   "metadata": {
    "execution": {
     "iopub.execute_input": "2020-10-24T20:15:53.706730Z",
     "iopub.status.busy": "2020-10-24T20:15:53.706579Z",
     "iopub.status.idle": "2020-10-24T20:15:53.709882Z",
     "shell.execute_reply": "2020-10-24T20:15:53.709209Z",
     "shell.execute_reply.started": "2020-10-24T20:15:53.706711Z"
    }
   },
   "outputs": [],
   "source": [
    "#Constants\n",
    "RANDOM_STATE = 999\n",
    "TEST_SIZE = 0.1\n",
    "\n",
    "#set this to 1 if you want to see this\n",
    "#notebook create the table and import the CSV into the table\n",
    "#on the My SQL server\n",
    "RUN_TABLE_CREATE_IMPORT = 0"
   ]
  },
  {
   "cell_type": "code",
   "execution_count": 3,
   "metadata": {
    "execution": {
     "iopub.execute_input": "2020-10-24T20:15:53.711148Z",
     "iopub.status.busy": "2020-10-24T20:15:53.711002Z",
     "iopub.status.idle": "2020-10-24T20:15:53.718786Z",
     "shell.execute_reply": "2020-10-24T20:15:53.718035Z",
     "shell.execute_reply.started": "2020-10-24T20:15:53.711129Z"
    }
   },
   "outputs": [],
   "source": [
    "def print_confusion_matrix(confusion_matrix, class_names, figsize = (10,7), fontsize=18):\n",
    "    \"\"\"Prints a confusion matrix, as returned by sklearn.metrics.confusion_matrix, as a heatmap.\n",
    "    \n",
    "    Arguments\n",
    "    ---------\n",
    "    confusion_matrix: numpy.ndarray\n",
    "        The numpy.ndarray object returned from a call to sklearn.metrics.confusion_matrix. \n",
    "        Similarly constructed ndarrays can also be used.\n",
    "    class_names: list\n",
    "        An ordered list of class names, in the order they index the given confusion matrix.\n",
    "    figsize: tuple\n",
    "        A 2-long tuple, the first value determining the horizontal size of the ouputted figure,\n",
    "        the second determining the vertical size. Defaults to (10,7).\n",
    "    fontsize: int\n",
    "        Font size for axes labels. Defaults to 14.\n",
    "        \n",
    "    Returns\n",
    "    -------\n",
    "    matplotlib.figure.Figure\n",
    "        The resulting confusion matrix figure\n",
    "    \"\"\"\n",
    "    df_cm = pd.DataFrame(confusion_matrix, index=class_names, columns=class_names, )\n",
    "    fig = plt.figure(figsize=figsize)\n",
    "    try:\n",
    "        heatmap = sns.heatmap(df_cm, annot=True, fmt=\"d\")\n",
    "    except ValueError:\n",
    "        raise ValueError(\"Confusion matrix values must be integers.\")\n",
    "    heatmap.yaxis.set_ticklabels(heatmap.yaxis.get_ticklabels(), rotation=0, ha='right', fontsize=fontsize)\n",
    "    heatmap.xaxis.set_ticklabels(heatmap.xaxis.get_ticklabels(), rotation=45, ha='right', fontsize=fontsize)\n",
    "    plt.ylabel('True label')\n",
    "    plt.xlabel('Predicted label')\n",
    "    return fig"
   ]
  },
  {
   "cell_type": "markdown",
   "metadata": {},
   "source": [
    "## Data Download and Load Into SQL"
   ]
  },
  {
   "cell_type": "markdown",
   "metadata": {},
   "source": [
    "Note if you want a copy of the data you can download it from [here](https://www.kaggle.com/ntnu-testimon/paysim1) "
   ]
  },
  {
   "cell_type": "code",
   "execution_count": 4,
   "metadata": {
    "execution": {
     "iopub.execute_input": "2020-10-24T20:15:53.719891Z",
     "iopub.status.busy": "2020-10-24T20:15:53.719746Z",
     "iopub.status.idle": "2020-10-24T20:15:53.729520Z",
     "shell.execute_reply": "2020-10-24T20:15:53.728963Z",
     "shell.execute_reply.started": "2020-10-24T20:15:53.719871Z"
    }
   },
   "outputs": [],
   "source": [
    "#just reading enough to get the names of the columns\n",
    "data_df = pd.read_csv(\"../Data/PS_20174392719_1491204439457_log.csv\",nrows=5)"
   ]
  },
  {
   "cell_type": "code",
   "execution_count": 5,
   "metadata": {
    "execution": {
     "iopub.execute_input": "2020-10-24T20:15:53.730503Z",
     "iopub.status.busy": "2020-10-24T20:15:53.730357Z",
     "iopub.status.idle": "2020-10-24T20:15:53.736118Z",
     "shell.execute_reply": "2020-10-24T20:15:53.735384Z",
     "shell.execute_reply.started": "2020-10-24T20:15:53.730484Z"
    }
   },
   "outputs": [
    {
     "name": "stdout",
     "output_type": "stream",
     "text": [
      "step\n",
      "amount\n",
      "nameOrig\n",
      "oldbalanceOrg\n",
      "newbalanceOrig\n",
      "nameDest\n",
      "oldbalanceDest\n",
      "newbalanceDest\n",
      "isFraud\n",
      "isFlaggedFraud\n",
      "transtype\n"
     ]
    }
   ],
   "source": [
    "#Getting column names\n",
    "COL_NAMES = data_df.columns\n",
    "COL_NAMES = list(COL_NAMES)\n",
    "COL_NAMES.remove(\"type\")\n",
    "COL_NAMES.append(\"transtype\")\n",
    "for i, a_col in enumerate(COL_NAMES):\n",
    "    print(a_col)"
   ]
  },
  {
   "cell_type": "code",
   "execution_count": 6,
   "metadata": {
    "execution": {
     "iopub.execute_input": "2020-10-24T20:15:53.736929Z",
     "iopub.status.busy": "2020-10-24T20:15:53.736786Z",
     "iopub.status.idle": "2020-10-24T20:15:53.752591Z",
     "shell.execute_reply": "2020-10-24T20:15:53.751862Z",
     "shell.execute_reply.started": "2020-10-24T20:15:53.736910Z"
    }
   },
   "outputs": [
    {
     "data": {
      "text/html": [
       "<div>\n",
       "<style scoped>\n",
       "    .dataframe tbody tr th:only-of-type {\n",
       "        vertical-align: middle;\n",
       "    }\n",
       "\n",
       "    .dataframe tbody tr th {\n",
       "        vertical-align: top;\n",
       "    }\n",
       "\n",
       "    .dataframe thead th {\n",
       "        text-align: right;\n",
       "    }\n",
       "</style>\n",
       "<table border=\"1\" class=\"dataframe\">\n",
       "  <thead>\n",
       "    <tr style=\"text-align: right;\">\n",
       "      <th></th>\n",
       "      <th>step</th>\n",
       "      <th>type</th>\n",
       "      <th>amount</th>\n",
       "      <th>nameOrig</th>\n",
       "      <th>oldbalanceOrg</th>\n",
       "      <th>newbalanceOrig</th>\n",
       "      <th>nameDest</th>\n",
       "      <th>oldbalanceDest</th>\n",
       "      <th>newbalanceDest</th>\n",
       "      <th>isFraud</th>\n",
       "      <th>isFlaggedFraud</th>\n",
       "    </tr>\n",
       "  </thead>\n",
       "  <tbody>\n",
       "    <tr>\n",
       "      <th>0</th>\n",
       "      <td>1</td>\n",
       "      <td>PAYMENT</td>\n",
       "      <td>9839.64</td>\n",
       "      <td>C1231006815</td>\n",
       "      <td>170136.0</td>\n",
       "      <td>160296.36</td>\n",
       "      <td>M1979787155</td>\n",
       "      <td>0.0</td>\n",
       "      <td>0.0</td>\n",
       "      <td>0</td>\n",
       "      <td>0</td>\n",
       "    </tr>\n",
       "    <tr>\n",
       "      <th>1</th>\n",
       "      <td>1</td>\n",
       "      <td>PAYMENT</td>\n",
       "      <td>1864.28</td>\n",
       "      <td>C1666544295</td>\n",
       "      <td>21249.0</td>\n",
       "      <td>19384.72</td>\n",
       "      <td>M2044282225</td>\n",
       "      <td>0.0</td>\n",
       "      <td>0.0</td>\n",
       "      <td>0</td>\n",
       "      <td>0</td>\n",
       "    </tr>\n",
       "    <tr>\n",
       "      <th>2</th>\n",
       "      <td>1</td>\n",
       "      <td>TRANSFER</td>\n",
       "      <td>181.00</td>\n",
       "      <td>C1305486145</td>\n",
       "      <td>181.0</td>\n",
       "      <td>0.00</td>\n",
       "      <td>C553264065</td>\n",
       "      <td>0.0</td>\n",
       "      <td>0.0</td>\n",
       "      <td>1</td>\n",
       "      <td>0</td>\n",
       "    </tr>\n",
       "    <tr>\n",
       "      <th>3</th>\n",
       "      <td>1</td>\n",
       "      <td>CASH_OUT</td>\n",
       "      <td>181.00</td>\n",
       "      <td>C840083671</td>\n",
       "      <td>181.0</td>\n",
       "      <td>0.00</td>\n",
       "      <td>C38997010</td>\n",
       "      <td>21182.0</td>\n",
       "      <td>0.0</td>\n",
       "      <td>1</td>\n",
       "      <td>0</td>\n",
       "    </tr>\n",
       "    <tr>\n",
       "      <th>4</th>\n",
       "      <td>1</td>\n",
       "      <td>PAYMENT</td>\n",
       "      <td>11668.14</td>\n",
       "      <td>C2048537720</td>\n",
       "      <td>41554.0</td>\n",
       "      <td>29885.86</td>\n",
       "      <td>M1230701703</td>\n",
       "      <td>0.0</td>\n",
       "      <td>0.0</td>\n",
       "      <td>0</td>\n",
       "      <td>0</td>\n",
       "    </tr>\n",
       "  </tbody>\n",
       "</table>\n",
       "</div>"
      ],
      "text/plain": [
       "   step      type    amount     nameOrig  oldbalanceOrg  newbalanceOrig  \\\n",
       "0     1   PAYMENT   9839.64  C1231006815       170136.0       160296.36   \n",
       "1     1   PAYMENT   1864.28  C1666544295        21249.0        19384.72   \n",
       "2     1  TRANSFER    181.00  C1305486145          181.0            0.00   \n",
       "3     1  CASH_OUT    181.00   C840083671          181.0            0.00   \n",
       "4     1   PAYMENT  11668.14  C2048537720        41554.0        29885.86   \n",
       "\n",
       "      nameDest  oldbalanceDest  newbalanceDest  isFraud  isFlaggedFraud  \n",
       "0  M1979787155             0.0             0.0        0               0  \n",
       "1  M2044282225             0.0             0.0        0               0  \n",
       "2   C553264065             0.0             0.0        1               0  \n",
       "3    C38997010         21182.0             0.0        1               0  \n",
       "4  M1230701703             0.0             0.0        0               0  "
      ]
     },
     "execution_count": 6,
     "metadata": {},
     "output_type": "execute_result"
    }
   ],
   "source": [
    "#What type of data is in each column?\n",
    "data_df.head()"
   ]
  },
  {
   "cell_type": "code",
   "execution_count": 7,
   "metadata": {
    "execution": {
     "iopub.execute_input": "2020-10-24T20:15:53.753877Z",
     "iopub.status.busy": "2020-10-24T20:15:53.753606Z",
     "iopub.status.idle": "2020-10-24T20:15:53.760370Z",
     "shell.execute_reply": "2020-10-24T20:15:53.759679Z",
     "shell.execute_reply.started": "2020-10-24T20:15:53.753841Z"
    }
   },
   "outputs": [],
   "source": [
    "#Establishing connection to mariaDB server\n",
    "#Note, sever_details.txt is not provided you'll have to ask me for it\n",
    "if sys.platform == 'linux':\n",
    "    server_details_file_name = \"/home/magreen/Dropbox/PERSONAL/Documents/Word/server_details.txt\"\n",
    "elif sys.platform == 'darwin':\n",
    "    server_details_file_name = \"/Users/magreen/Dropbox/PERSONAL/Documents/Word/server_details.txt\"\n",
    "else:\n",
    "    print(\"WARNING: You are running on a system type I have not tested. Please contact me if you want help testing this.\")\n",
    "\n",
    "SERVER_DETAILS = open(server_details_file_name,\"r\")\n",
    "line_of_text = SERVER_DETAILS.readline()\n",
    "\n",
    "host_name, username, mypassword, db_name = line_of_text.split(',')\n",
    "\n",
    "host_name = host_name.rstrip()\n",
    "host_name = host_name.lstrip()\n",
    "username = username.rstrip()\n",
    "username = username.lstrip()\n",
    "mypassword = mypassword.rstrip()\n",
    "mypassword = mypassword.lstrip()\n",
    "db_name = db_name.rstrip()\n",
    "db_name = db_name.lstrip()\n"
   ]
  },
  {
   "cell_type": "code",
   "execution_count": 8,
   "metadata": {
    "execution": {
     "iopub.execute_input": "2020-10-24T20:15:53.761180Z",
     "iopub.status.busy": "2020-10-24T20:15:53.761040Z",
     "iopub.status.idle": "2020-10-24T20:15:53.767586Z",
     "shell.execute_reply": "2020-10-24T20:15:53.767002Z",
     "shell.execute_reply.started": "2020-10-24T20:15:53.761162Z"
    }
   },
   "outputs": [],
   "source": [
    "data_df = None"
   ]
  },
  {
   "cell_type": "code",
   "execution_count": 9,
   "metadata": {
    "execution": {
     "iopub.execute_input": "2020-10-24T20:15:53.769970Z",
     "iopub.status.busy": "2020-10-24T20:15:53.769771Z",
     "iopub.status.idle": "2020-10-24T20:15:53.785624Z",
     "shell.execute_reply": "2020-10-24T20:15:53.784759Z",
     "shell.execute_reply.started": "2020-10-24T20:15:53.769945Z"
    }
   },
   "outputs": [],
   "source": [
    "connection = pymysql.connect(host=host_name, user=username, password=mypassword, db=db_name, cursorclass=pymysql.cursors.DictCursor)"
   ]
  },
  {
   "cell_type": "code",
   "execution_count": 10,
   "metadata": {
    "execution": {
     "iopub.execute_input": "2020-10-24T20:15:53.787694Z",
     "iopub.status.busy": "2020-10-24T20:15:53.787466Z",
     "iopub.status.idle": "2020-10-24T20:15:53.790957Z",
     "shell.execute_reply": "2020-10-24T20:15:53.790226Z",
     "shell.execute_reply.started": "2020-10-24T20:15:53.787664Z"
    }
   },
   "outputs": [],
   "source": [
    "#get a cursor\n",
    "mycursor = connection.cursor()"
   ]
  },
  {
   "cell_type": "code",
   "execution_count": 11,
   "metadata": {
    "execution": {
     "iopub.execute_input": "2020-10-24T20:15:53.792154Z",
     "iopub.status.busy": "2020-10-24T20:15:53.791939Z",
     "iopub.status.idle": "2020-10-24T20:15:53.798534Z",
     "shell.execute_reply": "2020-10-24T20:15:53.797885Z",
     "shell.execute_reply.started": "2020-10-24T20:15:53.792127Z"
    }
   },
   "outputs": [
    {
     "name": "stdout",
     "output_type": "stream",
     "text": [
      "Skipping MySQL table creation and CSV import\n"
     ]
    }
   ],
   "source": [
    "#Create table import entire CSV\n",
    "if RUN_TABLE_CREATE_IMPORT != 0:\n",
    "    drop_table_query = \"drop table if exists paysim_data2;\"\n",
    "\n",
    "    mycursor.execute(drop_table_query)\n",
    "    mycursor.execute(\"commit;\")\n",
    "\n",
    "    create_table_query = \"\"\"\n",
    "\n",
    "\n",
    "create table paysim_data2 (\n",
    "    step INT,\n",
    "    transtype VARCHAR(255),\n",
    "    amount REAL,\n",
    "    nameOrig VARCHAR(255),\n",
    "    oldbalanceOrg REAL,\n",
    "    newbalanceOrig REAL,\n",
    "    nameDest VARCHAR(255),\n",
    "    oldbalanceDest REAL,\n",
    "    newbalanceDest REAL,\n",
    "    isFraud INT,\n",
    "    isFlaggedFraud INT\n",
    "    );\n",
    "\n",
    "\n",
    "    \"\"\"\n",
    "    mycursor.execute(create_table_query)\n",
    "    mycursor.execute(\"commit;\")\n",
    "\n",
    "    import_query = \"\"\"\n",
    "\n",
    "\n",
    "load data infile '/var/lib/mysql-files/data/PS_20174392719_1491204439457_log.csv'\n",
    "into table paysim_data2 fields terminated by ','  lines terminated by '\\n'\n",
    "ignore 1 rows;\n",
    "\n",
    "    \"\"\"\n",
    "\n",
    "    mycursor.execute(import_query)\n",
    "    mycursor.execute(\"commit;\")\n",
    "    \n",
    "    #and a row ID to the table\n",
    "    alter_table_query = \"\"\"\n",
    "    alter table paysim_data2 add column id int auto_increment primary key first;\n",
    "    \"\"\"\n",
    "    mycursor.execute(alter_table_query)\n",
    "    mycursor.execute(\"commit;\")\n",
    "    print(\"table creation and import done\")\n",
    "else:\n",
    "    print(\"Skipping MySQL table creation and CSV import\")"
   ]
  },
  {
   "cell_type": "markdown",
   "metadata": {},
   "source": [
    "## Data Cleaning"
   ]
  },
  {
   "cell_type": "markdown",
   "metadata": {},
   "source": [
    "In this section I remove rows that contain null entries or duplicate entries from the SQL table."
   ]
  },
  {
   "cell_type": "code",
   "execution_count": 12,
   "metadata": {
    "execution": {
     "iopub.execute_input": "2020-10-24T20:15:53.799387Z",
     "iopub.status.busy": "2020-10-24T20:15:53.799241Z",
     "iopub.status.idle": "2020-10-24T20:15:53.805592Z",
     "shell.execute_reply": "2020-10-24T20:15:53.804859Z",
     "shell.execute_reply.started": "2020-10-24T20:15:53.799369Z"
    }
   },
   "outputs": [],
   "source": [
    "##Things I'm doing to test my data cleaning in SQL\n",
    "add_some_duplicates_nulls_query = \"\"\"\n",
    "\n",
    "insert into paysim_data2(step, transtype, amount, nameOrig, oldbalanceOrg, newbalanceOrig, nameDest, oldbalanceDest, newbalanceDest,isFraud,isFlaggedFraud) values(1,'PAYMENT',55,'Han Solo',100.0,45,'Princess Lea',0,55,0,0);\n",
    "insert into paysim_data2(step, transtype, amount, nameOrig, oldbalanceOrg, newbalanceOrig, nameDest, oldbalanceDest, newbalanceDest,isFraud,isFlaggedFraud) values(1,'PAYMENT',55,'Han Solo',100.0,45,'Princess Lea',0,55,0,0);\n",
    "\n",
    "\n",
    "insert into paysim_data2(step, transtype, amount, nameOrig, oldbalanceOrg, newbalanceOrig, nameDest, oldbalanceDest, newbalanceDest,isFraud,isFlaggedFraud) values(1,'PAYMENT',NULL,'C3PO',100.0,45,'R2D2',0,55,0,0);\n",
    "insert into paysim_data2(step, transtype, amount, nameOrig, oldbalanceOrg, newbalanceOrig, nameDest, oldbalanceDest, newbalanceDest,isFraud,isFlaggedFraud) values(1,'PAYMENT',10,'Luke',100.0,90,'Wedge',0,NULL,0,0);\n",
    "\n",
    "\n",
    "\n",
    "\"\"\"\n",
    "#mycursor.execute(add_some_duplicates_nulls_query)\n",
    "#mycursor.execute(\"commit;\")\n"
   ]
  },
  {
   "cell_type": "code",
   "execution_count": 13,
   "metadata": {
    "execution": {
     "iopub.execute_input": "2020-10-24T20:15:53.807056Z",
     "iopub.status.busy": "2020-10-24T20:15:53.806802Z",
     "iopub.status.idle": "2020-10-24T20:15:53.814751Z",
     "shell.execute_reply": "2020-10-24T20:15:53.814092Z",
     "shell.execute_reply.started": "2020-10-24T20:15:53.807025Z"
    }
   },
   "outputs": [
    {
     "name": "stdout",
     "output_type": "stream",
     "text": [
      "\n",
      "skipping null search and clean\n",
      "\n"
     ]
    }
   ],
   "source": [
    "########################################################################\n",
    "#\n",
    "# Search each column in the MySQL table for null. If null remove the row\n",
    "#\n",
    "########################################################################\n",
    "if RUN_TABLE_CREATE_IMPORT != 0:\n",
    "\n",
    "    for column_name in COL_NAMES:\n",
    "        temp_query = \"\"\"\n",
    "    \n",
    "        select * from paysim_data2 where {} is null;\n",
    "    \n",
    "        \"\"\".format(column_name)\n",
    "    \n",
    "        mycursor.execute(\"begin;\")\n",
    "        query_result = mycursor.execute(temp_query)\n",
    "        print(\"For column = {} here are the null rows:\\n\".format(column_name))\n",
    "        print(query_result)\n",
    "        print(\"\\n\")\n",
    "    \n",
    "        if query_result != 0:\n",
    "            row_contents = mycursor.fetchall()\n",
    "            print(\"This row contains NULL information:\\n\")\n",
    "        \n",
    "            for bad_row in row_contents:\n",
    "                print(row_contents)\n",
    "            \n",
    "            temp_efface_row_query = \"\"\"\n",
    "            delete from paysim_data2 where {} is null;\n",
    "            \"\"\".format(column_name)\n",
    "        \n",
    "            query_result = mycursor.execute(temp_efface_row_query)\n",
    "        \n",
    "            #print(\"result = {}\".format(query_result))\n",
    "            mycursor.execute(\"commit;\")\n",
    "            #print(\"result = {}\".format(query_result))\n",
    "            if query_result:\n",
    "                print(\"\\nsuccessfully removed row\\n\")\n",
    "            else:\n",
    "                print(\"error: failed to remove row!\")\n",
    "        \n",
    "    \n",
    "\n",
    "        \n",
    "    print(\"\\ncheck done.\\n\")\n",
    "else:\n",
    "    print(\"\\nskipping null search and clean\\n\")\n",
    "\n",
    "#import CSV Into SQL Table\n"
   ]
  },
  {
   "cell_type": "code",
   "execution_count": 14,
   "metadata": {
    "execution": {
     "iopub.execute_input": "2020-10-24T20:15:53.815716Z",
     "iopub.status.busy": "2020-10-24T20:15:53.815568Z",
     "iopub.status.idle": "2020-10-24T20:15:53.822637Z",
     "shell.execute_reply": "2020-10-24T20:15:53.822005Z",
     "shell.execute_reply.started": "2020-10-24T20:15:53.815697Z"
    }
   },
   "outputs": [
    {
     "name": "stdout",
     "output_type": "stream",
     "text": [
      "\n",
      "skipping redundant row search and remove\n",
      "\n"
     ]
    }
   ],
   "source": [
    "########################################################################\n",
    "#\n",
    "# Search for duplicate rows. Remove the second-most row for every pair of duplicate rows\n",
    "#\n",
    "########################################################################\n",
    "\n",
    "search_for_duplicates_query = \"\"\"\n",
    "select\n",
    "     step, count(step),\n",
    "     transtype, count(transtype),\n",
    "     amount, count(amount),\n",
    "     nameOrig, count(nameOrig),\n",
    "     oldbalanceOrg, count(oldbalanceOrg),\n",
    "     newbalanceOrig, count(newbalanceOrig),\n",
    "     nameDest, count(nameDest),\n",
    "     oldbalanceDest, count(oldbalanceDest),\n",
    "     newbalanceDest, count(newbalanceDest),\n",
    "     isFraud, count(isFraud),\n",
    "     isFlaggedFraud, count(isFlaggedFraud)\n",
    "     from paysim_data2\n",
    "     group by step,transtype,amount,nameOrig,oldbalanceOrg,newbalanceOrig,nameDest,oldbalanceDest,newbalanceDest,isFraud,isFlaggedFraud\n",
    "     having\n",
    "     count(step) > 1 and\n",
    "     count(transtype) > 1 and\n",
    "     count(amount) > 1 and\n",
    "     count(nameOrig) > 1 and\n",
    "     count(oldbalanceOrg) > 1 and\n",
    "     count(newbalanceOrig) > 1 and\n",
    "     count(nameDest) > 1 and\n",
    "     count(oldbalanceDest) > 1 and\n",
    "     count(newbalanceDest) > 1 and\n",
    "     count(isFraud) > 1 and\n",
    "     count(isFlaggedFraud) > 1;\n",
    "\n",
    "\n",
    "\n",
    "\"\"\"\n",
    "\n",
    "remove_duplicates_query1 = \"\"\"\n",
    "\n",
    "\n",
    "SET SESSION old_alter_table=1;\n",
    "\n",
    "\n",
    "\"\"\"\n",
    "\n",
    "remove_duplicates_query2 = \"\"\"\n",
    "\n",
    "alter ignore table paysim_data2 add unique index u(amount,nameOrig,nameDest);\n",
    "\n",
    "\n",
    "\"\"\"\n",
    "\n",
    "\n",
    "remove_duplicates_query3 = \"\"\"\n",
    "SET SESSION old_alter_table=0;\n",
    "\n",
    "\n",
    "\"\"\"\n",
    "if RUN_TABLE_CREATE_IMPORT != 0:\n",
    "\n",
    "    # removing duplicates takes too long will just search for duplicates\n",
    "    # The dataset has 6M rows every duplicate remove I found \n",
    "    # does a n^2 operation which is too many for this DB\n",
    "    # other methods (CTE) don't work\n",
    "    mycursor.execute(\"begin;\")\n",
    "    mycursor.execute(search_for_duplicates_query)\n",
    "    results = mycursor.fetchall()\n",
    "\n",
    "    print(\"following are duplicate rows in the SQL DB:\\n\")\n",
    "    for myresult in results:\n",
    "        print(myresult)\n",
    "    print(\"\\ndone searching for duplicates\\n\")\n",
    "\n",
    "    print(\"removing duplicates\\n\")\n",
    "    mycursor.execute(\"begin;\")\n",
    "    mycursor.execute(remove_duplicates_query1)\n",
    "    mycursor.execute(\"commit;\")\n",
    "    mycursor.execute(remove_duplicates_query2)\n",
    "    mycursor.execute(\"commit;\")\n",
    "    mycursor.execute(remove_duplicates_query3)\n",
    "    mycursor.execute(\"commit;\")\n",
    "    print(\"\\ndone removing duplicates\\n\")\n",
    "else:\n",
    "    print(\"\\nskipping redundant row search and remove\\n\")\n"
   ]
  },
  {
   "cell_type": "markdown",
   "metadata": {},
   "source": [
    "## EDA"
   ]
  },
  {
   "cell_type": "markdown",
   "metadata": {},
   "source": [
    "Things I want to do in this section:\n",
    "\n",
    "* Find a feature / features that enable me to separate the classes\n",
    "* Create a feature that will enable me to separate the classes\n",
    "* Determine if the classes are adequately represented in the data set or is this an imbalanced data set\n"
   ]
  },
  {
   "cell_type": "markdown",
   "metadata": {},
   "source": [
    "Read the SQL into a data frame"
   ]
  },
  {
   "cell_type": "markdown",
   "metadata": {},
   "source": [
    "It takes a long time to read from SQL. To make running iterations faster will only run the query based on a parameter"
   ]
  },
  {
   "cell_type": "code",
   "execution_count": 15,
   "metadata": {
    "execution": {
     "iopub.execute_input": "2020-10-24T20:15:53.823631Z",
     "iopub.status.busy": "2020-10-24T20:15:53.823481Z",
     "iopub.status.idle": "2020-10-24T20:15:53.830117Z",
     "shell.execute_reply": "2020-10-24T20:15:53.829453Z",
     "shell.execute_reply.started": "2020-10-24T20:15:53.823612Z"
    }
   },
   "outputs": [],
   "source": [
    "READ_FROM_SQL_SERVER = 0"
   ]
  },
  {
   "cell_type": "code",
   "execution_count": 16,
   "metadata": {
    "execution": {
     "iopub.execute_input": "2020-10-24T20:15:53.831095Z",
     "iopub.status.busy": "2020-10-24T20:15:53.830931Z",
     "iopub.status.idle": "2020-10-24T20:15:56.335709Z",
     "shell.execute_reply": "2020-10-24T20:15:56.334843Z",
     "shell.execute_reply.started": "2020-10-24T20:15:53.831074Z"
    }
   },
   "outputs": [],
   "source": [
    "if READ_FROM_SQL_SERVER:\n",
    "    get_paysim_data2_table_query = \"select * from paysim_data2;\"\n",
    "    paysim_data_df = pd.read_sql(get_paysim_data2_table_query,connection)\n",
    "    DF_PICKLE_FILE = open(\"paysim_data_df.pkl\",\"wb\")\n",
    "    pickle.dump(paysim_data_df,DF_PICKLE_FILE)\n",
    "    DF_PICKLE_FILE.close()\n",
    "else:\n",
    "    DF_PICKLE_FILE = open(\"paysim_data_df.pkl\",\"rb\")\n",
    "    paysim_data_df = pickle.load(DF_PICKLE_FILE)\n",
    "\n"
   ]
  },
  {
   "cell_type": "code",
   "execution_count": 17,
   "metadata": {
    "execution": {
     "iopub.execute_input": "2020-10-24T20:15:56.336829Z",
     "iopub.status.busy": "2020-10-24T20:15:56.336655Z",
     "iopub.status.idle": "2020-10-24T20:15:56.350227Z",
     "shell.execute_reply": "2020-10-24T20:15:56.349666Z",
     "shell.execute_reply.started": "2020-10-24T20:15:56.336802Z"
    }
   },
   "outputs": [
    {
     "data": {
      "text/html": [
       "<div>\n",
       "<style scoped>\n",
       "    .dataframe tbody tr th:only-of-type {\n",
       "        vertical-align: middle;\n",
       "    }\n",
       "\n",
       "    .dataframe tbody tr th {\n",
       "        vertical-align: top;\n",
       "    }\n",
       "\n",
       "    .dataframe thead th {\n",
       "        text-align: right;\n",
       "    }\n",
       "</style>\n",
       "<table border=\"1\" class=\"dataframe\">\n",
       "  <thead>\n",
       "    <tr style=\"text-align: right;\">\n",
       "      <th></th>\n",
       "      <th>id</th>\n",
       "      <th>step</th>\n",
       "      <th>transtype</th>\n",
       "      <th>amount</th>\n",
       "      <th>nameOrig</th>\n",
       "      <th>oldbalanceOrg</th>\n",
       "      <th>newbalanceOrig</th>\n",
       "      <th>nameDest</th>\n",
       "      <th>oldbalanceDest</th>\n",
       "      <th>newbalanceDest</th>\n",
       "      <th>isFraud</th>\n",
       "      <th>isFlaggedFraud</th>\n",
       "    </tr>\n",
       "  </thead>\n",
       "  <tbody>\n",
       "    <tr>\n",
       "      <th>0</th>\n",
       "      <td>1</td>\n",
       "      <td>1</td>\n",
       "      <td>PAYMENT</td>\n",
       "      <td>9839.64</td>\n",
       "      <td>C1231006815</td>\n",
       "      <td>170136.0</td>\n",
       "      <td>160296.36</td>\n",
       "      <td>M1979787155</td>\n",
       "      <td>0.0</td>\n",
       "      <td>0.0</td>\n",
       "      <td>0</td>\n",
       "      <td>0</td>\n",
       "    </tr>\n",
       "    <tr>\n",
       "      <th>1</th>\n",
       "      <td>2</td>\n",
       "      <td>1</td>\n",
       "      <td>PAYMENT</td>\n",
       "      <td>1864.28</td>\n",
       "      <td>C1666544295</td>\n",
       "      <td>21249.0</td>\n",
       "      <td>19384.72</td>\n",
       "      <td>M2044282225</td>\n",
       "      <td>0.0</td>\n",
       "      <td>0.0</td>\n",
       "      <td>0</td>\n",
       "      <td>0</td>\n",
       "    </tr>\n",
       "    <tr>\n",
       "      <th>2</th>\n",
       "      <td>3</td>\n",
       "      <td>1</td>\n",
       "      <td>TRANSFER</td>\n",
       "      <td>181.00</td>\n",
       "      <td>C1305486145</td>\n",
       "      <td>181.0</td>\n",
       "      <td>0.00</td>\n",
       "      <td>C553264065</td>\n",
       "      <td>0.0</td>\n",
       "      <td>0.0</td>\n",
       "      <td>1</td>\n",
       "      <td>0</td>\n",
       "    </tr>\n",
       "    <tr>\n",
       "      <th>3</th>\n",
       "      <td>4</td>\n",
       "      <td>1</td>\n",
       "      <td>CASH_OUT</td>\n",
       "      <td>181.00</td>\n",
       "      <td>C840083671</td>\n",
       "      <td>181.0</td>\n",
       "      <td>0.00</td>\n",
       "      <td>C38997010</td>\n",
       "      <td>21182.0</td>\n",
       "      <td>0.0</td>\n",
       "      <td>1</td>\n",
       "      <td>0</td>\n",
       "    </tr>\n",
       "    <tr>\n",
       "      <th>4</th>\n",
       "      <td>5</td>\n",
       "      <td>1</td>\n",
       "      <td>PAYMENT</td>\n",
       "      <td>11668.14</td>\n",
       "      <td>C2048537720</td>\n",
       "      <td>41554.0</td>\n",
       "      <td>29885.86</td>\n",
       "      <td>M1230701703</td>\n",
       "      <td>0.0</td>\n",
       "      <td>0.0</td>\n",
       "      <td>0</td>\n",
       "      <td>0</td>\n",
       "    </tr>\n",
       "  </tbody>\n",
       "</table>\n",
       "</div>"
      ],
      "text/plain": [
       "   id  step transtype    amount     nameOrig  oldbalanceOrg  newbalanceOrig  \\\n",
       "0   1     1   PAYMENT   9839.64  C1231006815       170136.0       160296.36   \n",
       "1   2     1   PAYMENT   1864.28  C1666544295        21249.0        19384.72   \n",
       "2   3     1  TRANSFER    181.00  C1305486145          181.0            0.00   \n",
       "3   4     1  CASH_OUT    181.00   C840083671          181.0            0.00   \n",
       "4   5     1   PAYMENT  11668.14  C2048537720        41554.0        29885.86   \n",
       "\n",
       "      nameDest  oldbalanceDest  newbalanceDest  isFraud  isFlaggedFraud  \n",
       "0  M1979787155             0.0             0.0        0               0  \n",
       "1  M2044282225             0.0             0.0        0               0  \n",
       "2   C553264065             0.0             0.0        1               0  \n",
       "3    C38997010         21182.0             0.0        1               0  \n",
       "4  M1230701703             0.0             0.0        0               0  "
      ]
     },
     "execution_count": 17,
     "metadata": {},
     "output_type": "execute_result"
    }
   ],
   "source": [
    "paysim_data_df.head()"
   ]
  },
  {
   "cell_type": "markdown",
   "metadata": {},
   "source": [
    "Based on reading the paper here's how I think the data set works:\n",
    "\n",
    "\n",
    "TODO: Continue to explain the meaning of the various `transtype`s\n",
    "\n",
    "`CASH-IN`:\n",
    "This is an operation where `nameOrig` is putting money into his/her/their account. So in these transfers `newbalanceOrig` = `amount`+`oldbalanceOrg`\n",
    "\n",
    "\n",
    "\n",
    "From the paper here are the modes of fraud reflected in the data set:\n",
    "* transfers out money: the fraudster obtains access to another person's account. Then said fraudster cashes out this account or transfers the money to one or more destination accounts that the fraudster owns.\n",
    "* cashes out the money: the fraudster obtains access to another person's account. Then said fraudster converts the account balance to cash using a merchant as a conduit for the transaction. Either the fraudster can use the merchant as an ATM or makes a purchase and uses whatever cash remains as spare change as the ultimately desired funds\n",
    "* merchants withholding cash due a customer: merchants can as part of a normal transaction with a customer widthhold monies owed to a customer and fabricate a fake inbout transaction (cash-in). \n",
    "* The mobile system modeled by the researcher supports vouchers that facilitate paying money from a person who has a mobile account to another person who does not. There are many opportunities where these vouchers can either be counterfeited or already-invalid vouchers can be falsely offered by a merchant or by a customer who uses it as currency with someone who is not a user of the mobile payment system\n",
    "\n",
    "Given this I speculate that the following types of features may help to identify fraudulent rows (where `isFraud==1`):\n",
    "\n",
    "* Transactions where the `amount` that participates in the transaction is equal to `oldbalanceOrg` or to `newbalanceDest`, and where `newbalanceOrig` == 0 or `newbalanceOrig` < `oldbalanceOrg`\n"
   ]
  },
  {
   "cell_type": "code",
   "execution_count": 18,
   "metadata": {
    "execution": {
     "iopub.execute_input": "2020-10-24T20:15:56.351098Z",
     "iopub.status.busy": "2020-10-24T20:15:56.350952Z",
     "iopub.status.idle": "2020-10-24T20:16:00.178587Z",
     "shell.execute_reply": "2020-10-24T20:16:00.178046Z",
     "shell.execute_reply.started": "2020-10-24T20:15:56.351079Z"
    }
   },
   "outputs": [],
   "source": [
    "# Things to plot\n",
    "#\n",
    "# histogram: X axis: Type of transfers. Y axis: Number of those transfers where isFraud == 1\n",
    "# historgram: X axis: Type of transfers. Y axis: Number of those transfers where isFraud == 0\n",
    "fraud_counts_dict = {}\n",
    "notfraud_counts_dict = {}\n",
    "transtypes = paysim_data_df[\"transtype\"].unique()\n",
    "#transtypes = transtypes.to_pandas()\n",
    "\n",
    "for transtype in list(transtypes):\n",
    "    numb_of_fraud_nofraud = paysim_data_df[ paysim_data_df[\"transtype\"] == transtype ][\"isFraud\"].value_counts()\n",
    "    #print(type(numb_of_fraud_nofraud))\n",
    "    \n",
    "    if numb_of_fraud_nofraud.get(1):\n",
    "        fraud_counts_dict[transtype] = numb_of_fraud_nofraud[1]\n",
    "    else:\n",
    "        fraud_counts_dict[transtype] = 0\n",
    "        \n",
    "    if numb_of_fraud_nofraud.get(0):\n",
    "        notfraud_counts_dict[transtype] = numb_of_fraud_nofraud[0]\n",
    "    else:\n",
    "        notfraud_counts_dict[transtype] = 0\n",
    "    "
   ]
  },
  {
   "cell_type": "code",
   "execution_count": 19,
   "metadata": {
    "execution": {
     "iopub.execute_input": "2020-10-24T20:16:00.179651Z",
     "iopub.status.busy": "2020-10-24T20:16:00.179426Z",
     "iopub.status.idle": "2020-10-24T20:16:00.183797Z",
     "shell.execute_reply": "2020-10-24T20:16:00.183240Z",
     "shell.execute_reply.started": "2020-10-24T20:16:00.179621Z"
    }
   },
   "outputs": [
    {
     "data": {
      "text/plain": [
       "{'PAYMENT': 2151496,\n",
       " 'TRANSFER': 528812,\n",
       " 'CASH_OUT': 2233384,\n",
       " 'DEBIT': 41432,\n",
       " 'CASH_IN': 1399284}"
      ]
     },
     "execution_count": 19,
     "metadata": {},
     "output_type": "execute_result"
    }
   ],
   "source": [
    "notfraud_counts_dict"
   ]
  },
  {
   "cell_type": "code",
   "execution_count": 20,
   "metadata": {
    "execution": {
     "iopub.execute_input": "2020-10-24T20:16:00.184875Z",
     "iopub.status.busy": "2020-10-24T20:16:00.184662Z",
     "iopub.status.idle": "2020-10-24T20:16:00.194001Z",
     "shell.execute_reply": "2020-10-24T20:16:00.193411Z",
     "shell.execute_reply.started": "2020-10-24T20:16:00.184847Z"
    }
   },
   "outputs": [
    {
     "data": {
      "text/plain": [
       "{'PAYMENT': 0, 'TRANSFER': 4097, 'CASH_OUT': 4116, 'DEBIT': 0, 'CASH_IN': 0}"
      ]
     },
     "execution_count": 20,
     "metadata": {},
     "output_type": "execute_result"
    }
   ],
   "source": [
    "fraud_counts_dict"
   ]
  },
  {
   "cell_type": "code",
   "execution_count": 21,
   "metadata": {
    "execution": {
     "iopub.execute_input": "2020-10-24T20:16:00.195083Z",
     "iopub.status.busy": "2020-10-24T20:16:00.194870Z",
     "iopub.status.idle": "2020-10-24T20:16:00.199705Z",
     "shell.execute_reply": "2020-10-24T20:16:00.199049Z",
     "shell.execute_reply.started": "2020-10-24T20:16:00.195055Z"
    }
   },
   "outputs": [],
   "source": [
    "col_names = [\"type\",\"fraud\",\"notfraud\"]\n",
    "rows = [\n",
    "    list(notfraud_counts_dict.keys()),\n",
    "    list(fraud_counts_dict.values()),\n",
    "    list(notfraud_counts_dict.values())\n",
    "]"
   ]
  },
  {
   "cell_type": "code",
   "execution_count": 22,
   "metadata": {
    "execution": {
     "iopub.execute_input": "2020-10-24T20:16:00.200754Z",
     "iopub.status.busy": "2020-10-24T20:16:00.200536Z",
     "iopub.status.idle": "2020-10-24T20:16:01.054491Z",
     "shell.execute_reply": "2020-10-24T20:16:01.053899Z",
     "shell.execute_reply.started": "2020-10-24T20:16:00.200725Z"
    }
   },
   "outputs": [
    {
     "data": {
      "image/png": "[encoded data removed]",
      "text/plain": [
       "<Figure size 1440x1440 with 1 Axes>"
      ]
     },
     "metadata": {
      "needs_background": "light"
     },
     "output_type": "display_data"
    }
   ],
   "source": [
    "from matplotlib import ticker\n",
    "thefinal_dict = dict(zip(col_names,rows))\n",
    "\n",
    "myplot_df = pd.DataFrame(thefinal_dict)\n",
    "myplot_df = myplot_df.set_index(\"type\")\n",
    "myplot_df.plot(kind='bar',figsize=(20,20),logy=True,fontsize=20)\n",
    "#plt.figure(figsize=(20,20))\n",
    "plt.ylabel(\"log(number of transactions)\",fontsize=20)\n",
    "plt.xlabel(\"trans type\",fontsize=20)\n",
    "plt.legend([\"fradulent\",\"not fradulent\"],fontsize=15)\n",
    "plt.gca().yaxis.set_major_formatter(ticker.FormatStrFormatter('%.2f'))\n",
    "plt.gca().xaxis.set_tick_params(rotation=0)\n",
    "plt.savefig('fraud_not_fraud_per_xfer.png')"
   ]
  },
  {
   "cell_type": "markdown",
   "metadata": {},
   "source": [
    "What I get from this graph (TODO elaborate before final version)\n",
    "* There are several orders of magnitude more `isFraud==0` transactions than `isFraud==1` transactions\n",
    "* All `isFraud==1` transactions are either `TRANSFER` or `CASH_OUT` transaction types"
   ]
  },
  {
   "cell_type": "code",
   "execution_count": 23,
   "metadata": {
    "execution": {
     "iopub.execute_input": "2020-10-24T20:16:01.055739Z",
     "iopub.status.busy": "2020-10-24T20:16:01.055520Z",
     "iopub.status.idle": "2020-10-24T20:16:15.566674Z",
     "shell.execute_reply": "2020-10-24T20:16:15.565678Z",
     "shell.execute_reply.started": "2020-10-24T20:16:01.055710Z"
    }
   },
   "outputs": [
    {
     "name": "stdout",
     "output_type": "stream",
     "text": [
      "INFO: Pandarallel will run on 64 workers.\n",
      "INFO: Pandarallel will use Memory file system to transfer data between the main process and workers.\n"
     ]
    }
   ],
   "source": [
    "#TODO If you have time - convert it to a SQL query\n",
    "pandarallel.initialize()\n",
    "\n",
    "def calc_suspect(row):\n",
    "    if ((row[\"oldbalanceOrg\"] == row[\"amount\"]) or (row[\"newbalanceDest\"] == row[\"amount\"])) and (row[\"newbalanceOrig\"] == 0):\n",
    "        return 1.0\n",
    "    elif ((row[\"oldbalanceOrg\"] == row[\"amount\"]) or (row[\"newbalanceDest\"] == row[\"amount\"])) and (row[\"newbalanceOrig\"] < row[\"oldbalanceOrg\"]):\n",
    "        return 0.6\n",
    "    elif (row[\"amount\"] < 10000000) and (row[\"transtype\"] == \"TRANSFER\" or row[\"transtype\"] == \"CASH_OUT\"):\n",
    "        return 0.1\n",
    "    else:\n",
    "        return 0\n",
    "\n",
    "paysim_data_df[\"suspect_score\"] = paysim_data_df.parallel_apply(calc_suspect,axis=1)\n",
    "\n"
   ]
  },
  {
   "cell_type": "code",
   "execution_count": 24,
   "metadata": {
    "execution": {
     "iopub.execute_input": "2020-10-24T20:16:15.567904Z",
     "iopub.status.busy": "2020-10-24T20:16:15.567729Z",
     "iopub.status.idle": "2020-10-24T20:16:15.570543Z",
     "shell.execute_reply": "2020-10-24T20:16:15.569944Z",
     "shell.execute_reply.started": "2020-10-24T20:16:15.567881Z"
    }
   },
   "outputs": [],
   "source": [
    "# Saving the DF to a pickle just in case I can't speed it up\n",
    "#PICKLE_FILE = open(\"paysim_data_df.pkl\",\"wb\")\n",
    "##pickle.dump(paysim_data_df,PICKLE_FILE)\n",
    "#PICKLE_FILE.close()\n",
    "# X axis \n",
    "#\n"
   ]
  },
  {
   "cell_type": "code",
   "execution_count": 25,
   "metadata": {
    "execution": {
     "iopub.execute_input": "2020-10-24T20:16:15.571467Z",
     "iopub.status.busy": "2020-10-24T20:16:15.571297Z",
     "iopub.status.idle": "2020-10-24T20:16:15.595373Z",
     "shell.execute_reply": "2020-10-24T20:16:15.594819Z",
     "shell.execute_reply.started": "2020-10-24T20:16:15.571431Z"
    }
   },
   "outputs": [
    {
     "data": {
      "text/html": [
       "<div>\n",
       "<style scoped>\n",
       "    .dataframe tbody tr th:only-of-type {\n",
       "        vertical-align: middle;\n",
       "    }\n",
       "\n",
       "    .dataframe tbody tr th {\n",
       "        vertical-align: top;\n",
       "    }\n",
       "\n",
       "    .dataframe thead th {\n",
       "        text-align: right;\n",
       "    }\n",
       "</style>\n",
       "<table border=\"1\" class=\"dataframe\">\n",
       "  <thead>\n",
       "    <tr style=\"text-align: right;\">\n",
       "      <th></th>\n",
       "      <th>id</th>\n",
       "      <th>step</th>\n",
       "      <th>transtype</th>\n",
       "      <th>amount</th>\n",
       "      <th>nameOrig</th>\n",
       "      <th>oldbalanceOrg</th>\n",
       "      <th>newbalanceOrig</th>\n",
       "      <th>nameDest</th>\n",
       "      <th>oldbalanceDest</th>\n",
       "      <th>newbalanceDest</th>\n",
       "      <th>isFraud</th>\n",
       "      <th>isFlaggedFraud</th>\n",
       "      <th>suspect_score</th>\n",
       "    </tr>\n",
       "  </thead>\n",
       "  <tbody>\n",
       "    <tr>\n",
       "      <th>0</th>\n",
       "      <td>1</td>\n",
       "      <td>1</td>\n",
       "      <td>PAYMENT</td>\n",
       "      <td>9839.64</td>\n",
       "      <td>C1231006815</td>\n",
       "      <td>170136.0</td>\n",
       "      <td>160296.36</td>\n",
       "      <td>M1979787155</td>\n",
       "      <td>0.0</td>\n",
       "      <td>0.0</td>\n",
       "      <td>0</td>\n",
       "      <td>0</td>\n",
       "      <td>0.0</td>\n",
       "    </tr>\n",
       "    <tr>\n",
       "      <th>1</th>\n",
       "      <td>2</td>\n",
       "      <td>1</td>\n",
       "      <td>PAYMENT</td>\n",
       "      <td>1864.28</td>\n",
       "      <td>C1666544295</td>\n",
       "      <td>21249.0</td>\n",
       "      <td>19384.72</td>\n",
       "      <td>M2044282225</td>\n",
       "      <td>0.0</td>\n",
       "      <td>0.0</td>\n",
       "      <td>0</td>\n",
       "      <td>0</td>\n",
       "      <td>0.0</td>\n",
       "    </tr>\n",
       "    <tr>\n",
       "      <th>2</th>\n",
       "      <td>3</td>\n",
       "      <td>1</td>\n",
       "      <td>TRANSFER</td>\n",
       "      <td>181.00</td>\n",
       "      <td>C1305486145</td>\n",
       "      <td>181.0</td>\n",
       "      <td>0.00</td>\n",
       "      <td>C553264065</td>\n",
       "      <td>0.0</td>\n",
       "      <td>0.0</td>\n",
       "      <td>1</td>\n",
       "      <td>0</td>\n",
       "      <td>1.0</td>\n",
       "    </tr>\n",
       "    <tr>\n",
       "      <th>3</th>\n",
       "      <td>4</td>\n",
       "      <td>1</td>\n",
       "      <td>CASH_OUT</td>\n",
       "      <td>181.00</td>\n",
       "      <td>C840083671</td>\n",
       "      <td>181.0</td>\n",
       "      <td>0.00</td>\n",
       "      <td>C38997010</td>\n",
       "      <td>21182.0</td>\n",
       "      <td>0.0</td>\n",
       "      <td>1</td>\n",
       "      <td>0</td>\n",
       "      <td>1.0</td>\n",
       "    </tr>\n",
       "    <tr>\n",
       "      <th>4</th>\n",
       "      <td>5</td>\n",
       "      <td>1</td>\n",
       "      <td>PAYMENT</td>\n",
       "      <td>11668.14</td>\n",
       "      <td>C2048537720</td>\n",
       "      <td>41554.0</td>\n",
       "      <td>29885.86</td>\n",
       "      <td>M1230701703</td>\n",
       "      <td>0.0</td>\n",
       "      <td>0.0</td>\n",
       "      <td>0</td>\n",
       "      <td>0</td>\n",
       "      <td>0.0</td>\n",
       "    </tr>\n",
       "  </tbody>\n",
       "</table>\n",
       "</div>"
      ],
      "text/plain": [
       "   id  step transtype    amount     nameOrig  oldbalanceOrg  newbalanceOrig  \\\n",
       "0   1     1   PAYMENT   9839.64  C1231006815       170136.0       160296.36   \n",
       "1   2     1   PAYMENT   1864.28  C1666544295        21249.0        19384.72   \n",
       "2   3     1  TRANSFER    181.00  C1305486145          181.0            0.00   \n",
       "3   4     1  CASH_OUT    181.00   C840083671          181.0            0.00   \n",
       "4   5     1   PAYMENT  11668.14  C2048537720        41554.0        29885.86   \n",
       "\n",
       "      nameDest  oldbalanceDest  newbalanceDest  isFraud  isFlaggedFraud  \\\n",
       "0  M1979787155             0.0             0.0        0               0   \n",
       "1  M2044282225             0.0             0.0        0               0   \n",
       "2   C553264065             0.0             0.0        1               0   \n",
       "3    C38997010         21182.0             0.0        1               0   \n",
       "4  M1230701703             0.0             0.0        0               0   \n",
       "\n",
       "   suspect_score  \n",
       "0            0.0  \n",
       "1            0.0  \n",
       "2            1.0  \n",
       "3            1.0  \n",
       "4            0.0  "
      ]
     },
     "execution_count": 25,
     "metadata": {},
     "output_type": "execute_result"
    }
   ],
   "source": [
    "paysim_data_df.head()"
   ]
  },
  {
   "cell_type": "code",
   "execution_count": 26,
   "metadata": {
    "execution": {
     "iopub.execute_input": "2020-10-24T20:16:15.596410Z",
     "iopub.status.busy": "2020-10-24T20:16:15.596244Z",
     "iopub.status.idle": "2020-10-24T20:16:15.601839Z",
     "shell.execute_reply": "2020-10-24T20:16:15.601263Z",
     "shell.execute_reply.started": "2020-10-24T20:16:15.596388Z"
    }
   },
   "outputs": [
    {
     "data": {
      "text/plain": [
       "(6362621, 13)"
      ]
     },
     "execution_count": 26,
     "metadata": {},
     "output_type": "execute_result"
    }
   ],
   "source": [
    "paysim_data_df.shape"
   ]
  },
  {
   "cell_type": "code",
   "execution_count": 27,
   "metadata": {
    "execution": {
     "iopub.execute_input": "2020-10-24T20:16:15.606035Z",
     "iopub.status.busy": "2020-10-24T20:16:15.605743Z",
     "iopub.status.idle": "2020-10-24T20:18:44.882847Z",
     "shell.execute_reply": "2020-10-24T20:18:44.881994Z",
     "shell.execute_reply.started": "2020-10-24T20:16:15.606012Z"
    }
   },
   "outputs": [
    {
     "name": "stderr",
     "output_type": "stream",
     "text": [
      "/home/magreen/anaconda3_2020_07/envs/metis_linux_venv/lib/python3.8/site-packages/seaborn/_decorators.py:36: FutureWarning: Pass the following variables as keyword args: x, y. From version 0.12, the only valid positional argument will be `data`, and passing other arguments without an explicit keyword will result in an error or misinterpretation.\n",
      "  warnings.warn(\n"
     ]
    },
    {
     "data": {
      "image/png": "[encoded data removed]",
      "text/plain": [
       "<Figure size 864x576 with 1 Axes>"
      ]
     },
     "metadata": {
      "needs_background": "light"
     },
     "output_type": "display_data"
    }
   ],
   "source": [
    "sns.scatterplot('transtype', 'suspect_score', data=paysim_data_df, hue='isFraud',\n",
    "           palette='Set2', alpha=0.2)\n",
    "plt.gcf().set_size_inches(12,8);"
   ]
  },
  {
   "cell_type": "markdown",
   "metadata": {},
   "source": [
    "So there are still `isFraud==1` transfers with `suspect_score==0`. What are those transactions?"
   ]
  },
  {
   "cell_type": "code",
   "execution_count": 28,
   "metadata": {
    "execution": {
     "iopub.execute_input": "2020-10-24T20:18:44.885571Z",
     "iopub.status.busy": "2020-10-24T20:18:44.885331Z",
     "iopub.status.idle": "2020-10-24T20:18:45.734220Z",
     "shell.execute_reply": "2020-10-24T20:18:45.733782Z",
     "shell.execute_reply.started": "2020-10-24T20:18:44.885540Z"
    }
   },
   "outputs": [
    {
     "data": {
      "text/html": [
       "<div>\n",
       "<style scoped>\n",
       "    .dataframe tbody tr th:only-of-type {\n",
       "        vertical-align: middle;\n",
       "    }\n",
       "\n",
       "    .dataframe tbody tr th {\n",
       "        vertical-align: top;\n",
       "    }\n",
       "\n",
       "    .dataframe thead th {\n",
       "        text-align: right;\n",
       "    }\n",
       "</style>\n",
       "<table border=\"1\" class=\"dataframe\">\n",
       "  <thead>\n",
       "    <tr style=\"text-align: right;\">\n",
       "      <th></th>\n",
       "      <th>id</th>\n",
       "      <th>step</th>\n",
       "      <th>transtype</th>\n",
       "      <th>amount</th>\n",
       "      <th>nameOrig</th>\n",
       "      <th>oldbalanceOrg</th>\n",
       "      <th>newbalanceOrig</th>\n",
       "      <th>nameDest</th>\n",
       "      <th>oldbalanceDest</th>\n",
       "      <th>newbalanceDest</th>\n",
       "      <th>isFraud</th>\n",
       "      <th>isFlaggedFraud</th>\n",
       "      <th>suspect_score</th>\n",
       "    </tr>\n",
       "  </thead>\n",
       "  <tbody>\n",
       "    <tr>\n",
       "      <th>4440</th>\n",
       "      <td>4441</td>\n",
       "      <td>4</td>\n",
       "      <td>TRANSFER</td>\n",
       "      <td>10000000.0</td>\n",
       "      <td>C7162498</td>\n",
       "      <td>12930418.44</td>\n",
       "      <td>2930418.44</td>\n",
       "      <td>C945327594</td>\n",
       "      <td>0.0</td>\n",
       "      <td>0.0</td>\n",
       "      <td>1</td>\n",
       "      <td>0</td>\n",
       "      <td>0.0</td>\n",
       "    </tr>\n",
       "    <tr>\n",
       "      <th>481250</th>\n",
       "      <td>481251</td>\n",
       "      <td>19</td>\n",
       "      <td>TRANSFER</td>\n",
       "      <td>10000000.0</td>\n",
       "      <td>C416779475</td>\n",
       "      <td>11861008.32</td>\n",
       "      <td>1861008.32</td>\n",
       "      <td>C380259496</td>\n",
       "      <td>0.0</td>\n",
       "      <td>0.0</td>\n",
       "      <td>1</td>\n",
       "      <td>0</td>\n",
       "      <td>0.0</td>\n",
       "    </tr>\n",
       "    <tr>\n",
       "      <th>586311</th>\n",
       "      <td>586312</td>\n",
       "      <td>33</td>\n",
       "      <td>TRANSFER</td>\n",
       "      <td>10000000.0</td>\n",
       "      <td>C1439740840</td>\n",
       "      <td>19887819.06</td>\n",
       "      <td>9887819.06</td>\n",
       "      <td>C875288652</td>\n",
       "      <td>0.0</td>\n",
       "      <td>0.0</td>\n",
       "      <td>1</td>\n",
       "      <td>0</td>\n",
       "      <td>0.0</td>\n",
       "    </tr>\n",
       "    <tr>\n",
       "      <th>1030559</th>\n",
       "      <td>1030560</td>\n",
       "      <td>72</td>\n",
       "      <td>TRANSFER</td>\n",
       "      <td>10000000.0</td>\n",
       "      <td>C53057884</td>\n",
       "      <td>18594065.09</td>\n",
       "      <td>8594065.09</td>\n",
       "      <td>C588547519</td>\n",
       "      <td>0.0</td>\n",
       "      <td>0.0</td>\n",
       "      <td>1</td>\n",
       "      <td>0</td>\n",
       "      <td>0.0</td>\n",
       "    </tr>\n",
       "    <tr>\n",
       "      <th>1030661</th>\n",
       "      <td>1030662</td>\n",
       "      <td>82</td>\n",
       "      <td>TRANSFER</td>\n",
       "      <td>10000000.0</td>\n",
       "      <td>C1237313447</td>\n",
       "      <td>10987591.59</td>\n",
       "      <td>987591.59</td>\n",
       "      <td>C1468356154</td>\n",
       "      <td>0.0</td>\n",
       "      <td>0.0</td>\n",
       "      <td>1</td>\n",
       "      <td>0</td>\n",
       "      <td>0.0</td>\n",
       "    </tr>\n",
       "    <tr>\n",
       "      <th>1030687</th>\n",
       "      <td>1030688</td>\n",
       "      <td>84</td>\n",
       "      <td>TRANSFER</td>\n",
       "      <td>10000000.0</td>\n",
       "      <td>C792651637</td>\n",
       "      <td>14830219.15</td>\n",
       "      <td>4830219.15</td>\n",
       "      <td>C397396936</td>\n",
       "      <td>0.0</td>\n",
       "      <td>0.0</td>\n",
       "      <td>1</td>\n",
       "      <td>0</td>\n",
       "      <td>0.0</td>\n",
       "    </tr>\n",
       "    <tr>\n",
       "      <th>1030709</th>\n",
       "      <td>1030710</td>\n",
       "      <td>86</td>\n",
       "      <td>TRANSFER</td>\n",
       "      <td>10000000.0</td>\n",
       "      <td>C1843531771</td>\n",
       "      <td>18931607.89</td>\n",
       "      <td>8931607.89</td>\n",
       "      <td>C632110164</td>\n",
       "      <td>0.0</td>\n",
       "      <td>0.0</td>\n",
       "      <td>1</td>\n",
       "      <td>0</td>\n",
       "      <td>0.0</td>\n",
       "    </tr>\n",
       "    <tr>\n",
       "      <th>1054999</th>\n",
       "      <td>1055000</td>\n",
       "      <td>96</td>\n",
       "      <td>TRANSFER</td>\n",
       "      <td>10000000.0</td>\n",
       "      <td>C2037845109</td>\n",
       "      <td>18267760.50</td>\n",
       "      <td>8267760.50</td>\n",
       "      <td>C666339947</td>\n",
       "      <td>0.0</td>\n",
       "      <td>0.0</td>\n",
       "      <td>1</td>\n",
       "      <td>0</td>\n",
       "      <td>0.0</td>\n",
       "    </tr>\n",
       "    <tr>\n",
       "      <th>1059698</th>\n",
       "      <td>1059699</td>\n",
       "      <td>118</td>\n",
       "      <td>TRANSFER</td>\n",
       "      <td>10000000.0</td>\n",
       "      <td>C611232899</td>\n",
       "      <td>11812161.42</td>\n",
       "      <td>1812161.42</td>\n",
       "      <td>C1347105871</td>\n",
       "      <td>0.0</td>\n",
       "      <td>0.0</td>\n",
       "      <td>1</td>\n",
       "      <td>0</td>\n",
       "      <td>0.0</td>\n",
       "    </tr>\n",
       "    <tr>\n",
       "      <th>1141251</th>\n",
       "      <td>1141252</td>\n",
       "      <td>131</td>\n",
       "      <td>TRANSFER</td>\n",
       "      <td>10000000.0</td>\n",
       "      <td>C2046014385</td>\n",
       "      <td>17476725.66</td>\n",
       "      <td>7476725.66</td>\n",
       "      <td>C97016938</td>\n",
       "      <td>0.0</td>\n",
       "      <td>0.0</td>\n",
       "      <td>1</td>\n",
       "      <td>0</td>\n",
       "      <td>0.0</td>\n",
       "    </tr>\n",
       "    <tr>\n",
       "      <th>1237395</th>\n",
       "      <td>1237396</td>\n",
       "      <td>134</td>\n",
       "      <td>TRANSFER</td>\n",
       "      <td>10000000.0</td>\n",
       "      <td>C426632957</td>\n",
       "      <td>13892156.30</td>\n",
       "      <td>3892156.30</td>\n",
       "      <td>C48103061</td>\n",
       "      <td>0.0</td>\n",
       "      <td>0.0</td>\n",
       "      <td>1</td>\n",
       "      <td>0</td>\n",
       "      <td>0.0</td>\n",
       "    </tr>\n",
       "    <tr>\n",
       "      <th>1707589</th>\n",
       "      <td>1707590</td>\n",
       "      <td>160</td>\n",
       "      <td>TRANSFER</td>\n",
       "      <td>10000000.0</td>\n",
       "      <td>C313051938</td>\n",
       "      <td>37670038.08</td>\n",
       "      <td>27670038.08</td>\n",
       "      <td>C2055653883</td>\n",
       "      <td>0.0</td>\n",
       "      <td>0.0</td>\n",
       "      <td>1</td>\n",
       "      <td>0</td>\n",
       "      <td>0.0</td>\n",
       "    </tr>\n",
       "    <tr>\n",
       "      <th>1707591</th>\n",
       "      <td>1707592</td>\n",
       "      <td>160</td>\n",
       "      <td>TRANSFER</td>\n",
       "      <td>10000000.0</td>\n",
       "      <td>C752627210</td>\n",
       "      <td>27670038.08</td>\n",
       "      <td>17670038.08</td>\n",
       "      <td>C1853789265</td>\n",
       "      <td>0.0</td>\n",
       "      <td>0.0</td>\n",
       "      <td>1</td>\n",
       "      <td>0</td>\n",
       "      <td>0.0</td>\n",
       "    </tr>\n",
       "    <tr>\n",
       "      <th>1707593</th>\n",
       "      <td>1707594</td>\n",
       "      <td>160</td>\n",
       "      <td>TRANSFER</td>\n",
       "      <td>10000000.0</td>\n",
       "      <td>C1274910960</td>\n",
       "      <td>17670038.08</td>\n",
       "      <td>7670038.08</td>\n",
       "      <td>C1270029603</td>\n",
       "      <td>0.0</td>\n",
       "      <td>0.0</td>\n",
       "      <td>1</td>\n",
       "      <td>0</td>\n",
       "      <td>0.0</td>\n",
       "    </tr>\n",
       "    <tr>\n",
       "      <th>1746973</th>\n",
       "      <td>1746974</td>\n",
       "      <td>161</td>\n",
       "      <td>TRANSFER</td>\n",
       "      <td>10000000.0</td>\n",
       "      <td>C831325954</td>\n",
       "      <td>11336901.11</td>\n",
       "      <td>1336901.11</td>\n",
       "      <td>C1166671647</td>\n",
       "      <td>0.0</td>\n",
       "      <td>0.0</td>\n",
       "      <td>1</td>\n",
       "      <td>0</td>\n",
       "      <td>0.0</td>\n",
       "    </tr>\n",
       "    <tr>\n",
       "      <th>2361317</th>\n",
       "      <td>2361318</td>\n",
       "      <td>190</td>\n",
       "      <td>TRANSFER</td>\n",
       "      <td>10000000.0</td>\n",
       "      <td>C1102554601</td>\n",
       "      <td>10185510.21</td>\n",
       "      <td>185510.21</td>\n",
       "      <td>C335271811</td>\n",
       "      <td>0.0</td>\n",
       "      <td>0.0</td>\n",
       "      <td>1</td>\n",
       "      <td>0</td>\n",
       "      <td>0.0</td>\n",
       "    </tr>\n",
       "    <tr>\n",
       "      <th>2736440</th>\n",
       "      <td>2736441</td>\n",
       "      <td>212</td>\n",
       "      <td>TRANSFER</td>\n",
       "      <td>10000000.0</td>\n",
       "      <td>C1531278091</td>\n",
       "      <td>34953893.08</td>\n",
       "      <td>24953893.08</td>\n",
       "      <td>C972530514</td>\n",
       "      <td>0.0</td>\n",
       "      <td>0.0</td>\n",
       "      <td>1</td>\n",
       "      <td>0</td>\n",
       "      <td>0.0</td>\n",
       "    </tr>\n",
       "    <tr>\n",
       "      <th>2736442</th>\n",
       "      <td>2736443</td>\n",
       "      <td>212</td>\n",
       "      <td>TRANSFER</td>\n",
       "      <td>10000000.0</td>\n",
       "      <td>C217654973</td>\n",
       "      <td>24953893.08</td>\n",
       "      <td>14953893.08</td>\n",
       "      <td>C167868594</td>\n",
       "      <td>0.0</td>\n",
       "      <td>0.0</td>\n",
       "      <td>1</td>\n",
       "      <td>0</td>\n",
       "      <td>0.0</td>\n",
       "    </tr>\n",
       "    <tr>\n",
       "      <th>2736444</th>\n",
       "      <td>2736445</td>\n",
       "      <td>212</td>\n",
       "      <td>TRANSFER</td>\n",
       "      <td>10000000.0</td>\n",
       "      <td>C976919593</td>\n",
       "      <td>14953893.08</td>\n",
       "      <td>4953893.08</td>\n",
       "      <td>C769483130</td>\n",
       "      <td>0.0</td>\n",
       "      <td>0.0</td>\n",
       "      <td>1</td>\n",
       "      <td>0</td>\n",
       "      <td>0.0</td>\n",
       "    </tr>\n",
       "    <tr>\n",
       "      <th>2897550</th>\n",
       "      <td>2897551</td>\n",
       "      <td>228</td>\n",
       "      <td>TRANSFER</td>\n",
       "      <td>10000000.0</td>\n",
       "      <td>C1721880478</td>\n",
       "      <td>10497526.17</td>\n",
       "      <td>497526.17</td>\n",
       "      <td>C521374455</td>\n",
       "      <td>0.0</td>\n",
       "      <td>0.0</td>\n",
       "      <td>1</td>\n",
       "      <td>0</td>\n",
       "      <td>0.0</td>\n",
       "    </tr>\n",
       "  </tbody>\n",
       "</table>\n",
       "</div>"
      ],
      "text/plain": [
       "              id  step transtype      amount     nameOrig  oldbalanceOrg  \\\n",
       "4440        4441     4  TRANSFER  10000000.0     C7162498    12930418.44   \n",
       "481250    481251    19  TRANSFER  10000000.0   C416779475    11861008.32   \n",
       "586311    586312    33  TRANSFER  10000000.0  C1439740840    19887819.06   \n",
       "1030559  1030560    72  TRANSFER  10000000.0    C53057884    18594065.09   \n",
       "1030661  1030662    82  TRANSFER  10000000.0  C1237313447    10987591.59   \n",
       "1030687  1030688    84  TRANSFER  10000000.0   C792651637    14830219.15   \n",
       "1030709  1030710    86  TRANSFER  10000000.0  C1843531771    18931607.89   \n",
       "1054999  1055000    96  TRANSFER  10000000.0  C2037845109    18267760.50   \n",
       "1059698  1059699   118  TRANSFER  10000000.0   C611232899    11812161.42   \n",
       "1141251  1141252   131  TRANSFER  10000000.0  C2046014385    17476725.66   \n",
       "1237395  1237396   134  TRANSFER  10000000.0   C426632957    13892156.30   \n",
       "1707589  1707590   160  TRANSFER  10000000.0   C313051938    37670038.08   \n",
       "1707591  1707592   160  TRANSFER  10000000.0   C752627210    27670038.08   \n",
       "1707593  1707594   160  TRANSFER  10000000.0  C1274910960    17670038.08   \n",
       "1746973  1746974   161  TRANSFER  10000000.0   C831325954    11336901.11   \n",
       "2361317  2361318   190  TRANSFER  10000000.0  C1102554601    10185510.21   \n",
       "2736440  2736441   212  TRANSFER  10000000.0  C1531278091    34953893.08   \n",
       "2736442  2736443   212  TRANSFER  10000000.0   C217654973    24953893.08   \n",
       "2736444  2736445   212  TRANSFER  10000000.0   C976919593    14953893.08   \n",
       "2897550  2897551   228  TRANSFER  10000000.0  C1721880478    10497526.17   \n",
       "\n",
       "         newbalanceOrig     nameDest  oldbalanceDest  newbalanceDest  isFraud  \\\n",
       "4440         2930418.44   C945327594             0.0             0.0        1   \n",
       "481250       1861008.32   C380259496             0.0             0.0        1   \n",
       "586311       9887819.06   C875288652             0.0             0.0        1   \n",
       "1030559      8594065.09   C588547519             0.0             0.0        1   \n",
       "1030661       987591.59  C1468356154             0.0             0.0        1   \n",
       "1030687      4830219.15   C397396936             0.0             0.0        1   \n",
       "1030709      8931607.89   C632110164             0.0             0.0        1   \n",
       "1054999      8267760.50   C666339947             0.0             0.0        1   \n",
       "1059698      1812161.42  C1347105871             0.0             0.0        1   \n",
       "1141251      7476725.66    C97016938             0.0             0.0        1   \n",
       "1237395      3892156.30    C48103061             0.0             0.0        1   \n",
       "1707589     27670038.08  C2055653883             0.0             0.0        1   \n",
       "1707591     17670038.08  C1853789265             0.0             0.0        1   \n",
       "1707593      7670038.08  C1270029603             0.0             0.0        1   \n",
       "1746973      1336901.11  C1166671647             0.0             0.0        1   \n",
       "2361317       185510.21   C335271811             0.0             0.0        1   \n",
       "2736440     24953893.08   C972530514             0.0             0.0        1   \n",
       "2736442     14953893.08   C167868594             0.0             0.0        1   \n",
       "2736444      4953893.08   C769483130             0.0             0.0        1   \n",
       "2897550       497526.17   C521374455             0.0             0.0        1   \n",
       "\n",
       "         isFlaggedFraud  suspect_score  \n",
       "4440                  0            0.0  \n",
       "481250                0            0.0  \n",
       "586311                0            0.0  \n",
       "1030559               0            0.0  \n",
       "1030661               0            0.0  \n",
       "1030687               0            0.0  \n",
       "1030709               0            0.0  \n",
       "1054999               0            0.0  \n",
       "1059698               0            0.0  \n",
       "1141251               0            0.0  \n",
       "1237395               0            0.0  \n",
       "1707589               0            0.0  \n",
       "1707591               0            0.0  \n",
       "1707593               0            0.0  \n",
       "1746973               0            0.0  \n",
       "2361317               0            0.0  \n",
       "2736440               0            0.0  \n",
       "2736442               0            0.0  \n",
       "2736444               0            0.0  \n",
       "2897550               0            0.0  "
      ]
     },
     "execution_count": 28,
     "metadata": {},
     "output_type": "execute_result"
    }
   ],
   "source": [
    "mask = (paysim_data_df[\"isFraud\"] == 1) & (paysim_data_df[\"suspect_score\"] == 0)\n",
    "paysim_data_df[mask].head(20)"
   ]
  },
  {
   "cell_type": "code",
   "execution_count": 29,
   "metadata": {
    "execution": {
     "iopub.execute_input": "2020-10-24T20:18:45.735107Z",
     "iopub.status.busy": "2020-10-24T20:18:45.734961Z",
     "iopub.status.idle": "2020-10-24T20:18:45.740393Z",
     "shell.execute_reply": "2020-10-24T20:18:45.739853Z",
     "shell.execute_reply.started": "2020-10-24T20:18:45.735088Z"
    }
   },
   "outputs": [
    {
     "data": {
      "text/plain": [
       "(145, 13)"
      ]
     },
     "execution_count": 29,
     "metadata": {},
     "output_type": "execute_result"
    }
   ],
   "source": [
    "paysim_data_df[mask].shape"
   ]
  },
  {
   "cell_type": "markdown",
   "metadata": {},
   "source": [
    "one-hot-encoding `type`"
   ]
  },
  {
   "cell_type": "code",
   "execution_count": 30,
   "metadata": {
    "execution": {
     "iopub.execute_input": "2020-10-24T20:18:45.741382Z",
     "iopub.status.busy": "2020-10-24T20:18:45.741225Z",
     "iopub.status.idle": "2020-10-24T20:18:45.851855Z",
     "shell.execute_reply": "2020-10-24T20:18:45.851251Z",
     "shell.execute_reply.started": "2020-10-24T20:18:45.741362Z"
    }
   },
   "outputs": [
    {
     "data": {
      "text/plain": [
       "(6362621, 1)"
      ]
     },
     "execution_count": 30,
     "metadata": {},
     "output_type": "execute_result"
    }
   ],
   "source": [
    "ohe = OneHotEncoder(sparse=False)\n",
    "\n",
    "np_data_type = np.array(paysim_data_df[\"transtype\"])\n",
    "np_data_type = np_data_type.reshape(-1,1)\n",
    "np_data_type.shape\n",
    "\n"
   ]
  },
  {
   "cell_type": "code",
   "execution_count": 31,
   "metadata": {
    "execution": {
     "iopub.execute_input": "2020-10-24T20:18:45.852799Z",
     "iopub.status.busy": "2020-10-24T20:18:45.852637Z",
     "iopub.status.idle": "2020-10-24T20:18:47.337701Z",
     "shell.execute_reply": "2020-10-24T20:18:47.337107Z",
     "shell.execute_reply.started": "2020-10-24T20:18:45.852776Z"
    }
   },
   "outputs": [
    {
     "data": {
      "text/plain": [
       "(6362621, 5)"
      ]
     },
     "execution_count": 31,
     "metadata": {},
     "output_type": "execute_result"
    }
   ],
   "source": [
    "np_data_type_ohe = ohe.fit_transform(np_data_type)\n",
    "np_data_type_ohe.shape"
   ]
  },
  {
   "cell_type": "code",
   "execution_count": 32,
   "metadata": {
    "execution": {
     "iopub.execute_input": "2020-10-24T20:18:47.338569Z",
     "iopub.status.busy": "2020-10-24T20:18:47.338423Z",
     "iopub.status.idle": "2020-10-24T20:18:48.582467Z",
     "shell.execute_reply": "2020-10-24T20:18:48.581921Z",
     "shell.execute_reply.started": "2020-10-24T20:18:47.338549Z"
    }
   },
   "outputs": [
    {
     "data": {
      "text/html": [
       "<div>\n",
       "<style scoped>\n",
       "    .dataframe tbody tr th:only-of-type {\n",
       "        vertical-align: middle;\n",
       "    }\n",
       "\n",
       "    .dataframe tbody tr th {\n",
       "        vertical-align: top;\n",
       "    }\n",
       "\n",
       "    .dataframe thead th {\n",
       "        text-align: right;\n",
       "    }\n",
       "</style>\n",
       "<table border=\"1\" class=\"dataframe\">\n",
       "  <thead>\n",
       "    <tr style=\"text-align: right;\">\n",
       "      <th></th>\n",
       "      <th>id</th>\n",
       "      <th>step</th>\n",
       "      <th>transtype</th>\n",
       "      <th>amount</th>\n",
       "      <th>nameOrig</th>\n",
       "      <th>oldbalanceOrg</th>\n",
       "      <th>newbalanceOrig</th>\n",
       "      <th>nameDest</th>\n",
       "      <th>oldbalanceDest</th>\n",
       "      <th>newbalanceDest</th>\n",
       "      <th>isFraud</th>\n",
       "      <th>isFlaggedFraud</th>\n",
       "      <th>suspect_score</th>\n",
       "      <th>transtype_CASH_IN</th>\n",
       "      <th>transtype_CASH_OUT</th>\n",
       "      <th>transtype_DEBIT</th>\n",
       "      <th>transtype_PAYMENT</th>\n",
       "      <th>transtype_TRANSFER</th>\n",
       "    </tr>\n",
       "  </thead>\n",
       "  <tbody>\n",
       "    <tr>\n",
       "      <th>0</th>\n",
       "      <td>1</td>\n",
       "      <td>1</td>\n",
       "      <td>PAYMENT</td>\n",
       "      <td>9839.64</td>\n",
       "      <td>C1231006815</td>\n",
       "      <td>170136.0</td>\n",
       "      <td>160296.36</td>\n",
       "      <td>M1979787155</td>\n",
       "      <td>0.0</td>\n",
       "      <td>0.0</td>\n",
       "      <td>0</td>\n",
       "      <td>0</td>\n",
       "      <td>0.0</td>\n",
       "      <td>0.0</td>\n",
       "      <td>0.0</td>\n",
       "      <td>0.0</td>\n",
       "      <td>1.0</td>\n",
       "      <td>0.0</td>\n",
       "    </tr>\n",
       "    <tr>\n",
       "      <th>1</th>\n",
       "      <td>2</td>\n",
       "      <td>1</td>\n",
       "      <td>PAYMENT</td>\n",
       "      <td>1864.28</td>\n",
       "      <td>C1666544295</td>\n",
       "      <td>21249.0</td>\n",
       "      <td>19384.72</td>\n",
       "      <td>M2044282225</td>\n",
       "      <td>0.0</td>\n",
       "      <td>0.0</td>\n",
       "      <td>0</td>\n",
       "      <td>0</td>\n",
       "      <td>0.0</td>\n",
       "      <td>0.0</td>\n",
       "      <td>0.0</td>\n",
       "      <td>0.0</td>\n",
       "      <td>1.0</td>\n",
       "      <td>0.0</td>\n",
       "    </tr>\n",
       "    <tr>\n",
       "      <th>2</th>\n",
       "      <td>3</td>\n",
       "      <td>1</td>\n",
       "      <td>TRANSFER</td>\n",
       "      <td>181.00</td>\n",
       "      <td>C1305486145</td>\n",
       "      <td>181.0</td>\n",
       "      <td>0.00</td>\n",
       "      <td>C553264065</td>\n",
       "      <td>0.0</td>\n",
       "      <td>0.0</td>\n",
       "      <td>1</td>\n",
       "      <td>0</td>\n",
       "      <td>1.0</td>\n",
       "      <td>0.0</td>\n",
       "      <td>0.0</td>\n",
       "      <td>0.0</td>\n",
       "      <td>0.0</td>\n",
       "      <td>1.0</td>\n",
       "    </tr>\n",
       "    <tr>\n",
       "      <th>3</th>\n",
       "      <td>4</td>\n",
       "      <td>1</td>\n",
       "      <td>CASH_OUT</td>\n",
       "      <td>181.00</td>\n",
       "      <td>C840083671</td>\n",
       "      <td>181.0</td>\n",
       "      <td>0.00</td>\n",
       "      <td>C38997010</td>\n",
       "      <td>21182.0</td>\n",
       "      <td>0.0</td>\n",
       "      <td>1</td>\n",
       "      <td>0</td>\n",
       "      <td>1.0</td>\n",
       "      <td>0.0</td>\n",
       "      <td>1.0</td>\n",
       "      <td>0.0</td>\n",
       "      <td>0.0</td>\n",
       "      <td>0.0</td>\n",
       "    </tr>\n",
       "    <tr>\n",
       "      <th>4</th>\n",
       "      <td>5</td>\n",
       "      <td>1</td>\n",
       "      <td>PAYMENT</td>\n",
       "      <td>11668.14</td>\n",
       "      <td>C2048537720</td>\n",
       "      <td>41554.0</td>\n",
       "      <td>29885.86</td>\n",
       "      <td>M1230701703</td>\n",
       "      <td>0.0</td>\n",
       "      <td>0.0</td>\n",
       "      <td>0</td>\n",
       "      <td>0</td>\n",
       "      <td>0.0</td>\n",
       "      <td>0.0</td>\n",
       "      <td>0.0</td>\n",
       "      <td>0.0</td>\n",
       "      <td>1.0</td>\n",
       "      <td>0.0</td>\n",
       "    </tr>\n",
       "  </tbody>\n",
       "</table>\n",
       "</div>"
      ],
      "text/plain": [
       "   id  step transtype    amount     nameOrig  oldbalanceOrg  newbalanceOrig  \\\n",
       "0   1     1   PAYMENT   9839.64  C1231006815       170136.0       160296.36   \n",
       "1   2     1   PAYMENT   1864.28  C1666544295        21249.0        19384.72   \n",
       "2   3     1  TRANSFER    181.00  C1305486145          181.0            0.00   \n",
       "3   4     1  CASH_OUT    181.00   C840083671          181.0            0.00   \n",
       "4   5     1   PAYMENT  11668.14  C2048537720        41554.0        29885.86   \n",
       "\n",
       "      nameDest  oldbalanceDest  newbalanceDest  isFraud  isFlaggedFraud  \\\n",
       "0  M1979787155             0.0             0.0        0               0   \n",
       "1  M2044282225             0.0             0.0        0               0   \n",
       "2   C553264065             0.0             0.0        1               0   \n",
       "3    C38997010         21182.0             0.0        1               0   \n",
       "4  M1230701703             0.0             0.0        0               0   \n",
       "\n",
       "   suspect_score  transtype_CASH_IN  transtype_CASH_OUT  transtype_DEBIT  \\\n",
       "0            0.0                0.0                 0.0              0.0   \n",
       "1            0.0                0.0                 0.0              0.0   \n",
       "2            1.0                0.0                 0.0              0.0   \n",
       "3            1.0                0.0                 1.0              0.0   \n",
       "4            0.0                0.0                 0.0              0.0   \n",
       "\n",
       "   transtype_PAYMENT  transtype_TRANSFER  \n",
       "0                1.0                 0.0  \n",
       "1                1.0                 0.0  \n",
       "2                0.0                 1.0  \n",
       "3                0.0                 0.0  \n",
       "4                1.0                 0.0  "
      ]
     },
     "execution_count": 32,
     "metadata": {},
     "output_type": "execute_result"
    }
   ],
   "source": [
    "np_data_type_ohe_df= pd.DataFrame(np_data_type_ohe,\n",
    "                           columns=ohe.get_feature_names(['transtype']), #create meaningful column names\n",
    "                           index=paysim_data_df.index) #keep the same index values\n",
    "\n",
    "#np_data_type_ohe_df.head()\n",
    "\n",
    "#combine continuous and categorical data\n",
    "\n",
    "paysim_data_df = pd.concat([paysim_data_df, np_data_type_ohe_df], axis=1)\n",
    "paysim_data_df.head()"
   ]
  },
  {
   "cell_type": "markdown",
   "metadata": {},
   "source": [
    "A plot to help me understand how mixed together `isFraud==0` is with `isFraud==1` as a function of `type` and `amount`"
   ]
  },
  {
   "cell_type": "code",
   "execution_count": 33,
   "metadata": {
    "execution": {
     "iopub.execute_input": "2020-10-24T20:18:48.583317Z",
     "iopub.status.busy": "2020-10-24T20:18:48.583174Z",
     "iopub.status.idle": "2020-10-24T20:18:48.585709Z",
     "shell.execute_reply": "2020-10-24T20:18:48.585225Z",
     "shell.execute_reply.started": "2020-10-24T20:18:48.583297Z"
    }
   },
   "outputs": [],
   "source": [
    "#NUM_OF_RANDOM_\n",
    "S = 6000\n",
    "\n",
    "#plot_data_df = data_df[[\"step\",\"isFraud\",\"amount\",\"type_CASH_IN\",\"type_CASH_OUT\",\"type_DEBIT\",\"type_PAYMENT\",\"type_TRANSFER\"]]\n",
    "#limit to the first time step\n",
    "#plot_data_df = plot_data_df[ plot_data_df[\"step\"] == 1 ]\n",
    "#np_plot_data_df_indices = list(np.random.permutation(np.array(list(plot_data_df.index)))[:5000])\n",
    "#sns.pairplot(plot_data_df.iloc[[np_plot_data_df_indices]], hue='isFraud');"
   ]
  },
  {
   "cell_type": "code",
   "execution_count": 34,
   "metadata": {
    "execution": {
     "iopub.execute_input": "2020-10-24T20:18:48.586470Z",
     "iopub.status.busy": "2020-10-24T20:18:48.586331Z",
     "iopub.status.idle": "2020-10-24T20:18:48.596762Z",
     "shell.execute_reply": "2020-10-24T20:18:48.596251Z",
     "shell.execute_reply.started": "2020-10-24T20:18:48.586451Z"
    }
   },
   "outputs": [],
   "source": [
    "#This code is generating the index numbers for data frame plot_data_df\n",
    "#then randomizing the list containing those indices\n",
    "#then picking the first NUM_OF_RANDOM_SAMPLES from that list\n",
    "#this list of randomly picked indices will be used to pick the corresponding\n",
    "#rows out of plot_data_df to be used in the pair plot\n",
    "#to plot all 6M rows is not practical (on this machine) \n",
    "#plot_data_df_indices = list(plot_data_df.index)\n",
    "#plot_data_df_indices = np.random.permutation(plot_data_df_indices)\n",
    "#plot_data_df_indices = plot_data_df_indices[:NUM_OF_RANDOM_SAMPLES]\n",
    "#plot_data_df_indices = list(plot_data_df_indices)\n"
   ]
  },
  {
   "cell_type": "code",
   "execution_count": 35,
   "metadata": {
    "execution": {
     "iopub.execute_input": "2020-10-24T20:18:48.597665Z",
     "iopub.status.busy": "2020-10-24T20:18:48.597445Z",
     "iopub.status.idle": "2020-10-24T20:18:48.602658Z",
     "shell.execute_reply": "2020-10-24T20:18:48.602105Z",
     "shell.execute_reply.started": "2020-10-24T20:18:48.597639Z"
    }
   },
   "outputs": [],
   "source": [
    "#plot_data_df = plot_data_df.iloc[plot_data_df_indices]"
   ]
  },
  {
   "cell_type": "code",
   "execution_count": 36,
   "metadata": {
    "execution": {
     "iopub.execute_input": "2020-10-24T20:18:48.603667Z",
     "iopub.status.busy": "2020-10-24T20:18:48.603474Z",
     "iopub.status.idle": "2020-10-24T20:18:48.608535Z",
     "shell.execute_reply": "2020-10-24T20:18:48.607977Z",
     "shell.execute_reply.started": "2020-10-24T20:18:48.603641Z"
    }
   },
   "outputs": [],
   "source": [
    "#plot_data_df.shape"
   ]
  },
  {
   "cell_type": "code",
   "execution_count": 37,
   "metadata": {
    "execution": {
     "iopub.execute_input": "2020-10-24T20:18:48.609530Z",
     "iopub.status.busy": "2020-10-24T20:18:48.609339Z",
     "iopub.status.idle": "2020-10-24T20:18:48.799497Z",
     "shell.execute_reply": "2020-10-24T20:18:48.798923Z",
     "shell.execute_reply.started": "2020-10-24T20:18:48.609505Z"
    }
   },
   "outputs": [],
   "source": [
    "#plot_data_df.head()"
   ]
  },
  {
   "cell_type": "code",
   "execution_count": 38,
   "metadata": {
    "execution": {
     "iopub.execute_input": "2020-10-24T20:18:48.800383Z",
     "iopub.status.busy": "2020-10-24T20:18:48.800236Z",
     "iopub.status.idle": "2020-10-24T20:18:48.808922Z",
     "shell.execute_reply": "2020-10-24T20:18:48.808404Z",
     "shell.execute_reply.started": "2020-10-24T20:18:48.800362Z"
    }
   },
   "outputs": [],
   "source": [
    "#sns.pairplot(plot_data_df, hue='isFraud');"
   ]
  },
  {
   "cell_type": "markdown",
   "metadata": {},
   "source": [
    "Not looking like good parameters :("
   ]
  },
  {
   "cell_type": "markdown",
   "metadata": {},
   "source": [
    "## Baseline Model"
   ]
  },
  {
   "cell_type": "markdown",
   "metadata": {},
   "source": [
    "Random Guessing (50% chance of `isFraud==1` and 50% chance that `isFraud==0` will be the baseline model"
   ]
  },
  {
   "cell_type": "code",
   "execution_count": 39,
   "metadata": {
    "execution": {
     "iopub.execute_input": "2020-10-24T20:18:48.809844Z",
     "iopub.status.busy": "2020-10-24T20:18:48.809646Z",
     "iopub.status.idle": "2020-10-24T20:18:48.815886Z",
     "shell.execute_reply": "2020-10-24T20:18:48.815356Z",
     "shell.execute_reply.started": "2020-10-24T20:18:48.809817Z"
    }
   },
   "outputs": [
    {
     "data": {
      "text/plain": [
       "(6362621, 18)"
      ]
     },
     "execution_count": 39,
     "metadata": {},
     "output_type": "execute_result"
    }
   ],
   "source": [
    "paysim_data_df.shape"
   ]
  },
  {
   "cell_type": "code",
   "execution_count": 40,
   "metadata": {
    "execution": {
     "iopub.execute_input": "2020-10-24T20:18:48.816889Z",
     "iopub.status.busy": "2020-10-24T20:18:48.816692Z",
     "iopub.status.idle": "2020-10-24T20:18:52.111658Z",
     "shell.execute_reply": "2020-10-24T20:18:52.110985Z",
     "shell.execute_reply.started": "2020-10-24T20:18:48.816860Z"
    }
   },
   "outputs": [
    {
     "data": {
      "text/plain": [
       "((636263,), (636263,), (636263, 7), (318131,), (318132,))"
      ]
     },
     "execution_count": 40,
     "metadata": {},
     "output_type": "execute_result"
    }
   ],
   "source": [
    "X = paysim_data_df[[\"step\",\"amount\",\"transtype_CASH_IN\",\"transtype_CASH_OUT\",\"transtype_DEBIT\",\"transtype_PAYMENT\",\"transtype_TRANSFER\"]]\n",
    "Y = paysim_data_df[\"isFraud\"]\n",
    "X_train, X_test, Y_train, Y_test = train_test_split(X, Y, test_size=TEST_SIZE, random_state=RANDOM_STATE)\n",
    "\n",
    "number_of_test_samples = X_test.shape[0]\n",
    "y_pred_zero = np.zeros(number_of_test_samples // 2)\n",
    "y_pred_one = np.ones( number_of_test_samples -  y_pred_zero.shape[0] )\n",
    "\n",
    "y_pred = np.concatenate((y_pred_zero, y_pred_one),axis=0)\n",
    "y_pred = y_pred.reshape(-1,)\n",
    "y_pred = np.random.permutation(y_pred)\n",
    "\n",
    "\n",
    "#print(type(y_pred))\n",
    "#print(type(Y_test))\n",
    "Y_test.shape, y_pred.shape,X_test.shape,y_pred_zero.shape,y_pred_one.shape"
   ]
  },
  {
   "cell_type": "markdown",
   "metadata": {},
   "source": [
    "Scoring the baseline model"
   ]
  },
  {
   "cell_type": "code",
   "execution_count": 41,
   "metadata": {
    "execution": {
     "iopub.execute_input": "2020-10-24T20:18:52.112613Z",
     "iopub.status.busy": "2020-10-24T20:18:52.112461Z",
     "iopub.status.idle": "2020-10-24T20:18:53.280078Z",
     "shell.execute_reply": "2020-10-24T20:18:53.279309Z",
     "shell.execute_reply.started": "2020-10-24T20:18:52.112593Z"
    }
   },
   "outputs": [
    {
     "name": "stdout",
     "output_type": "stream",
     "text": [
      "              precision    recall  f1-score   support\n",
      "\n",
      "    NotFraud       1.00      0.50      0.67    635439\n",
      "       Fraud       0.00      0.53      0.00       824\n",
      "\n",
      "    accuracy                           0.50    636263\n",
      "   macro avg       0.50      0.51      0.33    636263\n",
      "weighted avg       1.00      0.50      0.67    636263\n",
      "\n"
     ]
    }
   ],
   "source": [
    "target_names = [\"NotFraud\",\"Fraud\"]\n",
    "\n",
    "print(classification_report(Y_test, y_pred,target_names=target_names))"
   ]
  },
  {
   "cell_type": "markdown",
   "metadata": {},
   "source": [
    "Thoughts about random guessing model:\n",
    "\n",
    "Precision (TP/(TP+FP)) and recall (TP/(TP+FN)) are high for the `NotFraud` class because most (99.97%) of the response variables in the test set are `NotFraud`. Precision and recall are very low for `Fraud` because there are very few chances to guess right and the random guessing model does not perform well in identifying them.\n",
    "\n",
    "Accuracy is meaningless for the same reason: It's easy to get 50% right as the vast majority of the results belong to one class. \n",
    "\n",
    "TODO: generate confusion matrix which will help illustrate this."
   ]
  },
  {
   "cell_type": "markdown",
   "metadata": {},
   "source": [
    "## Model Selection"
   ]
  },
  {
   "cell_type": "markdown",
   "metadata": {},
   "source": [
    "Just some notes about what model to select:\n",
    "\n",
    "**Logistic Models**\n",
    "For small datasets, ‘liblinear’ is a good choice, whereas ‘sag’ and ‘saga’ are faster for large ones.\n",
    "\n",
    "Note that ‘sag’ and ‘saga’ fast convergence is only guaranteed on features with approximately the same scale. You can preprocess the data with a scaler from sklearn.preprocessing.\n",
    "\n"
   ]
  },
  {
   "cell_type": "markdown",
   "metadata": {},
   "source": [
    "### Modeling Ideas\n",
    "\n",
    "Try these:\n",
    "\n",
    "* use stratified train/val/test split\n",
    "* use over sampling\n",
    "* use SMOTE\n",
    "* use ADASYN\n",
    "\n",
    "* I'm thinking a logistic model will work as it's a binary classification that we're trying to do. Try to ensemble this model if required\n",
    "* If that doesn't work try a gradient boosted model (of logistic models)\n",
    "* Do a grid search to find the right hyper parameters\n"
   ]
  },
  {
   "cell_type": "code",
   "execution_count": 42,
   "metadata": {
    "execution": {
     "iopub.execute_input": "2020-10-24T20:18:53.281109Z",
     "iopub.status.busy": "2020-10-24T20:18:53.280955Z",
     "iopub.status.idle": "2020-10-24T20:24:00.637859Z",
     "shell.execute_reply": "2020-10-24T20:24:00.636756Z",
     "shell.execute_reply.started": "2020-10-24T20:18:53.281089Z"
    }
   },
   "outputs": [
    {
     "name": "stdout",
     "output_type": "stream",
     "text": [
      "training time is 0:05:05.737140\n"
     ]
    },
    {
     "name": "stderr",
     "output_type": "stream",
     "text": [
      "/home/magreen/anaconda3_2020_07/envs/metis_linux_venv/lib/python3.8/site-packages/sklearn/linear_model/_sag.py:329: ConvergenceWarning: The max_iter was reached which means the coef_ did not converge\n",
      "  warnings.warn(\"The max_iter was reached which means \"\n"
     ]
    }
   ],
   "source": [
    "#Since I'm using values that are either 1 or 0 along with amount which is a very large number, will normalize the data\n",
    "#to aid gradient descent\n",
    "normalizer = StandardScaler()\n",
    "X_train_normal = normalizer.fit_transform(X_train.values)\n",
    "X_test_normal = normalizer.transform(X_test.values)\n",
    "\n",
    "#logisticRModel = LogisticRegressionCV(Cs=100,cv=5,solver=\"sag\",n_jobs=-1,random_state=RANDOM_STATE)\n",
    "##logisticRModel = LogisticRegression(C=100,solver=\"sag\",n_jobs=-1,random_state=RANDOM_STATE)\n",
    "logisticRModel = LogisticRegression(C=100.0,solver=\"sag\",n_jobs=-1,random_state=RANDOM_STATE)\n",
    "\n",
    "start_time = datetime.datetime.now()\n",
    "logisticRModel.fit(X_train_normal,Y_train)\n",
    "end_time = datetime.datetime.now()\n",
    "print(\"training time is {}\".format(end_time - start_time))"
   ]
  },
  {
   "cell_type": "code",
   "execution_count": 43,
   "metadata": {
    "execution": {
     "iopub.execute_input": "2020-10-24T20:24:00.639996Z",
     "iopub.status.busy": "2020-10-24T20:24:00.639734Z",
     "iopub.status.idle": "2020-10-24T20:24:00.836327Z",
     "shell.execute_reply": "2020-10-24T20:24:00.835670Z",
     "shell.execute_reply.started": "2020-10-24T20:24:00.639964Z"
    }
   },
   "outputs": [
    {
     "data": {
      "text/plain": [
       "numpy.ndarray"
      ]
     },
     "execution_count": 43,
     "metadata": {},
     "output_type": "execute_result"
    }
   ],
   "source": [
    "Y_pred = logisticRModel.predict(X_test)\n",
    "type(Y_pred)"
   ]
  },
  {
   "cell_type": "code",
   "execution_count": 44,
   "metadata": {
    "execution": {
     "iopub.execute_input": "2020-10-24T20:24:00.837424Z",
     "iopub.status.busy": "2020-10-24T20:24:00.837233Z",
     "iopub.status.idle": "2020-10-24T20:24:01.549908Z",
     "shell.execute_reply": "2020-10-24T20:24:01.548999Z",
     "shell.execute_reply.started": "2020-10-24T20:24:00.837399Z"
    }
   },
   "outputs": [
    {
     "name": "stdout",
     "output_type": "stream",
     "text": [
      "              precision    recall  f1-score   support\n",
      "\n",
      "    NotFraud       1.00      0.00      0.00    635439\n",
      "       Fraud       0.00      1.00      0.00       824\n",
      "\n",
      "    accuracy                           0.00    636263\n",
      "   macro avg       0.50      0.50      0.00    636263\n",
      "weighted avg       1.00      0.00      0.00    636263\n",
      "\n"
     ]
    }
   ],
   "source": [
    "\n",
    "print(classification_report(Y_test, Y_pred,target_names=target_names))"
   ]
  },
  {
   "cell_type": "markdown",
   "metadata": {},
   "source": [
    "A small logistic model doesn't do any better than random guessing."
   ]
  },
  {
   "cell_type": "code",
   "execution_count": 45,
   "metadata": {
    "execution": {
     "iopub.execute_input": "2020-10-24T20:24:01.550994Z",
     "iopub.status.busy": "2020-10-24T20:24:01.550829Z",
     "iopub.status.idle": "2020-10-24T20:24:01.613760Z",
     "shell.execute_reply": "2020-10-24T20:24:01.612979Z",
     "shell.execute_reply.started": "2020-10-24T20:24:01.550973Z"
    }
   },
   "outputs": [
    {
     "data": {
      "text/plain": [
       "0.9986955079896206"
      ]
     },
     "execution_count": 45,
     "metadata": {},
     "output_type": "execute_result"
    }
   ],
   "source": [
    "logisticRModel.score(X_test_normal,Y_test)"
   ]
  },
  {
   "cell_type": "code",
   "execution_count": null,
   "metadata": {},
   "outputs": [],
   "source": []
  },
  {
   "cell_type": "code",
   "execution_count": 46,
   "metadata": {
    "execution": {
     "iopub.execute_input": "2020-10-24T20:24:01.614976Z",
     "iopub.status.busy": "2020-10-24T20:24:01.614776Z",
     "iopub.status.idle": "2020-10-24T20:24:01.626389Z",
     "shell.execute_reply": "2020-10-24T20:24:01.625647Z",
     "shell.execute_reply.started": "2020-10-24T20:24:01.614950Z"
    }
   },
   "outputs": [
    {
     "data": {
      "text/plain": [
       "0    635439\n",
       "1       824\n",
       "Name: isFraud, dtype: int64"
      ]
     },
     "execution_count": 46,
     "metadata": {},
     "output_type": "execute_result"
    }
   ],
   "source": [
    "Y_test.value_counts()"
   ]
  },
  {
   "cell_type": "code",
   "execution_count": 47,
   "metadata": {
    "execution": {
     "iopub.execute_input": "2020-10-24T20:24:01.627652Z",
     "iopub.status.busy": "2020-10-24T20:24:01.627435Z",
     "iopub.status.idle": "2020-10-24T20:24:01.647140Z",
     "shell.execute_reply": "2020-10-24T20:24:01.646432Z",
     "shell.execute_reply.started": "2020-10-24T20:24:01.627626Z"
    }
   },
   "outputs": [
    {
     "data": {
      "text/plain": [
       "1    636225\n",
       "0        38\n",
       "dtype: int64"
      ]
     },
     "execution_count": 47,
     "metadata": {},
     "output_type": "execute_result"
    }
   ],
   "source": [
    "#Y_pred_df = pd.DataFrame(Y_pred)\n",
    "Y_pred_df = pd.DataFrame(Y_pred)\n",
    "Y_pred_df.value_counts()"
   ]
  },
  {
   "cell_type": "code",
   "execution_count": 48,
   "metadata": {
    "execution": {
     "iopub.execute_input": "2020-10-24T20:24:01.648191Z",
     "iopub.status.busy": "2020-10-24T20:24:01.648033Z",
     "iopub.status.idle": "2020-10-24T20:24:01.652131Z",
     "shell.execute_reply": "2020-10-24T20:24:01.651570Z",
     "shell.execute_reply.started": "2020-10-24T20:24:01.648170Z"
    }
   },
   "outputs": [
    {
     "data": {
      "text/plain": [
       "array([[ 0.75582087,  0.06409772, -1.33819575,  1.98618015, -0.2236961 ,\n",
       "        -1.67482134,  1.50300838]])"
      ]
     },
     "execution_count": 48,
     "metadata": {},
     "output_type": "execute_result"
    }
   ],
   "source": [
    "logisticRModel.coef_"
   ]
  },
  {
   "cell_type": "markdown",
   "metadata": {},
   "source": [
    "Thoughts about baseline logistic model:\n",
    "\n",
    "Precision (TP/(TP+FP)) and recall (TP/(TP+FN)) are high for the `NotFraud` because most(99.97%) of the response variables in the test set are `NotFraud`. Precision and recall are very low for `Fraud` because there are very few chances to guess right and the random guessing model does not perform well in identify them.\n",
    "\n",
    "Accuracy is meaningless for the same reason: It's easy to get 50% right as the vast majority of the results belong to one class. \n",
    "\n",
    "TODO: generate confusion matrix which will help illustrate this."
   ]
  },
  {
   "cell_type": "markdown",
   "metadata": {},
   "source": [
    "### Bigger Logistic Model\n",
    "Building a model that includes more features, including the engineered featur `suspect_score`\n"
   ]
  },
  {
   "cell_type": "code",
   "execution_count": 49,
   "metadata": {
    "execution": {
     "iopub.execute_input": "2020-10-24T20:24:01.653049Z",
     "iopub.status.busy": "2020-10-24T20:24:01.652896Z",
     "iopub.status.idle": "2020-10-24T20:24:03.895551Z",
     "shell.execute_reply": "2020-10-24T20:24:03.894600Z",
     "shell.execute_reply.started": "2020-10-24T20:24:01.653029Z"
    }
   },
   "outputs": [],
   "source": [
    "X = paysim_data_df[[\"step\",\"amount\",\"oldbalanceOrg\",\n",
    "                      \"newbalanceOrig\",\n",
    "                      \"oldbalanceDest\",\n",
    "                      \"newbalanceDest\",\n",
    "                      \"suspect_score\",\n",
    "                      \"transtype_CASH_IN\",\n",
    "                      \"transtype_CASH_OUT\",\n",
    "                      \"transtype_DEBIT\",\n",
    "                      \"transtype_PAYMENT\",\n",
    "                      \"transtype_TRANSFER\"]]\n",
    "Y = paysim_data_df[\"isFraud\"]\n",
    "X_train, X_test, Y_train, Y_test = train_test_split(X, Y,test_size=TEST_SIZE, random_state=RANDOM_STATE)\n",
    "\n",
    "X_train_normal = normalizer.fit_transform(X_train.values)\n",
    "X_test_normal = normalizer.transform(X_test.values)\n"
   ]
  },
  {
   "cell_type": "code",
   "execution_count": 50,
   "metadata": {
    "execution": {
     "iopub.execute_input": "2020-10-24T20:24:03.896858Z",
     "iopub.status.busy": "2020-10-24T20:24:03.896690Z",
     "iopub.status.idle": "2020-10-24T20:28:17.990464Z",
     "shell.execute_reply": "2020-10-24T20:28:17.989507Z",
     "shell.execute_reply.started": "2020-10-24T20:24:03.896836Z"
    }
   },
   "outputs": [
    {
     "name": "stdout",
     "output_type": "stream",
     "text": [
      "training time is 0:04:14.087762\n"
     ]
    }
   ],
   "source": [
    "logisticRModel2 = LogisticRegression(C=100.0,max_iter=200,n_jobs=-1,random_state=RANDOM_STATE)\n",
    "\n",
    "start_time = datetime.datetime.now()\n",
    "logisticRModel2.fit(X_train_normal,Y_train)\n",
    "end_time = datetime.datetime.now()\n",
    "print(\"training time is {}\".format(end_time - start_time))"
   ]
  },
  {
   "cell_type": "code",
   "execution_count": 51,
   "metadata": {
    "execution": {
     "iopub.execute_input": "2020-10-24T20:28:17.992034Z",
     "iopub.status.busy": "2020-10-24T20:28:17.991805Z",
     "iopub.status.idle": "2020-10-24T20:28:18.753668Z",
     "shell.execute_reply": "2020-10-24T20:28:18.752860Z",
     "shell.execute_reply.started": "2020-10-24T20:28:17.992003Z"
    }
   },
   "outputs": [
    {
     "name": "stdout",
     "output_type": "stream",
     "text": [
      "              precision    recall  f1-score   support\n",
      "\n",
      "    NotFraud       1.00      1.00      1.00    635439\n",
      "       Fraud       0.97      0.71      0.82       824\n",
      "\n",
      "    accuracy                           1.00    636263\n",
      "   macro avg       0.98      0.86      0.91    636263\n",
      "weighted avg       1.00      1.00      1.00    636263\n",
      "\n"
     ]
    }
   ],
   "source": [
    "Y_pred = logisticRModel2.predict(X_test_normal)\n",
    "print(classification_report(Y_test, Y_pred,target_names=target_names))"
   ]
  },
  {
   "cell_type": "markdown",
   "metadata": {},
   "source": [
    "Recall and F1 for the `isFraud==1` class has improved. But I will try the following to see if I can improve further:\n",
    "* oversampling\n",
    "* SMOTE/ADASYN\n",
    "* Boosted model"
   ]
  },
  {
   "cell_type": "markdown",
   "metadata": {},
   "source": [
    "### Oversampling"
   ]
  },
  {
   "cell_type": "code",
   "execution_count": 52,
   "metadata": {
    "execution": {
     "iopub.execute_input": "2020-10-24T20:28:18.754739Z",
     "iopub.status.busy": "2020-10-24T20:28:18.754578Z",
     "iopub.status.idle": "2020-10-24T20:28:28.188286Z",
     "shell.execute_reply": "2020-10-24T20:28:28.187230Z",
     "shell.execute_reply.started": "2020-10-24T20:28:18.754718Z"
    }
   },
   "outputs": [],
   "source": [
    "oversampler = RandomOverSampler(random_state=RANDOM_STATE)\n",
    "\n",
    "\n",
    "X_resampled, Y_resampled = oversampler.fit_sample(X,Y)\n",
    "\n",
    "\n"
   ]
  },
  {
   "cell_type": "code",
   "execution_count": 53,
   "metadata": {
    "execution": {
     "iopub.execute_input": "2020-10-24T20:28:28.189869Z",
     "iopub.status.busy": "2020-10-24T20:28:28.189690Z",
     "iopub.status.idle": "2020-10-24T20:28:28.194755Z",
     "shell.execute_reply": "2020-10-24T20:28:28.194090Z",
     "shell.execute_reply.started": "2020-10-24T20:28:28.189847Z"
    }
   },
   "outputs": [
    {
     "data": {
      "text/plain": [
       "(6362621, 12)"
      ]
     },
     "execution_count": 53,
     "metadata": {},
     "output_type": "execute_result"
    }
   ],
   "source": [
    "X.shape"
   ]
  },
  {
   "cell_type": "code",
   "execution_count": 54,
   "metadata": {
    "execution": {
     "iopub.execute_input": "2020-10-24T20:28:28.195665Z",
     "iopub.status.busy": "2020-10-24T20:28:28.195516Z",
     "iopub.status.idle": "2020-10-24T20:28:28.204295Z",
     "shell.execute_reply": "2020-10-24T20:28:28.203512Z",
     "shell.execute_reply.started": "2020-10-24T20:28:28.195646Z"
    }
   },
   "outputs": [
    {
     "data": {
      "text/plain": [
       "(6362621,)"
      ]
     },
     "execution_count": 54,
     "metadata": {},
     "output_type": "execute_result"
    }
   ],
   "source": [
    "Y.shape"
   ]
  },
  {
   "cell_type": "code",
   "execution_count": 55,
   "metadata": {
    "execution": {
     "iopub.execute_input": "2020-10-24T20:28:28.205461Z",
     "iopub.status.busy": "2020-10-24T20:28:28.205252Z",
     "iopub.status.idle": "2020-10-24T20:28:28.213193Z",
     "shell.execute_reply": "2020-10-24T20:28:28.212541Z",
     "shell.execute_reply.started": "2020-10-24T20:28:28.205436Z"
    }
   },
   "outputs": [
    {
     "data": {
      "text/plain": [
       "(12708816, 12)"
      ]
     },
     "execution_count": 55,
     "metadata": {},
     "output_type": "execute_result"
    }
   ],
   "source": [
    "X_resampled.shape"
   ]
  },
  {
   "cell_type": "code",
   "execution_count": 56,
   "metadata": {
    "execution": {
     "iopub.execute_input": "2020-10-24T20:28:28.214292Z",
     "iopub.status.busy": "2020-10-24T20:28:28.214092Z",
     "iopub.status.idle": "2020-10-24T20:28:28.219897Z",
     "shell.execute_reply": "2020-10-24T20:28:28.219219Z",
     "shell.execute_reply.started": "2020-10-24T20:28:28.214266Z"
    }
   },
   "outputs": [
    {
     "data": {
      "text/plain": [
       "(12708816,)"
      ]
     },
     "execution_count": 56,
     "metadata": {},
     "output_type": "execute_result"
    }
   ],
   "source": [
    "Y_resampled.shape"
   ]
  },
  {
   "cell_type": "code",
   "execution_count": 57,
   "metadata": {
    "execution": {
     "iopub.execute_input": "2020-10-24T20:28:28.221063Z",
     "iopub.status.busy": "2020-10-24T20:28:28.220866Z",
     "iopub.status.idle": "2020-10-24T20:28:46.748909Z",
     "shell.execute_reply": "2020-10-24T20:28:46.747809Z",
     "shell.execute_reply.started": "2020-10-24T20:28:28.221038Z"
    }
   },
   "outputs": [],
   "source": [
    "X_train, X_test, Y_train, Y_test = train_test_split(X_resampled, Y_resampled,test_size=TEST_SIZE, random_state=RANDOM_STATE)\n",
    "\n",
    "X_train_normal = normalizer.fit_transform(X_train.values)\n",
    "X_test_normal = normalizer.transform(X_test.values)\n"
   ]
  },
  {
   "cell_type": "code",
   "execution_count": 58,
   "metadata": {
    "execution": {
     "iopub.execute_input": "2020-10-24T20:28:46.750497Z",
     "iopub.status.busy": "2020-10-24T20:28:46.750312Z",
     "iopub.status.idle": "2020-10-24T20:51:07.443713Z",
     "shell.execute_reply": "2020-10-24T20:51:07.442806Z",
     "shell.execute_reply.started": "2020-10-24T20:28:46.750471Z"
    }
   },
   "outputs": [
    {
     "name": "stdout",
     "output_type": "stream",
     "text": [
      "training time is 0:22:20.687592\n"
     ]
    }
   ],
   "source": [
    "logisticRModel3 = LogisticRegression(C=100.0,max_iter=200,n_jobs=-1,random_state=RANDOM_STATE)\n",
    "\n",
    "start_time = datetime.datetime.now()\n",
    "logisticRModel3.fit(X_train_normal,Y_train)\n",
    "end_time = datetime.datetime.now()\n",
    "print(\"training time is {}\".format(end_time - start_time))"
   ]
  },
  {
   "cell_type": "code",
   "execution_count": 59,
   "metadata": {
    "execution": {
     "iopub.execute_input": "2020-10-24T20:51:07.445056Z",
     "iopub.status.busy": "2020-10-24T20:51:07.444843Z",
     "iopub.status.idle": "2020-10-24T20:51:09.540612Z",
     "shell.execute_reply": "2020-10-24T20:51:09.539808Z",
     "shell.execute_reply.started": "2020-10-24T20:51:07.445029Z"
    }
   },
   "outputs": [
    {
     "name": "stdout",
     "output_type": "stream",
     "text": [
      "              precision    recall  f1-score   support\n",
      "\n",
      "    NotFraud       0.94      0.60      0.73    635907\n",
      "       Fraud       0.71      0.96      0.81    634975\n",
      "\n",
      "    accuracy                           0.78   1270882\n",
      "   macro avg       0.82      0.78      0.77   1270882\n",
      "weighted avg       0.82      0.78      0.77   1270882\n",
      "\n"
     ]
    }
   ],
   "source": [
    "Y_pred = logisticRModel3.predict(X_test)\n",
    "print(classification_report(Y_test, Y_pred,target_names=target_names))"
   ]
  },
  {
   "cell_type": "markdown",
   "metadata": {},
   "source": [
    "### SMOTE\n"
   ]
  },
  {
   "cell_type": "code",
   "execution_count": 60,
   "metadata": {
    "execution": {
     "iopub.execute_input": "2020-10-24T20:51:09.541640Z",
     "iopub.status.busy": "2020-10-24T20:51:09.541477Z",
     "iopub.status.idle": "2020-10-24T20:51:12.729857Z",
     "shell.execute_reply": "2020-10-24T20:51:12.729177Z",
     "shell.execute_reply.started": "2020-10-24T20:51:09.541620Z"
    }
   },
   "outputs": [],
   "source": [
    "smoter = SMOTE(random_state=RANDOM_STATE)\n",
    "X_smoted,Y_smoted = smoter.fit_sample(X,Y)\n"
   ]
  },
  {
   "cell_type": "code",
   "execution_count": 61,
   "metadata": {
    "execution": {
     "iopub.execute_input": "2020-10-24T20:51:12.730846Z",
     "iopub.status.busy": "2020-10-24T20:51:12.730686Z",
     "iopub.status.idle": "2020-10-24T20:51:16.949957Z",
     "shell.execute_reply": "2020-10-24T20:51:16.949207Z",
     "shell.execute_reply.started": "2020-10-24T20:51:12.730826Z"
    }
   },
   "outputs": [],
   "source": [
    "X_train, X_test, Y_train, Y_test = train_test_split(X_smoted, Y_smoted,test_size=TEST_SIZE, random_state=RANDOM_STATE)\n",
    "X_train_normal = normalizer.fit_transform(X_train.values)\n",
    "X_test_normal = normalizer.transform(X_test.values)\n"
   ]
  },
  {
   "cell_type": "code",
   "execution_count": 62,
   "metadata": {
    "execution": {
     "iopub.execute_input": "2020-10-24T20:51:16.950894Z",
     "iopub.status.busy": "2020-10-24T20:51:16.950748Z",
     "iopub.status.idle": "2020-10-24T20:55:58.574302Z",
     "shell.execute_reply": "2020-10-24T20:55:58.573452Z",
     "shell.execute_reply.started": "2020-10-24T20:51:16.950875Z"
    }
   },
   "outputs": [
    {
     "name": "stdout",
     "output_type": "stream",
     "text": [
      "training time is 0:04:41.618149\n"
     ]
    }
   ],
   "source": [
    "logisticRModel4 = LogisticRegression(C=100.0,max_iter=200,n_jobs=-1,random_state=RANDOM_STATE)\n",
    "start_time = datetime.datetime.now()\n",
    "logisticRModel4.fit(X_train_normal,Y_train)\n",
    "end_time = datetime.datetime.now()\n",
    "print(\"training time is {}\".format(end_time - start_time))"
   ]
  },
  {
   "cell_type": "code",
   "execution_count": 63,
   "metadata": {
    "execution": {
     "iopub.execute_input": "2020-10-24T20:55:58.575774Z",
     "iopub.status.busy": "2020-10-24T20:55:58.575559Z",
     "iopub.status.idle": "2020-10-24T20:56:00.655083Z",
     "shell.execute_reply": "2020-10-24T20:56:00.654262Z",
     "shell.execute_reply.started": "2020-10-24T20:55:58.575746Z"
    }
   },
   "outputs": [
    {
     "name": "stdout",
     "output_type": "stream",
     "text": [
      "              precision    recall  f1-score   support\n",
      "\n",
      "    NotFraud       0.99      0.98      0.99    635907\n",
      "       Fraud       0.98      0.99      0.99    634975\n",
      "\n",
      "    accuracy                           0.99   1270882\n",
      "   macro avg       0.99      0.99      0.99   1270882\n",
      "weighted avg       0.99      0.99      0.99   1270882\n",
      "\n"
     ]
    }
   ],
   "source": [
    "Y_pred = logisticRModel4.predict(X_test_normal)\n",
    "\n",
    "print(classification_report(Y_test, Y_pred,target_names=target_names))"
   ]
  },
  {
   "cell_type": "markdown",
   "metadata": {},
   "source": [
    "### ADASYN"
   ]
  },
  {
   "cell_type": "code",
   "execution_count": 64,
   "metadata": {
    "execution": {
     "iopub.execute_input": "2020-10-24T20:56:00.656122Z",
     "iopub.status.busy": "2020-10-24T20:56:00.655965Z",
     "iopub.status.idle": "2020-10-24T20:56:00.658761Z",
     "shell.execute_reply": "2020-10-24T20:56:00.658090Z",
     "shell.execute_reply.started": "2020-10-24T20:56:00.656098Z"
    }
   },
   "outputs": [],
   "source": [
    "#adasynthesizer = ADASYN(random_state=RANDOM_STATE)\n",
    "#X_adasyn, Y_adasyn = adasynthesizer.fit_sample(X,Y)\n"
   ]
  },
  {
   "cell_type": "code",
   "execution_count": 65,
   "metadata": {
    "execution": {
     "iopub.execute_input": "2020-10-24T20:56:00.659622Z",
     "iopub.status.busy": "2020-10-24T20:56:00.659478Z",
     "iopub.status.idle": "2020-10-24T20:56:00.668314Z",
     "shell.execute_reply": "2020-10-24T20:56:00.667687Z",
     "shell.execute_reply.started": "2020-10-24T20:56:00.659604Z"
    }
   },
   "outputs": [],
   "source": [
    "#X_train, X_test, Y_train, Y_test = train_test_split(X_adasyn, Y_adasyn,test_size=TEST_SIZE, random_state=RANDOM_STATE)\n"
   ]
  },
  {
   "cell_type": "code",
   "execution_count": 66,
   "metadata": {
    "execution": {
     "iopub.execute_input": "2020-10-24T20:56:00.669147Z",
     "iopub.status.busy": "2020-10-24T20:56:00.669003Z",
     "iopub.status.idle": "2020-10-24T20:56:00.674513Z",
     "shell.execute_reply": "2020-10-24T20:56:00.673809Z",
     "shell.execute_reply.started": "2020-10-24T20:56:00.669128Z"
    }
   },
   "outputs": [],
   "source": [
    "#X_train_normal = normalizer.fit_transform(X_train.values)\n",
    "#X_test_normal = normalizer.transform(X_test.values)"
   ]
  },
  {
   "cell_type": "code",
   "execution_count": 67,
   "metadata": {
    "execution": {
     "iopub.execute_input": "2020-10-24T20:56:00.675645Z",
     "iopub.status.busy": "2020-10-24T20:56:00.675442Z",
     "iopub.status.idle": "2020-10-24T20:56:00.680389Z",
     "shell.execute_reply": "2020-10-24T20:56:00.679700Z",
     "shell.execute_reply.started": "2020-10-24T20:56:00.675620Z"
    }
   },
   "outputs": [],
   "source": [
    "#took too long :-(\n",
    "#logisticRModel5 = LogisticRegression(C=100.0,max_iter=200,n_jobs=-1,random_state=RANDOM_STATE)\n",
    "#logisticRModel5 = LogisticRegression(C=100.0,max_iter=100,n_jobs=-1,random_state=RANDOM_STATE)\n",
    "#start_time = datetime.datetime.now()\n",
    "#logisticRModel5.fit(X_train_normal,Y_train)\n",
    "#end_time = datetime.datetime.now()\n",
    "#print(\"training time is {}\".format(end_time - start_time))"
   ]
  },
  {
   "cell_type": "code",
   "execution_count": 68,
   "metadata": {
    "execution": {
     "iopub.execute_input": "2020-10-24T20:56:00.681490Z",
     "iopub.status.busy": "2020-10-24T20:56:00.681294Z",
     "iopub.status.idle": "2020-10-24T20:56:00.688131Z",
     "shell.execute_reply": "2020-10-24T20:56:00.687440Z",
     "shell.execute_reply.started": "2020-10-24T20:56:00.681465Z"
    }
   },
   "outputs": [],
   "source": [
    "#Y_pred = logisticRModel5.predict(X_test_normal)\n",
    "\n",
    "#print(classification_report(Y_test, Y_pred,target_names=target_names))"
   ]
  },
  {
   "cell_type": "markdown",
   "metadata": {},
   "source": [
    "## Model Evaluation"
   ]
  },
  {
   "cell_type": "markdown",
   "metadata": {},
   "source": [
    "I will do this:\n",
    "* Create a test set from the original data set (with one-hot encoding and the `suspect_score` feature)\n",
    "* Create ROC Curves for the models\n",
    "* Calc AUC for the models"
   ]
  },
  {
   "cell_type": "markdown",
   "metadata": {
    "execution": {
     "iopub.execute_input": "2020-10-23T17:24:48.473797Z",
     "iopub.status.busy": "2020-10-23T17:24:48.473541Z",
     "iopub.status.idle": "2020-10-23T17:24:48.476874Z",
     "shell.execute_reply": "2020-10-23T17:24:48.476137Z",
     "shell.execute_reply.started": "2020-10-23T17:24:48.473769Z"
    }
   },
   "source": [
    "### Test set from the original dataset"
   ]
  },
  {
   "cell_type": "code",
   "execution_count": null,
   "metadata": {},
   "outputs": [],
   "source": [
    "X = paysim_data_df[[\"step\",\"amount\",\"oldbalanceOrg\",\n",
    "                      \"newbalanceOrig\",\n",
    "                      \"oldbalanceDest\",\n",
    "                      \"newbalanceDest\",\n",
    "                      \"suspect_score\",\n",
    "                      \"transtype_CASH_IN\",\n",
    "                      \"transtype_CASH_OUT\",\n",
    "                      \"transtype_DEBIT\",\n",
    "                      \"transtype_PAYMENT\",\n",
    "                      \"transtype_TRANSFER\"]]\n",
    "Y = paysim_data_df[\"isFraud\"]\n",
    "X_train, X_test, Y_train, Y_test = train_test_split(X, Y,test_size=TEST_SIZE, random_state=RANDOM_STATE)\n",
    "X_train_normal = normalizer.fit_transform(X_train.values)\n",
    "X_test_normal = normalizer.transform(X_test.values)"
   ]
  },
  {
   "cell_type": "code",
   "execution_count": null,
   "metadata": {},
   "outputs": [],
   "source": [
    "X_train.shape,X_test.shape,Y_train.shape,Y_test.shape"
   ]
  },
  {
   "cell_type": "code",
   "execution_count": null,
   "metadata": {},
   "outputs": [],
   "source": [
    "Y_test.value_counts()"
   ]
  },
  {
   "cell_type": "code",
   "execution_count": null,
   "metadata": {},
   "outputs": [],
   "source": [
    "Y.value_counts()"
   ]
  },
  {
   "cell_type": "markdown",
   "metadata": {},
   "source": [
    "As you can see the test set has a few `isFraud==1` much like the full data set"
   ]
  },
  {
   "cell_type": "markdown",
   "metadata": {},
   "source": [
    "### Random Guessing and Small Logistic Model"
   ]
  },
  {
   "cell_type": "markdown",
   "metadata": {
    "execution": {
     "iopub.execute_input": "2020-10-23T17:28:58.661678Z",
     "iopub.status.busy": "2020-10-23T17:28:58.661429Z",
     "iopub.status.idle": "2020-10-23T17:28:58.664300Z",
     "shell.execute_reply": "2020-10-23T17:28:58.663713Z",
     "shell.execute_reply.started": "2020-10-23T17:28:58.661651Z"
    }
   },
   "source": [
    "### Random Oversampled Model"
   ]
  },
  {
   "cell_type": "code",
   "execution_count": null,
   "metadata": {},
   "outputs": [],
   "source": [
    "Y_pred = logisticRModel3.predict(X_test_normal)\n",
    "print(classification_report(Y_test, Y_pred,target_names=target_names))\n"
   ]
  },
  {
   "cell_type": "code",
   "execution_count": null,
   "metadata": {},
   "outputs": [],
   "source": []
  },
  {
   "cell_type": "code",
   "execution_count": null,
   "metadata": {},
   "outputs": [],
   "source": [
    "conf_matrix = confusion_matrix(y_true=Y_test, y_pred=Y_pred)\n",
    "cm = print_confusion_matrix(conf_matrix,target_names)"
   ]
  },
  {
   "cell_type": "code",
   "execution_count": null,
   "metadata": {},
   "outputs": [],
   "source": [
    "Y_pred_prob = logisticRModel3.predict_proba(X_test_normal)\n",
    "\n",
    "precision_curve, recall_curve, threshold_curve = precision_recall_curve(Y_test, Y_pred_prob[:,1] )\n"
   ]
  },
  {
   "cell_type": "code",
   "execution_count": null,
   "metadata": {},
   "outputs": [],
   "source": [
    "plt.figure(figsize=(10,10),dpi=80)\n",
    "plt.plot(threshold_curve, precision_curve[1:],label='precision')\n",
    "plt.plot(threshold_curve, recall_curve[1:], label='recall')\n",
    "plt.legend(loc='lower left')\n",
    "plt.xlabel('Threshold (above this probability, label as fraud)');\n",
    "plt.title('Precision and Recall Curves');"
   ]
  },
  {
   "cell_type": "code",
   "execution_count": null,
   "metadata": {},
   "outputs": [],
   "source": [
    "Y_pred = logisticRModel4.predict(X_test_normal)\n",
    "print(classification_report(Y_test, Y_pred,target_names=target_names))"
   ]
  },
  {
   "cell_type": "code",
   "execution_count": null,
   "metadata": {},
   "outputs": [],
   "source": [
    "conf_matrix = confusion_matrix(y_true=Y_test, y_pred=Y_pred)\n",
    "cm = print_confusion_matrix(conf_matrix,target_names)"
   ]
  },
  {
   "cell_type": "code",
   "execution_count": null,
   "metadata": {},
   "outputs": [],
   "source": [
    "Y_pred = logisticRModel5.predict(X_test_normal)\n",
    "print(classification_report(Y, Y_pred,target_names=target_names))"
   ]
  },
  {
   "cell_type": "code",
   "execution_count": null,
   "metadata": {},
   "outputs": [],
   "source": []
  }
 ],
 "metadata": {
  "kernelspec": {
   "display_name": "Python 3",
   "language": "python",
   "name": "python3"
  },
  "language_info": {
   "codemirror_mode": {
    "name": "ipython",
    "version": 3
   },
   "file_extension": ".py",
   "mimetype": "text/x-python",
   "name": "python",
   "nbconvert_exporter": "python",
   "pygments_lexer": "ipython3",
   "version": "3.8.3"
  }
 },
 "nbformat": 4,
 "nbformat_minor": 4
}
