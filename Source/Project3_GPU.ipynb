{
 "cells": [
  {
   "cell_type": "markdown",
   "metadata": {},
   "source": [
    "# Project 3\n",
    "Fraud detection. Using dataset from Kaggle."
   ]
  },
  {
   "cell_type": "markdown",
   "metadata": {},
   "source": [
    "## Importing Modules"
   ]
  },
  {
   "cell_type": "code",
   "execution_count": 99,
   "metadata": {
    "execution": {
     "iopub.execute_input": "2020-10-24T21:10:27.681339Z",
     "iopub.status.busy": "2020-10-24T21:10:27.681085Z",
     "iopub.status.idle": "2020-10-24T21:10:28.144984Z",
     "shell.execute_reply": "2020-10-24T21:10:28.144327Z",
     "shell.execute_reply.started": "2020-10-24T21:10:27.681311Z"
    }
   },
   "outputs": [],
   "source": [
    "from bs4 import BeautifulSoup\n",
    "from random import randint\n",
    "import pandas as pd\n",
    "import numpy as np\n",
    "import matplotlib.pyplot as plt\n",
    "import requests\n",
    "import re\n",
    "import time\n",
    "import pickle\n",
    "import os\n",
    "import datetime\n",
    "import seaborn as sns\n",
    "import math\n",
    "import scipy.stats as stats\n",
    "\n",
    "from sklearn.linear_model import LinearRegression\n",
    "from sklearn.linear_model import LogisticRegressionCV\n",
    "from sklearn.linear_model import LogisticRegression\n",
    "\n",
    "from sklearn.linear_model import Ridge\n",
    "from sklearn.linear_model import Lasso\n",
    "from sklearn.linear_model import RidgeCV\n",
    "from sklearn.linear_model import LassoCV\n",
    "from sklearn.model_selection import train_test_split\n",
    "from sklearn.preprocessing import PolynomialFeatures\n",
    "from sklearn.model_selection import cross_validate\n",
    "from sklearn.model_selection import KFold\n",
    "from sklearn.pipeline import Pipeline\n",
    "from sklearn.preprocessing import StandardScaler\n",
    "from sklearn.model_selection import cross_val_score\n",
    "from sklearn.model_selection import cross_validate\n",
    "from sklearn.preprocessing import OneHotEncoder, StandardScaler\n",
    "from sklearn.metrics import plot_confusion_matrix, plot_roc_curve, classification_report, confusion_matrix\n",
    "from sklearn.metrics import precision_recall_curve\n",
    "from sklearn.metrics import roc_auc_score, roc_curve\n",
    "\n",
    "from xgboost import XGBClassifier\n",
    "\n",
    "from imblearn.over_sampling import RandomOverSampler\n",
    "from imblearn.over_sampling import SMOTE\n",
    "from imblearn.over_sampling import ADASYN\n",
    "\n",
    "import pymysql.cursors\n",
    "import sys\n",
    "\n",
    "#to speed up pandas operands\n",
    "from pandarallel import pandarallel\n",
    "\n",
    "#GPU\n",
    "\n",
    "import cupy as cnp\n",
    "import cudf\n",
    "import numpy as np\n",
    "import pandas as pd\n",
    "import datetime as dt\n",
    "import gc\n",
    "from sklearn.preprocessing import LabelEncoder\n",
    "from cuml import train_test_split as gputrain_test_split\n",
    "from cuml import LinearRegression as gpuLinearRegression\n",
    "from cuml import KMeans as gpuKmeans\n",
    "from cuml import LogisticRegression as gpuLogisticRegression\n",
    "from cuml.ensemble import RandomForestClassifier as gpuRandomForestClassifier"
   ]
  },
  {
   "cell_type": "code",
   "execution_count": 5,
   "metadata": {
    "execution": {
     "iopub.execute_input": "2020-10-24T21:04:27.552273Z",
     "iopub.status.busy": "2020-10-24T21:04:27.552069Z",
     "iopub.status.idle": "2020-10-24T21:04:27.562032Z",
     "shell.execute_reply": "2020-10-24T21:04:27.561521Z",
     "shell.execute_reply.started": "2020-10-24T21:04:27.552248Z"
    }
   },
   "outputs": [],
   "source": [
    "#Constants\n",
    "RANDOM_STATE = 999\n",
    "TEST_SIZE = 0.1\n",
    "\n",
    "#set this to 1 if you want to see this\n",
    "#notebook create the table and import the CSV into the table\n",
    "#on the My SQL server\n",
    "RUN_TABLE_CREATE_IMPORT = 0"
   ]
  },
  {
   "cell_type": "code",
   "execution_count": 6,
   "metadata": {
    "execution": {
     "iopub.execute_input": "2020-10-24T21:04:27.563488Z",
     "iopub.status.busy": "2020-10-24T21:04:27.563274Z",
     "iopub.status.idle": "2020-10-24T21:04:27.570355Z",
     "shell.execute_reply": "2020-10-24T21:04:27.569784Z",
     "shell.execute_reply.started": "2020-10-24T21:04:27.563462Z"
    }
   },
   "outputs": [],
   "source": [
    "def print_confusion_matrix(confusion_matrix, class_names, figsize = (10,7), fontsize=18):\n",
    "    \"\"\"Prints a confusion matrix, as returned by sklearn.metrics.confusion_matrix, as a heatmap.\n",
    "    \n",
    "    Arguments\n",
    "    ---------\n",
    "    confusion_matrix: numpy.ndarray\n",
    "        The numpy.ndarray object returned from a call to sklearn.metrics.confusion_matrix. \n",
    "        Similarly constructed ndarrays can also be used.\n",
    "    class_names: list\n",
    "        An ordered list of class names, in the order they index the given confusion matrix.\n",
    "    figsize: tuple\n",
    "        A 2-long tuple, the first value determining the horizontal size of the ouputted figure,\n",
    "        the second determining the vertical size. Defaults to (10,7).\n",
    "    fontsize: int\n",
    "        Font size for axes labels. Defaults to 14.\n",
    "        \n",
    "    Returns\n",
    "    -------\n",
    "    matplotlib.figure.Figure\n",
    "        The resulting confusion matrix figure\n",
    "    \"\"\"\n",
    "    df_cm = pd.DataFrame(confusion_matrix, index=class_names, columns=class_names, )\n",
    "    fig = plt.figure(figsize=figsize)\n",
    "    try:\n",
    "        heatmap = sns.heatmap(df_cm, annot=True, fmt=\"d\")\n",
    "    except ValueError:\n",
    "        raise ValueError(\"Confusion matrix values must be integers.\")\n",
    "    heatmap.yaxis.set_ticklabels(heatmap.yaxis.get_ticklabels(), rotation=0, ha='right', fontsize=fontsize)\n",
    "    heatmap.xaxis.set_ticklabels(heatmap.xaxis.get_ticklabels(), rotation=45, ha='right', fontsize=fontsize)\n",
    "    plt.ylabel('True label')\n",
    "    plt.xlabel('Predicted label')\n",
    "    return fig"
   ]
  },
  {
   "cell_type": "markdown",
   "metadata": {},
   "source": [
    "## Data Download and Load Into SQL"
   ]
  },
  {
   "cell_type": "markdown",
   "metadata": {},
   "source": [
    "Note if you want a copy of the data you can download it from [here](https://www.kaggle.com/ntnu-testimon/paysim1) "
   ]
  },
  {
   "cell_type": "code",
   "execution_count": 7,
   "metadata": {
    "execution": {
     "iopub.execute_input": "2020-10-24T21:04:27.571410Z",
     "iopub.status.busy": "2020-10-24T21:04:27.571268Z",
     "iopub.status.idle": "2020-10-24T21:04:27.580608Z",
     "shell.execute_reply": "2020-10-24T21:04:27.579961Z",
     "shell.execute_reply.started": "2020-10-24T21:04:27.571392Z"
    }
   },
   "outputs": [],
   "source": [
    "#just reading enough to get the names of the columns\n",
    "data_df = pd.read_csv(\"../Data/PS_20174392719_1491204439457_log.csv\",nrows=5)"
   ]
  },
  {
   "cell_type": "code",
   "execution_count": 8,
   "metadata": {
    "execution": {
     "iopub.execute_input": "2020-10-24T21:04:27.581457Z",
     "iopub.status.busy": "2020-10-24T21:04:27.581311Z",
     "iopub.status.idle": "2020-10-24T21:04:27.585877Z",
     "shell.execute_reply": "2020-10-24T21:04:27.585424Z",
     "shell.execute_reply.started": "2020-10-24T21:04:27.581438Z"
    }
   },
   "outputs": [
    {
     "name": "stdout",
     "output_type": "stream",
     "text": [
      "step\n",
      "amount\n",
      "nameOrig\n",
      "oldbalanceOrg\n",
      "newbalanceOrig\n",
      "nameDest\n",
      "oldbalanceDest\n",
      "newbalanceDest\n",
      "isFraud\n",
      "isFlaggedFraud\n",
      "transtype\n"
     ]
    }
   ],
   "source": [
    "#Getting column names\n",
    "COL_NAMES = data_df.columns\n",
    "COL_NAMES = list(COL_NAMES)\n",
    "COL_NAMES.remove(\"type\")\n",
    "COL_NAMES.append(\"transtype\")\n",
    "for i, a_col in enumerate(COL_NAMES):\n",
    "    print(a_col)"
   ]
  },
  {
   "cell_type": "code",
   "execution_count": 9,
   "metadata": {
    "execution": {
     "iopub.execute_input": "2020-10-24T21:04:27.586627Z",
     "iopub.status.busy": "2020-10-24T21:04:27.586487Z",
     "iopub.status.idle": "2020-10-24T21:04:27.602395Z",
     "shell.execute_reply": "2020-10-24T21:04:27.601922Z",
     "shell.execute_reply.started": "2020-10-24T21:04:27.586609Z"
    }
   },
   "outputs": [
    {
     "data": {
      "text/html": [
       "<div>\n",
       "<style scoped>\n",
       "    .dataframe tbody tr th:only-of-type {\n",
       "        vertical-align: middle;\n",
       "    }\n",
       "\n",
       "    .dataframe tbody tr th {\n",
       "        vertical-align: top;\n",
       "    }\n",
       "\n",
       "    .dataframe thead th {\n",
       "        text-align: right;\n",
       "    }\n",
       "</style>\n",
       "<table border=\"1\" class=\"dataframe\">\n",
       "  <thead>\n",
       "    <tr style=\"text-align: right;\">\n",
       "      <th></th>\n",
       "      <th>step</th>\n",
       "      <th>type</th>\n",
       "      <th>amount</th>\n",
       "      <th>nameOrig</th>\n",
       "      <th>oldbalanceOrg</th>\n",
       "      <th>newbalanceOrig</th>\n",
       "      <th>nameDest</th>\n",
       "      <th>oldbalanceDest</th>\n",
       "      <th>newbalanceDest</th>\n",
       "      <th>isFraud</th>\n",
       "      <th>isFlaggedFraud</th>\n",
       "    </tr>\n",
       "  </thead>\n",
       "  <tbody>\n",
       "    <tr>\n",
       "      <th>0</th>\n",
       "      <td>1</td>\n",
       "      <td>PAYMENT</td>\n",
       "      <td>9839.64</td>\n",
       "      <td>C1231006815</td>\n",
       "      <td>170136.0</td>\n",
       "      <td>160296.36</td>\n",
       "      <td>M1979787155</td>\n",
       "      <td>0.0</td>\n",
       "      <td>0.0</td>\n",
       "      <td>0</td>\n",
       "      <td>0</td>\n",
       "    </tr>\n",
       "    <tr>\n",
       "      <th>1</th>\n",
       "      <td>1</td>\n",
       "      <td>PAYMENT</td>\n",
       "      <td>1864.28</td>\n",
       "      <td>C1666544295</td>\n",
       "      <td>21249.0</td>\n",
       "      <td>19384.72</td>\n",
       "      <td>M2044282225</td>\n",
       "      <td>0.0</td>\n",
       "      <td>0.0</td>\n",
       "      <td>0</td>\n",
       "      <td>0</td>\n",
       "    </tr>\n",
       "    <tr>\n",
       "      <th>2</th>\n",
       "      <td>1</td>\n",
       "      <td>TRANSFER</td>\n",
       "      <td>181.00</td>\n",
       "      <td>C1305486145</td>\n",
       "      <td>181.0</td>\n",
       "      <td>0.00</td>\n",
       "      <td>C553264065</td>\n",
       "      <td>0.0</td>\n",
       "      <td>0.0</td>\n",
       "      <td>1</td>\n",
       "      <td>0</td>\n",
       "    </tr>\n",
       "    <tr>\n",
       "      <th>3</th>\n",
       "      <td>1</td>\n",
       "      <td>CASH_OUT</td>\n",
       "      <td>181.00</td>\n",
       "      <td>C840083671</td>\n",
       "      <td>181.0</td>\n",
       "      <td>0.00</td>\n",
       "      <td>C38997010</td>\n",
       "      <td>21182.0</td>\n",
       "      <td>0.0</td>\n",
       "      <td>1</td>\n",
       "      <td>0</td>\n",
       "    </tr>\n",
       "    <tr>\n",
       "      <th>4</th>\n",
       "      <td>1</td>\n",
       "      <td>PAYMENT</td>\n",
       "      <td>11668.14</td>\n",
       "      <td>C2048537720</td>\n",
       "      <td>41554.0</td>\n",
       "      <td>29885.86</td>\n",
       "      <td>M1230701703</td>\n",
       "      <td>0.0</td>\n",
       "      <td>0.0</td>\n",
       "      <td>0</td>\n",
       "      <td>0</td>\n",
       "    </tr>\n",
       "  </tbody>\n",
       "</table>\n",
       "</div>"
      ],
      "text/plain": [
       "   step      type    amount     nameOrig  oldbalanceOrg  newbalanceOrig  \\\n",
       "0     1   PAYMENT   9839.64  C1231006815       170136.0       160296.36   \n",
       "1     1   PAYMENT   1864.28  C1666544295        21249.0        19384.72   \n",
       "2     1  TRANSFER    181.00  C1305486145          181.0            0.00   \n",
       "3     1  CASH_OUT    181.00   C840083671          181.0            0.00   \n",
       "4     1   PAYMENT  11668.14  C2048537720        41554.0        29885.86   \n",
       "\n",
       "      nameDest  oldbalanceDest  newbalanceDest  isFraud  isFlaggedFraud  \n",
       "0  M1979787155             0.0             0.0        0               0  \n",
       "1  M2044282225             0.0             0.0        0               0  \n",
       "2   C553264065             0.0             0.0        1               0  \n",
       "3    C38997010         21182.0             0.0        1               0  \n",
       "4  M1230701703             0.0             0.0        0               0  "
      ]
     },
     "execution_count": 9,
     "metadata": {},
     "output_type": "execute_result"
    }
   ],
   "source": [
    "#What type of data is in each column?\n",
    "data_df.head()"
   ]
  },
  {
   "cell_type": "code",
   "execution_count": 10,
   "metadata": {
    "execution": {
     "iopub.execute_input": "2020-10-24T21:04:27.603242Z",
     "iopub.status.busy": "2020-10-24T21:04:27.603099Z",
     "iopub.status.idle": "2020-10-24T21:04:27.609249Z",
     "shell.execute_reply": "2020-10-24T21:04:27.608706Z",
     "shell.execute_reply.started": "2020-10-24T21:04:27.603223Z"
    }
   },
   "outputs": [],
   "source": [
    "#Establishing connection to mariaDB server\n",
    "#Note, sever_details.txt is not provided you'll have to ask me for it\n",
    "if sys.platform == 'linux':\n",
    "    server_details_file_name = \"/home/magreen/Dropbox/PERSONAL/Documents/Word/server_details.txt\"\n",
    "elif sys.platform == 'darwin':\n",
    "    server_details_file_name = \"/Users/magreen/Dropbox/PERSONAL/Documents/Word/server_details.txt\"\n",
    "else:\n",
    "    print(\"WARNING: You are running on a system type I have not tested. Please contact me if you want help testing this.\")\n",
    "\n",
    "SERVER_DETAILS = open(server_details_file_name,\"r\")\n",
    "line_of_text = SERVER_DETAILS.readline()\n",
    "\n",
    "host_name, username, mypassword, db_name = line_of_text.split(',')\n",
    "\n",
    "host_name = host_name.rstrip()\n",
    "host_name = host_name.lstrip()\n",
    "username = username.rstrip()\n",
    "username = username.lstrip()\n",
    "mypassword = mypassword.rstrip()\n",
    "mypassword = mypassword.lstrip()\n",
    "db_name = db_name.rstrip()\n",
    "db_name = db_name.lstrip()\n"
   ]
  },
  {
   "cell_type": "code",
   "execution_count": 11,
   "metadata": {
    "execution": {
     "iopub.execute_input": "2020-10-24T21:04:27.610809Z",
     "iopub.status.busy": "2020-10-24T21:04:27.610664Z",
     "iopub.status.idle": "2020-10-24T21:04:27.614750Z",
     "shell.execute_reply": "2020-10-24T21:04:27.614188Z",
     "shell.execute_reply.started": "2020-10-24T21:04:27.610791Z"
    }
   },
   "outputs": [],
   "source": [
    "data_df = None"
   ]
  },
  {
   "cell_type": "code",
   "execution_count": 12,
   "metadata": {
    "execution": {
     "iopub.execute_input": "2020-10-24T21:04:27.616318Z",
     "iopub.status.busy": "2020-10-24T21:04:27.616105Z",
     "iopub.status.idle": "2020-10-24T21:04:27.630384Z",
     "shell.execute_reply": "2020-10-24T21:04:27.629581Z",
     "shell.execute_reply.started": "2020-10-24T21:04:27.616291Z"
    }
   },
   "outputs": [],
   "source": [
    "connection = pymysql.connect(host=host_name, user=username, password=mypassword, db=db_name, cursorclass=pymysql.cursors.DictCursor)"
   ]
  },
  {
   "cell_type": "code",
   "execution_count": 13,
   "metadata": {
    "execution": {
     "iopub.execute_input": "2020-10-24T21:04:27.631717Z",
     "iopub.status.busy": "2020-10-24T21:04:27.631491Z",
     "iopub.status.idle": "2020-10-24T21:04:27.634691Z",
     "shell.execute_reply": "2020-10-24T21:04:27.634029Z",
     "shell.execute_reply.started": "2020-10-24T21:04:27.631690Z"
    }
   },
   "outputs": [],
   "source": [
    "#get a cursor\n",
    "mycursor = connection.cursor()"
   ]
  },
  {
   "cell_type": "code",
   "execution_count": 14,
   "metadata": {
    "execution": {
     "iopub.execute_input": "2020-10-24T21:04:27.635861Z",
     "iopub.status.busy": "2020-10-24T21:04:27.635659Z",
     "iopub.status.idle": "2020-10-24T21:04:27.641821Z",
     "shell.execute_reply": "2020-10-24T21:04:27.641037Z",
     "shell.execute_reply.started": "2020-10-24T21:04:27.635837Z"
    }
   },
   "outputs": [
    {
     "name": "stdout",
     "output_type": "stream",
     "text": [
      "Skipping MySQL table creation and CSV import\n"
     ]
    }
   ],
   "source": [
    "#Create table import entire CSV\n",
    "if RUN_TABLE_CREATE_IMPORT != 0:\n",
    "    drop_table_query = \"drop table if exists paysim_data2;\"\n",
    "\n",
    "    mycursor.execute(drop_table_query)\n",
    "    mycursor.execute(\"commit;\")\n",
    "\n",
    "    create_table_query = \"\"\"\n",
    "\n",
    "\n",
    "create table paysim_data2 (\n",
    "    step INT,\n",
    "    transtype VARCHAR(255),\n",
    "    amount REAL,\n",
    "    nameOrig VARCHAR(255),\n",
    "    oldbalanceOrg REAL,\n",
    "    newbalanceOrig REAL,\n",
    "    nameDest VARCHAR(255),\n",
    "    oldbalanceDest REAL,\n",
    "    newbalanceDest REAL,\n",
    "    isFraud INT,\n",
    "    isFlaggedFraud INT\n",
    "    );\n",
    "\n",
    "\n",
    "    \"\"\"\n",
    "    mycursor.execute(create_table_query)\n",
    "    mycursor.execute(\"commit;\")\n",
    "\n",
    "    import_query = \"\"\"\n",
    "\n",
    "\n",
    "load data infile '/var/lib/mysql-files/data/PS_20174392719_1491204439457_log.csv'\n",
    "into table paysim_data2 fields terminated by ','  lines terminated by '\\n'\n",
    "ignore 1 rows;\n",
    "\n",
    "    \"\"\"\n",
    "\n",
    "    mycursor.execute(import_query)\n",
    "    mycursor.execute(\"commit;\")\n",
    "    \n",
    "    #and a row ID to the table\n",
    "    alter_table_query = \"\"\"\n",
    "    alter table paysim_data2 add column id int auto_increment primary key first;\n",
    "    \"\"\"\n",
    "    mycursor.execute(alter_table_query)\n",
    "    mycursor.execute(\"commit;\")\n",
    "    print(\"table creation and import done\")\n",
    "else:\n",
    "    print(\"Skipping MySQL table creation and CSV import\")"
   ]
  },
  {
   "cell_type": "markdown",
   "metadata": {},
   "source": [
    "## Data Cleaning"
   ]
  },
  {
   "cell_type": "markdown",
   "metadata": {},
   "source": [
    "In this section I remove rows that contain null entries or duplicate entries from the SQL table."
   ]
  },
  {
   "cell_type": "code",
   "execution_count": 15,
   "metadata": {
    "execution": {
     "iopub.execute_input": "2020-10-24T21:04:27.642848Z",
     "iopub.status.busy": "2020-10-24T21:04:27.642700Z",
     "iopub.status.idle": "2020-10-24T21:04:27.648402Z",
     "shell.execute_reply": "2020-10-24T21:04:27.647814Z",
     "shell.execute_reply.started": "2020-10-24T21:04:27.642830Z"
    }
   },
   "outputs": [],
   "source": [
    "##Things I'm doing to test my data cleaning in SQL\n",
    "add_some_duplicates_nulls_query = \"\"\"\n",
    "\n",
    "insert into paysim_data2(step, transtype, amount, nameOrig, oldbalanceOrg, newbalanceOrig, nameDest, oldbalanceDest, newbalanceDest,isFraud,isFlaggedFraud) values(1,'PAYMENT',55,'Han Solo',100.0,45,'Princess Lea',0,55,0,0);\n",
    "insert into paysim_data2(step, transtype, amount, nameOrig, oldbalanceOrg, newbalanceOrig, nameDest, oldbalanceDest, newbalanceDest,isFraud,isFlaggedFraud) values(1,'PAYMENT',55,'Han Solo',100.0,45,'Princess Lea',0,55,0,0);\n",
    "\n",
    "\n",
    "insert into paysim_data2(step, transtype, amount, nameOrig, oldbalanceOrg, newbalanceOrig, nameDest, oldbalanceDest, newbalanceDest,isFraud,isFlaggedFraud) values(1,'PAYMENT',NULL,'C3PO',100.0,45,'R2D2',0,55,0,0);\n",
    "insert into paysim_data2(step, transtype, amount, nameOrig, oldbalanceOrg, newbalanceOrig, nameDest, oldbalanceDest, newbalanceDest,isFraud,isFlaggedFraud) values(1,'PAYMENT',10,'Luke',100.0,90,'Wedge',0,NULL,0,0);\n",
    "\n",
    "\n",
    "\n",
    "\"\"\"\n",
    "#mycursor.execute(add_some_duplicates_nulls_query)\n",
    "#mycursor.execute(\"commit;\")\n"
   ]
  },
  {
   "cell_type": "code",
   "execution_count": 16,
   "metadata": {
    "execution": {
     "iopub.execute_input": "2020-10-24T21:04:27.649367Z",
     "iopub.status.busy": "2020-10-24T21:04:27.649219Z",
     "iopub.status.idle": "2020-10-24T21:04:27.656538Z",
     "shell.execute_reply": "2020-10-24T21:04:27.655892Z",
     "shell.execute_reply.started": "2020-10-24T21:04:27.649349Z"
    }
   },
   "outputs": [
    {
     "name": "stdout",
     "output_type": "stream",
     "text": [
      "\n",
      "skipping null search and clean\n",
      "\n"
     ]
    }
   ],
   "source": [
    "########################################################################\n",
    "#\n",
    "# Search each column in the MySQL table for null. If null remove the row\n",
    "#\n",
    "########################################################################\n",
    "if RUN_TABLE_CREATE_IMPORT != 0:\n",
    "\n",
    "    for column_name in COL_NAMES:\n",
    "        temp_query = \"\"\"\n",
    "    \n",
    "        select * from paysim_data2 where {} is null;\n",
    "    \n",
    "        \"\"\".format(column_name)\n",
    "    \n",
    "        mycursor.execute(\"begin;\")\n",
    "        query_result = mycursor.execute(temp_query)\n",
    "        print(\"For column = {} here are the null rows:\\n\".format(column_name))\n",
    "        print(query_result)\n",
    "        print(\"\\n\")\n",
    "    \n",
    "        if query_result != 0:\n",
    "            row_contents = mycursor.fetchall()\n",
    "            print(\"This row contains NULL information:\\n\")\n",
    "        \n",
    "            for bad_row in row_contents:\n",
    "                print(row_contents)\n",
    "            \n",
    "            temp_efface_row_query = \"\"\"\n",
    "            delete from paysim_data2 where {} is null;\n",
    "            \"\"\".format(column_name)\n",
    "        \n",
    "            query_result = mycursor.execute(temp_efface_row_query)\n",
    "        \n",
    "            #print(\"result = {}\".format(query_result))\n",
    "            mycursor.execute(\"commit;\")\n",
    "            #print(\"result = {}\".format(query_result))\n",
    "            if query_result:\n",
    "                print(\"\\nsuccessfully removed row\\n\")\n",
    "            else:\n",
    "                print(\"error: failed to remove row!\")\n",
    "        \n",
    "    \n",
    "\n",
    "        \n",
    "    print(\"\\ncheck done.\\n\")\n",
    "else:\n",
    "    print(\"\\nskipping null search and clean\\n\")\n",
    "\n",
    "#import CSV Into SQL Table\n"
   ]
  },
  {
   "cell_type": "code",
   "execution_count": 17,
   "metadata": {
    "execution": {
     "iopub.execute_input": "2020-10-24T21:04:27.657514Z",
     "iopub.status.busy": "2020-10-24T21:04:27.657362Z",
     "iopub.status.idle": "2020-10-24T21:04:27.664218Z",
     "shell.execute_reply": "2020-10-24T21:04:27.663592Z",
     "shell.execute_reply.started": "2020-10-24T21:04:27.657495Z"
    }
   },
   "outputs": [
    {
     "name": "stdout",
     "output_type": "stream",
     "text": [
      "\n",
      "skipping redundant row search and remove\n",
      "\n"
     ]
    }
   ],
   "source": [
    "########################################################################\n",
    "#\n",
    "# Search for duplicate rows. Remove the second-most row for every pair of duplicate rows\n",
    "#\n",
    "########################################################################\n",
    "\n",
    "search_for_duplicates_query = \"\"\"\n",
    "select\n",
    "     step, count(step),\n",
    "     transtype, count(transtype),\n",
    "     amount, count(amount),\n",
    "     nameOrig, count(nameOrig),\n",
    "     oldbalanceOrg, count(oldbalanceOrg),\n",
    "     newbalanceOrig, count(newbalanceOrig),\n",
    "     nameDest, count(nameDest),\n",
    "     oldbalanceDest, count(oldbalanceDest),\n",
    "     newbalanceDest, count(newbalanceDest),\n",
    "     isFraud, count(isFraud),\n",
    "     isFlaggedFraud, count(isFlaggedFraud)\n",
    "     from paysim_data2\n",
    "     group by step,transtype,amount,nameOrig,oldbalanceOrg,newbalanceOrig,nameDest,oldbalanceDest,newbalanceDest,isFraud,isFlaggedFraud\n",
    "     having\n",
    "     count(step) > 1 and\n",
    "     count(transtype) > 1 and\n",
    "     count(amount) > 1 and\n",
    "     count(nameOrig) > 1 and\n",
    "     count(oldbalanceOrg) > 1 and\n",
    "     count(newbalanceOrig) > 1 and\n",
    "     count(nameDest) > 1 and\n",
    "     count(oldbalanceDest) > 1 and\n",
    "     count(newbalanceDest) > 1 and\n",
    "     count(isFraud) > 1 and\n",
    "     count(isFlaggedFraud) > 1;\n",
    "\n",
    "\n",
    "\n",
    "\"\"\"\n",
    "\n",
    "remove_duplicates_query1 = \"\"\"\n",
    "\n",
    "\n",
    "SET SESSION old_alter_table=1;\n",
    "\n",
    "\n",
    "\"\"\"\n",
    "\n",
    "remove_duplicates_query2 = \"\"\"\n",
    "\n",
    "alter ignore table paysim_data2 add unique index u(amount,nameOrig,nameDest);\n",
    "\n",
    "\n",
    "\"\"\"\n",
    "\n",
    "\n",
    "remove_duplicates_query3 = \"\"\"\n",
    "SET SESSION old_alter_table=0;\n",
    "\n",
    "\n",
    "\"\"\"\n",
    "if RUN_TABLE_CREATE_IMPORT != 0:\n",
    "\n",
    "    # removing duplicates takes too long will just search for duplicates\n",
    "    # The dataset has 6M rows every duplicate remove I found \n",
    "    # does a n^2 operation which is too many for this DB\n",
    "    # other methods (CTE) don't work\n",
    "    mycursor.execute(\"begin;\")\n",
    "    mycursor.execute(search_for_duplicates_query)\n",
    "    results = mycursor.fetchall()\n",
    "\n",
    "    print(\"following are duplicate rows in the SQL DB:\\n\")\n",
    "    for myresult in results:\n",
    "        print(myresult)\n",
    "    print(\"\\ndone searching for duplicates\\n\")\n",
    "\n",
    "    print(\"removing duplicates\\n\")\n",
    "    mycursor.execute(\"begin;\")\n",
    "    mycursor.execute(remove_duplicates_query1)\n",
    "    mycursor.execute(\"commit;\")\n",
    "    mycursor.execute(remove_duplicates_query2)\n",
    "    mycursor.execute(\"commit;\")\n",
    "    mycursor.execute(remove_duplicates_query3)\n",
    "    mycursor.execute(\"commit;\")\n",
    "    print(\"\\ndone removing duplicates\\n\")\n",
    "else:\n",
    "    print(\"\\nskipping redundant row search and remove\\n\")\n"
   ]
  },
  {
   "cell_type": "markdown",
   "metadata": {},
   "source": [
    "## EDA"
   ]
  },
  {
   "cell_type": "markdown",
   "metadata": {},
   "source": [
    "Things I want to do in this section:\n",
    "\n",
    "* Find a feature / features that enable me to separate the classes\n",
    "* Create a feature that will enable me to separate the classes\n",
    "* Determine if the classes are adequately represented in the data set or is this an imbalanced data set\n"
   ]
  },
  {
   "cell_type": "markdown",
   "metadata": {},
   "source": [
    "Read the SQL into a data frame"
   ]
  },
  {
   "cell_type": "markdown",
   "metadata": {},
   "source": [
    "It takes a long time to read from SQL. To make running iterations faster will only run the query based on a parameter"
   ]
  },
  {
   "cell_type": "code",
   "execution_count": 18,
   "metadata": {
    "execution": {
     "iopub.execute_input": "2020-10-24T21:04:27.665163Z",
     "iopub.status.busy": "2020-10-24T21:04:27.665014Z",
     "iopub.status.idle": "2020-10-24T21:04:27.671323Z",
     "shell.execute_reply": "2020-10-24T21:04:27.670597Z",
     "shell.execute_reply.started": "2020-10-24T21:04:27.665144Z"
    }
   },
   "outputs": [],
   "source": [
    "READ_FROM_SQL_SERVER = 0"
   ]
  },
  {
   "cell_type": "code",
   "execution_count": 19,
   "metadata": {
    "execution": {
     "iopub.execute_input": "2020-10-24T21:04:27.672492Z",
     "iopub.status.busy": "2020-10-24T21:04:27.672281Z",
     "iopub.status.idle": "2020-10-24T21:04:30.096169Z",
     "shell.execute_reply": "2020-10-24T21:04:30.095411Z",
     "shell.execute_reply.started": "2020-10-24T21:04:27.672465Z"
    }
   },
   "outputs": [],
   "source": [
    "if READ_FROM_SQL_SERVER:\n",
    "    get_paysim_data2_table_query = \"select * from paysim_data2;\"\n",
    "    paysim_data_df = pd.read_sql(get_paysim_data2_table_query,connection)\n",
    "    DF_PICKLE_FILE = open(\"paysim_data_df.pkl\",\"wb\")\n",
    "    pickle.dump(paysim_data_df,DF_PICKLE_FILE)\n",
    "    DF_PICKLE_FILE.close()\n",
    "else:\n",
    "    DF_PICKLE_FILE = open(\"paysim_data_df.pkl\",\"rb\")\n",
    "    paysim_data_df = pickle.load(DF_PICKLE_FILE)\n",
    "\n"
   ]
  },
  {
   "cell_type": "code",
   "execution_count": 20,
   "metadata": {
    "execution": {
     "iopub.execute_input": "2020-10-24T21:04:30.097259Z",
     "iopub.status.busy": "2020-10-24T21:04:30.097103Z",
     "iopub.status.idle": "2020-10-24T21:04:30.109616Z",
     "shell.execute_reply": "2020-10-24T21:04:30.109099Z",
     "shell.execute_reply.started": "2020-10-24T21:04:30.097237Z"
    }
   },
   "outputs": [
    {
     "data": {
      "text/html": [
       "<div>\n",
       "<style scoped>\n",
       "    .dataframe tbody tr th:only-of-type {\n",
       "        vertical-align: middle;\n",
       "    }\n",
       "\n",
       "    .dataframe tbody tr th {\n",
       "        vertical-align: top;\n",
       "    }\n",
       "\n",
       "    .dataframe thead th {\n",
       "        text-align: right;\n",
       "    }\n",
       "</style>\n",
       "<table border=\"1\" class=\"dataframe\">\n",
       "  <thead>\n",
       "    <tr style=\"text-align: right;\">\n",
       "      <th></th>\n",
       "      <th>id</th>\n",
       "      <th>step</th>\n",
       "      <th>transtype</th>\n",
       "      <th>amount</th>\n",
       "      <th>nameOrig</th>\n",
       "      <th>oldbalanceOrg</th>\n",
       "      <th>newbalanceOrig</th>\n",
       "      <th>nameDest</th>\n",
       "      <th>oldbalanceDest</th>\n",
       "      <th>newbalanceDest</th>\n",
       "      <th>isFraud</th>\n",
       "      <th>isFlaggedFraud</th>\n",
       "    </tr>\n",
       "  </thead>\n",
       "  <tbody>\n",
       "    <tr>\n",
       "      <th>0</th>\n",
       "      <td>1</td>\n",
       "      <td>1</td>\n",
       "      <td>PAYMENT</td>\n",
       "      <td>9839.64</td>\n",
       "      <td>C1231006815</td>\n",
       "      <td>170136.0</td>\n",
       "      <td>160296.36</td>\n",
       "      <td>M1979787155</td>\n",
       "      <td>0.0</td>\n",
       "      <td>0.0</td>\n",
       "      <td>0</td>\n",
       "      <td>0</td>\n",
       "    </tr>\n",
       "    <tr>\n",
       "      <th>1</th>\n",
       "      <td>2</td>\n",
       "      <td>1</td>\n",
       "      <td>PAYMENT</td>\n",
       "      <td>1864.28</td>\n",
       "      <td>C1666544295</td>\n",
       "      <td>21249.0</td>\n",
       "      <td>19384.72</td>\n",
       "      <td>M2044282225</td>\n",
       "      <td>0.0</td>\n",
       "      <td>0.0</td>\n",
       "      <td>0</td>\n",
       "      <td>0</td>\n",
       "    </tr>\n",
       "    <tr>\n",
       "      <th>2</th>\n",
       "      <td>3</td>\n",
       "      <td>1</td>\n",
       "      <td>TRANSFER</td>\n",
       "      <td>181.00</td>\n",
       "      <td>C1305486145</td>\n",
       "      <td>181.0</td>\n",
       "      <td>0.00</td>\n",
       "      <td>C553264065</td>\n",
       "      <td>0.0</td>\n",
       "      <td>0.0</td>\n",
       "      <td>1</td>\n",
       "      <td>0</td>\n",
       "    </tr>\n",
       "    <tr>\n",
       "      <th>3</th>\n",
       "      <td>4</td>\n",
       "      <td>1</td>\n",
       "      <td>CASH_OUT</td>\n",
       "      <td>181.00</td>\n",
       "      <td>C840083671</td>\n",
       "      <td>181.0</td>\n",
       "      <td>0.00</td>\n",
       "      <td>C38997010</td>\n",
       "      <td>21182.0</td>\n",
       "      <td>0.0</td>\n",
       "      <td>1</td>\n",
       "      <td>0</td>\n",
       "    </tr>\n",
       "    <tr>\n",
       "      <th>4</th>\n",
       "      <td>5</td>\n",
       "      <td>1</td>\n",
       "      <td>PAYMENT</td>\n",
       "      <td>11668.14</td>\n",
       "      <td>C2048537720</td>\n",
       "      <td>41554.0</td>\n",
       "      <td>29885.86</td>\n",
       "      <td>M1230701703</td>\n",
       "      <td>0.0</td>\n",
       "      <td>0.0</td>\n",
       "      <td>0</td>\n",
       "      <td>0</td>\n",
       "    </tr>\n",
       "  </tbody>\n",
       "</table>\n",
       "</div>"
      ],
      "text/plain": [
       "   id  step transtype    amount     nameOrig  oldbalanceOrg  newbalanceOrig  \\\n",
       "0   1     1   PAYMENT   9839.64  C1231006815       170136.0       160296.36   \n",
       "1   2     1   PAYMENT   1864.28  C1666544295        21249.0        19384.72   \n",
       "2   3     1  TRANSFER    181.00  C1305486145          181.0            0.00   \n",
       "3   4     1  CASH_OUT    181.00   C840083671          181.0            0.00   \n",
       "4   5     1   PAYMENT  11668.14  C2048537720        41554.0        29885.86   \n",
       "\n",
       "      nameDest  oldbalanceDest  newbalanceDest  isFraud  isFlaggedFraud  \n",
       "0  M1979787155             0.0             0.0        0               0  \n",
       "1  M2044282225             0.0             0.0        0               0  \n",
       "2   C553264065             0.0             0.0        1               0  \n",
       "3    C38997010         21182.0             0.0        1               0  \n",
       "4  M1230701703             0.0             0.0        0               0  "
      ]
     },
     "execution_count": 20,
     "metadata": {},
     "output_type": "execute_result"
    }
   ],
   "source": [
    "paysim_data_df.head()"
   ]
  },
  {
   "cell_type": "markdown",
   "metadata": {},
   "source": [
    "Based on reading the paper here's how I think the data set works:\n",
    "\n",
    "\n",
    "TODO: Continue to explain the meaning of the various `transtype`s\n",
    "\n",
    "`CASH-IN`:\n",
    "This is an operation where `nameOrig` is putting money into his/her/their account. So in these transfers `newbalanceOrig` = `amount`+`oldbalanceOrg`\n",
    "\n",
    "\n",
    "\n",
    "From the paper here are the modes of fraud reflected in the data set:\n",
    "* transfers out money: the fraudster obtains access to another person's account. Then said fraudster cashes out this account or transfers the money to one or more destination accounts that the fraudster owns.\n",
    "* cashes out the money: the fraudster obtains access to another person's account. Then said fraudster converts the account balance to cash using a merchant as a conduit for the transaction. Either the fraudster can use the merchant as an ATM or makes a purchase and uses whatever cash remains as spare change as the ultimately desired funds\n",
    "* merchants withholding cash due a customer: merchants can as part of a normal transaction with a customer widthhold monies owed to a customer and fabricate a fake inbout transaction (cash-in). \n",
    "* The mobile system modeled by the researcher supports vouchers that facilitate paying money from a person who has a mobile account to another person who does not. There are many opportunities where these vouchers can either be counterfeited or already-invalid vouchers can be falsely offered by a merchant or by a customer who uses it as currency with someone who is not a user of the mobile payment system\n",
    "\n",
    "Given this I speculate that the following types of features may help to identify fraudulent rows (where `isFraud==1`):\n",
    "\n",
    "* Transactions where the `amount` that participates in the transaction is equal to `oldbalanceOrg` or to `newbalanceDest`, and where `newbalanceOrig` == 0 or `newbalanceOrig` < `oldbalanceOrg`\n"
   ]
  },
  {
   "cell_type": "code",
   "execution_count": 21,
   "metadata": {
    "execution": {
     "iopub.execute_input": "2020-10-24T21:04:30.110425Z",
     "iopub.status.busy": "2020-10-24T21:04:30.110283Z",
     "iopub.status.idle": "2020-10-24T21:04:35.442064Z",
     "shell.execute_reply": "2020-10-24T21:04:35.441220Z",
     "shell.execute_reply.started": "2020-10-24T21:04:30.110407Z"
    }
   },
   "outputs": [],
   "source": [
    "# Things to plot\n",
    "#\n",
    "# histogram: X axis: Type of transfers. Y axis: Number of those transfers where isFraud == 1\n",
    "# historgram: X axis: Type of transfers. Y axis: Number of those transfers where isFraud == 0\n",
    "fraud_counts_dict = {}\n",
    "notfraud_counts_dict = {}\n",
    "transtypes = paysim_data_df[\"transtype\"].unique()\n",
    "#transtypes = transtypes.to_pandas()\n",
    "\n",
    "for transtype in list(transtypes):\n",
    "    numb_of_fraud_nofraud = paysim_data_df[ paysim_data_df[\"transtype\"] == transtype ][\"isFraud\"].value_counts()\n",
    "    #print(type(numb_of_fraud_nofraud))\n",
    "    \n",
    "    if numb_of_fraud_nofraud.get(1):\n",
    "        fraud_counts_dict[transtype] = numb_of_fraud_nofraud[1]\n",
    "    else:\n",
    "        fraud_counts_dict[transtype] = 0\n",
    "        \n",
    "    if numb_of_fraud_nofraud.get(0):\n",
    "        notfraud_counts_dict[transtype] = numb_of_fraud_nofraud[0]\n",
    "    else:\n",
    "        notfraud_counts_dict[transtype] = 0\n",
    "    "
   ]
  },
  {
   "cell_type": "code",
   "execution_count": 22,
   "metadata": {
    "execution": {
     "iopub.execute_input": "2020-10-24T21:04:35.443234Z",
     "iopub.status.busy": "2020-10-24T21:04:35.443077Z",
     "iopub.status.idle": "2020-10-24T21:04:35.447311Z",
     "shell.execute_reply": "2020-10-24T21:04:35.446701Z",
     "shell.execute_reply.started": "2020-10-24T21:04:35.443213Z"
    }
   },
   "outputs": [
    {
     "data": {
      "text/plain": [
       "{'PAYMENT': 2151496,\n",
       " 'TRANSFER': 528812,\n",
       " 'CASH_OUT': 2233384,\n",
       " 'DEBIT': 41432,\n",
       " 'CASH_IN': 1399284}"
      ]
     },
     "execution_count": 22,
     "metadata": {},
     "output_type": "execute_result"
    }
   ],
   "source": [
    "notfraud_counts_dict"
   ]
  },
  {
   "cell_type": "code",
   "execution_count": 23,
   "metadata": {
    "execution": {
     "iopub.execute_input": "2020-10-24T21:04:35.448240Z",
     "iopub.status.busy": "2020-10-24T21:04:35.448081Z",
     "iopub.status.idle": "2020-10-24T21:04:35.461137Z",
     "shell.execute_reply": "2020-10-24T21:04:35.460490Z",
     "shell.execute_reply.started": "2020-10-24T21:04:35.448221Z"
    }
   },
   "outputs": [
    {
     "data": {
      "text/plain": [
       "{'PAYMENT': 0, 'TRANSFER': 4097, 'CASH_OUT': 4116, 'DEBIT': 0, 'CASH_IN': 0}"
      ]
     },
     "execution_count": 23,
     "metadata": {},
     "output_type": "execute_result"
    }
   ],
   "source": [
    "fraud_counts_dict"
   ]
  },
  {
   "cell_type": "code",
   "execution_count": 24,
   "metadata": {
    "execution": {
     "iopub.execute_input": "2020-10-24T21:04:35.462378Z",
     "iopub.status.busy": "2020-10-24T21:04:35.462163Z",
     "iopub.status.idle": "2020-10-24T21:04:35.466460Z",
     "shell.execute_reply": "2020-10-24T21:04:35.465750Z",
     "shell.execute_reply.started": "2020-10-24T21:04:35.462350Z"
    }
   },
   "outputs": [],
   "source": [
    "col_names = [\"type\",\"fraud\",\"notfraud\"]\n",
    "rows = [\n",
    "    list(notfraud_counts_dict.keys()),\n",
    "    list(fraud_counts_dict.values()),\n",
    "    list(notfraud_counts_dict.values())\n",
    "]"
   ]
  },
  {
   "cell_type": "code",
   "execution_count": 25,
   "metadata": {
    "execution": {
     "iopub.execute_input": "2020-10-24T21:04:35.467640Z",
     "iopub.status.busy": "2020-10-24T21:04:35.467416Z",
     "iopub.status.idle": "2020-10-24T21:04:36.169083Z",
     "shell.execute_reply": "2020-10-24T21:04:36.168438Z",
     "shell.execute_reply.started": "2020-10-24T21:04:35.467612Z"
    }
   },
   "outputs": [
    {
     "data": {
      "image/png": "[encoded data removed]",
      "text/plain": [
       "<Figure size 1440x1440 with 1 Axes>"
      ]
     },
     "metadata": {
      "needs_background": "light"
     },
     "output_type": "display_data"
    }
   ],
   "source": [
    "from matplotlib import ticker\n",
    "thefinal_dict = dict(zip(col_names,rows))\n",
    "\n",
    "myplot_df = pd.DataFrame(thefinal_dict)\n",
    "myplot_df = myplot_df.set_index(\"type\")\n",
    "myplot_df.plot(kind='bar',figsize=(20,20),logy=True,fontsize=20)\n",
    "#plt.figure(figsize=(20,20))\n",
    "plt.ylabel(\"log(number of transactions)\",fontsize=20)\n",
    "plt.xlabel(\"trans type\",fontsize=20)\n",
    "plt.legend([\"fradulent\",\"not fradulent\"],fontsize=15)\n",
    "plt.gca().yaxis.set_major_formatter(ticker.FormatStrFormatter('%.2f'))\n",
    "plt.gca().xaxis.set_tick_params(rotation=0)\n",
    "plt.savefig('fraud_not_fraud_per_xfer.png')"
   ]
  },
  {
   "cell_type": "markdown",
   "metadata": {},
   "source": [
    "What I get from this graph (TODO elaborate before final version)\n",
    "* There are several orders of magnitude more `isFraud==0` transactions than `isFraud==1` transactions\n",
    "* All `isFraud==1` transactions are either `TRANSFER` or `CASH_OUT` transaction types"
   ]
  },
  {
   "cell_type": "code",
   "execution_count": 26,
   "metadata": {
    "execution": {
     "iopub.execute_input": "2020-10-24T21:04:36.172543Z",
     "iopub.status.busy": "2020-10-24T21:04:36.172373Z",
     "iopub.status.idle": "2020-10-24T21:04:50.466204Z",
     "shell.execute_reply": "2020-10-24T21:04:50.465370Z",
     "shell.execute_reply.started": "2020-10-24T21:04:36.172523Z"
    }
   },
   "outputs": [
    {
     "name": "stdout",
     "output_type": "stream",
     "text": [
      "INFO: Pandarallel will run on 64 workers.\n",
      "INFO: Pandarallel will use Memory file system to transfer data between the main process and workers.\n",
      "time spent doing operation is 0:00:14.286600\n"
     ]
    }
   ],
   "source": [
    "start_time = datetime.datetime.now()\n",
    "\n",
    "#TODO If you have time - convert it to a SQL query\n",
    "pandarallel.initialize()\n",
    "\n",
    "def calc_suspect(row):\n",
    "    if ((row[\"oldbalanceOrg\"] == row[\"amount\"]) or (row[\"newbalanceDest\"] == row[\"amount\"])) and (row[\"newbalanceOrig\"] == 0):\n",
    "        return 1.0\n",
    "    elif ((row[\"oldbalanceOrg\"] == row[\"amount\"]) or (row[\"newbalanceDest\"] == row[\"amount\"])) and (row[\"newbalanceOrig\"] < row[\"oldbalanceOrg\"]):\n",
    "        return 0.6\n",
    "    elif (row[\"amount\"] <= 10000000) and (row[\"transtype\"] == \"TRANSFER\" or row[\"transtype\"] == \"CASH_OUT\"):\n",
    "        return 0.1\n",
    "    else:\n",
    "        return 0\n",
    "\n",
    "paysim_data_df[\"suspect_score\"] = paysim_data_df.parallel_apply(calc_suspect,axis=1)\n",
    "\n",
    "end_time = datetime.datetime.now()\n",
    "print(\"time spent doing operation is {}\".format(end_time - start_time))"
   ]
  },
  {
   "cell_type": "code",
   "execution_count": 27,
   "metadata": {
    "execution": {
     "iopub.execute_input": "2020-10-24T21:04:50.468520Z",
     "iopub.status.busy": "2020-10-24T21:04:50.468357Z",
     "iopub.status.idle": "2020-10-24T21:04:50.471343Z",
     "shell.execute_reply": "2020-10-24T21:04:50.470719Z",
     "shell.execute_reply.started": "2020-10-24T21:04:50.468499Z"
    }
   },
   "outputs": [],
   "source": [
    "# Saving the DF to a pickle just in case I can't speed it up\n",
    "#PICKLE_FILE = open(\"paysim_data_df.pkl\",\"wb\")\n",
    "##pickle.dump(paysim_data_df,PICKLE_FILE)\n",
    "#PICKLE_FILE.close()\n",
    "# X axis \n",
    "#\n"
   ]
  },
  {
   "cell_type": "code",
   "execution_count": 28,
   "metadata": {
    "execution": {
     "iopub.execute_input": "2020-10-24T21:04:50.472180Z",
     "iopub.status.busy": "2020-10-24T21:04:50.472039Z",
     "iopub.status.idle": "2020-10-24T21:04:50.489695Z",
     "shell.execute_reply": "2020-10-24T21:04:50.489121Z",
     "shell.execute_reply.started": "2020-10-24T21:04:50.472163Z"
    }
   },
   "outputs": [
    {
     "data": {
      "text/html": [
       "<div>\n",
       "<style scoped>\n",
       "    .dataframe tbody tr th:only-of-type {\n",
       "        vertical-align: middle;\n",
       "    }\n",
       "\n",
       "    .dataframe tbody tr th {\n",
       "        vertical-align: top;\n",
       "    }\n",
       "\n",
       "    .dataframe thead th {\n",
       "        text-align: right;\n",
       "    }\n",
       "</style>\n",
       "<table border=\"1\" class=\"dataframe\">\n",
       "  <thead>\n",
       "    <tr style=\"text-align: right;\">\n",
       "      <th></th>\n",
       "      <th>id</th>\n",
       "      <th>step</th>\n",
       "      <th>transtype</th>\n",
       "      <th>amount</th>\n",
       "      <th>nameOrig</th>\n",
       "      <th>oldbalanceOrg</th>\n",
       "      <th>newbalanceOrig</th>\n",
       "      <th>nameDest</th>\n",
       "      <th>oldbalanceDest</th>\n",
       "      <th>newbalanceDest</th>\n",
       "      <th>isFraud</th>\n",
       "      <th>isFlaggedFraud</th>\n",
       "      <th>suspect_score</th>\n",
       "    </tr>\n",
       "  </thead>\n",
       "  <tbody>\n",
       "    <tr>\n",
       "      <th>0</th>\n",
       "      <td>1</td>\n",
       "      <td>1</td>\n",
       "      <td>PAYMENT</td>\n",
       "      <td>9839.64</td>\n",
       "      <td>C1231006815</td>\n",
       "      <td>170136.0</td>\n",
       "      <td>160296.36</td>\n",
       "      <td>M1979787155</td>\n",
       "      <td>0.0</td>\n",
       "      <td>0.0</td>\n",
       "      <td>0</td>\n",
       "      <td>0</td>\n",
       "      <td>0.0</td>\n",
       "    </tr>\n",
       "    <tr>\n",
       "      <th>1</th>\n",
       "      <td>2</td>\n",
       "      <td>1</td>\n",
       "      <td>PAYMENT</td>\n",
       "      <td>1864.28</td>\n",
       "      <td>C1666544295</td>\n",
       "      <td>21249.0</td>\n",
       "      <td>19384.72</td>\n",
       "      <td>M2044282225</td>\n",
       "      <td>0.0</td>\n",
       "      <td>0.0</td>\n",
       "      <td>0</td>\n",
       "      <td>0</td>\n",
       "      <td>0.0</td>\n",
       "    </tr>\n",
       "    <tr>\n",
       "      <th>2</th>\n",
       "      <td>3</td>\n",
       "      <td>1</td>\n",
       "      <td>TRANSFER</td>\n",
       "      <td>181.00</td>\n",
       "      <td>C1305486145</td>\n",
       "      <td>181.0</td>\n",
       "      <td>0.00</td>\n",
       "      <td>C553264065</td>\n",
       "      <td>0.0</td>\n",
       "      <td>0.0</td>\n",
       "      <td>1</td>\n",
       "      <td>0</td>\n",
       "      <td>1.0</td>\n",
       "    </tr>\n",
       "    <tr>\n",
       "      <th>3</th>\n",
       "      <td>4</td>\n",
       "      <td>1</td>\n",
       "      <td>CASH_OUT</td>\n",
       "      <td>181.00</td>\n",
       "      <td>C840083671</td>\n",
       "      <td>181.0</td>\n",
       "      <td>0.00</td>\n",
       "      <td>C38997010</td>\n",
       "      <td>21182.0</td>\n",
       "      <td>0.0</td>\n",
       "      <td>1</td>\n",
       "      <td>0</td>\n",
       "      <td>1.0</td>\n",
       "    </tr>\n",
       "    <tr>\n",
       "      <th>4</th>\n",
       "      <td>5</td>\n",
       "      <td>1</td>\n",
       "      <td>PAYMENT</td>\n",
       "      <td>11668.14</td>\n",
       "      <td>C2048537720</td>\n",
       "      <td>41554.0</td>\n",
       "      <td>29885.86</td>\n",
       "      <td>M1230701703</td>\n",
       "      <td>0.0</td>\n",
       "      <td>0.0</td>\n",
       "      <td>0</td>\n",
       "      <td>0</td>\n",
       "      <td>0.0</td>\n",
       "    </tr>\n",
       "  </tbody>\n",
       "</table>\n",
       "</div>"
      ],
      "text/plain": [
       "   id  step transtype    amount     nameOrig  oldbalanceOrg  newbalanceOrig  \\\n",
       "0   1     1   PAYMENT   9839.64  C1231006815       170136.0       160296.36   \n",
       "1   2     1   PAYMENT   1864.28  C1666544295        21249.0        19384.72   \n",
       "2   3     1  TRANSFER    181.00  C1305486145          181.0            0.00   \n",
       "3   4     1  CASH_OUT    181.00   C840083671          181.0            0.00   \n",
       "4   5     1   PAYMENT  11668.14  C2048537720        41554.0        29885.86   \n",
       "\n",
       "      nameDest  oldbalanceDest  newbalanceDest  isFraud  isFlaggedFraud  \\\n",
       "0  M1979787155             0.0             0.0        0               0   \n",
       "1  M2044282225             0.0             0.0        0               0   \n",
       "2   C553264065             0.0             0.0        1               0   \n",
       "3    C38997010         21182.0             0.0        1               0   \n",
       "4  M1230701703             0.0             0.0        0               0   \n",
       "\n",
       "   suspect_score  \n",
       "0            0.0  \n",
       "1            0.0  \n",
       "2            1.0  \n",
       "3            1.0  \n",
       "4            0.0  "
      ]
     },
     "execution_count": 28,
     "metadata": {},
     "output_type": "execute_result"
    }
   ],
   "source": [
    "paysim_data_df.head()"
   ]
  },
  {
   "cell_type": "code",
   "execution_count": 29,
   "metadata": {
    "execution": {
     "iopub.execute_input": "2020-10-24T21:04:50.490638Z",
     "iopub.status.busy": "2020-10-24T21:04:50.490484Z",
     "iopub.status.idle": "2020-10-24T21:04:50.496252Z",
     "shell.execute_reply": "2020-10-24T21:04:50.495695Z",
     "shell.execute_reply.started": "2020-10-24T21:04:50.490619Z"
    }
   },
   "outputs": [
    {
     "data": {
      "text/plain": [
       "(6362621, 13)"
      ]
     },
     "execution_count": 29,
     "metadata": {},
     "output_type": "execute_result"
    }
   ],
   "source": [
    "paysim_data_df.shape"
   ]
  },
  {
   "cell_type": "code",
   "execution_count": 30,
   "metadata": {
    "execution": {
     "iopub.execute_input": "2020-10-24T21:04:50.497390Z",
     "iopub.status.busy": "2020-10-24T21:04:50.497186Z",
     "iopub.status.idle": "2020-10-24T21:04:50.501805Z",
     "shell.execute_reply": "2020-10-24T21:04:50.501111Z",
     "shell.execute_reply.started": "2020-10-24T21:04:50.497364Z"
    }
   },
   "outputs": [],
   "source": [
    "#generating the graph takes a long time will uncomment before publishing it\n",
    "#sns.scatterplot('transtype', 'suspect_score', data=paysim_data_df, hue='isFraud',\n",
    "#           palette='Set2', alpha=0.2)\n",
    "#plt.gcf().set_size_inches(12,8);"
   ]
  },
  {
   "cell_type": "markdown",
   "metadata": {},
   "source": [
    "So there are still `isFraud==1` transfers with `suspect_score==0`. What are those transactions?"
   ]
  },
  {
   "cell_type": "code",
   "execution_count": 31,
   "metadata": {
    "execution": {
     "iopub.execute_input": "2020-10-24T21:04:50.502967Z",
     "iopub.status.busy": "2020-10-24T21:04:50.502767Z",
     "iopub.status.idle": "2020-10-24T21:04:50.693348Z",
     "shell.execute_reply": "2020-10-24T21:04:50.692722Z",
     "shell.execute_reply.started": "2020-10-24T21:04:50.502942Z"
    }
   },
   "outputs": [
    {
     "data": {
      "text/html": [
       "<div>\n",
       "<style scoped>\n",
       "    .dataframe tbody tr th:only-of-type {\n",
       "        vertical-align: middle;\n",
       "    }\n",
       "\n",
       "    .dataframe tbody tr th {\n",
       "        vertical-align: top;\n",
       "    }\n",
       "\n",
       "    .dataframe thead th {\n",
       "        text-align: right;\n",
       "    }\n",
       "</style>\n",
       "<table border=\"1\" class=\"dataframe\">\n",
       "  <thead>\n",
       "    <tr style=\"text-align: right;\">\n",
       "      <th></th>\n",
       "      <th>id</th>\n",
       "      <th>step</th>\n",
       "      <th>transtype</th>\n",
       "      <th>amount</th>\n",
       "      <th>nameOrig</th>\n",
       "      <th>oldbalanceOrg</th>\n",
       "      <th>newbalanceOrig</th>\n",
       "      <th>nameDest</th>\n",
       "      <th>oldbalanceDest</th>\n",
       "      <th>newbalanceDest</th>\n",
       "      <th>isFraud</th>\n",
       "      <th>isFlaggedFraud</th>\n",
       "      <th>suspect_score</th>\n",
       "    </tr>\n",
       "  </thead>\n",
       "  <tbody>\n",
       "  </tbody>\n",
       "</table>\n",
       "</div>"
      ],
      "text/plain": [
       "Empty DataFrame\n",
       "Columns: [id, step, transtype, amount, nameOrig, oldbalanceOrg, newbalanceOrig, nameDest, oldbalanceDest, newbalanceDest, isFraud, isFlaggedFraud, suspect_score]\n",
       "Index: []"
      ]
     },
     "execution_count": 31,
     "metadata": {},
     "output_type": "execute_result"
    }
   ],
   "source": [
    "mask = (paysim_data_df[\"isFraud\"] == 1) & (paysim_data_df[\"suspect_score\"] == 0)\n",
    "paysim_data_df[mask].head(20)"
   ]
  },
  {
   "cell_type": "markdown",
   "metadata": {},
   "source": [
    "OK I should set my limit to `<=` for `amount` doing that above"
   ]
  },
  {
   "cell_type": "code",
   "execution_count": 32,
   "metadata": {
    "execution": {
     "iopub.execute_input": "2020-10-24T21:04:50.694412Z",
     "iopub.status.busy": "2020-10-24T21:04:50.694253Z",
     "iopub.status.idle": "2020-10-24T21:04:50.699359Z",
     "shell.execute_reply": "2020-10-24T21:04:50.698697Z",
     "shell.execute_reply.started": "2020-10-24T21:04:50.694391Z"
    }
   },
   "outputs": [
    {
     "data": {
      "text/plain": [
       "(0, 13)"
      ]
     },
     "execution_count": 32,
     "metadata": {},
     "output_type": "execute_result"
    }
   ],
   "source": [
    "paysim_data_df[mask].shape"
   ]
  },
  {
   "cell_type": "markdown",
   "metadata": {},
   "source": [
    "one-hot-encoding `type`"
   ]
  },
  {
   "cell_type": "code",
   "execution_count": 33,
   "metadata": {
    "execution": {
     "iopub.execute_input": "2020-10-24T21:04:50.700394Z",
     "iopub.status.busy": "2020-10-24T21:04:50.700243Z",
     "iopub.status.idle": "2020-10-24T21:04:50.831195Z",
     "shell.execute_reply": "2020-10-24T21:04:50.830587Z",
     "shell.execute_reply.started": "2020-10-24T21:04:50.700375Z"
    }
   },
   "outputs": [
    {
     "data": {
      "text/plain": [
       "(6362621, 1)"
      ]
     },
     "execution_count": 33,
     "metadata": {},
     "output_type": "execute_result"
    }
   ],
   "source": [
    "ohe = OneHotEncoder(sparse=False)\n",
    "\n",
    "np_data_type = np.array(paysim_data_df[\"transtype\"])\n",
    "np_data_type = np_data_type.reshape(-1,1)\n",
    "np_data_type.shape\n",
    "\n"
   ]
  },
  {
   "cell_type": "code",
   "execution_count": 34,
   "metadata": {
    "execution": {
     "iopub.execute_input": "2020-10-24T21:04:50.832171Z",
     "iopub.status.busy": "2020-10-24T21:04:50.832022Z",
     "iopub.status.idle": "2020-10-24T21:04:52.538976Z",
     "shell.execute_reply": "2020-10-24T21:04:52.538196Z",
     "shell.execute_reply.started": "2020-10-24T21:04:50.832153Z"
    }
   },
   "outputs": [
    {
     "data": {
      "text/plain": [
       "(6362621, 5)"
      ]
     },
     "execution_count": 34,
     "metadata": {},
     "output_type": "execute_result"
    }
   ],
   "source": [
    "np_data_type_ohe = ohe.fit_transform(np_data_type)\n",
    "np_data_type_ohe.shape"
   ]
  },
  {
   "cell_type": "code",
   "execution_count": 35,
   "metadata": {
    "execution": {
     "iopub.execute_input": "2020-10-24T21:04:52.540607Z",
     "iopub.status.busy": "2020-10-24T21:04:52.540358Z",
     "iopub.status.idle": "2020-10-24T21:04:54.078684Z",
     "shell.execute_reply": "2020-10-24T21:04:54.077959Z",
     "shell.execute_reply.started": "2020-10-24T21:04:52.540577Z"
    }
   },
   "outputs": [
    {
     "data": {
      "text/html": [
       "<div>\n",
       "<style scoped>\n",
       "    .dataframe tbody tr th:only-of-type {\n",
       "        vertical-align: middle;\n",
       "    }\n",
       "\n",
       "    .dataframe tbody tr th {\n",
       "        vertical-align: top;\n",
       "    }\n",
       "\n",
       "    .dataframe thead th {\n",
       "        text-align: right;\n",
       "    }\n",
       "</style>\n",
       "<table border=\"1\" class=\"dataframe\">\n",
       "  <thead>\n",
       "    <tr style=\"text-align: right;\">\n",
       "      <th></th>\n",
       "      <th>id</th>\n",
       "      <th>step</th>\n",
       "      <th>transtype</th>\n",
       "      <th>amount</th>\n",
       "      <th>nameOrig</th>\n",
       "      <th>oldbalanceOrg</th>\n",
       "      <th>newbalanceOrig</th>\n",
       "      <th>nameDest</th>\n",
       "      <th>oldbalanceDest</th>\n",
       "      <th>newbalanceDest</th>\n",
       "      <th>isFraud</th>\n",
       "      <th>isFlaggedFraud</th>\n",
       "      <th>suspect_score</th>\n",
       "      <th>transtype_CASH_IN</th>\n",
       "      <th>transtype_CASH_OUT</th>\n",
       "      <th>transtype_DEBIT</th>\n",
       "      <th>transtype_PAYMENT</th>\n",
       "      <th>transtype_TRANSFER</th>\n",
       "    </tr>\n",
       "  </thead>\n",
       "  <tbody>\n",
       "    <tr>\n",
       "      <th>0</th>\n",
       "      <td>1</td>\n",
       "      <td>1</td>\n",
       "      <td>PAYMENT</td>\n",
       "      <td>9839.64</td>\n",
       "      <td>C1231006815</td>\n",
       "      <td>170136.0</td>\n",
       "      <td>160296.36</td>\n",
       "      <td>M1979787155</td>\n",
       "      <td>0.0</td>\n",
       "      <td>0.0</td>\n",
       "      <td>0</td>\n",
       "      <td>0</td>\n",
       "      <td>0.0</td>\n",
       "      <td>0.0</td>\n",
       "      <td>0.0</td>\n",
       "      <td>0.0</td>\n",
       "      <td>1.0</td>\n",
       "      <td>0.0</td>\n",
       "    </tr>\n",
       "    <tr>\n",
       "      <th>1</th>\n",
       "      <td>2</td>\n",
       "      <td>1</td>\n",
       "      <td>PAYMENT</td>\n",
       "      <td>1864.28</td>\n",
       "      <td>C1666544295</td>\n",
       "      <td>21249.0</td>\n",
       "      <td>19384.72</td>\n",
       "      <td>M2044282225</td>\n",
       "      <td>0.0</td>\n",
       "      <td>0.0</td>\n",
       "      <td>0</td>\n",
       "      <td>0</td>\n",
       "      <td>0.0</td>\n",
       "      <td>0.0</td>\n",
       "      <td>0.0</td>\n",
       "      <td>0.0</td>\n",
       "      <td>1.0</td>\n",
       "      <td>0.0</td>\n",
       "    </tr>\n",
       "    <tr>\n",
       "      <th>2</th>\n",
       "      <td>3</td>\n",
       "      <td>1</td>\n",
       "      <td>TRANSFER</td>\n",
       "      <td>181.00</td>\n",
       "      <td>C1305486145</td>\n",
       "      <td>181.0</td>\n",
       "      <td>0.00</td>\n",
       "      <td>C553264065</td>\n",
       "      <td>0.0</td>\n",
       "      <td>0.0</td>\n",
       "      <td>1</td>\n",
       "      <td>0</td>\n",
       "      <td>1.0</td>\n",
       "      <td>0.0</td>\n",
       "      <td>0.0</td>\n",
       "      <td>0.0</td>\n",
       "      <td>0.0</td>\n",
       "      <td>1.0</td>\n",
       "    </tr>\n",
       "    <tr>\n",
       "      <th>3</th>\n",
       "      <td>4</td>\n",
       "      <td>1</td>\n",
       "      <td>CASH_OUT</td>\n",
       "      <td>181.00</td>\n",
       "      <td>C840083671</td>\n",
       "      <td>181.0</td>\n",
       "      <td>0.00</td>\n",
       "      <td>C38997010</td>\n",
       "      <td>21182.0</td>\n",
       "      <td>0.0</td>\n",
       "      <td>1</td>\n",
       "      <td>0</td>\n",
       "      <td>1.0</td>\n",
       "      <td>0.0</td>\n",
       "      <td>1.0</td>\n",
       "      <td>0.0</td>\n",
       "      <td>0.0</td>\n",
       "      <td>0.0</td>\n",
       "    </tr>\n",
       "    <tr>\n",
       "      <th>4</th>\n",
       "      <td>5</td>\n",
       "      <td>1</td>\n",
       "      <td>PAYMENT</td>\n",
       "      <td>11668.14</td>\n",
       "      <td>C2048537720</td>\n",
       "      <td>41554.0</td>\n",
       "      <td>29885.86</td>\n",
       "      <td>M1230701703</td>\n",
       "      <td>0.0</td>\n",
       "      <td>0.0</td>\n",
       "      <td>0</td>\n",
       "      <td>0</td>\n",
       "      <td>0.0</td>\n",
       "      <td>0.0</td>\n",
       "      <td>0.0</td>\n",
       "      <td>0.0</td>\n",
       "      <td>1.0</td>\n",
       "      <td>0.0</td>\n",
       "    </tr>\n",
       "  </tbody>\n",
       "</table>\n",
       "</div>"
      ],
      "text/plain": [
       "   id  step transtype    amount     nameOrig  oldbalanceOrg  newbalanceOrig  \\\n",
       "0   1     1   PAYMENT   9839.64  C1231006815       170136.0       160296.36   \n",
       "1   2     1   PAYMENT   1864.28  C1666544295        21249.0        19384.72   \n",
       "2   3     1  TRANSFER    181.00  C1305486145          181.0            0.00   \n",
       "3   4     1  CASH_OUT    181.00   C840083671          181.0            0.00   \n",
       "4   5     1   PAYMENT  11668.14  C2048537720        41554.0        29885.86   \n",
       "\n",
       "      nameDest  oldbalanceDest  newbalanceDest  isFraud  isFlaggedFraud  \\\n",
       "0  M1979787155             0.0             0.0        0               0   \n",
       "1  M2044282225             0.0             0.0        0               0   \n",
       "2   C553264065             0.0             0.0        1               0   \n",
       "3    C38997010         21182.0             0.0        1               0   \n",
       "4  M1230701703             0.0             0.0        0               0   \n",
       "\n",
       "   suspect_score  transtype_CASH_IN  transtype_CASH_OUT  transtype_DEBIT  \\\n",
       "0            0.0                0.0                 0.0              0.0   \n",
       "1            0.0                0.0                 0.0              0.0   \n",
       "2            1.0                0.0                 0.0              0.0   \n",
       "3            1.0                0.0                 1.0              0.0   \n",
       "4            0.0                0.0                 0.0              0.0   \n",
       "\n",
       "   transtype_PAYMENT  transtype_TRANSFER  \n",
       "0                1.0                 0.0  \n",
       "1                1.0                 0.0  \n",
       "2                0.0                 1.0  \n",
       "3                0.0                 0.0  \n",
       "4                1.0                 0.0  "
      ]
     },
     "execution_count": 35,
     "metadata": {},
     "output_type": "execute_result"
    }
   ],
   "source": [
    "np_data_type_ohe_df= pd.DataFrame(np_data_type_ohe,\n",
    "                           columns=ohe.get_feature_names(['transtype']), #create meaningful column names\n",
    "                           index=paysim_data_df.index) #keep the same index values\n",
    "\n",
    "#np_data_type_ohe_df.head()\n",
    "\n",
    "#combine continuous and categorical data\n",
    "\n",
    "paysim_data_df = pd.concat([paysim_data_df, np_data_type_ohe_df], axis=1)\n",
    "paysim_data_df.head()"
   ]
  },
  {
   "cell_type": "markdown",
   "metadata": {},
   "source": [
    "A plot to help me understand how mixed together `isFraud==0` is with `isFraud==1` as a function of `type` and `amount`"
   ]
  },
  {
   "cell_type": "code",
   "execution_count": 36,
   "metadata": {
    "execution": {
     "iopub.execute_input": "2020-10-24T21:04:54.088237Z",
     "iopub.status.busy": "2020-10-24T21:04:54.082142Z",
     "iopub.status.idle": "2020-10-24T21:04:54.094467Z",
     "shell.execute_reply": "2020-10-24T21:04:54.093907Z",
     "shell.execute_reply.started": "2020-10-24T21:04:54.088181Z"
    }
   },
   "outputs": [],
   "source": [
    "#NUM_OF_RANDOM_\n",
    "S = 6000\n",
    "\n",
    "#plot_data_df = data_df[[\"step\",\"isFraud\",\"amount\",\"type_CASH_IN\",\"type_CASH_OUT\",\"type_DEBIT\",\"type_PAYMENT\",\"type_TRANSFER\"]]\n",
    "#limit to the first time step\n",
    "#plot_data_df = plot_data_df[ plot_data_df[\"step\"] == 1 ]\n",
    "#np_plot_data_df_indices = list(np.random.permutation(np.array(list(plot_data_df.index)))[:5000])\n",
    "#sns.pairplot(plot_data_df.iloc[[np_plot_data_df_indices]], hue='isFraud');"
   ]
  },
  {
   "cell_type": "code",
   "execution_count": 37,
   "metadata": {
    "execution": {
     "iopub.execute_input": "2020-10-24T21:04:54.099358Z",
     "iopub.status.busy": "2020-10-24T21:04:54.097792Z",
     "iopub.status.idle": "2020-10-24T21:04:54.104144Z",
     "shell.execute_reply": "2020-10-24T21:04:54.103575Z",
     "shell.execute_reply.started": "2020-10-24T21:04:54.099331Z"
    }
   },
   "outputs": [],
   "source": [
    "#This code is generating the index numbers for data frame plot_data_df\n",
    "#then randomizing the list containing those indices\n",
    "#then picking the first NUM_OF_RANDOM_SAMPLES from that list\n",
    "#this list of randomly picked indices will be used to pick the corresponding\n",
    "#rows out of plot_data_df to be used in the pair plot\n",
    "#to plot all 6M rows is not practical (on this machine) \n",
    "#plot_data_df_indices = list(plot_data_df.index)\n",
    "#plot_data_df_indices = np.random.permutation(plot_data_df_indices)\n",
    "#plot_data_df_indices = plot_data_df_indices[:NUM_OF_RANDOM_SAMPLES]\n",
    "#plot_data_df_indices = list(plot_data_df_indices)\n"
   ]
  },
  {
   "cell_type": "code",
   "execution_count": 38,
   "metadata": {
    "execution": {
     "iopub.execute_input": "2020-10-24T21:04:54.109149Z",
     "iopub.status.busy": "2020-10-24T21:04:54.107457Z",
     "iopub.status.idle": "2020-10-24T21:04:54.113772Z",
     "shell.execute_reply": "2020-10-24T21:04:54.113244Z",
     "shell.execute_reply.started": "2020-10-24T21:04:54.109116Z"
    }
   },
   "outputs": [],
   "source": [
    "#plot_data_df = plot_data_df.iloc[plot_data_df_indices]"
   ]
  },
  {
   "cell_type": "code",
   "execution_count": 39,
   "metadata": {
    "execution": {
     "iopub.execute_input": "2020-10-24T21:04:54.119328Z",
     "iopub.status.busy": "2020-10-24T21:04:54.117184Z",
     "iopub.status.idle": "2020-10-24T21:04:54.122202Z",
     "shell.execute_reply": "2020-10-24T21:04:54.121679Z",
     "shell.execute_reply.started": "2020-10-24T21:04:54.119287Z"
    }
   },
   "outputs": [],
   "source": [
    "#plot_data_df.shape"
   ]
  },
  {
   "cell_type": "code",
   "execution_count": 40,
   "metadata": {
    "execution": {
     "iopub.execute_input": "2020-10-24T21:04:54.123151Z",
     "iopub.status.busy": "2020-10-24T21:04:54.122965Z",
     "iopub.status.idle": "2020-10-24T21:04:54.128432Z",
     "shell.execute_reply": "2020-10-24T21:04:54.127896Z",
     "shell.execute_reply.started": "2020-10-24T21:04:54.123129Z"
    }
   },
   "outputs": [],
   "source": [
    "#plot_data_df.head()"
   ]
  },
  {
   "cell_type": "code",
   "execution_count": 41,
   "metadata": {
    "execution": {
     "iopub.execute_input": "2020-10-24T21:04:54.129351Z",
     "iopub.status.busy": "2020-10-24T21:04:54.129186Z",
     "iopub.status.idle": "2020-10-24T21:04:54.136312Z",
     "shell.execute_reply": "2020-10-24T21:04:54.135757Z",
     "shell.execute_reply.started": "2020-10-24T21:04:54.129330Z"
    }
   },
   "outputs": [],
   "source": [
    "#sns.pairplot(plot_data_df, hue='isFraud');"
   ]
  },
  {
   "cell_type": "markdown",
   "metadata": {},
   "source": [
    "Not looking like good parameters :("
   ]
  },
  {
   "cell_type": "markdown",
   "metadata": {},
   "source": [
    "## Baseline Model"
   ]
  },
  {
   "cell_type": "markdown",
   "metadata": {},
   "source": [
    "Random Guessing (50% chance of `isFraud==1` and 50% chance that `isFraud==0` will be the baseline model"
   ]
  },
  {
   "cell_type": "code",
   "execution_count": 42,
   "metadata": {
    "execution": {
     "iopub.execute_input": "2020-10-24T21:04:54.137277Z",
     "iopub.status.busy": "2020-10-24T21:04:54.137111Z",
     "iopub.status.idle": "2020-10-24T21:04:54.144584Z",
     "shell.execute_reply": "2020-10-24T21:04:54.143921Z",
     "shell.execute_reply.started": "2020-10-24T21:04:54.137256Z"
    }
   },
   "outputs": [
    {
     "data": {
      "text/plain": [
       "(6362621, 18)"
      ]
     },
     "execution_count": 42,
     "metadata": {},
     "output_type": "execute_result"
    }
   ],
   "source": [
    "paysim_data_df.shape"
   ]
  },
  {
   "cell_type": "code",
   "execution_count": 43,
   "metadata": {
    "execution": {
     "iopub.execute_input": "2020-10-24T21:04:54.145873Z",
     "iopub.status.busy": "2020-10-24T21:04:54.145625Z",
     "iopub.status.idle": "2020-10-24T21:04:56.652560Z",
     "shell.execute_reply": "2020-10-24T21:04:56.651784Z",
     "shell.execute_reply.started": "2020-10-24T21:04:54.145835Z"
    }
   },
   "outputs": [
    {
     "data": {
      "text/plain": [
       "((636263,), (636263,), (636263, 7), (318131,), (318132,))"
      ]
     },
     "execution_count": 43,
     "metadata": {},
     "output_type": "execute_result"
    }
   ],
   "source": [
    "X = paysim_data_df[[\"step\",\"amount\",\"transtype_CASH_IN\",\"transtype_CASH_OUT\",\"transtype_DEBIT\",\"transtype_PAYMENT\",\"transtype_TRANSFER\"]]\n",
    "Y = paysim_data_df[\"isFraud\"]\n",
    "X_train, X_test, Y_train, Y_test = train_test_split(X, Y, test_size=TEST_SIZE, random_state=RANDOM_STATE)\n",
    "\n",
    "number_of_test_samples = X_test.shape[0]\n",
    "y_pred_zero = np.zeros(number_of_test_samples // 2)\n",
    "y_pred_one = np.ones( number_of_test_samples -  y_pred_zero.shape[0] )\n",
    "\n",
    "y_pred = np.concatenate((y_pred_zero, y_pred_one),axis=0)\n",
    "y_pred = y_pred.reshape(-1,)\n",
    "y_pred = np.random.permutation(y_pred)\n",
    "\n",
    "\n",
    "#print(type(y_pred))\n",
    "#print(type(Y_test))\n",
    "Y_test.shape, y_pred.shape,X_test.shape,y_pred_zero.shape,y_pred_one.shape"
   ]
  },
  {
   "cell_type": "markdown",
   "metadata": {},
   "source": [
    "Scoring the baseline model"
   ]
  },
  {
   "cell_type": "code",
   "execution_count": 44,
   "metadata": {
    "execution": {
     "iopub.execute_input": "2020-10-24T21:04:56.653893Z",
     "iopub.status.busy": "2020-10-24T21:04:56.653716Z",
     "iopub.status.idle": "2020-10-24T21:04:57.794541Z",
     "shell.execute_reply": "2020-10-24T21:04:57.793780Z",
     "shell.execute_reply.started": "2020-10-24T21:04:56.653870Z"
    }
   },
   "outputs": [
    {
     "name": "stdout",
     "output_type": "stream",
     "text": [
      "              precision    recall  f1-score   support\n",
      "\n",
      "    NotFraud       1.00      0.50      0.67    635439\n",
      "       Fraud       0.00      0.50      0.00       824\n",
      "\n",
      "    accuracy                           0.50    636263\n",
      "   macro avg       0.50      0.50      0.33    636263\n",
      "weighted avg       1.00      0.50      0.67    636263\n",
      "\n"
     ]
    }
   ],
   "source": [
    "target_names = [\"NotFraud\",\"Fraud\"]\n",
    "\n",
    "print(classification_report(Y_test, y_pred,target_names=target_names))"
   ]
  },
  {
   "cell_type": "markdown",
   "metadata": {},
   "source": [
    "Thoughts about random guessing model:\n",
    "\n",
    "Precision (TP/(TP+FP)) and recall (TP/(TP+FN)) are high for the `NotFraud` class because most (99.97%) of the response variables in the test set are `NotFraud`. Precision and recall are very low for `Fraud` because there are very few chances to guess right and the random guessing model does not perform well in identifying them.\n",
    "\n",
    "Accuracy is meaningless for the same reason: It's easy to get 50% right as the vast majority of the results belong to one class. \n",
    "\n",
    "TODO: generate confusion matrix which will help illustrate this."
   ]
  },
  {
   "cell_type": "markdown",
   "metadata": {},
   "source": [
    "## Model Selection"
   ]
  },
  {
   "cell_type": "markdown",
   "metadata": {},
   "source": [
    "Just some notes about what model to select:\n",
    "\n",
    "**Logistic Models**\n",
    "For small datasets, ‘liblinear’ is a good choice, whereas ‘sag’ and ‘saga’ are faster for large ones.\n",
    "\n",
    "Note that ‘sag’ and ‘saga’ fast convergence is only guaranteed on features with approximately the same scale. You can preprocess the data with a scaler from sklearn.preprocessing.\n",
    "\n"
   ]
  },
  {
   "cell_type": "markdown",
   "metadata": {},
   "source": [
    "### Modeling Ideas\n",
    "\n",
    "Try these:\n",
    "\n",
    "* use stratified train/val/test split\n",
    "* use over sampling\n",
    "* use SMOTE\n",
    "* use ADASYN\n",
    "\n",
    "* I'm thinking a logistic model will work as it's a binary classification that we're trying to do. Try to ensemble this model if required\n",
    "* If that doesn't work try a gradient boosted model (of logistic models)\n",
    "* Do a grid search to find the right hyper parameters\n"
   ]
  },
  {
   "cell_type": "code",
   "execution_count": 45,
   "metadata": {
    "execution": {
     "iopub.execute_input": "2020-10-24T21:04:57.795630Z",
     "iopub.status.busy": "2020-10-24T21:04:57.795458Z",
     "iopub.status.idle": "2020-10-24T21:05:01.035295Z",
     "shell.execute_reply": "2020-10-24T21:05:01.034159Z",
     "shell.execute_reply.started": "2020-10-24T21:04:57.795610Z"
    }
   },
   "outputs": [],
   "source": [
    "#Since I'm using values that are either 1 or 0 along with amount which is a very large number, will normalize the data\n",
    "#to aid gradient descent\n",
    "normalizer = StandardScaler()\n",
    "X_train_normal = normalizer.fit_transform(X_train.values)\n",
    "X_test_normal = normalizer.transform(X_test.values)\n",
    "\n",
    "\n",
    "X_train_normal = pd.DataFrame(X_train_normal)\n",
    "X_test_normal = pd.DataFrame(X_test_normal)\n",
    "Y_train = pd.DataFrame(Y_train)\n",
    "#before running on the gpu I need to convert the pd df's to cudf df's\n",
    "X_train_norm_cdf = cudf.from_pandas(X_train_normal)\n",
    "X_test_norm_cdf = cudf.from_pandas(X_test_normal)\n",
    "Y_train_cdf = cudf.from_pandas(Y_train)\n",
    "\n"
   ]
  },
  {
   "cell_type": "code",
   "execution_count": 46,
   "metadata": {
    "execution": {
     "iopub.execute_input": "2020-10-24T21:05:01.036989Z",
     "iopub.status.busy": "2020-10-24T21:05:01.036794Z",
     "iopub.status.idle": "2020-10-24T21:05:01.528255Z",
     "shell.execute_reply": "2020-10-24T21:05:01.527477Z",
     "shell.execute_reply.started": "2020-10-24T21:05:01.036963Z"
    }
   },
   "outputs": [
    {
     "name": "stdout",
     "output_type": "stream",
     "text": [
      "training time is 0:00:00.486165\n"
     ]
    }
   ],
   "source": [
    "#logisticRModel = LogisticRegressionCV(Cs=100,cv=5,solver=\"sag\",n_jobs=-1,random_state=RANDOM_STATE)\n",
    "##logisticRModel = LogisticRegression(C=100,solver=\"sag\",n_jobs=-1,random_state=RANDOM_STATE)\n",
    "logisticRModel = gpuLogisticRegression(C=100.0,max_iter=2000)\n",
    "\n",
    "start_time = datetime.datetime.now()\n",
    "logisticRModel.fit(X_train_norm_cdf,Y_train_cdf)\n",
    "end_time = datetime.datetime.now()\n",
    "print(\"training time is {}\".format(end_time - start_time))"
   ]
  },
  {
   "cell_type": "code",
   "execution_count": 47,
   "metadata": {
    "execution": {
     "iopub.execute_input": "2020-10-24T21:05:01.529346Z",
     "iopub.status.busy": "2020-10-24T21:05:01.529168Z",
     "iopub.status.idle": "2020-10-24T21:05:01.539926Z",
     "shell.execute_reply": "2020-10-24T21:05:01.539134Z",
     "shell.execute_reply.started": "2020-10-24T21:05:01.529326Z"
    }
   },
   "outputs": [
    {
     "data": {
      "text/plain": [
       "cudf.core.series.Series"
      ]
     },
     "execution_count": 47,
     "metadata": {},
     "output_type": "execute_result"
    }
   ],
   "source": [
    "Y_pred = logisticRModel.predict(X_test_norm_cdf)\n",
    "type(Y_pred)"
   ]
  },
  {
   "cell_type": "code",
   "execution_count": 48,
   "metadata": {
    "execution": {
     "iopub.execute_input": "2020-10-24T21:05:01.541039Z",
     "iopub.status.busy": "2020-10-24T21:05:01.540861Z",
     "iopub.status.idle": "2020-10-24T21:05:02.211202Z",
     "shell.execute_reply": "2020-10-24T21:05:02.210644Z",
     "shell.execute_reply.started": "2020-10-24T21:05:01.541019Z"
    }
   },
   "outputs": [
    {
     "name": "stdout",
     "output_type": "stream",
     "text": [
      "<class 'numpy.ndarray'> (636263,)\n",
      "              precision    recall  f1-score   support\n",
      "\n",
      "    NotFraud       1.00      1.00      1.00    635439\n",
      "       Fraud       0.00      0.00      0.00       824\n",
      "\n",
      "    accuracy                           1.00    636263\n",
      "   macro avg       0.50      0.50      0.50    636263\n",
      "weighted avg       1.00      1.00      1.00    636263\n",
      "\n"
     ]
    }
   ],
   "source": [
    "Y_pred = Y_pred.to_pandas()\n",
    "Y_pred = np.array(Y_pred)\n",
    "print(type(Y_pred),Y_pred.shape)\n",
    "print(classification_report(Y_test, Y_pred,target_names=target_names))"
   ]
  },
  {
   "cell_type": "markdown",
   "metadata": {},
   "source": [
    "A small logistic model doesn't do any better than random guessing."
   ]
  },
  {
   "cell_type": "code",
   "execution_count": 49,
   "metadata": {
    "execution": {
     "iopub.execute_input": "2020-10-24T21:05:02.212165Z",
     "iopub.status.busy": "2020-10-24T21:05:02.211987Z",
     "iopub.status.idle": "2020-10-24T21:05:02.264164Z",
     "shell.execute_reply": "2020-10-24T21:05:02.263605Z",
     "shell.execute_reply.started": "2020-10-24T21:05:02.212137Z"
    }
   },
   "outputs": [
    {
     "data": {
      "text/plain": [
       "0.9987033605575562"
      ]
     },
     "execution_count": 49,
     "metadata": {},
     "output_type": "execute_result"
    }
   ],
   "source": [
    "logisticRModel.score(X_test_normal,Y_test)"
   ]
  },
  {
   "cell_type": "code",
   "execution_count": null,
   "metadata": {},
   "outputs": [],
   "source": []
  },
  {
   "cell_type": "code",
   "execution_count": 50,
   "metadata": {
    "execution": {
     "iopub.execute_input": "2020-10-24T21:05:02.265131Z",
     "iopub.status.busy": "2020-10-24T21:05:02.264968Z",
     "iopub.status.idle": "2020-10-24T21:05:02.272960Z",
     "shell.execute_reply": "2020-10-24T21:05:02.272454Z",
     "shell.execute_reply.started": "2020-10-24T21:05:02.265112Z"
    }
   },
   "outputs": [
    {
     "data": {
      "text/plain": [
       "0    635439\n",
       "1       824\n",
       "Name: isFraud, dtype: int64"
      ]
     },
     "execution_count": 50,
     "metadata": {},
     "output_type": "execute_result"
    }
   ],
   "source": [
    "Y_test.value_counts()"
   ]
  },
  {
   "cell_type": "code",
   "execution_count": 51,
   "metadata": {
    "execution": {
     "iopub.execute_input": "2020-10-24T21:05:02.273834Z",
     "iopub.status.busy": "2020-10-24T21:05:02.273687Z",
     "iopub.status.idle": "2020-10-24T21:05:02.287883Z",
     "shell.execute_reply": "2020-10-24T21:05:02.287316Z",
     "shell.execute_reply.started": "2020-10-24T21:05:02.273815Z"
    }
   },
   "outputs": [
    {
     "data": {
      "text/plain": [
       "0    636262\n",
       "1         1\n",
       "dtype: int64"
      ]
     },
     "execution_count": 51,
     "metadata": {},
     "output_type": "execute_result"
    }
   ],
   "source": [
    "#Y_pred_df = pd.DataFrame(Y_pred)\n",
    "Y_pred_df = pd.DataFrame(Y_pred)\n",
    "Y_pred_df.value_counts()"
   ]
  },
  {
   "cell_type": "code",
   "execution_count": 52,
   "metadata": {
    "execution": {
     "iopub.execute_input": "2020-10-24T21:05:02.288739Z",
     "iopub.status.busy": "2020-10-24T21:05:02.288589Z",
     "iopub.status.idle": "2020-10-24T21:05:02.296372Z",
     "shell.execute_reply": "2020-10-24T21:05:02.295830Z",
     "shell.execute_reply.started": "2020-10-24T21:05:02.288721Z"
    }
   },
   "outputs": [
    {
     "data": {
      "text/plain": [
       "0    0.659883\n",
       "1    0.056076\n",
       "2    0.634798\n",
       "3    1.564377\n",
       "4    0.122446\n",
       "5    0.721205\n",
       "6    1.304417\n",
       "dtype: float64"
      ]
     },
     "execution_count": 52,
     "metadata": {},
     "output_type": "execute_result"
    }
   ],
   "source": [
    "logisticRModel.coef_"
   ]
  },
  {
   "cell_type": "markdown",
   "metadata": {},
   "source": [
    "Thoughts about baseline logistic model:\n",
    "\n",
    "Precision (TP/(TP+FP)) and recall (TP/(TP+FN)) are high for the `NotFraud` because most(99.97%) of the response variables in the test set are `NotFraud`. Precision and recall are very low for `Fraud` because there are very few chances to guess right and the random guessing model does not perform well in identify them.\n",
    "\n",
    "Accuracy is meaningless for the same reason: It's easy to get 50% right as the vast majority of the results belong to one class. \n",
    "\n",
    "TODO: generate confusion matrix which will help illustrate this."
   ]
  },
  {
   "cell_type": "markdown",
   "metadata": {},
   "source": [
    "### Bigger Logistic Model\n",
    "Building a model that includes more features, including the engineered feature `suspect_score`\n"
   ]
  },
  {
   "cell_type": "code",
   "execution_count": 53,
   "metadata": {
    "execution": {
     "iopub.execute_input": "2020-10-24T21:05:02.297340Z",
     "iopub.status.busy": "2020-10-24T21:05:02.297151Z",
     "iopub.status.idle": "2020-10-24T21:05:04.512459Z",
     "shell.execute_reply": "2020-10-24T21:05:04.511945Z",
     "shell.execute_reply.started": "2020-10-24T21:05:02.297320Z"
    }
   },
   "outputs": [],
   "source": [
    "X = paysim_data_df[[\"step\",\"amount\",\"oldbalanceOrg\",\n",
    "                      \"newbalanceOrig\",\n",
    "                      \"oldbalanceDest\",\n",
    "                      \"newbalanceDest\",\n",
    "                      \"suspect_score\",\n",
    "                      \"transtype_CASH_IN\",\n",
    "                      \"transtype_CASH_OUT\",\n",
    "                      \"transtype_DEBIT\",\n",
    "                      \"transtype_PAYMENT\",\n",
    "                      \"transtype_TRANSFER\"]]\n",
    "Y = paysim_data_df[\"isFraud\"]\n",
    "X_train, X_test, Y_train, Y_test = train_test_split(X, Y,test_size=TEST_SIZE, random_state=RANDOM_STATE)\n",
    "\n",
    "X_train_normal = normalizer.fit_transform(X_train.values)\n",
    "X_test_normal = normalizer.transform(X_test.values)\n"
   ]
  },
  {
   "cell_type": "code",
   "execution_count": 54,
   "metadata": {
    "execution": {
     "iopub.execute_input": "2020-10-24T21:05:04.513378Z",
     "iopub.status.busy": "2020-10-24T21:05:04.513218Z",
     "iopub.status.idle": "2020-10-24T21:05:04.905819Z",
     "shell.execute_reply": "2020-10-24T21:05:04.905313Z",
     "shell.execute_reply.started": "2020-10-24T21:05:04.513357Z"
    }
   },
   "outputs": [],
   "source": [
    "#before running on the gpu I need to convert the pd df's to cudf df's\n",
    "X_train_normal = pd.DataFrame(X_train_normal)\n",
    "X_test_normal = pd.DataFrame(X_test_normal)\n",
    "Y_train = pd.DataFrame(Y_train)\n",
    "X_train_norm_cdf = cudf.from_pandas(X_train_normal)\n",
    "X_test_norm_cdf = cudf.from_pandas(X_test_normal)\n",
    "Y_train_cdf = cudf.from_pandas(Y_train)"
   ]
  },
  {
   "cell_type": "code",
   "execution_count": 55,
   "metadata": {
    "execution": {
     "iopub.execute_input": "2020-10-24T21:05:04.906700Z",
     "iopub.status.busy": "2020-10-24T21:05:04.906547Z",
     "iopub.status.idle": "2020-10-24T21:05:05.098186Z",
     "shell.execute_reply": "2020-10-24T21:05:05.097735Z",
     "shell.execute_reply.started": "2020-10-24T21:05:04.906679Z"
    }
   },
   "outputs": [
    {
     "name": "stdout",
     "output_type": "stream",
     "text": [
      "training time is 0:00:00.187838\n"
     ]
    }
   ],
   "source": [
    "logisticRModel2 = gpuLogisticRegression(C=100.0,max_iter=2000)\n",
    "\n",
    "start_time = datetime.datetime.now()\n",
    "logisticRModel2.fit(X_train_norm_cdf,Y_train_cdf)\n",
    "end_time = datetime.datetime.now()\n",
    "print(\"training time is {}\".format(end_time - start_time))"
   ]
  },
  {
   "cell_type": "code",
   "execution_count": 56,
   "metadata": {
    "execution": {
     "iopub.execute_input": "2020-10-24T21:05:05.099086Z",
     "iopub.status.busy": "2020-10-24T21:05:05.098934Z",
     "iopub.status.idle": "2020-10-24T21:05:05.110685Z",
     "shell.execute_reply": "2020-10-24T21:05:05.110218Z",
     "shell.execute_reply.started": "2020-10-24T21:05:05.099064Z"
    }
   },
   "outputs": [],
   "source": [
    "Y_pred = logisticRModel2.predict(X_test_norm_cdf)"
   ]
  },
  {
   "cell_type": "code",
   "execution_count": 57,
   "metadata": {
    "execution": {
     "iopub.execute_input": "2020-10-24T21:05:05.111584Z",
     "iopub.status.busy": "2020-10-24T21:05:05.111422Z",
     "iopub.status.idle": "2020-10-24T21:05:05.118087Z",
     "shell.execute_reply": "2020-10-24T21:05:05.117631Z",
     "shell.execute_reply.started": "2020-10-24T21:05:05.111564Z"
    }
   },
   "outputs": [
    {
     "name": "stdout",
     "output_type": "stream",
     "text": [
      "<class 'numpy.ndarray'> (636263,)\n"
     ]
    }
   ],
   "source": [
    "Y_pred = Y_pred.to_pandas()\n",
    "Y_pred = np.array(Y_pred)\n",
    "print(type(Y_pred),Y_pred.shape)"
   ]
  },
  {
   "cell_type": "code",
   "execution_count": 58,
   "metadata": {
    "execution": {
     "iopub.execute_input": "2020-10-24T21:05:05.119143Z",
     "iopub.status.busy": "2020-10-24T21:05:05.118988Z",
     "iopub.status.idle": "2020-10-24T21:05:05.782271Z",
     "shell.execute_reply": "2020-10-24T21:05:05.781594Z",
     "shell.execute_reply.started": "2020-10-24T21:05:05.119122Z"
    }
   },
   "outputs": [
    {
     "name": "stdout",
     "output_type": "stream",
     "text": [
      "              precision    recall  f1-score   support\n",
      "\n",
      "    NotFraud       1.00      1.00      1.00    635439\n",
      "       Fraud       0.92      0.15      0.25       824\n",
      "\n",
      "    accuracy                           1.00    636263\n",
      "   macro avg       0.96      0.57      0.63    636263\n",
      "weighted avg       1.00      1.00      1.00    636263\n",
      "\n"
     ]
    }
   ],
   "source": [
    "\n",
    "print(classification_report(Y_test, Y_pred,target_names=target_names))"
   ]
  },
  {
   "cell_type": "markdown",
   "metadata": {},
   "source": [
    "Recall and F1 for the `isFraud==1` class has improved. But I will try the following to see if I can improve further:\n",
    "* oversampling\n",
    "* SMOTE/ADASYN\n",
    "* Boosted model"
   ]
  },
  {
   "cell_type": "markdown",
   "metadata": {},
   "source": [
    "### Oversampling"
   ]
  },
  {
   "cell_type": "code",
   "execution_count": 59,
   "metadata": {
    "execution": {
     "iopub.execute_input": "2020-10-24T21:05:05.783246Z",
     "iopub.status.busy": "2020-10-24T21:05:05.783098Z",
     "iopub.status.idle": "2020-10-24T21:05:10.586978Z",
     "shell.execute_reply": "2020-10-24T21:05:10.585890Z",
     "shell.execute_reply.started": "2020-10-24T21:05:05.783227Z"
    }
   },
   "outputs": [],
   "source": [
    "oversampler = RandomOverSampler(random_state=RANDOM_STATE)\n",
    "\n",
    "\n",
    "X_resampled, Y_resampled = oversampler.fit_sample(X,Y)\n",
    "\n",
    "\n"
   ]
  },
  {
   "cell_type": "code",
   "execution_count": 60,
   "metadata": {
    "execution": {
     "iopub.execute_input": "2020-10-24T21:05:10.613957Z",
     "iopub.status.busy": "2020-10-24T21:05:10.613393Z",
     "iopub.status.idle": "2020-10-24T21:05:10.621590Z",
     "shell.execute_reply": "2020-10-24T21:05:10.620847Z",
     "shell.execute_reply.started": "2020-10-24T21:05:10.613921Z"
    }
   },
   "outputs": [
    {
     "data": {
      "text/plain": [
       "(6362621, 12)"
      ]
     },
     "execution_count": 60,
     "metadata": {},
     "output_type": "execute_result"
    }
   ],
   "source": [
    "X.shape"
   ]
  },
  {
   "cell_type": "code",
   "execution_count": 61,
   "metadata": {
    "execution": {
     "iopub.execute_input": "2020-10-24T21:05:10.622765Z",
     "iopub.status.busy": "2020-10-24T21:05:10.622570Z",
     "iopub.status.idle": "2020-10-24T21:05:10.629089Z",
     "shell.execute_reply": "2020-10-24T21:05:10.628560Z",
     "shell.execute_reply.started": "2020-10-24T21:05:10.622739Z"
    }
   },
   "outputs": [
    {
     "data": {
      "text/plain": [
       "(6362621,)"
      ]
     },
     "execution_count": 61,
     "metadata": {},
     "output_type": "execute_result"
    }
   ],
   "source": [
    "Y.shape"
   ]
  },
  {
   "cell_type": "code",
   "execution_count": 62,
   "metadata": {
    "execution": {
     "iopub.execute_input": "2020-10-24T21:05:10.630155Z",
     "iopub.status.busy": "2020-10-24T21:05:10.629969Z",
     "iopub.status.idle": "2020-10-24T21:05:10.634994Z",
     "shell.execute_reply": "2020-10-24T21:05:10.634482Z",
     "shell.execute_reply.started": "2020-10-24T21:05:10.630131Z"
    }
   },
   "outputs": [
    {
     "data": {
      "text/plain": [
       "(12708816, 12)"
      ]
     },
     "execution_count": 62,
     "metadata": {},
     "output_type": "execute_result"
    }
   ],
   "source": [
    "X_resampled.shape"
   ]
  },
  {
   "cell_type": "code",
   "execution_count": 63,
   "metadata": {
    "execution": {
     "iopub.execute_input": "2020-10-24T21:05:10.636090Z",
     "iopub.status.busy": "2020-10-24T21:05:10.635885Z",
     "iopub.status.idle": "2020-10-24T21:05:10.641168Z",
     "shell.execute_reply": "2020-10-24T21:05:10.640579Z",
     "shell.execute_reply.started": "2020-10-24T21:05:10.636065Z"
    }
   },
   "outputs": [
    {
     "data": {
      "text/plain": [
       "(12708816,)"
      ]
     },
     "execution_count": 63,
     "metadata": {},
     "output_type": "execute_result"
    }
   ],
   "source": [
    "Y_resampled.shape"
   ]
  },
  {
   "cell_type": "code",
   "execution_count": 64,
   "metadata": {
    "execution": {
     "iopub.execute_input": "2020-10-24T21:05:10.642325Z",
     "iopub.status.busy": "2020-10-24T21:05:10.642105Z",
     "iopub.status.idle": "2020-10-24T21:05:16.504058Z",
     "shell.execute_reply": "2020-10-24T21:05:16.503523Z",
     "shell.execute_reply.started": "2020-10-24T21:05:10.642296Z"
    }
   },
   "outputs": [],
   "source": [
    "X_train, X_test, Y_train, Y_test = train_test_split(X_resampled, Y_resampled,test_size=TEST_SIZE, random_state=RANDOM_STATE)\n",
    "\n",
    "X_train_normal = normalizer.fit_transform(X_train.values)\n",
    "X_test_normal = normalizer.transform(X_test.values)\n"
   ]
  },
  {
   "cell_type": "code",
   "execution_count": 65,
   "metadata": {
    "execution": {
     "iopub.execute_input": "2020-10-24T21:05:16.504949Z",
     "iopub.status.busy": "2020-10-24T21:05:16.504804Z",
     "iopub.status.idle": "2020-10-24T21:05:17.247757Z",
     "shell.execute_reply": "2020-10-24T21:05:17.247081Z",
     "shell.execute_reply.started": "2020-10-24T21:05:16.504930Z"
    }
   },
   "outputs": [],
   "source": [
    "#before running on the gpu I need to convert the pd df's to cudf df's\n",
    "X_train_normal = pd.DataFrame(X_train_normal)\n",
    "X_test_normal = pd.DataFrame(X_test_normal)\n",
    "Y_train = pd.DataFrame(Y_train)\n",
    "X_train_norm_cdf = cudf.from_pandas(X_train_normal)\n",
    "X_test_norm_cdf = cudf.from_pandas(X_test_normal)\n",
    "Y_train_cdf = cudf.from_pandas(Y_train)"
   ]
  },
  {
   "cell_type": "code",
   "execution_count": 66,
   "metadata": {
    "execution": {
     "iopub.execute_input": "2020-10-24T21:05:17.248866Z",
     "iopub.status.busy": "2020-10-24T21:05:17.248708Z",
     "iopub.status.idle": "2020-10-24T21:05:17.565272Z",
     "shell.execute_reply": "2020-10-24T21:05:17.564737Z",
     "shell.execute_reply.started": "2020-10-24T21:05:17.248841Z"
    }
   },
   "outputs": [
    {
     "name": "stdout",
     "output_type": "stream",
     "text": [
      "training time is 0:00:00.312225\n"
     ]
    }
   ],
   "source": [
    "logisticRModel3 = gpuLogisticRegression(C=100.0,max_iter=2000)\n",
    "\n",
    "start_time = datetime.datetime.now()\n",
    "logisticRModel3.fit(X_train_norm_cdf,Y_train_cdf)\n",
    "end_time = datetime.datetime.now()\n",
    "print(\"training time is {}\".format(end_time - start_time))"
   ]
  },
  {
   "cell_type": "code",
   "execution_count": 67,
   "metadata": {
    "execution": {
     "iopub.execute_input": "2020-10-24T21:05:17.566119Z",
     "iopub.status.busy": "2020-10-24T21:05:17.565977Z",
     "iopub.status.idle": "2020-10-24T21:05:17.592158Z",
     "shell.execute_reply": "2020-10-24T21:05:17.591602Z",
     "shell.execute_reply.started": "2020-10-24T21:05:17.566101Z"
    }
   },
   "outputs": [],
   "source": [
    "Y_pred = logisticRModel3.predict(X_test_norm_cdf)\n"
   ]
  },
  {
   "cell_type": "code",
   "execution_count": 68,
   "metadata": {
    "execution": {
     "iopub.execute_input": "2020-10-24T21:05:17.593034Z",
     "iopub.status.busy": "2020-10-24T21:05:17.592882Z",
     "iopub.status.idle": "2020-10-24T21:05:17.600536Z",
     "shell.execute_reply": "2020-10-24T21:05:17.599826Z",
     "shell.execute_reply.started": "2020-10-24T21:05:17.593015Z"
    }
   },
   "outputs": [
    {
     "name": "stdout",
     "output_type": "stream",
     "text": [
      "<class 'numpy.ndarray'> (1270882,)\n"
     ]
    }
   ],
   "source": [
    "Y_pred = Y_pred.to_pandas()\n",
    "Y_pred = np.array(Y_pred)\n",
    "print(type(Y_pred),Y_pred.shape)"
   ]
  },
  {
   "cell_type": "code",
   "execution_count": 69,
   "metadata": {
    "execution": {
     "iopub.execute_input": "2020-10-24T21:05:17.601386Z",
     "iopub.status.busy": "2020-10-24T21:05:17.601244Z",
     "iopub.status.idle": "2020-10-24T21:05:19.529950Z",
     "shell.execute_reply": "2020-10-24T21:05:19.529390Z",
     "shell.execute_reply.started": "2020-10-24T21:05:17.601368Z"
    }
   },
   "outputs": [
    {
     "name": "stdout",
     "output_type": "stream",
     "text": [
      "              precision    recall  f1-score   support\n",
      "\n",
      "    NotFraud       0.99      0.96      0.98    635907\n",
      "       Fraud       0.96      0.99      0.98    634975\n",
      "\n",
      "    accuracy                           0.98   1270882\n",
      "   macro avg       0.98      0.98      0.98   1270882\n",
      "weighted avg       0.98      0.98      0.98   1270882\n",
      "\n"
     ]
    }
   ],
   "source": [
    "print(classification_report(Y_test, Y_pred,target_names=target_names))"
   ]
  },
  {
   "cell_type": "markdown",
   "metadata": {},
   "source": [
    "### SMOTE\n"
   ]
  },
  {
   "cell_type": "code",
   "execution_count": 70,
   "metadata": {
    "execution": {
     "iopub.execute_input": "2020-10-24T21:05:19.530869Z",
     "iopub.status.busy": "2020-10-24T21:05:19.530714Z",
     "iopub.status.idle": "2020-10-24T21:06:03.170707Z",
     "shell.execute_reply": "2020-10-24T21:06:03.170168Z",
     "shell.execute_reply.started": "2020-10-24T21:05:19.530850Z"
    }
   },
   "outputs": [],
   "source": [
    "smoter = SMOTE(random_state=RANDOM_STATE)\n",
    "X_smoted,Y_smoted = smoter.fit_sample(X,Y)\n"
   ]
  },
  {
   "cell_type": "code",
   "execution_count": 71,
   "metadata": {
    "execution": {
     "iopub.execute_input": "2020-10-24T21:06:03.175159Z",
     "iopub.status.busy": "2020-10-24T21:06:03.174999Z",
     "iopub.status.idle": "2020-10-24T21:06:07.625453Z",
     "shell.execute_reply": "2020-10-24T21:06:07.624947Z",
     "shell.execute_reply.started": "2020-10-24T21:06:03.175137Z"
    }
   },
   "outputs": [],
   "source": [
    "X_train, X_test, Y_train, Y_test = train_test_split(X_smoted, Y_smoted,test_size=TEST_SIZE, random_state=RANDOM_STATE)\n",
    "X_train_normal = normalizer.fit_transform(X_train.values)\n",
    "X_test_normal = normalizer.transform(X_test.values)\n"
   ]
  },
  {
   "cell_type": "code",
   "execution_count": 72,
   "metadata": {
    "execution": {
     "iopub.execute_input": "2020-10-24T21:06:07.626740Z",
     "iopub.status.busy": "2020-10-24T21:06:07.626587Z",
     "iopub.status.idle": "2020-10-24T21:06:08.400771Z",
     "shell.execute_reply": "2020-10-24T21:06:08.400191Z",
     "shell.execute_reply.started": "2020-10-24T21:06:07.626719Z"
    }
   },
   "outputs": [],
   "source": [
    "#before running on the gpu I need to convert the pd df's to cudf df's\n",
    "X_train_normal = pd.DataFrame(X_train_normal)\n",
    "X_test_normal = pd.DataFrame(X_test_normal)\n",
    "Y_train = pd.DataFrame(Y_train)\n",
    "X_train_norm_cdf = cudf.from_pandas(X_train_normal)\n",
    "X_test_norm_cdf = cudf.from_pandas(X_test_normal)\n",
    "Y_train_cdf = cudf.from_pandas(Y_train)"
   ]
  },
  {
   "cell_type": "code",
   "execution_count": 73,
   "metadata": {
    "execution": {
     "iopub.execute_input": "2020-10-24T21:06:08.401687Z",
     "iopub.status.busy": "2020-10-24T21:06:08.401541Z",
     "iopub.status.idle": "2020-10-24T21:06:08.678013Z",
     "shell.execute_reply": "2020-10-24T21:06:08.677532Z",
     "shell.execute_reply.started": "2020-10-24T21:06:08.401668Z"
    }
   },
   "outputs": [
    {
     "name": "stdout",
     "output_type": "stream",
     "text": [
      "training time is 0:00:00.272704\n"
     ]
    }
   ],
   "source": [
    "logisticRModel4 = gpuLogisticRegression(C=100.0,max_iter=2000)\n",
    "start_time = datetime.datetime.now()\n",
    "logisticRModel4.fit(X_train_norm_cdf,Y_train_cdf)\n",
    "end_time = datetime.datetime.now()\n",
    "print(\"training time is {}\".format(end_time - start_time))"
   ]
  },
  {
   "cell_type": "code",
   "execution_count": 74,
   "metadata": {
    "execution": {
     "iopub.execute_input": "2020-10-24T21:06:08.678839Z",
     "iopub.status.busy": "2020-10-24T21:06:08.678697Z",
     "iopub.status.idle": "2020-10-24T21:06:08.694110Z",
     "shell.execute_reply": "2020-10-24T21:06:08.693578Z",
     "shell.execute_reply.started": "2020-10-24T21:06:08.678820Z"
    }
   },
   "outputs": [],
   "source": [
    "Y_pred = logisticRModel4.predict(X_test_norm_cdf)\n",
    "\n"
   ]
  },
  {
   "cell_type": "code",
   "execution_count": 75,
   "metadata": {
    "execution": {
     "iopub.execute_input": "2020-10-24T21:06:08.694921Z",
     "iopub.status.busy": "2020-10-24T21:06:08.694782Z",
     "iopub.status.idle": "2020-10-24T21:06:08.704708Z",
     "shell.execute_reply": "2020-10-24T21:06:08.704176Z",
     "shell.execute_reply.started": "2020-10-24T21:06:08.694903Z"
    }
   },
   "outputs": [
    {
     "name": "stdout",
     "output_type": "stream",
     "text": [
      "<class 'numpy.ndarray'> (1270882,)\n"
     ]
    }
   ],
   "source": [
    "Y_pred = Y_pred.to_pandas()\n",
    "Y_pred = np.array(Y_pred)\n",
    "print(type(Y_pred),Y_pred.shape)"
   ]
  },
  {
   "cell_type": "code",
   "execution_count": 76,
   "metadata": {
    "execution": {
     "iopub.execute_input": "2020-10-24T21:06:08.705542Z",
     "iopub.status.busy": "2020-10-24T21:06:08.705401Z",
     "iopub.status.idle": "2020-10-24T21:06:10.687473Z",
     "shell.execute_reply": "2020-10-24T21:06:10.686918Z",
     "shell.execute_reply.started": "2020-10-24T21:06:08.705524Z"
    }
   },
   "outputs": [
    {
     "name": "stdout",
     "output_type": "stream",
     "text": [
      "              precision    recall  f1-score   support\n",
      "\n",
      "    NotFraud       1.00      0.95      0.97    635907\n",
      "       Fraud       0.96      1.00      0.97    634975\n",
      "\n",
      "    accuracy                           0.97   1270882\n",
      "   macro avg       0.98      0.97      0.97   1270882\n",
      "weighted avg       0.98      0.97      0.97   1270882\n",
      "\n"
     ]
    }
   ],
   "source": [
    "print(classification_report(Y_test, Y_pred,target_names=target_names))"
   ]
  },
  {
   "cell_type": "markdown",
   "metadata": {},
   "source": [
    "### ADASYN"
   ]
  },
  {
   "cell_type": "code",
   "execution_count": 77,
   "metadata": {
    "execution": {
     "iopub.execute_input": "2020-10-24T21:06:10.688314Z",
     "iopub.status.busy": "2020-10-24T21:06:10.688172Z",
     "iopub.status.idle": "2020-10-24T21:06:10.690577Z",
     "shell.execute_reply": "2020-10-24T21:06:10.690136Z",
     "shell.execute_reply.started": "2020-10-24T21:06:10.688295Z"
    }
   },
   "outputs": [],
   "source": [
    "# ADASYN is a KNN-based synthesizer\n",
    "# These are O(n^2) algorithms so with 6M initial samples I don't think it's practical to run\n",
    "# this for this data set\n",
    "#\n",
    "#adasynthesizer = ADASYN(random_state=RANDOM_STATE)\n",
    "#X_adasyn, Y_adasyn = adasynthesizer.fit_sample(X,Y)\n"
   ]
  },
  {
   "cell_type": "code",
   "execution_count": 78,
   "metadata": {
    "execution": {
     "iopub.execute_input": "2020-10-24T21:06:10.691315Z",
     "iopub.status.busy": "2020-10-24T21:06:10.691183Z",
     "iopub.status.idle": "2020-10-24T21:06:10.699236Z",
     "shell.execute_reply": "2020-10-24T21:06:10.698698Z",
     "shell.execute_reply.started": "2020-10-24T21:06:10.691298Z"
    }
   },
   "outputs": [],
   "source": [
    "#X_train, X_test, Y_train, Y_test = train_test_split(X_adasyn, Y_adasyn,test_size=TEST_SIZE, random_state=RANDOM_STATE)\n",
    "#X_train_normal = normalizer.fit_transform(X_train.values)\n",
    "#X_test_normal = normalizer.transform(X_test.values)"
   ]
  },
  {
   "cell_type": "code",
   "execution_count": 79,
   "metadata": {
    "execution": {
     "iopub.execute_input": "2020-10-24T21:06:10.700277Z",
     "iopub.status.busy": "2020-10-24T21:06:10.700080Z",
     "iopub.status.idle": "2020-10-24T21:06:10.705176Z",
     "shell.execute_reply": "2020-10-24T21:06:10.704626Z",
     "shell.execute_reply.started": "2020-10-24T21:06:10.700253Z"
    }
   },
   "outputs": [],
   "source": [
    "#before running on the gpu I need to convert the pd df's to cudf df's\n",
    "#X_train_normal = pd.DataFrame(X_train_normal)\n",
    "#X_test_normal = pd.DataFrame(X_test_normal)\n",
    "#Y_train = pd.DataFrame(Y_train)\n",
    "#X_train_norm_cdf = cudf.from_pandas(X_train_normal)\n",
    "#X_test_norm_cdf = cudf.from_pandas(X_test_normal)\n",
    "#Y_train_cdf = cudf.from_pandas(Y_train)"
   ]
  },
  {
   "cell_type": "code",
   "execution_count": 80,
   "metadata": {
    "execution": {
     "iopub.execute_input": "2020-10-24T21:06:10.706236Z",
     "iopub.status.busy": "2020-10-24T21:06:10.706040Z",
     "iopub.status.idle": "2020-10-24T21:06:10.711185Z",
     "shell.execute_reply": "2020-10-24T21:06:10.710653Z",
     "shell.execute_reply.started": "2020-10-24T21:06:10.706211Z"
    }
   },
   "outputs": [],
   "source": [
    "#logisticRModel5 = LogisticRegression(C=100.0,max_iter=200,n_jobs=-1,random_state=RANDOM_STATE)\n",
    "\n",
    "#start_time = datetime.datetime.now()\n",
    "#logisticRModel5.fit(X_train_normal,Y_train)\n",
    "#end_time = datetime.datetime.now()\n",
    "#print(\"training time is {}\".format(end_time - start_time))"
   ]
  },
  {
   "cell_type": "code",
   "execution_count": 81,
   "metadata": {
    "execution": {
     "iopub.execute_input": "2020-10-24T21:06:10.712217Z",
     "iopub.status.busy": "2020-10-24T21:06:10.712020Z",
     "iopub.status.idle": "2020-10-24T21:06:10.717429Z",
     "shell.execute_reply": "2020-10-24T21:06:10.716902Z",
     "shell.execute_reply.started": "2020-10-24T21:06:10.712187Z"
    }
   },
   "outputs": [],
   "source": [
    "#Y_pred = logisticRModel5.predict(X_test_normal)\n",
    "\n",
    "#print(classification_report(Y_test, Y_pred,target_names=target_names))"
   ]
  },
  {
   "cell_type": "markdown",
   "metadata": {},
   "source": [
    "## Model Evaluation"
   ]
  },
  {
   "cell_type": "markdown",
   "metadata": {},
   "source": [
    "I will do this:\n",
    "* Create a test set from the original data set (with one-hot encoding and the `suspect_score` feature)\n",
    "* Create ROC Curves for the models\n",
    "* Calc AUC for the models"
   ]
  },
  {
   "cell_type": "markdown",
   "metadata": {
    "execution": {
     "iopub.execute_input": "2020-10-23T17:24:48.473797Z",
     "iopub.status.busy": "2020-10-23T17:24:48.473541Z",
     "iopub.status.idle": "2020-10-23T17:24:48.476874Z",
     "shell.execute_reply": "2020-10-23T17:24:48.476137Z",
     "shell.execute_reply.started": "2020-10-23T17:24:48.473769Z"
    }
   },
   "source": [
    "### Test set from the original dataset"
   ]
  },
  {
   "cell_type": "code",
   "execution_count": 101,
   "metadata": {
    "execution": {
     "iopub.execute_input": "2020-10-24T21:14:58.050701Z",
     "iopub.status.busy": "2020-10-24T21:14:58.050429Z",
     "iopub.status.idle": "2020-10-24T21:15:00.401774Z",
     "shell.execute_reply": "2020-10-24T21:15:00.401028Z",
     "shell.execute_reply.started": "2020-10-24T21:14:58.050672Z"
    }
   },
   "outputs": [],
   "source": [
    "X = paysim_data_df[[\"step\",\"amount\",\"oldbalanceOrg\",\n",
    "                      \"newbalanceOrig\",\n",
    "                      \"oldbalanceDest\",\n",
    "                      \"newbalanceDest\",\n",
    "                      \"suspect_score\",\n",
    "                      \"transtype_CASH_IN\",\n",
    "                      \"transtype_CASH_OUT\",\n",
    "                      \"transtype_DEBIT\",\n",
    "                      \"transtype_PAYMENT\",\n",
    "                      \"transtype_TRANSFER\"]]\n",
    "Y = paysim_data_df[\"isFraud\"]\n",
    "X_train, X_test, Y_train, Y_test = train_test_split(X, Y,test_size=TEST_SIZE, random_state=RANDOM_STATE)\n",
    "X_train_normal = normalizer.fit_transform(X_train.values)\n",
    "X_test_normal = normalizer.transform(X_test.values)"
   ]
  },
  {
   "cell_type": "code",
   "execution_count": 102,
   "metadata": {
    "execution": {
     "iopub.execute_input": "2020-10-24T21:15:01.279620Z",
     "iopub.status.busy": "2020-10-24T21:15:01.279332Z",
     "iopub.status.idle": "2020-10-24T21:15:01.697305Z",
     "shell.execute_reply": "2020-10-24T21:15:01.696687Z",
     "shell.execute_reply.started": "2020-10-24T21:15:01.279589Z"
    }
   },
   "outputs": [],
   "source": [
    "#before running on the gpu I need to convert the pd df's to cudf df's\n",
    "X_train_normal = pd.DataFrame(X_train_normal)\n",
    "X_test_normal = pd.DataFrame(X_test_normal)\n",
    "Y_train = pd.DataFrame(Y_train)\n",
    "Y_test = pd.DataFrame(Y_test)\n",
    "X_train_norm_cdf = cudf.from_pandas(X_train_normal)\n",
    "X_test_norm_cdf = cudf.from_pandas(X_test_normal)\n",
    "Y_train_cdf = cudf.from_pandas(Y_train)\n",
    "Y_test_cdf = cudf.from_pandas(Y_test)"
   ]
  },
  {
   "cell_type": "code",
   "execution_count": 103,
   "metadata": {
    "execution": {
     "iopub.execute_input": "2020-10-24T21:15:02.347074Z",
     "iopub.status.busy": "2020-10-24T21:15:02.346815Z",
     "iopub.status.idle": "2020-10-24T21:15:02.351968Z",
     "shell.execute_reply": "2020-10-24T21:15:02.351435Z",
     "shell.execute_reply.started": "2020-10-24T21:15:02.347046Z"
    }
   },
   "outputs": [
    {
     "data": {
      "text/plain": [
       "((5726358, 12), (636263, 12), (5726358, 1), (636263, 1))"
      ]
     },
     "execution_count": 103,
     "metadata": {},
     "output_type": "execute_result"
    }
   ],
   "source": [
    "X_train.shape,X_test.shape,Y_train.shape,Y_test.shape"
   ]
  },
  {
   "cell_type": "code",
   "execution_count": 104,
   "metadata": {
    "execution": {
     "iopub.execute_input": "2020-10-24T21:15:02.770527Z",
     "iopub.status.busy": "2020-10-24T21:15:02.770272Z",
     "iopub.status.idle": "2020-10-24T21:15:02.786975Z",
     "shell.execute_reply": "2020-10-24T21:15:02.786520Z",
     "shell.execute_reply.started": "2020-10-24T21:15:02.770499Z"
    }
   },
   "outputs": [
    {
     "data": {
      "text/plain": [
       "isFraud\n",
       "0          635439\n",
       "1             824\n",
       "dtype: int64"
      ]
     },
     "execution_count": 104,
     "metadata": {},
     "output_type": "execute_result"
    }
   ],
   "source": [
    "Y_test.value_counts()"
   ]
  },
  {
   "cell_type": "code",
   "execution_count": 105,
   "metadata": {
    "execution": {
     "iopub.execute_input": "2020-10-24T21:15:03.195854Z",
     "iopub.status.busy": "2020-10-24T21:15:03.195599Z",
     "iopub.status.idle": "2020-10-24T21:15:03.237121Z",
     "shell.execute_reply": "2020-10-24T21:15:03.236671Z",
     "shell.execute_reply.started": "2020-10-24T21:15:03.195827Z"
    }
   },
   "outputs": [
    {
     "data": {
      "text/plain": [
       "0    6354408\n",
       "1       8213\n",
       "Name: isFraud, dtype: int64"
      ]
     },
     "execution_count": 105,
     "metadata": {},
     "output_type": "execute_result"
    }
   ],
   "source": [
    "Y.value_counts()"
   ]
  },
  {
   "cell_type": "markdown",
   "metadata": {},
   "source": [
    "As you can see the test set has a few `isFraud==1` much like the full data set"
   ]
  },
  {
   "cell_type": "markdown",
   "metadata": {},
   "source": [
    "### Random Guessing and Small Logistic Model"
   ]
  },
  {
   "cell_type": "markdown",
   "metadata": {
    "execution": {
     "iopub.execute_input": "2020-10-23T17:28:58.661678Z",
     "iopub.status.busy": "2020-10-23T17:28:58.661429Z",
     "iopub.status.idle": "2020-10-23T17:28:58.664300Z",
     "shell.execute_reply": "2020-10-23T17:28:58.663713Z",
     "shell.execute_reply.started": "2020-10-23T17:28:58.661651Z"
    }
   },
   "source": [
    "### Random Oversampled Model"
   ]
  },
  {
   "cell_type": "code",
   "execution_count": 106,
   "metadata": {
    "execution": {
     "iopub.execute_input": "2020-10-24T21:15:05.097868Z",
     "iopub.status.busy": "2020-10-24T21:15:05.097610Z",
     "iopub.status.idle": "2020-10-24T21:15:05.956155Z",
     "shell.execute_reply": "2020-10-24T21:15:05.955589Z",
     "shell.execute_reply.started": "2020-10-24T21:15:05.097840Z"
    }
   },
   "outputs": [
    {
     "name": "stdout",
     "output_type": "stream",
     "text": [
      "<class 'numpy.ndarray'> (636263,)\n",
      "              precision    recall  f1-score   support\n",
      "\n",
      "    NotFraud       1.00      0.54      0.70    635439\n",
      "       Fraud       0.00      1.00      0.01       824\n",
      "\n",
      "    accuracy                           0.54    636263\n",
      "   macro avg       0.50      0.77      0.35    636263\n",
      "weighted avg       1.00      0.54      0.70    636263\n",
      "\n"
     ]
    }
   ],
   "source": [
    "Y_pred = logisticRModel3.predict(X_test_norm_cdf)\n",
    "Y_pred = Y_pred.to_pandas()\n",
    "Y_pred = np.array(Y_pred)\n",
    "print(type(Y_pred),Y_pred.shape)\n",
    "print(classification_report(Y_test, Y_pred,target_names=target_names))\n"
   ]
  },
  {
   "cell_type": "code",
   "execution_count": null,
   "metadata": {},
   "outputs": [],
   "source": []
  },
  {
   "cell_type": "code",
   "execution_count": 107,
   "metadata": {
    "execution": {
     "iopub.execute_input": "2020-10-24T21:15:09.123887Z",
     "iopub.status.busy": "2020-10-24T21:15:09.123627Z",
     "iopub.status.idle": "2020-10-24T21:15:09.769803Z",
     "shell.execute_reply": "2020-10-24T21:15:09.769343Z",
     "shell.execute_reply.started": "2020-10-24T21:15:09.123859Z"
    }
   },
   "outputs": [
    {
     "data": {
      "image/png": "[encoded data removed]",
      "text/plain": [
       "<Figure size 720x504 with 2 Axes>"
      ]
     },
     "metadata": {
      "needs_background": "light"
     },
     "output_type": "display_data"
    }
   ],
   "source": [
    "conf_matrix = confusion_matrix(y_true=Y_test, y_pred=Y_pred)\n",
    "cm = print_confusion_matrix(conf_matrix,target_names)"
   ]
  },
  {
   "cell_type": "code",
   "execution_count": 108,
   "metadata": {
    "execution": {
     "iopub.execute_input": "2020-10-24T21:15:10.015070Z",
     "iopub.status.busy": "2020-10-24T21:15:10.014809Z",
     "iopub.status.idle": "2020-10-24T21:15:10.156171Z",
     "shell.execute_reply": "2020-10-24T21:15:10.155571Z",
     "shell.execute_reply.started": "2020-10-24T21:15:10.015042Z"
    }
   },
   "outputs": [],
   "source": [
    "Y_pred_prob = logisticRModel3.predict_proba(X_test_norm_cdf)\n",
    "Y_pred_prob = Y_pred_prob.to_pandas()\n",
    "Y_pred_prob = np.array(Y_pred_prob)\n",
    "precision_curve, recall_curve, threshold_curve = precision_recall_curve(Y_test, Y_pred_prob[:,1] )\n"
   ]
  },
  {
   "cell_type": "code",
   "execution_count": 109,
   "metadata": {
    "execution": {
     "iopub.execute_input": "2020-10-24T21:15:10.698565Z",
     "iopub.status.busy": "2020-10-24T21:15:10.698311Z",
     "iopub.status.idle": "2020-10-24T21:15:10.895592Z",
     "shell.execute_reply": "2020-10-24T21:15:10.895035Z",
     "shell.execute_reply.started": "2020-10-24T21:15:10.698537Z"
    }
   },
   "outputs": [
    {
     "data": {
      "image/png": "[encoded data removed]",
      "text/plain": [
       "<Figure size 800x800 with 1 Axes>"
      ]
     },
     "metadata": {
      "needs_background": "light"
     },
     "output_type": "display_data"
    }
   ],
   "source": [
    "plt.figure(figsize=(10,10),dpi=80)\n",
    "plt.plot(threshold_curve, precision_curve[1:],label='precision')\n",
    "plt.plot(threshold_curve, recall_curve[1:], label='recall')\n",
    "plt.legend(loc='lower left')\n",
    "plt.xlabel('Threshold (above this probability, label as fraud)');\n",
    "plt.title('Precision and Recall Curves');"
   ]
  },
  {
   "cell_type": "code",
   "execution_count": 110,
   "metadata": {
    "execution": {
     "iopub.execute_input": "2020-10-24T21:15:11.684152Z",
     "iopub.status.busy": "2020-10-24T21:15:11.683889Z",
     "iopub.status.idle": "2020-10-24T21:15:12.536312Z",
     "shell.execute_reply": "2020-10-24T21:15:12.535783Z",
     "shell.execute_reply.started": "2020-10-24T21:15:11.684124Z"
    }
   },
   "outputs": [
    {
     "name": "stdout",
     "output_type": "stream",
     "text": [
      "              precision    recall  f1-score   support\n",
      "\n",
      "    NotFraud       1.00      0.55      0.71    635439\n",
      "       Fraud       0.00      1.00      0.01       824\n",
      "\n",
      "    accuracy                           0.55    636263\n",
      "   macro avg       0.50      0.77      0.36    636263\n",
      "weighted avg       1.00      0.55      0.71    636263\n",
      "\n"
     ]
    }
   ],
   "source": [
    "Y_pred = logisticRModel4.predict(X_test_norm_cdf)\n",
    "Y_pred = Y_pred.to_pandas()\n",
    "Y_pred = np.array(Y_pred)\n",
    "print(classification_report(Y_test, Y_pred,target_names=target_names))"
   ]
  },
  {
   "cell_type": "code",
   "execution_count": 111,
   "metadata": {
    "execution": {
     "iopub.execute_input": "2020-10-24T21:15:12.537277Z",
     "iopub.status.busy": "2020-10-24T21:15:12.537120Z",
     "iopub.status.idle": "2020-10-24T21:15:13.166464Z",
     "shell.execute_reply": "2020-10-24T21:15:13.166044Z",
     "shell.execute_reply.started": "2020-10-24T21:15:12.537258Z"
    }
   },
   "outputs": [
    {
     "data": {
      "image/png": "[encoded data removed]",
      "text/plain": [
       "<Figure size 720x504 with 2 Axes>"
      ]
     },
     "metadata": {
      "needs_background": "light"
     },
     "output_type": "display_data"
    }
   ],
   "source": [
    "conf_matrix = confusion_matrix(y_true=Y_test, y_pred=Y_pred)\n",
    "cm = print_confusion_matrix(conf_matrix,target_names)"
   ]
  },
  {
   "cell_type": "markdown",
   "metadata": {},
   "source": [
    "**Thoughts**\n",
    "* Logistic models are not performing well. Will move on to Random Forest and XGBoost"
   ]
  },
  {
   "cell_type": "code",
   "execution_count": 112,
   "metadata": {
    "execution": {
     "iopub.execute_input": "2020-10-24T21:15:14.795263Z",
     "iopub.status.busy": "2020-10-24T21:15:14.795005Z",
     "iopub.status.idle": "2020-10-24T21:15:16.241064Z",
     "shell.execute_reply": "2020-10-24T21:15:16.240537Z",
     "shell.execute_reply.started": "2020-10-24T21:15:14.795235Z"
    }
   },
   "outputs": [
    {
     "data": {
      "text/plain": [
       "RandomForestClassifier(split_criterion=0, handle=<cuml.raft.common.handle.Handle object at 0x7f34246988d0>, verbose=4, output_type='cudf')"
      ]
     },
     "execution_count": 112,
     "metadata": {},
     "output_type": "execute_result"
    }
   ],
   "source": [
    "randforestModel = gpuRandomForestClassifier()\n",
    "\n",
    "#The cuML framework doesn't support prediction on 64-bit floating point\n",
    "#numbers for this model so converting the dataset to 32-bit floating point numbers\n",
    "X_train_norm_cdf = X_train_norm_cdf.astype(cnp.float32)\n",
    "Y_train_cdf = Y_train_cdf.astype(cnp.float32)\n",
    "\n",
    "randforestModel.fit(X_train_norm_cdf,Y_train_cdf)"
   ]
  },
  {
   "cell_type": "code",
   "execution_count": 113,
   "metadata": {
    "execution": {
     "iopub.execute_input": "2020-10-24T21:15:17.299920Z",
     "iopub.status.busy": "2020-10-24T21:15:17.299659Z",
     "iopub.status.idle": "2020-10-24T21:15:18.363183Z",
     "shell.execute_reply": "2020-10-24T21:15:18.362700Z",
     "shell.execute_reply.started": "2020-10-24T21:15:17.299889Z"
    }
   },
   "outputs": [
    {
     "name": "stdout",
     "output_type": "stream",
     "text": [
      "              precision    recall  f1-score   support\n",
      "\n",
      "    NotFraud       1.00      1.00      1.00    635439\n",
      "       Fraud       1.00      0.89      0.94       824\n",
      "\n",
      "    accuracy                           1.00    636263\n",
      "   macro avg       1.00      0.95      0.97    636263\n",
      "weighted avg       1.00      1.00      1.00    636263\n",
      "\n"
     ]
    }
   ],
   "source": [
    "Y_pred = randforestModel.predict(X_test_norm_cdf)\n",
    "Y_pred = Y_pred.to_pandas()\n",
    "Y_pred = np.array(Y_pred)\n",
    "print(classification_report(Y_test, Y_pred,target_names=target_names))"
   ]
  },
  {
   "cell_type": "code",
   "execution_count": 114,
   "metadata": {
    "execution": {
     "iopub.execute_input": "2020-10-24T21:15:18.560915Z",
     "iopub.status.busy": "2020-10-24T21:15:18.560666Z",
     "iopub.status.idle": "2020-10-24T21:15:18.565333Z",
     "shell.execute_reply": "2020-10-24T21:15:18.564718Z",
     "shell.execute_reply.started": "2020-10-24T21:15:18.560885Z"
    }
   },
   "outputs": [
    {
     "data": {
      "text/plain": [
       "(5726358, 12)"
      ]
     },
     "execution_count": 114,
     "metadata": {},
     "output_type": "execute_result"
    }
   ],
   "source": [
    "X_train_norm_cdf.shape"
   ]
  },
  {
   "cell_type": "code",
   "execution_count": 115,
   "metadata": {
    "execution": {
     "iopub.execute_input": "2020-10-24T21:15:19.164158Z",
     "iopub.status.busy": "2020-10-24T21:15:19.163871Z",
     "iopub.status.idle": "2020-10-24T21:15:19.168229Z",
     "shell.execute_reply": "2020-10-24T21:15:19.167631Z",
     "shell.execute_reply.started": "2020-10-24T21:15:19.164127Z"
    }
   },
   "outputs": [
    {
     "data": {
      "text/plain": [
       "(636263, 12)"
      ]
     },
     "execution_count": 115,
     "metadata": {},
     "output_type": "execute_result"
    }
   ],
   "source": [
    "X_test_norm_cdf.shape"
   ]
  },
  {
   "cell_type": "code",
   "execution_count": 116,
   "metadata": {
    "execution": {
     "iopub.execute_input": "2020-10-24T21:15:19.985711Z",
     "iopub.status.busy": "2020-10-24T21:15:19.985442Z",
     "iopub.status.idle": "2020-10-24T21:15:20.183575Z",
     "shell.execute_reply": "2020-10-24T21:15:20.183029Z",
     "shell.execute_reply.started": "2020-10-24T21:15:19.985680Z"
    }
   },
   "outputs": [],
   "source": [
    "Y_pred_prob = randforestModel.predict_proba(X_test_norm_cdf)\n",
    "Y_pred_prob = Y_pred_prob.to_pandas()\n",
    "Y_pred_prob = np.array(Y_pred_prob)\n",
    "precision_curve, recall_curve, threshold_curve = precision_recall_curve(Y_test, Y_pred_prob[:,1] )\n"
   ]
  },
  {
   "cell_type": "code",
   "execution_count": 117,
   "metadata": {
    "execution": {
     "iopub.execute_input": "2020-10-24T21:15:21.048479Z",
     "iopub.status.busy": "2020-10-24T21:15:21.048217Z",
     "iopub.status.idle": "2020-10-24T21:15:21.330769Z",
     "shell.execute_reply": "2020-10-24T21:15:21.330292Z",
     "shell.execute_reply.started": "2020-10-24T21:15:21.048451Z"
    }
   },
   "outputs": [
    {
     "data": {
      "image/png": "[encoded data removed]",
      "text/plain": [
       "<Figure size 800x800 with 1 Axes>"
      ]
     },
     "metadata": {
      "needs_background": "light"
     },
     "output_type": "display_data"
    }
   ],
   "source": [
    "plt.figure(figsize=(10,10),dpi=80)\n",
    "plt.plot(threshold_curve, precision_curve[1:],label='precision')\n",
    "plt.plot(threshold_curve, recall_curve[1:], label='recall')\n",
    "plt.legend(loc='lower left')\n",
    "plt.xlabel('Threshold (above this probability, label as fraud)');\n",
    "plt.title('Precision and Recall Curves');"
   ]
  },
  {
   "cell_type": "code",
   "execution_count": 119,
   "metadata": {
    "execution": {
     "iopub.execute_input": "2020-10-24T21:16:07.869605Z",
     "iopub.status.busy": "2020-10-24T21:16:07.869346Z",
     "iopub.status.idle": "2020-10-24T21:20:07.518483Z",
     "shell.execute_reply": "2020-10-24T21:20:07.517561Z",
     "shell.execute_reply.started": "2020-10-24T21:16:07.869577Z"
    }
   },
   "outputs": [
    {
     "name": "stderr",
     "output_type": "stream",
     "text": [
      "/home/magreen/anaconda3_2020_07/envs/metisgpulinux2venv/lib/python3.8/site-packages/sklearn/utils/validation.py:72: DataConversionWarning: A column-vector y was passed when a 1d array was expected. Please change the shape of y to (n_samples, ), for example using ravel().\n",
      "  return f(**kwargs)\n"
     ]
    },
    {
     "name": "stdout",
     "output_type": "stream",
     "text": [
      "[14:16:12] WARNING: /opt/conda/envs/rapids/conda-bld/xgboost_1603299467566/work/src/gbm/gbtree.cc:147: Tree method is automatically selected to be 'approx' for faster speed. To use old behavior (exact greedy algorithm on single machine), set tree_method to 'exact'.\n",
      "[14:16:15] WARNING: /opt/conda/envs/rapids/conda-bld/xgboost_1603299467566/work/src/learner.cc:1036: Starting in XGBoost 1.3.0, the default evaluation metric used with the objective 'binary:logistic' was changed from 'error' to 'logloss'. Explicitly set eval_metric if you'd like to restore the old behavior.\n",
      "              precision    recall  f1-score   support\n",
      "\n",
      "    NotFraud       1.00      1.00      1.00    635439\n",
      "       Fraud       0.99      0.95      0.97       824\n",
      "\n",
      "    accuracy                           1.00    636263\n",
      "   macro avg       1.00      0.98      0.99    636263\n",
      "weighted avg       1.00      1.00      1.00    636263\n",
      "\n"
     ]
    }
   ],
   "source": [
    "xgb_model = XGBClassifier()\n",
    "xgb_model.fit(X_train_normal,Y_train)\n",
    "Y_pred = xgb_model.predict(X_test_normal)\n",
    "print(classification_report(Y_test, Y_pred,target_names=target_names))"
   ]
  },
  {
   "cell_type": "markdown",
   "metadata": {},
   "source": [
    "Based on some [investigation](https://machinelearningmastery.com/cost-sensitive-logistic-regression/#:~:text=Logistic%20regression%20is%20an%20effective,not%20effective%20at%20imbalanced%20classification.), it's possible to do a class-weighted logistic regression and see an improved model. Doing that here:"
   ]
  },
  {
   "cell_type": "code",
   "execution_count": null,
   "metadata": {
    "execution": {
     "iopub.execute_input": "2020-10-24T21:43:34.963121Z",
     "iopub.status.busy": "2020-10-24T21:43:34.962847Z"
    }
   },
   "outputs": [],
   "source": [
    "X_train, X_test, Y_train, Y_test = train_test_split(X_smoted, Y_smoted,test_size=TEST_SIZE, random_state=RANDOM_STATE)\n",
    "\n",
    "X_train_normal = normalizer.fit_transform(X_train.values)\n",
    "X_test_normal = normalizer.transform(X_test.values)\n",
    "\n",
    "weightedLogisticModel = LogisticRegression(C=100,max_iter=200,n_jobs=-1,class_weight=\"balanced\",random_state=RANDOM_STATE)\n",
    "weightedLogisticModel.fit(X_test_normal,Y_test)"
   ]
  },
  {
   "cell_type": "code",
   "execution_count": 125,
   "metadata": {
    "execution": {
     "iopub.execute_input": "2020-10-24T21:42:06.785882Z",
     "iopub.status.busy": "2020-10-24T21:42:06.785629Z",
     "iopub.status.idle": "2020-10-24T21:42:10.158024Z",
     "shell.execute_reply": "2020-10-24T21:42:10.157538Z",
     "shell.execute_reply.started": "2020-10-24T21:42:06.785854Z"
    }
   },
   "outputs": [
    {
     "name": "stdout",
     "output_type": "stream",
     "text": [
      "              precision    recall  f1-score   support\n",
      "\n",
      "    NotFraud       1.00      0.54      0.70    635439\n",
      "       Fraud       0.00      1.00      0.01       824\n",
      "\n",
      "    accuracy                           0.54    636263\n",
      "   macro avg       0.50      0.77      0.36    636263\n",
      "weighted avg       1.00      0.54      0.70    636263\n",
      "\n"
     ]
    }
   ],
   "source": [
    "\n",
    "X = paysim_data_df[[\"step\",\"amount\",\"oldbalanceOrg\",\n",
    "                      \"newbalanceOrig\",\n",
    "                      \"oldbalanceDest\",\n",
    "                      \"newbalanceDest\",\n",
    "                      \"suspect_score\",\n",
    "                      \"transtype_CASH_IN\",\n",
    "                      \"transtype_CASH_OUT\",\n",
    "                      \"transtype_DEBIT\",\n",
    "                      \"transtype_PAYMENT\",\n",
    "                      \"transtype_TRANSFER\"]]\n",
    "Y = paysim_data_df[\"isFraud\"]\n",
    "X_train, X_test, Y_train, Y_test = train_test_split(X, Y,test_size=TEST_SIZE, random_state=RANDOM_STATE)\n",
    "X_train_normal = normalizer.fit_transform(X_train.values)\n",
    "X_test_normal = normalizer.transform(X_test.values)\n",
    "\n",
    "Y_pred = weightedLogisticModel.predict(X_test_normal)\n",
    "print(classification_report(Y_test, Y_pred,target_names=target_names))"
   ]
  },
  {
   "cell_type": "code",
   "execution_count": null,
   "metadata": {},
   "outputs": [],
   "source": []
  }
 ],
 "metadata": {
  "kernelspec": {
   "display_name": "Python 3",
   "language": "python",
   "name": "python3"
  },
  "language_info": {
   "codemirror_mode": {
    "name": "ipython",
    "version": 3
   },
   "file_extension": ".py",
   "mimetype": "text/x-python",
   "name": "python",
   "nbconvert_exporter": "python",
   "pygments_lexer": "ipython3",
   "version": "3.8.6"
  }
 },
 "nbformat": 4,
 "nbformat_minor": 4
}
