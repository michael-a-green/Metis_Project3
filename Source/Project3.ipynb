{
 "cells": [
  {
   "cell_type": "markdown",
   "metadata": {},
   "source": [
    "# Project 3\n",
    "Fraud detection. Using dataset from Kaggle."
   ]
  },
  {
   "cell_type": "markdown",
   "metadata": {},
   "source": [
    "## Importing Modules"
   ]
  },
  {
   "cell_type": "code",
   "execution_count": 61,
   "metadata": {
    "execution": {
     "iopub.execute_input": "2020-10-21T05:54:40.550167Z",
     "iopub.status.busy": "2020-10-21T05:54:40.549876Z",
     "iopub.status.idle": "2020-10-21T05:54:40.558837Z",
     "shell.execute_reply": "2020-10-21T05:54:40.557983Z",
     "shell.execute_reply.started": "2020-10-21T05:54:40.550137Z"
    }
   },
   "outputs": [],
   "source": [
    "from bs4 import BeautifulSoup\n",
    "from random import randint\n",
    "import pandas as pd\n",
    "import numpy as np\n",
    "import matplotlib.pyplot as plt\n",
    "import requests\n",
    "import re\n",
    "import time\n",
    "import pickle\n",
    "import os\n",
    "import datetime\n",
    "import seaborn as sns\n",
    "import math\n",
    "import scipy.stats as stats\n",
    "\n",
    "from sklearn.linear_model import LinearRegression\n",
    "from sklearn.linear_model import LogisticRegressionCV\n",
    "from sklearn.linear_model import LogisticRegression\n",
    "\n",
    "from sklearn.linear_model import Ridge\n",
    "from sklearn.linear_model import Lasso\n",
    "from sklearn.linear_model import RidgeCV\n",
    "from sklearn.linear_model import LassoCV\n",
    "from sklearn.model_selection import train_test_split\n",
    "from sklearn.preprocessing import PolynomialFeatures\n",
    "from sklearn.model_selection import cross_validate\n",
    "from sklearn.model_selection import KFold\n",
    "from sklearn.pipeline import Pipeline\n",
    "from sklearn.preprocessing import StandardScaler\n",
    "from sklearn.model_selection import cross_val_score\n",
    "from sklearn.model_selection import cross_validate\n",
    "from sklearn.preprocessing import OneHotEncoder, StandardScaler\n",
    "from sklearn.metrics import plot_confusion_matrix, plot_roc_curve, classification_report\n",
    "\n",
    "import pymysql.cursors\n",
    "import sys"
   ]
  },
  {
   "cell_type": "code",
   "execution_count": 62,
   "metadata": {
    "execution": {
     "iopub.execute_input": "2020-10-21T05:54:42.003426Z",
     "iopub.status.busy": "2020-10-21T05:54:42.003145Z",
     "iopub.status.idle": "2020-10-21T05:54:42.007192Z",
     "shell.execute_reply": "2020-10-21T05:54:42.006429Z",
     "shell.execute_reply.started": "2020-10-21T05:54:42.003396Z"
    }
   },
   "outputs": [],
   "source": [
    "#Constants\n",
    "RANDOM_STATE = 999\n",
    "TEST_SIZE = 0.1\n",
    "\n",
    "#set this to 1 if you want to see this\n",
    "#notebook create the table and import the CSV into the table\n",
    "#on the My SQL server\n",
    "RUN_TABLE_CREATE_IMPORT = 0"
   ]
  },
  {
   "cell_type": "markdown",
   "metadata": {},
   "source": [
    "## Data Download and Load Into SQL"
   ]
  },
  {
   "cell_type": "markdown",
   "metadata": {},
   "source": [
    "Note if you want a copy of the data you can download it from [here](https://www.kaggle.com/ntnu-testimon/paysim1) "
   ]
  },
  {
   "cell_type": "code",
   "execution_count": 63,
   "metadata": {
    "execution": {
     "iopub.execute_input": "2020-10-21T05:54:56.171726Z",
     "iopub.status.busy": "2020-10-21T05:54:56.171424Z",
     "iopub.status.idle": "2020-10-21T05:54:56.179660Z",
     "shell.execute_reply": "2020-10-21T05:54:56.178860Z",
     "shell.execute_reply.started": "2020-10-21T05:54:56.171695Z"
    }
   },
   "outputs": [],
   "source": [
    "#just reading enough to get the names of the columns\n",
    "data_df = pd.read_csv(\"../Data/PS_20174392719_1491204439457_log.csv\",nrows=5)"
   ]
  },
  {
   "cell_type": "code",
   "execution_count": 64,
   "metadata": {
    "execution": {
     "iopub.execute_input": "2020-10-21T05:54:56.805796Z",
     "iopub.status.busy": "2020-10-21T05:54:56.805539Z",
     "iopub.status.idle": "2020-10-21T05:54:56.811130Z",
     "shell.execute_reply": "2020-10-21T05:54:56.810550Z",
     "shell.execute_reply.started": "2020-10-21T05:54:56.805766Z"
    }
   },
   "outputs": [
    {
     "name": "stdout",
     "output_type": "stream",
     "text": [
      "step\n",
      "amount\n",
      "nameOrig\n",
      "oldbalanceOrg\n",
      "newbalanceOrig\n",
      "nameDest\n",
      "oldbalanceDest\n",
      "newbalanceDest\n",
      "isFraud\n",
      "isFlaggedFraud\n",
      "transtype\n"
     ]
    }
   ],
   "source": [
    "#Getting column names\n",
    "COL_NAMES = data_df.columns\n",
    "COL_NAMES = list(COL_NAMES)\n",
    "COL_NAMES.remove(\"type\")\n",
    "COL_NAMES.append(\"transtype\")\n",
    "for i, a_col in enumerate(COL_NAMES):\n",
    "    print(a_col)"
   ]
  },
  {
   "cell_type": "code",
   "execution_count": 65,
   "metadata": {
    "execution": {
     "iopub.execute_input": "2020-10-21T05:55:01.756551Z",
     "iopub.status.busy": "2020-10-21T05:55:01.756261Z",
     "iopub.status.idle": "2020-10-21T05:55:01.773702Z",
     "shell.execute_reply": "2020-10-21T05:55:01.772944Z",
     "shell.execute_reply.started": "2020-10-21T05:55:01.756520Z"
    }
   },
   "outputs": [
    {
     "data": {
      "text/html": [
       "<div>\n",
       "<style scoped>\n",
       "    .dataframe tbody tr th:only-of-type {\n",
       "        vertical-align: middle;\n",
       "    }\n",
       "\n",
       "    .dataframe tbody tr th {\n",
       "        vertical-align: top;\n",
       "    }\n",
       "\n",
       "    .dataframe thead th {\n",
       "        text-align: right;\n",
       "    }\n",
       "</style>\n",
       "<table border=\"1\" class=\"dataframe\">\n",
       "  <thead>\n",
       "    <tr style=\"text-align: right;\">\n",
       "      <th></th>\n",
       "      <th>step</th>\n",
       "      <th>type</th>\n",
       "      <th>amount</th>\n",
       "      <th>nameOrig</th>\n",
       "      <th>oldbalanceOrg</th>\n",
       "      <th>newbalanceOrig</th>\n",
       "      <th>nameDest</th>\n",
       "      <th>oldbalanceDest</th>\n",
       "      <th>newbalanceDest</th>\n",
       "      <th>isFraud</th>\n",
       "      <th>isFlaggedFraud</th>\n",
       "    </tr>\n",
       "  </thead>\n",
       "  <tbody>\n",
       "    <tr>\n",
       "      <th>0</th>\n",
       "      <td>1</td>\n",
       "      <td>PAYMENT</td>\n",
       "      <td>9839.64</td>\n",
       "      <td>C1231006815</td>\n",
       "      <td>170136.0</td>\n",
       "      <td>160296.36</td>\n",
       "      <td>M1979787155</td>\n",
       "      <td>0.0</td>\n",
       "      <td>0.0</td>\n",
       "      <td>0</td>\n",
       "      <td>0</td>\n",
       "    </tr>\n",
       "    <tr>\n",
       "      <th>1</th>\n",
       "      <td>1</td>\n",
       "      <td>PAYMENT</td>\n",
       "      <td>1864.28</td>\n",
       "      <td>C1666544295</td>\n",
       "      <td>21249.0</td>\n",
       "      <td>19384.72</td>\n",
       "      <td>M2044282225</td>\n",
       "      <td>0.0</td>\n",
       "      <td>0.0</td>\n",
       "      <td>0</td>\n",
       "      <td>0</td>\n",
       "    </tr>\n",
       "    <tr>\n",
       "      <th>2</th>\n",
       "      <td>1</td>\n",
       "      <td>TRANSFER</td>\n",
       "      <td>181.00</td>\n",
       "      <td>C1305486145</td>\n",
       "      <td>181.0</td>\n",
       "      <td>0.00</td>\n",
       "      <td>C553264065</td>\n",
       "      <td>0.0</td>\n",
       "      <td>0.0</td>\n",
       "      <td>1</td>\n",
       "      <td>0</td>\n",
       "    </tr>\n",
       "    <tr>\n",
       "      <th>3</th>\n",
       "      <td>1</td>\n",
       "      <td>CASH_OUT</td>\n",
       "      <td>181.00</td>\n",
       "      <td>C840083671</td>\n",
       "      <td>181.0</td>\n",
       "      <td>0.00</td>\n",
       "      <td>C38997010</td>\n",
       "      <td>21182.0</td>\n",
       "      <td>0.0</td>\n",
       "      <td>1</td>\n",
       "      <td>0</td>\n",
       "    </tr>\n",
       "    <tr>\n",
       "      <th>4</th>\n",
       "      <td>1</td>\n",
       "      <td>PAYMENT</td>\n",
       "      <td>11668.14</td>\n",
       "      <td>C2048537720</td>\n",
       "      <td>41554.0</td>\n",
       "      <td>29885.86</td>\n",
       "      <td>M1230701703</td>\n",
       "      <td>0.0</td>\n",
       "      <td>0.0</td>\n",
       "      <td>0</td>\n",
       "      <td>0</td>\n",
       "    </tr>\n",
       "  </tbody>\n",
       "</table>\n",
       "</div>"
      ],
      "text/plain": [
       "   step      type    amount     nameOrig  oldbalanceOrg  newbalanceOrig  \\\n",
       "0     1   PAYMENT   9839.64  C1231006815       170136.0       160296.36   \n",
       "1     1   PAYMENT   1864.28  C1666544295        21249.0        19384.72   \n",
       "2     1  TRANSFER    181.00  C1305486145          181.0            0.00   \n",
       "3     1  CASH_OUT    181.00   C840083671          181.0            0.00   \n",
       "4     1   PAYMENT  11668.14  C2048537720        41554.0        29885.86   \n",
       "\n",
       "      nameDest  oldbalanceDest  newbalanceDest  isFraud  isFlaggedFraud  \n",
       "0  M1979787155             0.0             0.0        0               0  \n",
       "1  M2044282225             0.0             0.0        0               0  \n",
       "2   C553264065             0.0             0.0        1               0  \n",
       "3    C38997010         21182.0             0.0        1               0  \n",
       "4  M1230701703             0.0             0.0        0               0  "
      ]
     },
     "execution_count": 65,
     "metadata": {},
     "output_type": "execute_result"
    }
   ],
   "source": [
    "#What type of data is in each column?\n",
    "data_df.head()"
   ]
  },
  {
   "cell_type": "code",
   "execution_count": 66,
   "metadata": {
    "execution": {
     "iopub.execute_input": "2020-10-21T05:55:02.458597Z",
     "iopub.status.busy": "2020-10-21T05:55:02.458319Z",
     "iopub.status.idle": "2020-10-21T05:55:02.464933Z",
     "shell.execute_reply": "2020-10-21T05:55:02.464154Z",
     "shell.execute_reply.started": "2020-10-21T05:55:02.458565Z"
    }
   },
   "outputs": [],
   "source": [
    "#Establishing connection to mariaDB server\n",
    "#Note, sever_details.txt is not provided you'll have to ask me for it\n",
    "if sys.platform == 'linux':\n",
    "    server_details_file_name = \"/home/magreen/Dropbox/PERSONAL/Documents/Word/server_details.txt\"\n",
    "elif sys.platform == 'darwin':\n",
    "    server_details_file_name = \"/Users/magreen/Dropbox/PERSONAL/Documents/Word/server_details.txt\"\n",
    "else:\n",
    "    print(\"WARNING: You are running on a system type I have not tested. Please contact me if you want help testing this.\")\n",
    "\n",
    "SERVER_DETAILS = open(server_details_file_name,\"r\")\n",
    "line_of_text = SERVER_DETAILS.readline()\n",
    "\n",
    "host_name, username, mypassword, db_name = line_of_text.split(',')\n",
    "\n",
    "host_name = host_name.rstrip()\n",
    "host_name = host_name.lstrip()\n",
    "username = username.rstrip()\n",
    "username = username.lstrip()\n",
    "mypassword = mypassword.rstrip()\n",
    "mypassword = mypassword.lstrip()\n",
    "db_name = db_name.rstrip()\n",
    "db_name = db_name.lstrip()\n"
   ]
  },
  {
   "cell_type": "code",
   "execution_count": null,
   "metadata": {},
   "outputs": [],
   "source": [
    "data_df = None"
   ]
  },
  {
   "cell_type": "code",
   "execution_count": 67,
   "metadata": {
    "execution": {
     "iopub.execute_input": "2020-10-21T05:55:03.124544Z",
     "iopub.status.busy": "2020-10-21T05:55:03.124271Z",
     "iopub.status.idle": "2020-10-21T05:55:03.137757Z",
     "shell.execute_reply": "2020-10-21T05:55:03.136826Z",
     "shell.execute_reply.started": "2020-10-21T05:55:03.124513Z"
    }
   },
   "outputs": [],
   "source": [
    "connection = pymysql.connect(host=host_name, user=username, password=mypassword, db=db_name, cursorclass=pymysql.cursors.DictCursor)"
   ]
  },
  {
   "cell_type": "code",
   "execution_count": 68,
   "metadata": {
    "execution": {
     "iopub.execute_input": "2020-10-21T05:55:03.525109Z",
     "iopub.status.busy": "2020-10-21T05:55:03.524812Z",
     "iopub.status.idle": "2020-10-21T05:55:03.528411Z",
     "shell.execute_reply": "2020-10-21T05:55:03.527850Z",
     "shell.execute_reply.started": "2020-10-21T05:55:03.525078Z"
    }
   },
   "outputs": [],
   "source": [
    "#get a cursor\n",
    "mycursor = connection.cursor()"
   ]
  },
  {
   "cell_type": "code",
   "execution_count": 69,
   "metadata": {
    "execution": {
     "iopub.execute_input": "2020-10-21T05:55:04.701069Z",
     "iopub.status.busy": "2020-10-21T05:55:04.700831Z",
     "iopub.status.idle": "2020-10-21T05:57:29.691976Z",
     "shell.execute_reply": "2020-10-21T05:57:29.691004Z",
     "shell.execute_reply.started": "2020-10-21T05:55:04.701035Z"
    }
   },
   "outputs": [
    {
     "name": "stdout",
     "output_type": "stream",
     "text": [
      "table creation and import done\n"
     ]
    }
   ],
   "source": [
    "#Create table import entire CSV\n",
    "if RUN_TABLE_CREATE_IMPORT != 0:\n",
    "    drop_table_query = \"drop table if exists paysim_data2;\"\n",
    "\n",
    "    mycursor.execute(drop_table_query)\n",
    "    mycursor.execute(\"commit;\")\n",
    "\n",
    "    create_table_query = \"\"\"\n",
    "\n",
    "\n",
    "create table paysim_data2 (\n",
    "    step INT,\n",
    "    transtype VARCHAR(255),\n",
    "    amount REAL,\n",
    "    nameOrig VARCHAR(255),\n",
    "    oldbalanceOrg REAL,\n",
    "    newbalanceOrig REAL,\n",
    "    nameDest VARCHAR(255),\n",
    "    oldbalanceDest REAL,\n",
    "    newbalanceDest REAL,\n",
    "    isFraud INT,\n",
    "    isFlaggedFraud INT\n",
    "    );\n",
    "\n",
    "\n",
    "    \"\"\"\n",
    "    mycursor.execute(create_table_query)\n",
    "    mycursor.execute(\"commit;\")\n",
    "\n",
    "    import_query = \"\"\"\n",
    "\n",
    "\n",
    "load data infile '/var/lib/mysql-files/data/PS_20174392719_1491204439457_log.csv'\n",
    "into table paysim_data2 fields terminated by ','  lines terminated by '\\n'\n",
    "ignore 1 rows;\n",
    "\n",
    "    \"\"\"\n",
    "\n",
    "    mycursor.execute(import_query)\n",
    "    mycursor.execute(\"commit;\")\n",
    "    \n",
    "    #and a row ID to the table\n",
    "    alter_table_query = \"\"\"\n",
    "    alter table paysim_data2 add column id int auto_increment primary key first;\n",
    "    \"\"\"\n",
    "    mycursor.execute(alter_table_query)\n",
    "    mycursor.execute(\"commit;\")\n",
    "    print(\"table creation and import done\")\n",
    "else:\n",
    "    print(\"Skipping MySQL table creation and CSV import\")"
   ]
  },
  {
   "cell_type": "markdown",
   "metadata": {},
   "source": [
    "## Data Cleaning"
   ]
  },
  {
   "cell_type": "markdown",
   "metadata": {},
   "source": [
    "In this section I remove rows that contain null entries or duplicate entries from the SQL table."
   ]
  },
  {
   "cell_type": "code",
   "execution_count": 58,
   "metadata": {
    "execution": {
     "iopub.execute_input": "2020-10-21T04:43:53.015996Z",
     "iopub.status.busy": "2020-10-21T04:43:53.015702Z",
     "iopub.status.idle": "2020-10-21T04:43:53.020268Z",
     "shell.execute_reply": "2020-10-21T04:43:53.019328Z",
     "shell.execute_reply.started": "2020-10-21T04:43:53.015966Z"
    }
   },
   "outputs": [],
   "source": [
    "##Things I'm doing to test my data cleaning in SQL\n",
    "add_some_duplicates_nulls_query = \"\"\"\n",
    "\n",
    "insert into paysim_data2(step, transtype, amount, nameOrig, oldbalanceOrg, newbalanceOrig, nameDest, oldbalanceDest, newbalanceDest,isFraud,isFlaggedFraud) values(1,'PAYMENT',55,'Han Solo',100.0,45,'Princess Lea',0,55,0,0);\n",
    "insert into paysim_data2(step, transtype, amount, nameOrig, oldbalanceOrg, newbalanceOrig, nameDest, oldbalanceDest, newbalanceDest,isFraud,isFlaggedFraud) values(1,'PAYMENT',55,'Han Solo',100.0,45,'Princess Lea',0,55,0,0);\n",
    "\n",
    "\n",
    "insert into paysim_data2(step, transtype, amount, nameOrig, oldbalanceOrg, newbalanceOrig, nameDest, oldbalanceDest, newbalanceDest,isFraud,isFlaggedFraud) values(1,'PAYMENT',NULL,'C3PO',100.0,45,'R2D2',0,55,0,0);\n",
    "insert into paysim_data2(step, transtype, amount, nameOrig, oldbalanceOrg, newbalanceOrig, nameDest, oldbalanceDest, newbalanceDest,isFraud,isFlaggedFraud) values(1,'PAYMENT',10,'Luke',100.0,90,'Wedge',0,NULL,0,0);\n",
    "\n",
    "\n",
    "\n",
    "\"\"\"\n",
    "#mycursor.execute(add_some_duplicates_nulls_query)\n",
    "#mycursor.execute(\"commit;\")\n"
   ]
  },
  {
   "cell_type": "code",
   "execution_count": 70,
   "metadata": {
    "execution": {
     "iopub.execute_input": "2020-10-21T05:58:05.482103Z",
     "iopub.status.busy": "2020-10-21T05:58:05.481812Z",
     "iopub.status.idle": "2020-10-21T05:58:49.420011Z",
     "shell.execute_reply": "2020-10-21T05:58:49.419081Z",
     "shell.execute_reply.started": "2020-10-21T05:58:05.482072Z"
    }
   },
   "outputs": [
    {
     "name": "stdout",
     "output_type": "stream",
     "text": [
      "For column = step here are the null rows:\n",
      "\n",
      "0\n",
      "\n",
      "\n",
      "For column = amount here are the null rows:\n",
      "\n",
      "1\n",
      "\n",
      "\n",
      "This row contains NULL information:\n",
      "\n",
      "[{'id': 6362623, 'step': 1, 'transtype': 'PAYMENT', 'amount': None, 'nameOrig': 'C3PO', 'oldbalanceOrg': 100.0, 'newbalanceOrig': 45.0, 'nameDest': 'R2D2', 'oldbalanceDest': 0.0, 'newbalanceDest': 55.0, 'isFraud': 0, 'isFlaggedFraud': 0}]\n",
      "\n",
      "successfully removed row\n",
      "\n",
      "For column = nameOrig here are the null rows:\n",
      "\n",
      "0\n",
      "\n",
      "\n",
      "For column = oldbalanceOrg here are the null rows:\n",
      "\n",
      "0\n",
      "\n",
      "\n",
      "For column = newbalanceOrig here are the null rows:\n",
      "\n",
      "0\n",
      "\n",
      "\n",
      "For column = nameDest here are the null rows:\n",
      "\n",
      "0\n",
      "\n",
      "\n",
      "For column = oldbalanceDest here are the null rows:\n",
      "\n",
      "0\n",
      "\n",
      "\n",
      "For column = newbalanceDest here are the null rows:\n",
      "\n",
      "1\n",
      "\n",
      "\n",
      "This row contains NULL information:\n",
      "\n",
      "[{'id': 6362624, 'step': 1, 'transtype': 'PAYMENT', 'amount': 10.0, 'nameOrig': 'Luke', 'oldbalanceOrg': 100.0, 'newbalanceOrig': 90.0, 'nameDest': 'Wedge', 'oldbalanceDest': 0.0, 'newbalanceDest': None, 'isFraud': 0, 'isFlaggedFraud': 0}]\n",
      "\n",
      "successfully removed row\n",
      "\n",
      "For column = isFraud here are the null rows:\n",
      "\n",
      "0\n",
      "\n",
      "\n",
      "For column = isFlaggedFraud here are the null rows:\n",
      "\n",
      "0\n",
      "\n",
      "\n",
      "For column = transtype here are the null rows:\n",
      "\n",
      "0\n",
      "\n",
      "\n",
      "\n",
      "check done.\n",
      "\n"
     ]
    }
   ],
   "source": [
    "########################################################################\n",
    "#\n",
    "# Search each column in the MySQL table for null. If null remove the row\n",
    "#\n",
    "########################################################################\n",
    "for column_name in COL_NAMES:\n",
    "    temp_query = \"\"\"\n",
    "    \n",
    "    select * from paysim_data2 where {} is null;\n",
    "    \n",
    "    \"\"\".format(column_name)\n",
    "    \n",
    "    mycursor.execute(\"begin;\")\n",
    "    query_result = mycursor.execute(temp_query)\n",
    "    print(\"For column = {} here are the null rows:\\n\".format(column_name))\n",
    "    print(query_result)\n",
    "    print(\"\\n\")\n",
    "    \n",
    "    if query_result != 0:\n",
    "        row_contents = mycursor.fetchall()\n",
    "        print(\"This row contains NULL information:\\n\")\n",
    "        \n",
    "        for bad_row in row_contents:\n",
    "            print(row_contents)\n",
    "            \n",
    "        temp_efface_row_query = \"\"\"\n",
    "        delete from paysim_data2 where {} is null;\n",
    "        \"\"\".format(column_name)\n",
    "        \n",
    "        query_result = mycursor.execute(temp_efface_row_query)\n",
    "        \n",
    "        #print(\"result = {}\".format(query_result))\n",
    "        mycursor.execute(\"commit;\")\n",
    "        #print(\"result = {}\".format(query_result))\n",
    "        if query_result:\n",
    "            print(\"\\nsuccessfully removed row\\n\")\n",
    "        else:\n",
    "            print(\"error: failed to remove row!\")\n",
    "        \n",
    "    \n",
    "\n",
    "        \n",
    "print(\"\\ncheck done.\\n\")\n",
    "#Create table\n",
    "\n",
    "#import CSV Into SQL Table\n"
   ]
  },
  {
   "cell_type": "code",
   "execution_count": 73,
   "metadata": {
    "execution": {
     "iopub.execute_input": "2020-10-21T06:02:22.607392Z",
     "iopub.status.busy": "2020-10-21T06:02:22.607091Z",
     "iopub.status.idle": "2020-10-21T06:04:27.769611Z",
     "shell.execute_reply": "2020-10-21T06:04:27.768668Z",
     "shell.execute_reply.started": "2020-10-21T06:02:22.607361Z"
    }
   },
   "outputs": [
    {
     "name": "stdout",
     "output_type": "stream",
     "text": [
      "removing duplicates\n",
      "\n",
      "\n",
      "done removing duplicates\n",
      "\n"
     ]
    }
   ],
   "source": [
    "########################################################################\n",
    "#\n",
    "# Search for duplicate rows. Remove the second-most row for every pair of duplicate rows\n",
    "#\n",
    "########################################################################\n",
    "\n",
    "search_for_duplicates_query = \"\"\"\n",
    "select\n",
    "     step, count(step),\n",
    "     transtype, count(transtype),\n",
    "     amount, count(amount),\n",
    "     nameOrig, count(nameOrig),\n",
    "     oldbalanceOrg, count(oldbalanceOrg),\n",
    "     newbalanceOrig, count(newbalanceOrig),\n",
    "     nameDest, count(nameDest),\n",
    "     oldbalanceDest, count(oldbalanceDest),\n",
    "     newbalanceDest, count(newbalanceDest),\n",
    "     isFraud, count(isFraud),\n",
    "     isFlaggedFraud, count(isFlaggedFraud)\n",
    "     from paysim_data2\n",
    "     group by step,transtype,amount,nameOrig,oldbalanceOrg,newbalanceOrig,nameDest,oldbalanceDest,newbalanceDest,isFraud,isFlaggedFraud\n",
    "     having\n",
    "     count(step) > 1 and\n",
    "     count(transtype) > 1 and\n",
    "     count(amount) > 1 and\n",
    "     count(nameOrig) > 1 and\n",
    "     count(oldbalanceOrg) > 1 and\n",
    "     count(newbalanceOrig) > 1 and\n",
    "     count(nameDest) > 1 and\n",
    "     count(oldbalanceDest) > 1 and\n",
    "     count(newbalanceDest) > 1 and\n",
    "     count(isFraud) > 1 and\n",
    "     count(isFlaggedFraud) > 1;\n",
    "\n",
    "\n",
    "\n",
    "\"\"\"\n",
    "\n",
    "remove_duplicates_query1 = \"\"\"\n",
    "\n",
    "\n",
    "SET SESSION old_alter_table=1;\n",
    "\n",
    "\n",
    "\"\"\"\n",
    "\n",
    "remove_duplicates_query2 = \"\"\"\n",
    "\n",
    "alter ignore table paysim_data2 add unique index u(amount,nameOrig,nameDest);\n",
    "\n",
    "\n",
    "\"\"\"\n",
    "\n",
    "\n",
    "remove_duplicates_query3 = \"\"\"\n",
    "SET SESSION old_alter_table=0;\n",
    "\n",
    "\n",
    "\"\"\"\n",
    "\n",
    "\n",
    "# removing duplicates takes too long will just search for duplicates\n",
    "# The dataset has 6M rows every duplicate remove I found \n",
    "# does a n^2 operation which is too many for this DB\n",
    "# other methods (CTE) don't work\n",
    "mycursor.execute(\"begin;\")\n",
    "mycursor.execute(search_for_duplicates_query)\n",
    "results = mycursor.fetchall()\n",
    "\n",
    "print(\"following are duplicate rows in the SQL DB:\\n\")\n",
    "for myresult in results:\n",
    "    print(myresult)\n",
    "print(\"\\ndone searching for duplicates\\n\")\n",
    "\n",
    "print(\"removing duplicates\\n\")\n",
    "mycursor.execute(\"begin;\")\n",
    "mycursor.execute(remove_duplicates_query1)\n",
    "mycursor.execute(\"commit;\")\n",
    "mycursor.execute(remove_duplicates_query2)\n",
    "mycursor.execute(\"commit;\")\n",
    "mycursor.execute(remove_duplicates_query3)\n",
    "mycursor.execute(\"commit;\")\n",
    "print(\"\\ndone removing duplicates\\n\")\n"
   ]
  },
  {
   "cell_type": "markdown",
   "metadata": {},
   "source": [
    "**Yes**"
   ]
  },
  {
   "cell_type": "markdown",
   "metadata": {},
   "source": [
    "## EDA"
   ]
  },
  {
   "cell_type": "markdown",
   "metadata": {},
   "source": [
    "Read the SQL into a data frame"
   ]
  },
  {
   "cell_type": "code",
   "execution_count": 76,
   "metadata": {
    "execution": {
     "iopub.execute_input": "2020-10-21T13:04:13.607183Z",
     "iopub.status.busy": "2020-10-21T13:04:13.606879Z",
     "iopub.status.idle": "2020-10-21T13:07:31.308307Z",
     "shell.execute_reply": "2020-10-21T13:07:31.307562Z",
     "shell.execute_reply.started": "2020-10-21T13:04:13.607151Z"
    }
   },
   "outputs": [],
   "source": [
    "get_paysim_data2_table_query = \"select * from paysim_data2;\"\n",
    "paysim_data_df = pd.read_sql(get_paysim_data2_table_query,connection)"
   ]
  },
  {
   "cell_type": "code",
   "execution_count": 77,
   "metadata": {
    "execution": {
     "iopub.execute_input": "2020-10-21T13:09:46.516539Z",
     "iopub.status.busy": "2020-10-21T13:09:46.516260Z",
     "iopub.status.idle": "2020-10-21T13:09:46.534910Z",
     "shell.execute_reply": "2020-10-21T13:09:46.534419Z",
     "shell.execute_reply.started": "2020-10-21T13:09:46.516509Z"
    }
   },
   "outputs": [
    {
     "data": {
      "text/html": [
       "<div>\n",
       "<style scoped>\n",
       "    .dataframe tbody tr th:only-of-type {\n",
       "        vertical-align: middle;\n",
       "    }\n",
       "\n",
       "    .dataframe tbody tr th {\n",
       "        vertical-align: top;\n",
       "    }\n",
       "\n",
       "    .dataframe thead th {\n",
       "        text-align: right;\n",
       "    }\n",
       "</style>\n",
       "<table border=\"1\" class=\"dataframe\">\n",
       "  <thead>\n",
       "    <tr style=\"text-align: right;\">\n",
       "      <th></th>\n",
       "      <th>id</th>\n",
       "      <th>step</th>\n",
       "      <th>transtype</th>\n",
       "      <th>amount</th>\n",
       "      <th>nameOrig</th>\n",
       "      <th>oldbalanceOrg</th>\n",
       "      <th>newbalanceOrig</th>\n",
       "      <th>nameDest</th>\n",
       "      <th>oldbalanceDest</th>\n",
       "      <th>newbalanceDest</th>\n",
       "      <th>isFraud</th>\n",
       "      <th>isFlaggedFraud</th>\n",
       "    </tr>\n",
       "  </thead>\n",
       "  <tbody>\n",
       "    <tr>\n",
       "      <th>0</th>\n",
       "      <td>1</td>\n",
       "      <td>1</td>\n",
       "      <td>PAYMENT</td>\n",
       "      <td>9839.64</td>\n",
       "      <td>C1231006815</td>\n",
       "      <td>170136.0</td>\n",
       "      <td>160296.36</td>\n",
       "      <td>M1979787155</td>\n",
       "      <td>0.0</td>\n",
       "      <td>0.0</td>\n",
       "      <td>0</td>\n",
       "      <td>0</td>\n",
       "    </tr>\n",
       "    <tr>\n",
       "      <th>1</th>\n",
       "      <td>2</td>\n",
       "      <td>1</td>\n",
       "      <td>PAYMENT</td>\n",
       "      <td>1864.28</td>\n",
       "      <td>C1666544295</td>\n",
       "      <td>21249.0</td>\n",
       "      <td>19384.72</td>\n",
       "      <td>M2044282225</td>\n",
       "      <td>0.0</td>\n",
       "      <td>0.0</td>\n",
       "      <td>0</td>\n",
       "      <td>0</td>\n",
       "    </tr>\n",
       "    <tr>\n",
       "      <th>2</th>\n",
       "      <td>3</td>\n",
       "      <td>1</td>\n",
       "      <td>TRANSFER</td>\n",
       "      <td>181.00</td>\n",
       "      <td>C1305486145</td>\n",
       "      <td>181.0</td>\n",
       "      <td>0.00</td>\n",
       "      <td>C553264065</td>\n",
       "      <td>0.0</td>\n",
       "      <td>0.0</td>\n",
       "      <td>1</td>\n",
       "      <td>0</td>\n",
       "    </tr>\n",
       "    <tr>\n",
       "      <th>3</th>\n",
       "      <td>4</td>\n",
       "      <td>1</td>\n",
       "      <td>CASH_OUT</td>\n",
       "      <td>181.00</td>\n",
       "      <td>C840083671</td>\n",
       "      <td>181.0</td>\n",
       "      <td>0.00</td>\n",
       "      <td>C38997010</td>\n",
       "      <td>21182.0</td>\n",
       "      <td>0.0</td>\n",
       "      <td>1</td>\n",
       "      <td>0</td>\n",
       "    </tr>\n",
       "    <tr>\n",
       "      <th>4</th>\n",
       "      <td>5</td>\n",
       "      <td>1</td>\n",
       "      <td>PAYMENT</td>\n",
       "      <td>11668.14</td>\n",
       "      <td>C2048537720</td>\n",
       "      <td>41554.0</td>\n",
       "      <td>29885.86</td>\n",
       "      <td>M1230701703</td>\n",
       "      <td>0.0</td>\n",
       "      <td>0.0</td>\n",
       "      <td>0</td>\n",
       "      <td>0</td>\n",
       "    </tr>\n",
       "  </tbody>\n",
       "</table>\n",
       "</div>"
      ],
      "text/plain": [
       "   id  step transtype    amount     nameOrig  oldbalanceOrg  newbalanceOrig  \\\n",
       "0   1     1   PAYMENT   9839.64  C1231006815       170136.0       160296.36   \n",
       "1   2     1   PAYMENT   1864.28  C1666544295        21249.0        19384.72   \n",
       "2   3     1  TRANSFER    181.00  C1305486145          181.0            0.00   \n",
       "3   4     1  CASH_OUT    181.00   C840083671          181.0            0.00   \n",
       "4   5     1   PAYMENT  11668.14  C2048537720        41554.0        29885.86   \n",
       "\n",
       "      nameDest  oldbalanceDest  newbalanceDest  isFraud  isFlaggedFraud  \n",
       "0  M1979787155             0.0             0.0        0               0  \n",
       "1  M2044282225             0.0             0.0        0               0  \n",
       "2   C553264065             0.0             0.0        1               0  \n",
       "3    C38997010         21182.0             0.0        1               0  \n",
       "4  M1230701703             0.0             0.0        0               0  "
      ]
     },
     "execution_count": 77,
     "metadata": {},
     "output_type": "execute_result"
    }
   ],
   "source": [
    "paysim_data_df.head()"
   ]
  },
  {
   "cell_type": "markdown",
   "metadata": {},
   "source": [
    "Initial thought is that `isFraud` is basically a function of `type` and `amount`"
   ]
  },
  {
   "cell_type": "markdown",
   "metadata": {},
   "source": [
    "one-hot-encoding `type`"
   ]
  },
  {
   "cell_type": "code",
   "execution_count": null,
   "metadata": {},
   "outputs": [],
   "source": [
    "ohe = OneHotEncoder(sparse=False)\n",
    "\n",
    "np_data_type = np.array(data_df[\"type\"])\n",
    "np_data_type = np_data_type.reshape(-1,1)\n",
    "np_data_type.shape\n",
    "\n"
   ]
  },
  {
   "cell_type": "code",
   "execution_count": null,
   "metadata": {},
   "outputs": [],
   "source": [
    "np_data_type_ohe = ohe.fit_transform(np_data_type)\n",
    "np_data_type_ohe.shape"
   ]
  },
  {
   "cell_type": "code",
   "execution_count": null,
   "metadata": {},
   "outputs": [],
   "source": [
    "np_data_type_ohe_df= pd.DataFrame(np_data_type_ohe,\n",
    "                           columns=ohe.get_feature_names(['type']), #create meaningful column names\n",
    "                           index=data_df.index) #keep the same index values\n",
    "\n",
    "#np_data_type_ohe_df.head()\n",
    "\n",
    "#combine continuous and categorical data\n",
    "\n",
    "data_df = pd.concat([data_df, np_data_type_ohe_df], axis=1)\n",
    "data_df.head()"
   ]
  },
  {
   "cell_type": "markdown",
   "metadata": {},
   "source": [
    "A plot to help me understand how mixed together `isFraud==0` is with `isFraud==1` as a function of `type` and `amount`"
   ]
  },
  {
   "cell_type": "code",
   "execution_count": null,
   "metadata": {},
   "outputs": [],
   "source": [
    "NUM_OF_RANDOM_SAMPLES = 6000\n",
    "\n",
    "plot_data_df = data_df[[\"step\",\"isFraud\",\"amount\",\"type_CASH_IN\",\"type_CASH_OUT\",\"type_DEBIT\",\"type_PAYMENT\",\"type_TRANSFER\"]]\n",
    "#limit to the first time step\n",
    "plot_data_df = plot_data_df[ plot_data_df[\"step\"] == 1 ]\n",
    "#np_plot_data_df_indices = list(np.random.permutation(np.array(list(plot_data_df.index)))[:5000])\n",
    "#sns.pairplot(plot_data_df.iloc[[np_plot_data_df_indices]], hue='isFraud');"
   ]
  },
  {
   "cell_type": "code",
   "execution_count": null,
   "metadata": {},
   "outputs": [],
   "source": [
    "#This code is generating the index numbers for data frame plot_data_df\n",
    "#then randomizing the list containing those indices\n",
    "#then picking the first NUM_OF_RANDOM_SAMPLES from that list\n",
    "#this list of randomly picked indices will be used to pick the corresponding\n",
    "#rows out of plot_data_df to be used in the pair plot\n",
    "#to plot all 6M rows is not practical (on this machine) \n",
    "plot_data_df_indices = list(plot_data_df.index)\n",
    "plot_data_df_indices = np.random.permutation(plot_data_df_indices)\n",
    "plot_data_df_indices = plot_data_df_indices[:NUM_OF_RANDOM_SAMPLES]\n",
    "plot_data_df_indices = list(plot_data_df_indices)\n"
   ]
  },
  {
   "cell_type": "code",
   "execution_count": null,
   "metadata": {},
   "outputs": [],
   "source": [
    " plot_data_df = plot_data_df.iloc[plot_data_df_indices]"
   ]
  },
  {
   "cell_type": "code",
   "execution_count": null,
   "metadata": {},
   "outputs": [],
   "source": [
    "plot_data_df.shape"
   ]
  },
  {
   "cell_type": "code",
   "execution_count": null,
   "metadata": {},
   "outputs": [],
   "source": [
    "plot_data_df.head()"
   ]
  },
  {
   "cell_type": "code",
   "execution_count": null,
   "metadata": {},
   "outputs": [],
   "source": [
    "sns.pairplot(plot_data_df, hue='isFraud');"
   ]
  },
  {
   "cell_type": "markdown",
   "metadata": {},
   "source": [
    "Not looking like good parameters :("
   ]
  },
  {
   "cell_type": "markdown",
   "metadata": {},
   "source": [
    "## Baseline Model"
   ]
  },
  {
   "cell_type": "markdown",
   "metadata": {},
   "source": [
    "Random Guessing (50% chance of `isFraud==1` and 50% chance that `isFraud==0` will be the baseline model"
   ]
  },
  {
   "cell_type": "code",
   "execution_count": null,
   "metadata": {},
   "outputs": [],
   "source": [
    "data_df.shape"
   ]
  },
  {
   "cell_type": "code",
   "execution_count": null,
   "metadata": {},
   "outputs": [],
   "source": [
    "X = data_df[[\"step\",\"amount\",\"type_CASH_IN\",\"type_CASH_OUT\",\"type_DEBIT\",\"type_PAYMENT\",\"type_TRANSFER\"]]\n",
    "Y = data_df[\"isFraud\"]\n",
    "X_train, X_test, Y_train, Y_test = train_test_split(X, Y,test_size=TEST_SIZE, random_state=RANDOM_STATE)\n",
    "\n",
    "number_of_test_samples = X_test.shape[0]\n",
    "y_pred_zero = np.zeros(number_of_test_samples // 2)\n",
    "y_pred_one = np.ones( number_of_test_samples -  y_pred_zero.shape[0] )\n",
    "\n",
    "y_pred = np.array([y_pred_zero, y_pred_one])\n",
    "y_pred = y_pred.reshape(-1,)\n",
    "y_pred = np.random.permutation(y_pred)\n",
    "\n",
    "\n"
   ]
  },
  {
   "cell_type": "markdown",
   "metadata": {},
   "source": [
    "Scoring the baseline model"
   ]
  },
  {
   "cell_type": "code",
   "execution_count": null,
   "metadata": {},
   "outputs": [],
   "source": [
    "target_names = [\"NotFraud\",\"Fraud\"]\n",
    "print(classification_report(Y_test, y_pred,target_names=target_names))"
   ]
  },
  {
   "cell_type": "markdown",
   "metadata": {},
   "source": [
    "Thoughts about random guessing model:\n",
    "\n",
    "Precision (TP/(TP+FP)) and recall (TP/(TP+FN)) are high for the `NotFraud` class because most (99.97%) of the response variables in the test set are `NotFraud`. Precision and recall are very low for `Fraud` because there are very few chances to guess right and the random guessing model does not perform well in identifying them.\n",
    "\n",
    "Accuracy is meaningless for the same reason: It's easy to get 50% right as the vast majority of the results belong to one class. \n",
    "\n",
    "TODO: generate confusion matrix which will help illustrate this."
   ]
  },
  {
   "cell_type": "markdown",
   "metadata": {},
   "source": [
    "## Model Selection"
   ]
  },
  {
   "cell_type": "markdown",
   "metadata": {},
   "source": [
    "Just some notes about what model to select:\n",
    "\n",
    "**Logistic Models**\n",
    "For small datasets, ‘liblinear’ is a good choice, whereas ‘sag’ and ‘saga’ are faster for large ones.\n",
    "\n",
    "Note that ‘sag’ and ‘saga’ fast convergence is only guaranteed on features with approximately the same scale. You can preprocess the data with a scaler from sklearn.preprocessing.\n",
    "\n"
   ]
  },
  {
   "cell_type": "markdown",
   "metadata": {},
   "source": [
    "## Model Evaluation"
   ]
  },
  {
   "cell_type": "code",
   "execution_count": null,
   "metadata": {},
   "outputs": [],
   "source": [
    "#Since I'm using values that are either 1 or 0 along with amount which is a very large number, will normalize the data\n",
    "#to aid gradient descent\n",
    "normalizer = StandardScaler()\n",
    "X_train_normal = normalizer.fit_transform(X_train.values)\n",
    "X_test_normal = normalizer.transform(X_test.values)\n",
    "\n",
    "#logisticRModel = LogisticRegressionCV(Cs=100,cv=5,solver=\"sag\",n_jobs=-1,random_state=RANDOM_STATE)\n",
    "logisticRModel = LogisticRegression(C=100,solver=\"sag\",n_jobs=-1,random_state=RANDOM_STATE)\n",
    "\n",
    "logisticRModel.fit(X_train_normal,Y_train)"
   ]
  },
  {
   "cell_type": "code",
   "execution_count": null,
   "metadata": {},
   "outputs": [],
   "source": [
    "Y_pred = logisticRModel.predict(X_test_normal)"
   ]
  },
  {
   "cell_type": "code",
   "execution_count": null,
   "metadata": {},
   "outputs": [],
   "source": [
    "print(classification_report(Y_test, Y_pred,target_names=target_names))"
   ]
  },
  {
   "cell_type": "code",
   "execution_count": null,
   "metadata": {},
   "outputs": [],
   "source": [
    "logisticRModel.score(X_test_normal,Y_test)"
   ]
  },
  {
   "cell_type": "code",
   "execution_count": null,
   "metadata": {},
   "outputs": [],
   "source": [
    "Y_test.value_counts()"
   ]
  },
  {
   "cell_type": "code",
   "execution_count": null,
   "metadata": {},
   "outputs": [],
   "source": [
    "Y_pred_df = pd.DataFrame(Y_pred)\n",
    "Y_pred_df.value_counts()"
   ]
  },
  {
   "cell_type": "code",
   "execution_count": null,
   "metadata": {},
   "outputs": [],
   "source": [
    "logisticRModel.coef_"
   ]
  },
  {
   "cell_type": "markdown",
   "metadata": {},
   "source": [
    "Thoughts about baseline logistic model:\n",
    "\n",
    "Precision (TP/(TP+FP)) and recall (TP/(TP+FN)) are high for the `NotFraud` because most(99.97%) of the response variables in the test set are `NotFraud`. Precision and recall are very low for `Fraud` because there are very few chances to guess right and the random guessing model does not perform well in identify them.\n",
    "\n",
    "Accuracy is meaningless for the same reason: It's easy to get 50% right as the vast majority of the results belong to one class. \n",
    "\n",
    "TODO: generate confusion matrix which will help illustrate this."
   ]
  },
  {
   "cell_type": "code",
   "execution_count": null,
   "metadata": {},
   "outputs": [],
   "source": []
  }
 ],
 "metadata": {
  "kernelspec": {
   "display_name": "Python 3",
   "language": "python",
   "name": "python3"
  },
  "language_info": {
   "codemirror_mode": {
    "name": "ipython",
    "version": 3
   },
   "file_extension": ".py",
   "mimetype": "text/x-python",
   "name": "python",
   "nbconvert_exporter": "python",
   "pygments_lexer": "ipython3",
   "version": "3.8.3"
  }
 },
 "nbformat": 4,
 "nbformat_minor": 4
}
