{
 "cells": [
  {
   "cell_type": "markdown",
   "metadata": {},
   "source": [
    "# Project 3\n",
    "Fraud detection. Using dataset from Kaggle."
   ]
  },
  {
   "cell_type": "markdown",
   "metadata": {},
   "source": [
    "## Importing Modules"
   ]
  },
  {
   "cell_type": "code",
   "execution_count": 79,
   "metadata": {
    "execution": {
     "iopub.execute_input": "2020-10-23T05:37:30.866098Z",
     "iopub.status.busy": "2020-10-23T05:37:30.865837Z",
     "iopub.status.idle": "2020-10-23T05:37:30.873782Z",
     "shell.execute_reply": "2020-10-23T05:37:30.873174Z",
     "shell.execute_reply.started": "2020-10-23T05:37:30.866070Z"
    }
   },
   "outputs": [],
   "source": [
    "from bs4 import BeautifulSoup\n",
    "from random import randint\n",
    "import pandas as pd\n",
    "import numpy as np\n",
    "import matplotlib.pyplot as plt\n",
    "import requests\n",
    "import re\n",
    "import time\n",
    "import pickle\n",
    "import os\n",
    "import datetime\n",
    "import seaborn as sns\n",
    "import math\n",
    "import scipy.stats as stats\n",
    "\n",
    "#from sklearn.linear_model import LinearRegression\n",
    "#from sklearn.linear_model import LogisticRegressionCV\n",
    "#from sklearn.linear_model import LogisticRegression\n",
    "\n",
    "from sklearn.linear_model import Ridge\n",
    "from sklearn.linear_model import Lasso\n",
    "from sklearn.linear_model import RidgeCV\n",
    "from sklearn.linear_model import LassoCV\n",
    "#from sklearn.model_selection import train_test_split\n",
    "from sklearn.preprocessing import PolynomialFeatures\n",
    "from sklearn.model_selection import cross_validate\n",
    "from sklearn.model_selection import KFold\n",
    "from sklearn.pipeline import Pipeline\n",
    "from sklearn.preprocessing import StandardScaler\n",
    "from sklearn.model_selection import cross_val_score\n",
    "from sklearn.model_selection import cross_validate\n",
    "from sklearn.preprocessing import OneHotEncoder, StandardScaler\n",
    "from sklearn.metrics import plot_confusion_matrix, plot_roc_curve, classification_report\n",
    "\n",
    "import pymysql.cursors\n",
    "import sys\n",
    "\n",
    "import cudf\n",
    "import gc\n",
    "from cuml import train_test_split\n",
    "from cuml.linear_model import LogisticRegression\n",
    "from cuml import LinearRegression\n",
    "import cupy as cnp"
   ]
  },
  {
   "cell_type": "code",
   "execution_count": 2,
   "metadata": {
    "execution": {
     "iopub.execute_input": "2020-10-23T03:44:19.942803Z",
     "iopub.status.busy": "2020-10-23T03:44:19.942647Z",
     "iopub.status.idle": "2020-10-23T03:44:19.945492Z",
     "shell.execute_reply": "2020-10-23T03:44:19.944954Z",
     "shell.execute_reply.started": "2020-10-23T03:44:19.942783Z"
    }
   },
   "outputs": [],
   "source": [
    "#Constants\n",
    "RANDOM_STATE = 999\n",
    "TEST_SIZE = 0.1\n",
    "\n",
    "#set this to 1 if you want to see this\n",
    "#notebook create the table and import the CSV into the table\n",
    "#on the My SQL server\n",
    "RUN_TABLE_CREATE_IMPORT = 0"
   ]
  },
  {
   "cell_type": "markdown",
   "metadata": {},
   "source": [
    "## Data Download and Load Into SQL"
   ]
  },
  {
   "cell_type": "markdown",
   "metadata": {},
   "source": [
    "Note if you want a copy of the data you can download it from [here](https://www.kaggle.com/ntnu-testimon/paysim1) "
   ]
  },
  {
   "cell_type": "code",
   "execution_count": 3,
   "metadata": {
    "execution": {
     "iopub.execute_input": "2020-10-23T03:44:19.946677Z",
     "iopub.status.busy": "2020-10-23T03:44:19.946532Z",
     "iopub.status.idle": "2020-10-23T03:44:23.236882Z",
     "shell.execute_reply": "2020-10-23T03:44:23.236194Z",
     "shell.execute_reply.started": "2020-10-23T03:44:19.946660Z"
    }
   },
   "outputs": [],
   "source": [
    "#just reading enough to get the names of the columns\n",
    "data_df = cudf.read_csv(\"../Data/PS_20174392719_1491204439457_log.csv\",nrows=5)"
   ]
  },
  {
   "cell_type": "code",
   "execution_count": 4,
   "metadata": {
    "execution": {
     "iopub.execute_input": "2020-10-23T03:44:23.238058Z",
     "iopub.status.busy": "2020-10-23T03:44:23.237906Z",
     "iopub.status.idle": "2020-10-23T03:44:23.243031Z",
     "shell.execute_reply": "2020-10-23T03:44:23.242600Z",
     "shell.execute_reply.started": "2020-10-23T03:44:23.238037Z"
    }
   },
   "outputs": [
    {
     "name": "stdout",
     "output_type": "stream",
     "text": [
      "step\n",
      "amount\n",
      "nameOrig\n",
      "oldbalanceOrg\n",
      "newbalanceOrig\n",
      "nameDest\n",
      "oldbalanceDest\n",
      "newbalanceDest\n",
      "isFraud\n",
      "isFlaggedFraud\n",
      "transtype\n"
     ]
    }
   ],
   "source": [
    "#Getting column names\n",
    "COL_NAMES = data_df.columns\n",
    "COL_NAMES = list(COL_NAMES)\n",
    "COL_NAMES.remove(\"type\")\n",
    "COL_NAMES.append(\"transtype\")\n",
    "for i, a_col in enumerate(COL_NAMES):\n",
    "    print(a_col)"
   ]
  },
  {
   "cell_type": "code",
   "execution_count": 5,
   "metadata": {
    "execution": {
     "iopub.execute_input": "2020-10-23T03:44:23.243818Z",
     "iopub.status.busy": "2020-10-23T03:44:23.243674Z",
     "iopub.status.idle": "2020-10-23T03:44:23.283494Z",
     "shell.execute_reply": "2020-10-23T03:44:23.282942Z",
     "shell.execute_reply.started": "2020-10-23T03:44:23.243800Z"
    }
   },
   "outputs": [
    {
     "data": {
      "text/html": [
       "<div>\n",
       "<style scoped>\n",
       "    .dataframe tbody tr th:only-of-type {\n",
       "        vertical-align: middle;\n",
       "    }\n",
       "\n",
       "    .dataframe tbody tr th {\n",
       "        vertical-align: top;\n",
       "    }\n",
       "\n",
       "    .dataframe thead th {\n",
       "        text-align: right;\n",
       "    }\n",
       "</style>\n",
       "<table border=\"1\" class=\"dataframe\">\n",
       "  <thead>\n",
       "    <tr style=\"text-align: right;\">\n",
       "      <th></th>\n",
       "      <th>step</th>\n",
       "      <th>type</th>\n",
       "      <th>amount</th>\n",
       "      <th>nameOrig</th>\n",
       "      <th>oldbalanceOrg</th>\n",
       "      <th>newbalanceOrig</th>\n",
       "      <th>nameDest</th>\n",
       "      <th>oldbalanceDest</th>\n",
       "      <th>newbalanceDest</th>\n",
       "      <th>isFraud</th>\n",
       "      <th>isFlaggedFraud</th>\n",
       "    </tr>\n",
       "  </thead>\n",
       "  <tbody>\n",
       "    <tr>\n",
       "      <th>0</th>\n",
       "      <td>1</td>\n",
       "      <td>PAYMENT</td>\n",
       "      <td>9839.64</td>\n",
       "      <td>C1231006815</td>\n",
       "      <td>170136.0</td>\n",
       "      <td>160296.36</td>\n",
       "      <td>M1979787155</td>\n",
       "      <td>0.0</td>\n",
       "      <td>0.0</td>\n",
       "      <td>0</td>\n",
       "      <td>0</td>\n",
       "    </tr>\n",
       "    <tr>\n",
       "      <th>1</th>\n",
       "      <td>1</td>\n",
       "      <td>PAYMENT</td>\n",
       "      <td>1864.28</td>\n",
       "      <td>C1666544295</td>\n",
       "      <td>21249.0</td>\n",
       "      <td>19384.72</td>\n",
       "      <td>M2044282225</td>\n",
       "      <td>0.0</td>\n",
       "      <td>0.0</td>\n",
       "      <td>0</td>\n",
       "      <td>0</td>\n",
       "    </tr>\n",
       "    <tr>\n",
       "      <th>2</th>\n",
       "      <td>1</td>\n",
       "      <td>TRANSFER</td>\n",
       "      <td>181.00</td>\n",
       "      <td>C1305486145</td>\n",
       "      <td>181.0</td>\n",
       "      <td>0.00</td>\n",
       "      <td>C553264065</td>\n",
       "      <td>0.0</td>\n",
       "      <td>0.0</td>\n",
       "      <td>1</td>\n",
       "      <td>0</td>\n",
       "    </tr>\n",
       "    <tr>\n",
       "      <th>3</th>\n",
       "      <td>1</td>\n",
       "      <td>CASH_OUT</td>\n",
       "      <td>181.00</td>\n",
       "      <td>C840083671</td>\n",
       "      <td>181.0</td>\n",
       "      <td>0.00</td>\n",
       "      <td>C38997010</td>\n",
       "      <td>21182.0</td>\n",
       "      <td>0.0</td>\n",
       "      <td>1</td>\n",
       "      <td>0</td>\n",
       "    </tr>\n",
       "    <tr>\n",
       "      <th>4</th>\n",
       "      <td>1</td>\n",
       "      <td>PAYMENT</td>\n",
       "      <td>11668.14</td>\n",
       "      <td>C2048537720</td>\n",
       "      <td>41554.0</td>\n",
       "      <td>29885.86</td>\n",
       "      <td>M1230701703</td>\n",
       "      <td>0.0</td>\n",
       "      <td>0.0</td>\n",
       "      <td>0</td>\n",
       "      <td>0</td>\n",
       "    </tr>\n",
       "  </tbody>\n",
       "</table>\n",
       "</div>"
      ],
      "text/plain": [
       "   step      type    amount     nameOrig  oldbalanceOrg  newbalanceOrig  \\\n",
       "0     1   PAYMENT   9839.64  C1231006815       170136.0       160296.36   \n",
       "1     1   PAYMENT   1864.28  C1666544295        21249.0        19384.72   \n",
       "2     1  TRANSFER    181.00  C1305486145          181.0            0.00   \n",
       "3     1  CASH_OUT    181.00   C840083671          181.0            0.00   \n",
       "4     1   PAYMENT  11668.14  C2048537720        41554.0        29885.86   \n",
       "\n",
       "      nameDest  oldbalanceDest  newbalanceDest  isFraud  isFlaggedFraud  \n",
       "0  M1979787155             0.0             0.0        0               0  \n",
       "1  M2044282225             0.0             0.0        0               0  \n",
       "2   C553264065             0.0             0.0        1               0  \n",
       "3    C38997010         21182.0             0.0        1               0  \n",
       "4  M1230701703             0.0             0.0        0               0  "
      ]
     },
     "execution_count": 5,
     "metadata": {},
     "output_type": "execute_result"
    }
   ],
   "source": [
    "#What type of data is in each column?\n",
    "data_df.head()"
   ]
  },
  {
   "cell_type": "code",
   "execution_count": 6,
   "metadata": {
    "execution": {
     "iopub.execute_input": "2020-10-23T03:44:23.284326Z",
     "iopub.status.busy": "2020-10-23T03:44:23.284180Z",
     "iopub.status.idle": "2020-10-23T03:44:23.288676Z",
     "shell.execute_reply": "2020-10-23T03:44:23.288234Z",
     "shell.execute_reply.started": "2020-10-23T03:44:23.284307Z"
    }
   },
   "outputs": [],
   "source": [
    "#Establishing connection to mariaDB server\n",
    "#Note, sever_details.txt is not provided you'll have to ask me for it\n",
    "if sys.platform == 'linux':\n",
    "    server_details_file_name = \"/home/magreen/Dropbox/PERSONAL/Documents/Word/server_details.txt\"\n",
    "elif sys.platform == 'darwin':\n",
    "    server_details_file_name = \"/Users/magreen/Dropbox/PERSONAL/Documents/Word/server_details.txt\"\n",
    "else:\n",
    "    print(\"WARNING: You are running on a system type I have not tested. Please contact me if you want help testing this.\")\n",
    "\n",
    "SERVER_DETAILS = open(server_details_file_name,\"r\")\n",
    "line_of_text = SERVER_DETAILS.readline()\n",
    "\n",
    "host_name, username, mypassword, db_name = line_of_text.split(',')\n",
    "\n",
    "host_name = host_name.rstrip()\n",
    "host_name = host_name.lstrip()\n",
    "username = username.rstrip()\n",
    "username = username.lstrip()\n",
    "mypassword = mypassword.rstrip()\n",
    "mypassword = mypassword.lstrip()\n",
    "db_name = db_name.rstrip()\n",
    "db_name = db_name.lstrip()\n"
   ]
  },
  {
   "cell_type": "code",
   "execution_count": 7,
   "metadata": {
    "execution": {
     "iopub.execute_input": "2020-10-23T03:44:23.289436Z",
     "iopub.status.busy": "2020-10-23T03:44:23.289288Z",
     "iopub.status.idle": "2020-10-23T03:44:23.294317Z",
     "shell.execute_reply": "2020-10-23T03:44:23.293877Z",
     "shell.execute_reply.started": "2020-10-23T03:44:23.289418Z"
    }
   },
   "outputs": [],
   "source": [
    "data_df = None"
   ]
  },
  {
   "cell_type": "code",
   "execution_count": 8,
   "metadata": {
    "execution": {
     "iopub.execute_input": "2020-10-23T03:44:23.295612Z",
     "iopub.status.busy": "2020-10-23T03:44:23.295470Z",
     "iopub.status.idle": "2020-10-23T03:44:23.310880Z",
     "shell.execute_reply": "2020-10-23T03:44:23.309928Z",
     "shell.execute_reply.started": "2020-10-23T03:44:23.295595Z"
    }
   },
   "outputs": [],
   "source": [
    "connection = pymysql.connect(host=host_name, user=username, password=mypassword, db=db_name, cursorclass=pymysql.cursors.DictCursor)"
   ]
  },
  {
   "cell_type": "code",
   "execution_count": 9,
   "metadata": {
    "execution": {
     "iopub.execute_input": "2020-10-23T03:44:23.312705Z",
     "iopub.status.busy": "2020-10-23T03:44:23.312408Z",
     "iopub.status.idle": "2020-10-23T03:44:23.316256Z",
     "shell.execute_reply": "2020-10-23T03:44:23.315346Z",
     "shell.execute_reply.started": "2020-10-23T03:44:23.312669Z"
    }
   },
   "outputs": [],
   "source": [
    "#get a cursor\n",
    "mycursor = connection.cursor()"
   ]
  },
  {
   "cell_type": "code",
   "execution_count": 10,
   "metadata": {
    "execution": {
     "iopub.execute_input": "2020-10-23T03:44:23.317572Z",
     "iopub.status.busy": "2020-10-23T03:44:23.317344Z",
     "iopub.status.idle": "2020-10-23T03:44:23.323744Z",
     "shell.execute_reply": "2020-10-23T03:44:23.323062Z",
     "shell.execute_reply.started": "2020-10-23T03:44:23.317544Z"
    }
   },
   "outputs": [
    {
     "name": "stdout",
     "output_type": "stream",
     "text": [
      "Skipping MySQL table creation and CSV import\n"
     ]
    }
   ],
   "source": [
    "#Create table import entire CSV\n",
    "if RUN_TABLE_CREATE_IMPORT != 0:\n",
    "    drop_table_query = \"drop table if exists paysim_data2;\"\n",
    "\n",
    "    mycursor.execute(drop_table_query)\n",
    "    mycursor.execute(\"commit;\")\n",
    "\n",
    "    create_table_query = \"\"\"\n",
    "\n",
    "\n",
    "create table paysim_data2 (\n",
    "    step INT,\n",
    "    transtype VARCHAR(255),\n",
    "    amount REAL,\n",
    "    nameOrig VARCHAR(255),\n",
    "    oldbalanceOrg REAL,\n",
    "    newbalanceOrig REAL,\n",
    "    nameDest VARCHAR(255),\n",
    "    oldbalanceDest REAL,\n",
    "    newbalanceDest REAL,\n",
    "    isFraud INT,\n",
    "    isFlaggedFraud INT\n",
    "    );\n",
    "\n",
    "\n",
    "    \"\"\"\n",
    "    mycursor.execute(create_table_query)\n",
    "    mycursor.execute(\"commit;\")\n",
    "\n",
    "    import_query = \"\"\"\n",
    "\n",
    "\n",
    "load data infile '/var/lib/mysql-files/data/PS_20174392719_1491204439457_log.csv'\n",
    "into table paysim_data2 fields terminated by ','  lines terminated by '\\n'\n",
    "ignore 1 rows;\n",
    "\n",
    "    \"\"\"\n",
    "\n",
    "    mycursor.execute(import_query)\n",
    "    mycursor.execute(\"commit;\")\n",
    "    \n",
    "    #and a row ID to the table\n",
    "    alter_table_query = \"\"\"\n",
    "    alter table paysim_data2 add column id int auto_increment primary key first;\n",
    "    \"\"\"\n",
    "    mycursor.execute(alter_table_query)\n",
    "    mycursor.execute(\"commit;\")\n",
    "    print(\"table creation and import done\")\n",
    "else:\n",
    "    print(\"Skipping MySQL table creation and CSV import\")"
   ]
  },
  {
   "cell_type": "markdown",
   "metadata": {},
   "source": [
    "## Data Cleaning"
   ]
  },
  {
   "cell_type": "markdown",
   "metadata": {},
   "source": [
    "In this section I remove rows that contain null entries or duplicate entries from the SQL table."
   ]
  },
  {
   "cell_type": "code",
   "execution_count": 11,
   "metadata": {
    "execution": {
     "iopub.execute_input": "2020-10-23T03:44:23.324751Z",
     "iopub.status.busy": "2020-10-23T03:44:23.324584Z",
     "iopub.status.idle": "2020-10-23T03:44:23.330267Z",
     "shell.execute_reply": "2020-10-23T03:44:23.329621Z",
     "shell.execute_reply.started": "2020-10-23T03:44:23.324731Z"
    }
   },
   "outputs": [],
   "source": [
    "##Things I'm doing to test my data cleaning in SQL\n",
    "add_some_duplicates_nulls_query = \"\"\"\n",
    "\n",
    "insert into paysim_data2(step, transtype, amount, nameOrig, oldbalanceOrg, newbalanceOrig, nameDest, oldbalanceDest, newbalanceDest,isFraud,isFlaggedFraud) values(1,'PAYMENT',55,'Han Solo',100.0,45,'Princess Lea',0,55,0,0);\n",
    "insert into paysim_data2(step, transtype, amount, nameOrig, oldbalanceOrg, newbalanceOrig, nameDest, oldbalanceDest, newbalanceDest,isFraud,isFlaggedFraud) values(1,'PAYMENT',55,'Han Solo',100.0,45,'Princess Lea',0,55,0,0);\n",
    "\n",
    "\n",
    "insert into paysim_data2(step, transtype, amount, nameOrig, oldbalanceOrg, newbalanceOrig, nameDest, oldbalanceDest, newbalanceDest,isFraud,isFlaggedFraud) values(1,'PAYMENT',NULL,'C3PO',100.0,45,'R2D2',0,55,0,0);\n",
    "insert into paysim_data2(step, transtype, amount, nameOrig, oldbalanceOrg, newbalanceOrig, nameDest, oldbalanceDest, newbalanceDest,isFraud,isFlaggedFraud) values(1,'PAYMENT',10,'Luke',100.0,90,'Wedge',0,NULL,0,0);\n",
    "\n",
    "\n",
    "\n",
    "\"\"\"\n",
    "#mycursor.execute(add_some_duplicates_nulls_query)\n",
    "#mycursor.execute(\"commit;\")\n"
   ]
  },
  {
   "cell_type": "code",
   "execution_count": 12,
   "metadata": {
    "execution": {
     "iopub.execute_input": "2020-10-23T03:44:23.331240Z",
     "iopub.status.busy": "2020-10-23T03:44:23.331080Z",
     "iopub.status.idle": "2020-10-23T03:44:55.392583Z",
     "shell.execute_reply": "2020-10-23T03:44:55.392020Z",
     "shell.execute_reply.started": "2020-10-23T03:44:23.331220Z"
    }
   },
   "outputs": [
    {
     "name": "stdout",
     "output_type": "stream",
     "text": [
      "For column = step here are the null rows:\n",
      "\n",
      "0\n",
      "\n",
      "\n",
      "For column = amount here are the null rows:\n",
      "\n",
      "0\n",
      "\n",
      "\n",
      "For column = nameOrig here are the null rows:\n",
      "\n",
      "0\n",
      "\n",
      "\n",
      "For column = oldbalanceOrg here are the null rows:\n",
      "\n",
      "0\n",
      "\n",
      "\n",
      "For column = newbalanceOrig here are the null rows:\n",
      "\n",
      "0\n",
      "\n",
      "\n",
      "For column = nameDest here are the null rows:\n",
      "\n",
      "0\n",
      "\n",
      "\n",
      "For column = oldbalanceDest here are the null rows:\n",
      "\n",
      "0\n",
      "\n",
      "\n",
      "For column = newbalanceDest here are the null rows:\n",
      "\n",
      "0\n",
      "\n",
      "\n",
      "For column = isFraud here are the null rows:\n",
      "\n",
      "0\n",
      "\n",
      "\n",
      "For column = isFlaggedFraud here are the null rows:\n",
      "\n",
      "0\n",
      "\n",
      "\n",
      "For column = transtype here are the null rows:\n",
      "\n",
      "0\n",
      "\n",
      "\n",
      "\n",
      "check done.\n",
      "\n"
     ]
    }
   ],
   "source": [
    "########################################################################\n",
    "#\n",
    "# Search each column in the MySQL table for null. If null remove the row\n",
    "#\n",
    "########################################################################\n",
    "for column_name in COL_NAMES:\n",
    "    temp_query = \"\"\"\n",
    "    \n",
    "    select * from paysim_data2 where {} is null;\n",
    "    \n",
    "    \"\"\".format(column_name)\n",
    "    \n",
    "    mycursor.execute(\"begin;\")\n",
    "    query_result = mycursor.execute(temp_query)\n",
    "    print(\"For column = {} here are the null rows:\\n\".format(column_name))\n",
    "    print(query_result)\n",
    "    print(\"\\n\")\n",
    "    \n",
    "    if query_result != 0:\n",
    "        row_contents = mycursor.fetchall()\n",
    "        print(\"This row contains NULL information:\\n\")\n",
    "        \n",
    "        for bad_row in row_contents:\n",
    "            print(row_contents)\n",
    "            \n",
    "        temp_efface_row_query = \"\"\"\n",
    "        delete from paysim_data2 where {} is null;\n",
    "        \"\"\".format(column_name)\n",
    "        \n",
    "        query_result = mycursor.execute(temp_efface_row_query)\n",
    "        \n",
    "        #print(\"result = {}\".format(query_result))\n",
    "        mycursor.execute(\"commit;\")\n",
    "        #print(\"result = {}\".format(query_result))\n",
    "        if query_result:\n",
    "            print(\"\\nsuccessfully removed row\\n\")\n",
    "        else:\n",
    "            print(\"error: failed to remove row!\")\n",
    "        \n",
    "    \n",
    "\n",
    "        \n",
    "print(\"\\ncheck done.\\n\")\n",
    "#Create table\n",
    "\n",
    "#import CSV Into SQL Table\n"
   ]
  },
  {
   "cell_type": "code",
   "execution_count": 13,
   "metadata": {
    "execution": {
     "iopub.execute_input": "2020-10-23T03:44:55.393712Z",
     "iopub.status.busy": "2020-10-23T03:44:55.393501Z",
     "iopub.status.idle": "2020-10-23T03:44:55.399849Z",
     "shell.execute_reply": "2020-10-23T03:44:55.399338Z",
     "shell.execute_reply.started": "2020-10-23T03:44:55.393685Z"
    }
   },
   "outputs": [],
   "source": [
    "########################################################################\n",
    "#\n",
    "# Search for duplicate rows. Remove the second-most row for every pair of duplicate rows\n",
    "#\n",
    "########################################################################\n",
    "\n",
    "search_for_duplicates_query = \"\"\"\n",
    "select\n",
    "     step, count(step),\n",
    "     transtype, count(transtype),\n",
    "     amount, count(amount),\n",
    "     nameOrig, count(nameOrig),\n",
    "     oldbalanceOrg, count(oldbalanceOrg),\n",
    "     newbalanceOrig, count(newbalanceOrig),\n",
    "     nameDest, count(nameDest),\n",
    "     oldbalanceDest, count(oldbalanceDest),\n",
    "     newbalanceDest, count(newbalanceDest),\n",
    "     isFraud, count(isFraud),\n",
    "     isFlaggedFraud, count(isFlaggedFraud)\n",
    "     from paysim_data2\n",
    "     group by step,transtype,amount,nameOrig,oldbalanceOrg,newbalanceOrig,nameDest,oldbalanceDest,newbalanceDest,isFraud,isFlaggedFraud\n",
    "     having\n",
    "     count(step) > 1 and\n",
    "     count(transtype) > 1 and\n",
    "     count(amount) > 1 and\n",
    "     count(nameOrig) > 1 and\n",
    "     count(oldbalanceOrg) > 1 and\n",
    "     count(newbalanceOrig) > 1 and\n",
    "     count(nameDest) > 1 and\n",
    "     count(oldbalanceDest) > 1 and\n",
    "     count(newbalanceDest) > 1 and\n",
    "     count(isFraud) > 1 and\n",
    "     count(isFlaggedFraud) > 1;\n",
    "\n",
    "\n",
    "\n",
    "\"\"\"\n",
    "\n",
    "remove_duplicates_query1 = \"\"\"\n",
    "\n",
    "\n",
    "SET SESSION old_alter_table=1;\n",
    "\n",
    "\n",
    "\"\"\"\n",
    "\n",
    "remove_duplicates_query2 = \"\"\"\n",
    "\n",
    "alter ignore table paysim_data2 add unique index u(amount,nameOrig,nameDest);\n",
    "\n",
    "\n",
    "\"\"\"\n",
    "\n",
    "\n",
    "remove_duplicates_query3 = \"\"\"\n",
    "SET SESSION old_alter_table=0;\n",
    "\n",
    "\n",
    "\"\"\"\n",
    "if RUN_TABLE_CREATE_IMPORT != 0:\n",
    "\n",
    "    # removing duplicates takes too long will just search for duplicates\n",
    "    # The dataset has 6M rows every duplicate remove I found \n",
    "    # does a n^2 operation which is too many for this DB\n",
    "    # other methods (CTE) don't work\n",
    "    mycursor.execute(\"begin;\")\n",
    "    mycursor.execute(search_for_duplicates_query)\n",
    "    results = mycursor.fetchall()\n",
    "\n",
    "    print(\"following are duplicate rows in the SQL DB:\\n\")\n",
    "    for myresult in results:\n",
    "        print(myresult)\n",
    "    print(\"\\ndone searching for duplicates\\n\")\n",
    "\n",
    "    print(\"removing duplicates\\n\")\n",
    "    mycursor.execute(\"begin;\")\n",
    "    mycursor.execute(remove_duplicates_query1)\n",
    "    mycursor.execute(\"commit;\")\n",
    "    mycursor.execute(remove_duplicates_query2)\n",
    "    mycursor.execute(\"commit;\")\n",
    "    mycursor.execute(remove_duplicates_query3)\n",
    "    mycursor.execute(\"commit;\")\n",
    "    print(\"\\ndone removing duplicates\\n\")\n"
   ]
  },
  {
   "cell_type": "markdown",
   "metadata": {},
   "source": [
    "**Yes**"
   ]
  },
  {
   "cell_type": "markdown",
   "metadata": {},
   "source": [
    "## EDA"
   ]
  },
  {
   "cell_type": "markdown",
   "metadata": {},
   "source": [
    "Things I want to do in this section:\n",
    "\n",
    "* Find a feature / features that enable me to separate the classes\n",
    "* Create a feature that will enable me to separate the classes\n",
    "* Determine if the classes are adequately represented in the data set or is this an imbalanced data set\n"
   ]
  },
  {
   "cell_type": "markdown",
   "metadata": {},
   "source": [
    "Read the SQL into a data frame"
   ]
  },
  {
   "cell_type": "code",
   "execution_count": 15,
   "metadata": {
    "execution": {
     "iopub.execute_input": "2020-10-23T03:50:30.150750Z",
     "iopub.status.busy": "2020-10-23T03:50:30.150491Z",
     "iopub.status.idle": "2020-10-23T03:53:40.410028Z",
     "shell.execute_reply": "2020-10-23T03:53:40.409315Z",
     "shell.execute_reply.started": "2020-10-23T03:50:30.150722Z"
    }
   },
   "outputs": [],
   "source": [
    "get_paysim_data2_table_query = \"select * from paysim_data2;\"\n",
    "paysim_data_df = pd.read_sql(get_paysim_data2_table_query,connection)\n",
    "paysim_data_df = cudf.from_pandas(paysim_data_df)"
   ]
  },
  {
   "cell_type": "code",
   "execution_count": 16,
   "metadata": {
    "execution": {
     "iopub.execute_input": "2020-10-23T03:54:46.475081Z",
     "iopub.status.busy": "2020-10-23T03:54:46.474803Z",
     "iopub.status.idle": "2020-10-23T03:54:46.526563Z",
     "shell.execute_reply": "2020-10-23T03:54:46.526100Z",
     "shell.execute_reply.started": "2020-10-23T03:54:46.475049Z"
    }
   },
   "outputs": [
    {
     "data": {
      "text/html": [
       "<div>\n",
       "<style scoped>\n",
       "    .dataframe tbody tr th:only-of-type {\n",
       "        vertical-align: middle;\n",
       "    }\n",
       "\n",
       "    .dataframe tbody tr th {\n",
       "        vertical-align: top;\n",
       "    }\n",
       "\n",
       "    .dataframe thead th {\n",
       "        text-align: right;\n",
       "    }\n",
       "</style>\n",
       "<table border=\"1\" class=\"dataframe\">\n",
       "  <thead>\n",
       "    <tr style=\"text-align: right;\">\n",
       "      <th></th>\n",
       "      <th>id</th>\n",
       "      <th>step</th>\n",
       "      <th>transtype</th>\n",
       "      <th>amount</th>\n",
       "      <th>nameOrig</th>\n",
       "      <th>oldbalanceOrg</th>\n",
       "      <th>newbalanceOrig</th>\n",
       "      <th>nameDest</th>\n",
       "      <th>oldbalanceDest</th>\n",
       "      <th>newbalanceDest</th>\n",
       "      <th>isFraud</th>\n",
       "      <th>isFlaggedFraud</th>\n",
       "    </tr>\n",
       "  </thead>\n",
       "  <tbody>\n",
       "    <tr>\n",
       "      <th>0</th>\n",
       "      <td>1</td>\n",
       "      <td>1</td>\n",
       "      <td>PAYMENT</td>\n",
       "      <td>9839.64</td>\n",
       "      <td>C1231006815</td>\n",
       "      <td>170136.0</td>\n",
       "      <td>160296.36</td>\n",
       "      <td>M1979787155</td>\n",
       "      <td>0.0</td>\n",
       "      <td>0.0</td>\n",
       "      <td>0</td>\n",
       "      <td>0</td>\n",
       "    </tr>\n",
       "    <tr>\n",
       "      <th>1</th>\n",
       "      <td>2</td>\n",
       "      <td>1</td>\n",
       "      <td>PAYMENT</td>\n",
       "      <td>1864.28</td>\n",
       "      <td>C1666544295</td>\n",
       "      <td>21249.0</td>\n",
       "      <td>19384.72</td>\n",
       "      <td>M2044282225</td>\n",
       "      <td>0.0</td>\n",
       "      <td>0.0</td>\n",
       "      <td>0</td>\n",
       "      <td>0</td>\n",
       "    </tr>\n",
       "    <tr>\n",
       "      <th>2</th>\n",
       "      <td>3</td>\n",
       "      <td>1</td>\n",
       "      <td>TRANSFER</td>\n",
       "      <td>181.00</td>\n",
       "      <td>C1305486145</td>\n",
       "      <td>181.0</td>\n",
       "      <td>0.00</td>\n",
       "      <td>C553264065</td>\n",
       "      <td>0.0</td>\n",
       "      <td>0.0</td>\n",
       "      <td>1</td>\n",
       "      <td>0</td>\n",
       "    </tr>\n",
       "    <tr>\n",
       "      <th>3</th>\n",
       "      <td>4</td>\n",
       "      <td>1</td>\n",
       "      <td>CASH_OUT</td>\n",
       "      <td>181.00</td>\n",
       "      <td>C840083671</td>\n",
       "      <td>181.0</td>\n",
       "      <td>0.00</td>\n",
       "      <td>C38997010</td>\n",
       "      <td>21182.0</td>\n",
       "      <td>0.0</td>\n",
       "      <td>1</td>\n",
       "      <td>0</td>\n",
       "    </tr>\n",
       "    <tr>\n",
       "      <th>4</th>\n",
       "      <td>5</td>\n",
       "      <td>1</td>\n",
       "      <td>PAYMENT</td>\n",
       "      <td>11668.14</td>\n",
       "      <td>C2048537720</td>\n",
       "      <td>41554.0</td>\n",
       "      <td>29885.86</td>\n",
       "      <td>M1230701703</td>\n",
       "      <td>0.0</td>\n",
       "      <td>0.0</td>\n",
       "      <td>0</td>\n",
       "      <td>0</td>\n",
       "    </tr>\n",
       "  </tbody>\n",
       "</table>\n",
       "</div>"
      ],
      "text/plain": [
       "   id  step transtype    amount     nameOrig  oldbalanceOrg  newbalanceOrig  \\\n",
       "0   1     1   PAYMENT   9839.64  C1231006815       170136.0       160296.36   \n",
       "1   2     1   PAYMENT   1864.28  C1666544295        21249.0        19384.72   \n",
       "2   3     1  TRANSFER    181.00  C1305486145          181.0            0.00   \n",
       "3   4     1  CASH_OUT    181.00   C840083671          181.0            0.00   \n",
       "4   5     1   PAYMENT  11668.14  C2048537720        41554.0        29885.86   \n",
       "\n",
       "      nameDest  oldbalanceDest  newbalanceDest  isFraud  isFlaggedFraud  \n",
       "0  M1979787155             0.0             0.0        0               0  \n",
       "1  M2044282225             0.0             0.0        0               0  \n",
       "2   C553264065             0.0             0.0        1               0  \n",
       "3    C38997010         21182.0             0.0        1               0  \n",
       "4  M1230701703             0.0             0.0        0               0  "
      ]
     },
     "execution_count": 16,
     "metadata": {},
     "output_type": "execute_result"
    }
   ],
   "source": [
    "paysim_data_df.head()"
   ]
  },
  {
   "cell_type": "markdown",
   "metadata": {},
   "source": [
    "Based on reading the paper here's how I think the data set works:\n",
    "\n",
    "\n",
    "TODO: Continue to explain the meaning of the various `transtype`s\n",
    "\n",
    "`CASH-IN`:\n",
    "This is an operation where `nameOrig` is putting money into his/her/their account. So in these transfers `newbalanceOrig` = `amount`+`oldbalanceOrg`\n",
    "\n",
    "\n",
    "\n",
    "From the paper here are the modes of fraud reflected in the data set:\n",
    "* transfers out money: the fraudster obtains access to another person's account. Then said fraudster cashes out this account or transfers the money to one or more destination accounts that the fraudster owns.\n",
    "* cashes out the money: the fraudster obtains access to another person's account. Then said fraudster converts the account balance to cash using a merchant as a conduit for the transaction. Either the fraudster can use the merchant as an ATM or makes a purchase and uses whatever cash remains as spare change as the ultimately desired funds\n",
    "* merchants withholding cash due a customer: merchants can as part of a normal transaction with a customer widthhold monies owed to a customer and fabricate a fake inbout transaction (cash-in). \n",
    "* The mobile system modeled by the researcher supports vouchers that facilitate paying money from a person who has a mobile account to another person who does not. There are many opportunities where these vouchers can either be counterfeited or already-invalid vouchers can be falsely offered by a merchant or by a customer who uses it as currency with someone who is not a user of the mobile payment system\n",
    "\n",
    "Given this I speculate that the following types of features may help to identify fraudulent rows (where `isFraud==1`):\n",
    "\n",
    "* Transactions where the `amount` that participates in the transaction is equal to `oldbalanceOrg` or to `newbalanceDest`, and where `newbalanceOrig` == 0 or `newbalanceOrig` < `oldbalanceOrg`\n"
   ]
  },
  {
   "cell_type": "code",
   "execution_count": 55,
   "metadata": {
    "execution": {
     "iopub.execute_input": "2020-10-23T05:23:15.693009Z",
     "iopub.status.busy": "2020-10-23T05:23:15.692754Z",
     "iopub.status.idle": "2020-10-23T05:23:20.566443Z",
     "shell.execute_reply": "2020-10-23T05:23:20.566019Z",
     "shell.execute_reply.started": "2020-10-23T05:23:15.692982Z"
    }
   },
   "outputs": [
    {
     "data": {
      "text/plain": [
       "pandas.core.frame.DataFrame"
      ]
     },
     "execution_count": 55,
     "metadata": {},
     "output_type": "execute_result"
    }
   ],
   "source": [
    "paysim_data_pdf = paysim_data_df.to_pandas()\n",
    "type(paysim_data_pdf)"
   ]
  },
  {
   "cell_type": "code",
   "execution_count": 56,
   "metadata": {
    "execution": {
     "iopub.execute_input": "2020-10-23T05:23:22.324666Z",
     "iopub.status.busy": "2020-10-23T05:23:22.324414Z",
     "iopub.status.idle": "2020-10-23T05:23:25.183703Z",
     "shell.execute_reply": "2020-10-23T05:23:25.183144Z",
     "shell.execute_reply.started": "2020-10-23T05:23:22.324636Z"
    }
   },
   "outputs": [
    {
     "name": "stdout",
     "output_type": "stream",
     "text": [
      "<class 'pandas.core.series.Series'>\n",
      "<class 'pandas.core.series.Series'>\n",
      "<class 'pandas.core.series.Series'>\n",
      "<class 'pandas.core.series.Series'>\n",
      "<class 'pandas.core.series.Series'>\n"
     ]
    }
   ],
   "source": [
    "# Things to plot\n",
    "#\n",
    "# histogram: X axis: Type of transfers. Y axis: Number of those transfers where isFraud == 1\n",
    "# historgram: X axis: Type of transfers. Y axis: Number of those transfers where isFraud == 0\n",
    "fraud_counts_dict = {}\n",
    "notfraud_counts_dict = {}\n",
    "transtypes = paysim_data_pdf[\"transtype\"].unique()\n",
    "#transtypes = transtypes.to_pandas()\n",
    "\n",
    "for transtype in list(transtypes):\n",
    "    numb_of_fraud_nofraud = paysim_data_pdf[ paysim_data_pdf[\"transtype\"] == transtype ][\"isFraud\"].value_counts()\n",
    "    print(type(numb_of_fraud_nofraud))\n",
    "    \n",
    "    if numb_of_fraud_nofraud.get(1):\n",
    "        fraud_counts_dict[transtype] = numb_of_fraud_nofraud[1]\n",
    "    else:\n",
    "        fraud_counts_dict[transtype] = 0\n",
    "        \n",
    "    if numb_of_fraud_nofraud.get(0):\n",
    "        notfraud_counts_dict[transtype] = numb_of_fraud_nofraud[0]\n",
    "    else:\n",
    "        notfraud_counts_dict[transtype] = 0\n",
    "    "
   ]
  },
  {
   "cell_type": "code",
   "execution_count": 57,
   "metadata": {
    "execution": {
     "iopub.execute_input": "2020-10-23T05:23:27.733242Z",
     "iopub.status.busy": "2020-10-23T05:23:27.732984Z",
     "iopub.status.idle": "2020-10-23T05:23:27.737306Z",
     "shell.execute_reply": "2020-10-23T05:23:27.736782Z",
     "shell.execute_reply.started": "2020-10-23T05:23:27.733213Z"
    }
   },
   "outputs": [
    {
     "data": {
      "text/plain": [
       "{'PAYMENT': 2151496,\n",
       " 'TRANSFER': 528812,\n",
       " 'CASH_OUT': 2233384,\n",
       " 'DEBIT': 41432,\n",
       " 'CASH_IN': 1399284}"
      ]
     },
     "execution_count": 57,
     "metadata": {},
     "output_type": "execute_result"
    }
   ],
   "source": [
    "notfraud_counts_dict"
   ]
  },
  {
   "cell_type": "code",
   "execution_count": 58,
   "metadata": {
    "execution": {
     "iopub.execute_input": "2020-10-23T05:23:28.676416Z",
     "iopub.status.busy": "2020-10-23T05:23:28.676172Z",
     "iopub.status.idle": "2020-10-23T05:23:28.680162Z",
     "shell.execute_reply": "2020-10-23T05:23:28.679649Z",
     "shell.execute_reply.started": "2020-10-23T05:23:28.676388Z"
    }
   },
   "outputs": [
    {
     "data": {
      "text/plain": [
       "{'PAYMENT': 0, 'TRANSFER': 4097, 'CASH_OUT': 4116, 'DEBIT': 0, 'CASH_IN': 0}"
      ]
     },
     "execution_count": 58,
     "metadata": {},
     "output_type": "execute_result"
    }
   ],
   "source": [
    "fraud_counts_dict"
   ]
  },
  {
   "cell_type": "code",
   "execution_count": 59,
   "metadata": {
    "execution": {
     "iopub.execute_input": "2020-10-23T05:23:29.417972Z",
     "iopub.status.busy": "2020-10-23T05:23:29.417718Z",
     "iopub.status.idle": "2020-10-23T05:23:29.421449Z",
     "shell.execute_reply": "2020-10-23T05:23:29.420912Z",
     "shell.execute_reply.started": "2020-10-23T05:23:29.417945Z"
    }
   },
   "outputs": [],
   "source": [
    "col_names = [\"type\",\"fraud\",\"notfraud\"]\n",
    "rows = [\n",
    "    list(notfraud_counts_dict.keys()),\n",
    "    list(fraud_counts_dict.values()),\n",
    "    list(notfraud_counts_dict.values())\n",
    "]"
   ]
  },
  {
   "cell_type": "code",
   "execution_count": 30,
   "metadata": {
    "execution": {
     "iopub.execute_input": "2020-10-23T04:11:01.549273Z",
     "iopub.status.busy": "2020-10-23T04:11:01.549028Z",
     "iopub.status.idle": "2020-10-23T04:11:02.120328Z",
     "shell.execute_reply": "2020-10-23T04:11:02.119788Z",
     "shell.execute_reply.started": "2020-10-23T04:11:01.549245Z"
    }
   },
   "outputs": [
    {
     "data": {
      "image/png": "[encoded data removed]",
      "text/plain": [
       "<Figure size 1440x1440 with 1 Axes>"
      ]
     },
     "metadata": {
      "needs_background": "light"
     },
     "output_type": "display_data"
    }
   ],
   "source": [
    "from matplotlib import ticker\n",
    "thefinal_dict = dict(zip(col_names,rows))\n",
    "\n",
    "myplot_df = pd.DataFrame(thefinal_dict)\n",
    "myplot_df = myplot_df.set_index(\"type\")\n",
    "myplot_df.plot(kind='bar',figsize=(20,20),logy=True,fontsize=20)\n",
    "#plt.figure(figsize=(20,20))\n",
    "plt.ylabel(\"log(number of transactions)\",fontsize=20)\n",
    "plt.xlabel(\"trans type\",fontsize=20)\n",
    "plt.legend([\"fradulent\",\"not fradulent\"],fontsize=15)\n",
    "plt.gca().yaxis.set_major_formatter(ticker.FormatStrFormatter('%.2f'))\n",
    "plt.gca().xaxis.set_tick_params(rotation=0)\n",
    "plt.savefig('fraud_not_fraud_per_xfer.png')"
   ]
  },
  {
   "cell_type": "code",
   "execution_count": 60,
   "metadata": {
    "execution": {
     "iopub.execute_input": "2020-10-23T05:23:46.276341Z",
     "iopub.status.busy": "2020-10-23T05:23:46.276087Z",
     "iopub.status.idle": "2020-10-23T05:24:13.293619Z",
     "shell.execute_reply": "2020-10-23T05:24:13.292972Z",
     "shell.execute_reply.started": "2020-10-23T05:23:46.276314Z"
    }
   },
   "outputs": [
    {
     "name": "stdout",
     "output_type": "stream",
     "text": [
      "INFO: Pandarallel will run on 64 workers.\n",
      "INFO: Pandarallel will use Memory file system to transfer data between the main process and workers.\n"
     ]
    }
   ],
   "source": [
    "#TODO If you have time - convert it to a SQL query\n",
    "from pandarallel import pandarallel\n",
    "pandarallel.initialize()\n",
    "\n",
    "def calc_suspect(row):\n",
    "    if ((row[\"oldbalanceOrg\"] == row[\"amount\"]) or (row[\"newbalanceDest\"] == row[\"amount\"])) and (row[\"newbalanceOrig\"] == 0):\n",
    "        return 1.0\n",
    "    if ((row[\"oldbalanceOrg\"] == row[\"amount\"]) or (row[\"newbalanceDest\"] == row[\"amount\"])) and (row[\"newbalanceOrig\"] < row[\"oldbalanceOrg\"]):\n",
    "        return 0.6\n",
    "    else:\n",
    "        return 0\n",
    "\n",
    "paysim_data_pdf[\"suspect_score\"] = paysim_data_pdf.parallel_apply(calc_suspect,axis=1)\n",
    "\n"
   ]
  },
  {
   "cell_type": "code",
   "execution_count": 61,
   "metadata": {
    "execution": {
     "iopub.execute_input": "2020-10-23T05:24:28.268106Z",
     "iopub.status.busy": "2020-10-23T05:24:28.267837Z",
     "iopub.status.idle": "2020-10-23T05:24:28.270888Z",
     "shell.execute_reply": "2020-10-23T05:24:28.270358Z",
     "shell.execute_reply.started": "2020-10-23T05:24:28.268075Z"
    }
   },
   "outputs": [],
   "source": [
    "# Saving the DF to a pickle just in case I can't speed it up\n",
    "#PICKLE_FILE = open(\"paysim_data_df.pkl\",\"wb\")\n",
    "##pickle.dump(paysim_data_df,PICKLE_FILE)\n",
    "#PICKLE_FILE.close()\n",
    "# X axis \n",
    "#\n"
   ]
  },
  {
   "cell_type": "code",
   "execution_count": 62,
   "metadata": {
    "execution": {
     "iopub.execute_input": "2020-10-23T05:24:28.807893Z",
     "iopub.status.busy": "2020-10-23T05:24:28.807669Z",
     "iopub.status.idle": "2020-10-23T05:24:28.823052Z",
     "shell.execute_reply": "2020-10-23T05:24:28.822589Z",
     "shell.execute_reply.started": "2020-10-23T05:24:28.807867Z"
    }
   },
   "outputs": [
    {
     "data": {
      "text/html": [
       "<div>\n",
       "<style scoped>\n",
       "    .dataframe tbody tr th:only-of-type {\n",
       "        vertical-align: middle;\n",
       "    }\n",
       "\n",
       "    .dataframe tbody tr th {\n",
       "        vertical-align: top;\n",
       "    }\n",
       "\n",
       "    .dataframe thead th {\n",
       "        text-align: right;\n",
       "    }\n",
       "</style>\n",
       "<table border=\"1\" class=\"dataframe\">\n",
       "  <thead>\n",
       "    <tr style=\"text-align: right;\">\n",
       "      <th></th>\n",
       "      <th>id</th>\n",
       "      <th>step</th>\n",
       "      <th>transtype</th>\n",
       "      <th>amount</th>\n",
       "      <th>nameOrig</th>\n",
       "      <th>oldbalanceOrg</th>\n",
       "      <th>newbalanceOrig</th>\n",
       "      <th>nameDest</th>\n",
       "      <th>oldbalanceDest</th>\n",
       "      <th>newbalanceDest</th>\n",
       "      <th>isFraud</th>\n",
       "      <th>isFlaggedFraud</th>\n",
       "      <th>suspect_score</th>\n",
       "    </tr>\n",
       "  </thead>\n",
       "  <tbody>\n",
       "    <tr>\n",
       "      <th>0</th>\n",
       "      <td>1</td>\n",
       "      <td>1</td>\n",
       "      <td>PAYMENT</td>\n",
       "      <td>9839.64</td>\n",
       "      <td>C1231006815</td>\n",
       "      <td>170136.0</td>\n",
       "      <td>160296.36</td>\n",
       "      <td>M1979787155</td>\n",
       "      <td>0.0</td>\n",
       "      <td>0.0</td>\n",
       "      <td>0</td>\n",
       "      <td>0</td>\n",
       "      <td>0.0</td>\n",
       "    </tr>\n",
       "    <tr>\n",
       "      <th>1</th>\n",
       "      <td>2</td>\n",
       "      <td>1</td>\n",
       "      <td>PAYMENT</td>\n",
       "      <td>1864.28</td>\n",
       "      <td>C1666544295</td>\n",
       "      <td>21249.0</td>\n",
       "      <td>19384.72</td>\n",
       "      <td>M2044282225</td>\n",
       "      <td>0.0</td>\n",
       "      <td>0.0</td>\n",
       "      <td>0</td>\n",
       "      <td>0</td>\n",
       "      <td>0.0</td>\n",
       "    </tr>\n",
       "    <tr>\n",
       "      <th>2</th>\n",
       "      <td>3</td>\n",
       "      <td>1</td>\n",
       "      <td>TRANSFER</td>\n",
       "      <td>181.00</td>\n",
       "      <td>C1305486145</td>\n",
       "      <td>181.0</td>\n",
       "      <td>0.00</td>\n",
       "      <td>C553264065</td>\n",
       "      <td>0.0</td>\n",
       "      <td>0.0</td>\n",
       "      <td>1</td>\n",
       "      <td>0</td>\n",
       "      <td>1.0</td>\n",
       "    </tr>\n",
       "    <tr>\n",
       "      <th>3</th>\n",
       "      <td>4</td>\n",
       "      <td>1</td>\n",
       "      <td>CASH_OUT</td>\n",
       "      <td>181.00</td>\n",
       "      <td>C840083671</td>\n",
       "      <td>181.0</td>\n",
       "      <td>0.00</td>\n",
       "      <td>C38997010</td>\n",
       "      <td>21182.0</td>\n",
       "      <td>0.0</td>\n",
       "      <td>1</td>\n",
       "      <td>0</td>\n",
       "      <td>1.0</td>\n",
       "    </tr>\n",
       "    <tr>\n",
       "      <th>4</th>\n",
       "      <td>5</td>\n",
       "      <td>1</td>\n",
       "      <td>PAYMENT</td>\n",
       "      <td>11668.14</td>\n",
       "      <td>C2048537720</td>\n",
       "      <td>41554.0</td>\n",
       "      <td>29885.86</td>\n",
       "      <td>M1230701703</td>\n",
       "      <td>0.0</td>\n",
       "      <td>0.0</td>\n",
       "      <td>0</td>\n",
       "      <td>0</td>\n",
       "      <td>0.0</td>\n",
       "    </tr>\n",
       "  </tbody>\n",
       "</table>\n",
       "</div>"
      ],
      "text/plain": [
       "   id  step transtype    amount     nameOrig  oldbalanceOrg  newbalanceOrig  \\\n",
       "0   1     1   PAYMENT   9839.64  C1231006815       170136.0       160296.36   \n",
       "1   2     1   PAYMENT   1864.28  C1666544295        21249.0        19384.72   \n",
       "2   3     1  TRANSFER    181.00  C1305486145          181.0            0.00   \n",
       "3   4     1  CASH_OUT    181.00   C840083671          181.0            0.00   \n",
       "4   5     1   PAYMENT  11668.14  C2048537720        41554.0        29885.86   \n",
       "\n",
       "      nameDest  oldbalanceDest  newbalanceDest  isFraud  isFlaggedFraud  \\\n",
       "0  M1979787155             0.0             0.0        0               0   \n",
       "1  M2044282225             0.0             0.0        0               0   \n",
       "2   C553264065             0.0             0.0        1               0   \n",
       "3    C38997010         21182.0             0.0        1               0   \n",
       "4  M1230701703             0.0             0.0        0               0   \n",
       "\n",
       "   suspect_score  \n",
       "0            0.0  \n",
       "1            0.0  \n",
       "2            1.0  \n",
       "3            1.0  \n",
       "4            0.0  "
      ]
     },
     "execution_count": 62,
     "metadata": {},
     "output_type": "execute_result"
    }
   ],
   "source": [
    "paysim_data_pdf.head()"
   ]
  },
  {
   "cell_type": "code",
   "execution_count": 63,
   "metadata": {
    "execution": {
     "iopub.execute_input": "2020-10-23T05:24:31.387898Z",
     "iopub.status.busy": "2020-10-23T05:24:31.387653Z",
     "iopub.status.idle": "2020-10-23T05:24:31.391770Z",
     "shell.execute_reply": "2020-10-23T05:24:31.391249Z",
     "shell.execute_reply.started": "2020-10-23T05:24:31.387870Z"
    }
   },
   "outputs": [
    {
     "data": {
      "text/plain": [
       "(6362621, 13)"
      ]
     },
     "execution_count": 63,
     "metadata": {},
     "output_type": "execute_result"
    }
   ],
   "source": [
    "paysim_data_pdf.shape"
   ]
  },
  {
   "cell_type": "code",
   "execution_count": 43,
   "metadata": {
    "execution": {
     "iopub.execute_input": "2020-10-23T04:41:17.742331Z",
     "iopub.status.busy": "2020-10-23T04:41:17.742067Z",
     "iopub.status.idle": "2020-10-23T04:43:43.326641Z",
     "shell.execute_reply": "2020-10-23T04:43:43.326008Z",
     "shell.execute_reply.started": "2020-10-23T04:41:17.742303Z"
    }
   },
   "outputs": [
    {
     "name": "stderr",
     "output_type": "stream",
     "text": [
      "/home/magreen/anaconda3_2020_07/envs/metisgpulinux2venv/lib/python3.8/site-packages/seaborn/_decorators.py:36: FutureWarning: Pass the following variables as keyword args: x, y. From version 0.12, the only valid positional argument will be `data`, and passing other arguments without an explicit keyword will result in an error or misinterpretation.\n",
      "  warnings.warn(\n"
     ]
    },
    {
     "data": {
      "image/png": "[encoded data removed]",
      "text/plain": [
       "<Figure size 864x576 with 1 Axes>"
      ]
     },
     "metadata": {
      "needs_background": "light"
     },
     "output_type": "display_data"
    }
   ],
   "source": [
    "sns.scatterplot('transtype', 'suspect_score', data=paysim_data_pdf, hue='isFraud',\n",
    "           palette='Set2', alpha=0.2)\n",
    "plt.gcf().set_size_inches(12,8);"
   ]
  },
  {
   "cell_type": "markdown",
   "metadata": {},
   "source": [
    "So there are still `isFraud==1` transfers with `suspect_score==0`. What are those transactions"
   ]
  },
  {
   "cell_type": "code",
   "execution_count": 64,
   "metadata": {
    "execution": {
     "iopub.execute_input": "2020-10-23T05:24:37.349708Z",
     "iopub.status.busy": "2020-10-23T05:24:37.349455Z",
     "iopub.status.idle": "2020-10-23T05:24:37.472565Z",
     "shell.execute_reply": "2020-10-23T05:24:37.472062Z",
     "shell.execute_reply.started": "2020-10-23T05:24:37.349681Z"
    }
   },
   "outputs": [
    {
     "data": {
      "text/plain": [
       "(180, 13)"
      ]
     },
     "execution_count": 64,
     "metadata": {},
     "output_type": "execute_result"
    }
   ],
   "source": [
    "mask = (paysim_data_pdf[\"isFraud\"] == 1) & (paysim_data_pdf[\"suspect_score\"] == 0)\n",
    "paysim_data_pdf[mask].shape"
   ]
  },
  {
   "cell_type": "markdown",
   "metadata": {},
   "source": [
    "one-hot-encoding `type`"
   ]
  },
  {
   "cell_type": "code",
   "execution_count": 65,
   "metadata": {
    "execution": {
     "iopub.execute_input": "2020-10-23T05:24:40.420317Z",
     "iopub.status.busy": "2020-10-23T05:24:40.420076Z",
     "iopub.status.idle": "2020-10-23T05:24:40.452843Z",
     "shell.execute_reply": "2020-10-23T05:24:40.452413Z",
     "shell.execute_reply.started": "2020-10-23T05:24:40.420290Z"
    }
   },
   "outputs": [
    {
     "data": {
      "text/plain": [
       "(6362621, 1)"
      ]
     },
     "execution_count": 65,
     "metadata": {},
     "output_type": "execute_result"
    }
   ],
   "source": [
    "ohe = OneHotEncoder(sparse=False)\n",
    "\n",
    "np_data_type = np.array(paysim_data_pdf[\"transtype\"])\n",
    "np_data_type = np_data_type.reshape(-1,1)\n",
    "np_data_type.shape\n",
    "\n"
   ]
  },
  {
   "cell_type": "code",
   "execution_count": 66,
   "metadata": {
    "execution": {
     "iopub.execute_input": "2020-10-23T05:24:45.078565Z",
     "iopub.status.busy": "2020-10-23T05:24:45.078338Z",
     "iopub.status.idle": "2020-10-23T05:24:46.359278Z",
     "shell.execute_reply": "2020-10-23T05:24:46.358769Z",
     "shell.execute_reply.started": "2020-10-23T05:24:45.078539Z"
    }
   },
   "outputs": [
    {
     "data": {
      "text/plain": [
       "(6362621, 5)"
      ]
     },
     "execution_count": 66,
     "metadata": {},
     "output_type": "execute_result"
    }
   ],
   "source": [
    "np_data_type_ohe = ohe.fit_transform(np_data_type)\n",
    "np_data_type_ohe.shape"
   ]
  },
  {
   "cell_type": "code",
   "execution_count": 67,
   "metadata": {
    "execution": {
     "iopub.execute_input": "2020-10-23T05:24:48.716411Z",
     "iopub.status.busy": "2020-10-23T05:24:48.716153Z",
     "iopub.status.idle": "2020-10-23T05:24:49.736919Z",
     "shell.execute_reply": "2020-10-23T05:24:49.736463Z",
     "shell.execute_reply.started": "2020-10-23T05:24:48.716383Z"
    }
   },
   "outputs": [
    {
     "data": {
      "text/html": [
       "<div>\n",
       "<style scoped>\n",
       "    .dataframe tbody tr th:only-of-type {\n",
       "        vertical-align: middle;\n",
       "    }\n",
       "\n",
       "    .dataframe tbody tr th {\n",
       "        vertical-align: top;\n",
       "    }\n",
       "\n",
       "    .dataframe thead th {\n",
       "        text-align: right;\n",
       "    }\n",
       "</style>\n",
       "<table border=\"1\" class=\"dataframe\">\n",
       "  <thead>\n",
       "    <tr style=\"text-align: right;\">\n",
       "      <th></th>\n",
       "      <th>id</th>\n",
       "      <th>step</th>\n",
       "      <th>transtype</th>\n",
       "      <th>amount</th>\n",
       "      <th>nameOrig</th>\n",
       "      <th>oldbalanceOrg</th>\n",
       "      <th>newbalanceOrig</th>\n",
       "      <th>nameDest</th>\n",
       "      <th>oldbalanceDest</th>\n",
       "      <th>newbalanceDest</th>\n",
       "      <th>isFraud</th>\n",
       "      <th>isFlaggedFraud</th>\n",
       "      <th>suspect_score</th>\n",
       "      <th>transtype_CASH_IN</th>\n",
       "      <th>transtype_CASH_OUT</th>\n",
       "      <th>transtype_DEBIT</th>\n",
       "      <th>transtype_PAYMENT</th>\n",
       "      <th>transtype_TRANSFER</th>\n",
       "    </tr>\n",
       "  </thead>\n",
       "  <tbody>\n",
       "    <tr>\n",
       "      <th>0</th>\n",
       "      <td>1</td>\n",
       "      <td>1</td>\n",
       "      <td>PAYMENT</td>\n",
       "      <td>9839.64</td>\n",
       "      <td>C1231006815</td>\n",
       "      <td>170136.0</td>\n",
       "      <td>160296.36</td>\n",
       "      <td>M1979787155</td>\n",
       "      <td>0.0</td>\n",
       "      <td>0.0</td>\n",
       "      <td>0</td>\n",
       "      <td>0</td>\n",
       "      <td>0.0</td>\n",
       "      <td>0.0</td>\n",
       "      <td>0.0</td>\n",
       "      <td>0.0</td>\n",
       "      <td>1.0</td>\n",
       "      <td>0.0</td>\n",
       "    </tr>\n",
       "    <tr>\n",
       "      <th>1</th>\n",
       "      <td>2</td>\n",
       "      <td>1</td>\n",
       "      <td>PAYMENT</td>\n",
       "      <td>1864.28</td>\n",
       "      <td>C1666544295</td>\n",
       "      <td>21249.0</td>\n",
       "      <td>19384.72</td>\n",
       "      <td>M2044282225</td>\n",
       "      <td>0.0</td>\n",
       "      <td>0.0</td>\n",
       "      <td>0</td>\n",
       "      <td>0</td>\n",
       "      <td>0.0</td>\n",
       "      <td>0.0</td>\n",
       "      <td>0.0</td>\n",
       "      <td>0.0</td>\n",
       "      <td>1.0</td>\n",
       "      <td>0.0</td>\n",
       "    </tr>\n",
       "    <tr>\n",
       "      <th>2</th>\n",
       "      <td>3</td>\n",
       "      <td>1</td>\n",
       "      <td>TRANSFER</td>\n",
       "      <td>181.00</td>\n",
       "      <td>C1305486145</td>\n",
       "      <td>181.0</td>\n",
       "      <td>0.00</td>\n",
       "      <td>C553264065</td>\n",
       "      <td>0.0</td>\n",
       "      <td>0.0</td>\n",
       "      <td>1</td>\n",
       "      <td>0</td>\n",
       "      <td>1.0</td>\n",
       "      <td>0.0</td>\n",
       "      <td>0.0</td>\n",
       "      <td>0.0</td>\n",
       "      <td>0.0</td>\n",
       "      <td>1.0</td>\n",
       "    </tr>\n",
       "    <tr>\n",
       "      <th>3</th>\n",
       "      <td>4</td>\n",
       "      <td>1</td>\n",
       "      <td>CASH_OUT</td>\n",
       "      <td>181.00</td>\n",
       "      <td>C840083671</td>\n",
       "      <td>181.0</td>\n",
       "      <td>0.00</td>\n",
       "      <td>C38997010</td>\n",
       "      <td>21182.0</td>\n",
       "      <td>0.0</td>\n",
       "      <td>1</td>\n",
       "      <td>0</td>\n",
       "      <td>1.0</td>\n",
       "      <td>0.0</td>\n",
       "      <td>1.0</td>\n",
       "      <td>0.0</td>\n",
       "      <td>0.0</td>\n",
       "      <td>0.0</td>\n",
       "    </tr>\n",
       "    <tr>\n",
       "      <th>4</th>\n",
       "      <td>5</td>\n",
       "      <td>1</td>\n",
       "      <td>PAYMENT</td>\n",
       "      <td>11668.14</td>\n",
       "      <td>C2048537720</td>\n",
       "      <td>41554.0</td>\n",
       "      <td>29885.86</td>\n",
       "      <td>M1230701703</td>\n",
       "      <td>0.0</td>\n",
       "      <td>0.0</td>\n",
       "      <td>0</td>\n",
       "      <td>0</td>\n",
       "      <td>0.0</td>\n",
       "      <td>0.0</td>\n",
       "      <td>0.0</td>\n",
       "      <td>0.0</td>\n",
       "      <td>1.0</td>\n",
       "      <td>0.0</td>\n",
       "    </tr>\n",
       "  </tbody>\n",
       "</table>\n",
       "</div>"
      ],
      "text/plain": [
       "   id  step transtype    amount     nameOrig  oldbalanceOrg  newbalanceOrig  \\\n",
       "0   1     1   PAYMENT   9839.64  C1231006815       170136.0       160296.36   \n",
       "1   2     1   PAYMENT   1864.28  C1666544295        21249.0        19384.72   \n",
       "2   3     1  TRANSFER    181.00  C1305486145          181.0            0.00   \n",
       "3   4     1  CASH_OUT    181.00   C840083671          181.0            0.00   \n",
       "4   5     1   PAYMENT  11668.14  C2048537720        41554.0        29885.86   \n",
       "\n",
       "      nameDest  oldbalanceDest  newbalanceDest  isFraud  isFlaggedFraud  \\\n",
       "0  M1979787155             0.0             0.0        0               0   \n",
       "1  M2044282225             0.0             0.0        0               0   \n",
       "2   C553264065             0.0             0.0        1               0   \n",
       "3    C38997010         21182.0             0.0        1               0   \n",
       "4  M1230701703             0.0             0.0        0               0   \n",
       "\n",
       "   suspect_score  transtype_CASH_IN  transtype_CASH_OUT  transtype_DEBIT  \\\n",
       "0            0.0                0.0                 0.0              0.0   \n",
       "1            0.0                0.0                 0.0              0.0   \n",
       "2            1.0                0.0                 0.0              0.0   \n",
       "3            1.0                0.0                 1.0              0.0   \n",
       "4            0.0                0.0                 0.0              0.0   \n",
       "\n",
       "   transtype_PAYMENT  transtype_TRANSFER  \n",
       "0                1.0                 0.0  \n",
       "1                1.0                 0.0  \n",
       "2                0.0                 1.0  \n",
       "3                0.0                 0.0  \n",
       "4                1.0                 0.0  "
      ]
     },
     "execution_count": 67,
     "metadata": {},
     "output_type": "execute_result"
    }
   ],
   "source": [
    "np_data_type_ohe_df= pd.DataFrame(np_data_type_ohe,\n",
    "                           columns=ohe.get_feature_names(['transtype']), #create meaningful column names\n",
    "                           index=paysim_data_pdf.index) #keep the same index values\n",
    "\n",
    "#np_data_type_ohe_df.head()\n",
    "\n",
    "#combine continuous and categorical data\n",
    "\n",
    "paysim_data_pdf = pd.concat([paysim_data_pdf, np_data_type_ohe_df], axis=1)\n",
    "paysim_data_pdf.head()"
   ]
  },
  {
   "cell_type": "markdown",
   "metadata": {},
   "source": [
    "A plot to help me understand how mixed together `isFraud==0` is with `isFraud==1` as a function of `type` and `amount`"
   ]
  },
  {
   "cell_type": "code",
   "execution_count": null,
   "metadata": {},
   "outputs": [],
   "source": [
    "#NUM_OF_RANDOM_SAMPLES = 6000\n",
    "\n",
    "#plot_data_df = data_df[[\"step\",\"isFraud\",\"amount\",\"type_CASH_IN\",\"type_CASH_OUT\",\"type_DEBIT\",\"type_PAYMENT\",\"type_TRANSFER\"]]\n",
    "#limit to the first time step\n",
    "#plot_data_df = plot_data_df[ plot_data_df[\"step\"] == 1 ]\n",
    "#np_plot_data_df_indices = list(np.random.permutation(np.array(list(plot_data_df.index)))[:5000])\n",
    "#sns.pairplot(plot_data_df.iloc[[np_plot_data_df_indices]], hue='isFraud');"
   ]
  },
  {
   "cell_type": "code",
   "execution_count": null,
   "metadata": {},
   "outputs": [],
   "source": [
    "#This code is generating the index numbers for data frame plot_data_df\n",
    "#then randomizing the list containing those indices\n",
    "#then picking the first NUM_OF_RANDOM_SAMPLES from that list\n",
    "#this list of randomly picked indices will be used to pick the corresponding\n",
    "#rows out of plot_data_df to be used in the pair plot\n",
    "#to plot all 6M rows is not practical (on this machine) \n",
    "#plot_data_df_indices = list(plot_data_df.index)\n",
    "#plot_data_df_indices = np.random.permutation(plot_data_df_indices)\n",
    "#plot_data_df_indices = plot_data_df_indices[:NUM_OF_RANDOM_SAMPLES]\n",
    "#plot_data_df_indices = list(plot_data_df_indices)\n"
   ]
  },
  {
   "cell_type": "code",
   "execution_count": null,
   "metadata": {},
   "outputs": [],
   "source": [
    "#plot_data_df = plot_data_df.iloc[plot_data_df_indices]"
   ]
  },
  {
   "cell_type": "code",
   "execution_count": null,
   "metadata": {},
   "outputs": [],
   "source": [
    "#plot_data_df.shape"
   ]
  },
  {
   "cell_type": "code",
   "execution_count": null,
   "metadata": {},
   "outputs": [],
   "source": [
    "#plot_data_df.head()"
   ]
  },
  {
   "cell_type": "code",
   "execution_count": null,
   "metadata": {},
   "outputs": [],
   "source": [
    "#sns.pairplot(plot_data_df, hue='isFraud');"
   ]
  },
  {
   "cell_type": "markdown",
   "metadata": {},
   "source": [
    "Not looking like good parameters :("
   ]
  },
  {
   "cell_type": "markdown",
   "metadata": {},
   "source": [
    "## Baseline Model"
   ]
  },
  {
   "cell_type": "markdown",
   "metadata": {},
   "source": [
    "Random Guessing (50% chance of `isFraud==1` and 50% chance that `isFraud==0` will be the baseline model"
   ]
  },
  {
   "cell_type": "code",
   "execution_count": 68,
   "metadata": {
    "execution": {
     "iopub.execute_input": "2020-10-23T05:24:59.354752Z",
     "iopub.status.busy": "2020-10-23T05:24:59.354485Z",
     "iopub.status.idle": "2020-10-23T05:24:59.358810Z",
     "shell.execute_reply": "2020-10-23T05:24:59.358223Z",
     "shell.execute_reply.started": "2020-10-23T05:24:59.354721Z"
    }
   },
   "outputs": [
    {
     "data": {
      "text/plain": [
       "(6362621, 18)"
      ]
     },
     "execution_count": 68,
     "metadata": {},
     "output_type": "execute_result"
    }
   ],
   "source": [
    "paysim_data_pdf.shape"
   ]
  },
  {
   "cell_type": "code",
   "execution_count": 69,
   "metadata": {
    "execution": {
     "iopub.execute_input": "2020-10-23T05:25:05.579068Z",
     "iopub.status.busy": "2020-10-23T05:25:05.578800Z",
     "iopub.status.idle": "2020-10-23T05:25:07.686818Z",
     "shell.execute_reply": "2020-10-23T05:25:07.686240Z",
     "shell.execute_reply.started": "2020-10-23T05:25:05.579037Z"
    }
   },
   "outputs": [],
   "source": [
    "paysim_data_cudf = cudf.from_pandas(paysim_data_pdf)"
   ]
  },
  {
   "cell_type": "code",
   "execution_count": 87,
   "metadata": {
    "execution": {
     "iopub.execute_input": "2020-10-23T05:44:04.982118Z",
     "iopub.status.busy": "2020-10-23T05:44:04.981862Z",
     "iopub.status.idle": "2020-10-23T05:44:05.069252Z",
     "shell.execute_reply": "2020-10-23T05:44:05.068768Z",
     "shell.execute_reply.started": "2020-10-23T05:44:04.982090Z"
    }
   },
   "outputs": [
    {
     "name": "stdout",
     "output_type": "stream",
     "text": [
      "<class 'numpy.ndarray'>\n",
      "<class 'cudf.core.series.Series'>\n"
     ]
    }
   ],
   "source": [
    "\n",
    "X = paysim_data_cudf[[\"step\",\"amount\",\"transtype_CASH_IN\",\"transtype_CASH_OUT\",\"transtype_DEBIT\",\"transtype_PAYMENT\",\"transtype_TRANSFER\"]]\n",
    "Y = paysim_data_cudf[\"isFraud\"]\n",
    "X_train, X_test, Y_train, Y_test = train_test_split(X, Y,test_size=TEST_SIZE, random_state=RANDOM_STATE)\n",
    "\n",
    "number_of_test_samples = X_test.shape[0]\n",
    "y_pred_zero = np.zeros(number_of_test_samples // 2)\n",
    "y_pred_one = np.ones( number_of_test_samples -  y_pred_zero.shape[0] )\n",
    "\n",
    "y_pred = np.array([y_pred_zero, y_pred_one])\n",
    "y_pred = y_pred.reshape(-1,)\n",
    "y_pred = np.random.permutation(y_pred)\n",
    "\n",
    "\n",
    "print(type(y_pred))\n",
    "print(type(Y_test))"
   ]
  },
  {
   "cell_type": "markdown",
   "metadata": {},
   "source": [
    "Scoring the baseline model"
   ]
  },
  {
   "cell_type": "code",
   "execution_count": 88,
   "metadata": {
    "execution": {
     "iopub.execute_input": "2020-10-23T05:44:06.548921Z",
     "iopub.status.busy": "2020-10-23T05:44:06.548667Z",
     "iopub.status.idle": "2020-10-23T05:44:07.697816Z",
     "shell.execute_reply": "2020-10-23T05:44:07.697284Z",
     "shell.execute_reply.started": "2020-10-23T05:44:06.548894Z"
    }
   },
   "outputs": [
    {
     "name": "stdout",
     "output_type": "stream",
     "text": [
      "              precision    recall  f1-score   support\n",
      "\n",
      "    NotFraud       1.00      0.50      0.67    635315\n",
      "       Fraud       0.00      0.50      0.00       947\n",
      "\n",
      "    accuracy                           0.50    636262\n",
      "   macro avg       0.50      0.50      0.33    636262\n",
      "weighted avg       1.00      0.50      0.67    636262\n",
      "\n"
     ]
    }
   ],
   "source": [
    "target_names = [\"NotFraud\",\"Fraud\"]\n",
    "Y_test_p = Y_test.to_pandas()\n",
    "Y_test_p = np.array(Y_test_p)\n",
    "print(classification_report(Y_test_p, y_pred,target_names=target_names))"
   ]
  },
  {
   "cell_type": "markdown",
   "metadata": {},
   "source": [
    "Thoughts about random guessing model:\n",
    "\n",
    "Precision (TP/(TP+FP)) and recall (TP/(TP+FN)) are high for the `NotFraud` class because most (99.97%) of the response variables in the test set are `NotFraud`. Precision and recall are very low for `Fraud` because there are very few chances to guess right and the random guessing model does not perform well in identifying them.\n",
    "\n",
    "Accuracy is meaningless for the same reason: It's easy to get 50% right as the vast majority of the results belong to one class. \n",
    "\n",
    "TODO: generate confusion matrix which will help illustrate this."
   ]
  },
  {
   "cell_type": "markdown",
   "metadata": {},
   "source": [
    "## Model Selection"
   ]
  },
  {
   "cell_type": "markdown",
   "metadata": {},
   "source": [
    "Just some notes about what model to select:\n",
    "\n",
    "**Logistic Models**\n",
    "For small datasets, ‘liblinear’ is a good choice, whereas ‘sag’ and ‘saga’ are faster for large ones.\n",
    "\n",
    "Note that ‘sag’ and ‘saga’ fast convergence is only guaranteed on features with approximately the same scale. You can preprocess the data with a scaler from sklearn.preprocessing.\n",
    "\n"
   ]
  },
  {
   "cell_type": "markdown",
   "metadata": {},
   "source": [
    "### Modeling Ideas\n",
    "\n",
    "Try these:\n",
    "\n",
    "* use stratified train/val/test split\n",
    "* use over sampling\n",
    "* use SMOTE\n",
    "* use ADASYN\n",
    "\n",
    "* I'm thinking a logistic model will work as it's a binary classification that we're trying to do. Try to ensemble this model if required\n",
    "* If that doesn't work try a gradient boosted model (of logistic models)\n",
    "* Do a grid search to find the right hyper parameters\n"
   ]
  },
  {
   "cell_type": "markdown",
   "metadata": {},
   "source": [
    "## Model Evaluation"
   ]
  },
  {
   "cell_type": "code",
   "execution_count": 94,
   "metadata": {
    "execution": {
     "iopub.execute_input": "2020-10-23T05:45:16.351203Z",
     "iopub.status.busy": "2020-10-23T05:45:16.350949Z",
     "iopub.status.idle": "2020-10-23T05:45:17.655009Z",
     "shell.execute_reply": "2020-10-23T05:45:17.654562Z",
     "shell.execute_reply.started": "2020-10-23T05:45:16.351176Z"
    }
   },
   "outputs": [
    {
     "data": {
      "text/plain": [
       "LogisticRegression(penalty='l2', tol=0.0001, C=100.0, fit_intercept=True, max_iter=1000, linesearch_max_iter=50, verbose=4, l1_ratio=None, solver='qn', handle=<cuml.raft.common.handle.Handle object at 0x7faeec4a5470>, output_type='numpy')"
      ]
     },
     "execution_count": 94,
     "metadata": {},
     "output_type": "execute_result"
    }
   ],
   "source": [
    "#Since I'm using values that are either 1 or 0 along with amount which is a very large number, will normalize the data\n",
    "#to aid gradient descent\n",
    "normalizer = StandardScaler()\n",
    "#X_train_normal = normalizer.fit_transform(X_train.values)\n",
    "#X_test_normal = normalizer.transform(X_test.values)\n",
    "\n",
    "#logisticRModel = LogisticRegressionCV(Cs=100,cv=5,solver=\"sag\",n_jobs=-1,random_state=RANDOM_STATE)\n",
    "##logisticRModel = LogisticRegression(C=100,solver=\"sag\",n_jobs=-1,random_state=RANDOM_STATE)\n",
    "logisticRModel = LogisticRegression(C=100.0,output_type=\"numpy\")\n",
    "\n",
    "logisticRModel.fit(X_train,Y_train)"
   ]
  },
  {
   "cell_type": "code",
   "execution_count": 95,
   "metadata": {
    "execution": {
     "iopub.execute_input": "2020-10-23T05:45:20.127003Z",
     "iopub.status.busy": "2020-10-23T05:45:20.126762Z",
     "iopub.status.idle": "2020-10-23T05:45:20.137515Z",
     "shell.execute_reply": "2020-10-23T05:45:20.137073Z",
     "shell.execute_reply.started": "2020-10-23T05:45:20.126976Z"
    }
   },
   "outputs": [
    {
     "data": {
      "text/plain": [
       "cudf.core.series.Series"
      ]
     },
     "execution_count": 95,
     "metadata": {},
     "output_type": "execute_result"
    }
   ],
   "source": [
    "Y_pred = logisticRModel.predict(X_test)\n",
    "type(Y_pred)"
   ]
  },
  {
   "cell_type": "code",
   "execution_count": 96,
   "metadata": {
    "execution": {
     "iopub.execute_input": "2020-10-23T05:46:27.999102Z",
     "iopub.status.busy": "2020-10-23T05:46:27.998847Z",
     "iopub.status.idle": "2020-10-23T05:46:28.675312Z",
     "shell.execute_reply": "2020-10-23T05:46:28.674762Z",
     "shell.execute_reply.started": "2020-10-23T05:46:27.999074Z"
    }
   },
   "outputs": [
    {
     "name": "stdout",
     "output_type": "stream",
     "text": [
      "              precision    recall  f1-score   support\n",
      "\n",
      "    NotFraud       1.00      1.00      1.00    635315\n",
      "       Fraud       0.00      0.00      0.00       947\n",
      "\n",
      "    accuracy                           1.00    636262\n",
      "   macro avg       0.50      0.50      0.50    636262\n",
      "weighted avg       1.00      1.00      1.00    636262\n",
      "\n"
     ]
    }
   ],
   "source": [
    "Y_pred_p = Y_pred.to_pandas()\n",
    "Y_pred_p = np.array(Y_pred_p)\n",
    "print(classification_report(Y_test_p, Y_pred_p,target_names=target_names))"
   ]
  },
  {
   "cell_type": "code",
   "execution_count": 98,
   "metadata": {
    "execution": {
     "iopub.execute_input": "2020-10-23T05:46:44.973026Z",
     "iopub.status.busy": "2020-10-23T05:46:44.972774Z",
     "iopub.status.idle": "2020-10-23T05:46:46.645413Z",
     "shell.execute_reply": "2020-10-23T05:46:46.644844Z",
     "shell.execute_reply.started": "2020-10-23T05:46:44.972998Z"
    }
   },
   "outputs": [
    {
     "data": {
      "text/plain": [
       "0.9984990358352661"
      ]
     },
     "execution_count": 98,
     "metadata": {},
     "output_type": "execute_result"
    }
   ],
   "source": [
    "logisticRModel.score(X_test,Y_test)"
   ]
  },
  {
   "cell_type": "code",
   "execution_count": 99,
   "metadata": {
    "execution": {
     "iopub.execute_input": "2020-10-23T05:46:56.087151Z",
     "iopub.status.busy": "2020-10-23T05:46:56.086831Z",
     "iopub.status.idle": "2020-10-23T05:46:56.113318Z",
     "shell.execute_reply": "2020-10-23T05:46:56.112723Z",
     "shell.execute_reply.started": "2020-10-23T05:46:56.087117Z"
    }
   },
   "outputs": [
    {
     "data": {
      "text/plain": [
       "0    635315\n",
       "1       947\n",
       "Name: isFraud, dtype: int32"
      ]
     },
     "execution_count": 99,
     "metadata": {},
     "output_type": "execute_result"
    }
   ],
   "source": [
    "Y_test.value_counts()"
   ]
  },
  {
   "cell_type": "code",
   "execution_count": 102,
   "metadata": {
    "execution": {
     "iopub.execute_input": "2020-10-23T05:47:43.840651Z",
     "iopub.status.busy": "2020-10-23T05:47:43.840353Z",
     "iopub.status.idle": "2020-10-23T05:47:43.866130Z",
     "shell.execute_reply": "2020-10-23T05:47:43.865666Z",
     "shell.execute_reply.started": "2020-10-23T05:47:43.840623Z"
    }
   },
   "outputs": [
    {
     "data": {
      "text/plain": [
       "0    636254\n",
       "1         8\n",
       "dtype: int64"
      ]
     },
     "execution_count": 102,
     "metadata": {},
     "output_type": "execute_result"
    }
   ],
   "source": [
    "#Y_pred_df = pd.DataFrame(Y_pred)\n",
    "Y_pred_df = Y_pred.to_pandas()\n",
    "Y_pred_df.value_counts()"
   ]
  },
  {
   "cell_type": "code",
   "execution_count": 101,
   "metadata": {
    "execution": {
     "iopub.execute_input": "2020-10-23T05:47:06.386559Z",
     "iopub.status.busy": "2020-10-23T05:47:06.386302Z",
     "iopub.status.idle": "2020-10-23T05:47:06.393712Z",
     "shell.execute_reply": "2020-10-23T05:47:06.393155Z",
     "shell.execute_reply.started": "2020-10-23T05:47:06.386532Z"
    }
   },
   "outputs": [
    {
     "data": {
      "text/plain": [
       "0    4.926627e-03\n",
       "1    1.069165e-07\n",
       "2   -5.071473e-01\n",
       "3   -1.167363e+00\n",
       "4    8.735245e-01\n",
       "5   -3.613973e+00\n",
       "6    9.523720e-01\n",
       "dtype: float64"
      ]
     },
     "execution_count": 101,
     "metadata": {},
     "output_type": "execute_result"
    }
   ],
   "source": [
    "logisticRModel.coef_"
   ]
  },
  {
   "cell_type": "markdown",
   "metadata": {},
   "source": [
    "Thoughts about baseline logistic model:\n",
    "\n",
    "Precision (TP/(TP+FP)) and recall (TP/(TP+FN)) are high for the `NotFraud` because most(99.97%) of the response variables in the test set are `NotFraud`. Precision and recall are very low for `Fraud` because there are very few chances to guess right and the random guessing model does not perform well in identify them.\n",
    "\n",
    "Accuracy is meaningless for the same reason: It's easy to get 50% right as the vast majority of the results belong to one class. \n",
    "\n",
    "TODO: generate confusion matrix which will help illustrate this."
   ]
  },
  {
   "cell_type": "markdown",
   "metadata": {},
   "source": [
    "### Bigger Logistic Model\n"
   ]
  },
  {
   "cell_type": "code",
   "execution_count": 103,
   "metadata": {
    "execution": {
     "iopub.execute_input": "2020-10-23T05:48:55.792291Z",
     "iopub.status.busy": "2020-10-23T05:48:55.792020Z",
     "iopub.status.idle": "2020-10-23T05:48:55.854791Z",
     "shell.execute_reply": "2020-10-23T05:48:55.854345Z",
     "shell.execute_reply.started": "2020-10-23T05:48:55.792263Z"
    }
   },
   "outputs": [
    {
     "data": {
      "text/html": [
       "<div>\n",
       "<style scoped>\n",
       "    .dataframe tbody tr th:only-of-type {\n",
       "        vertical-align: middle;\n",
       "    }\n",
       "\n",
       "    .dataframe tbody tr th {\n",
       "        vertical-align: top;\n",
       "    }\n",
       "\n",
       "    .dataframe thead th {\n",
       "        text-align: right;\n",
       "    }\n",
       "</style>\n",
       "<table border=\"1\" class=\"dataframe\">\n",
       "  <thead>\n",
       "    <tr style=\"text-align: right;\">\n",
       "      <th></th>\n",
       "      <th>id</th>\n",
       "      <th>step</th>\n",
       "      <th>transtype</th>\n",
       "      <th>amount</th>\n",
       "      <th>nameOrig</th>\n",
       "      <th>oldbalanceOrg</th>\n",
       "      <th>newbalanceOrig</th>\n",
       "      <th>nameDest</th>\n",
       "      <th>oldbalanceDest</th>\n",
       "      <th>newbalanceDest</th>\n",
       "      <th>isFraud</th>\n",
       "      <th>isFlaggedFraud</th>\n",
       "      <th>suspect_score</th>\n",
       "      <th>transtype_CASH_IN</th>\n",
       "      <th>transtype_CASH_OUT</th>\n",
       "      <th>transtype_DEBIT</th>\n",
       "      <th>transtype_PAYMENT</th>\n",
       "      <th>transtype_TRANSFER</th>\n",
       "    </tr>\n",
       "  </thead>\n",
       "  <tbody>\n",
       "    <tr>\n",
       "      <th>0</th>\n",
       "      <td>1</td>\n",
       "      <td>1</td>\n",
       "      <td>PAYMENT</td>\n",
       "      <td>9839.64</td>\n",
       "      <td>C1231006815</td>\n",
       "      <td>170136.0</td>\n",
       "      <td>160296.36</td>\n",
       "      <td>M1979787155</td>\n",
       "      <td>0.0</td>\n",
       "      <td>0.0</td>\n",
       "      <td>0</td>\n",
       "      <td>0</td>\n",
       "      <td>0.0</td>\n",
       "      <td>0.0</td>\n",
       "      <td>0.0</td>\n",
       "      <td>0.0</td>\n",
       "      <td>1.0</td>\n",
       "      <td>0.0</td>\n",
       "    </tr>\n",
       "    <tr>\n",
       "      <th>1</th>\n",
       "      <td>2</td>\n",
       "      <td>1</td>\n",
       "      <td>PAYMENT</td>\n",
       "      <td>1864.28</td>\n",
       "      <td>C1666544295</td>\n",
       "      <td>21249.0</td>\n",
       "      <td>19384.72</td>\n",
       "      <td>M2044282225</td>\n",
       "      <td>0.0</td>\n",
       "      <td>0.0</td>\n",
       "      <td>0</td>\n",
       "      <td>0</td>\n",
       "      <td>0.0</td>\n",
       "      <td>0.0</td>\n",
       "      <td>0.0</td>\n",
       "      <td>0.0</td>\n",
       "      <td>1.0</td>\n",
       "      <td>0.0</td>\n",
       "    </tr>\n",
       "    <tr>\n",
       "      <th>2</th>\n",
       "      <td>3</td>\n",
       "      <td>1</td>\n",
       "      <td>TRANSFER</td>\n",
       "      <td>181.00</td>\n",
       "      <td>C1305486145</td>\n",
       "      <td>181.0</td>\n",
       "      <td>0.00</td>\n",
       "      <td>C553264065</td>\n",
       "      <td>0.0</td>\n",
       "      <td>0.0</td>\n",
       "      <td>1</td>\n",
       "      <td>0</td>\n",
       "      <td>1.0</td>\n",
       "      <td>0.0</td>\n",
       "      <td>0.0</td>\n",
       "      <td>0.0</td>\n",
       "      <td>0.0</td>\n",
       "      <td>1.0</td>\n",
       "    </tr>\n",
       "    <tr>\n",
       "      <th>3</th>\n",
       "      <td>4</td>\n",
       "      <td>1</td>\n",
       "      <td>CASH_OUT</td>\n",
       "      <td>181.00</td>\n",
       "      <td>C840083671</td>\n",
       "      <td>181.0</td>\n",
       "      <td>0.00</td>\n",
       "      <td>C38997010</td>\n",
       "      <td>21182.0</td>\n",
       "      <td>0.0</td>\n",
       "      <td>1</td>\n",
       "      <td>0</td>\n",
       "      <td>1.0</td>\n",
       "      <td>0.0</td>\n",
       "      <td>1.0</td>\n",
       "      <td>0.0</td>\n",
       "      <td>0.0</td>\n",
       "      <td>0.0</td>\n",
       "    </tr>\n",
       "    <tr>\n",
       "      <th>4</th>\n",
       "      <td>5</td>\n",
       "      <td>1</td>\n",
       "      <td>PAYMENT</td>\n",
       "      <td>11668.14</td>\n",
       "      <td>C2048537720</td>\n",
       "      <td>41554.0</td>\n",
       "      <td>29885.86</td>\n",
       "      <td>M1230701703</td>\n",
       "      <td>0.0</td>\n",
       "      <td>0.0</td>\n",
       "      <td>0</td>\n",
       "      <td>0</td>\n",
       "      <td>0.0</td>\n",
       "      <td>0.0</td>\n",
       "      <td>0.0</td>\n",
       "      <td>0.0</td>\n",
       "      <td>1.0</td>\n",
       "      <td>0.0</td>\n",
       "    </tr>\n",
       "  </tbody>\n",
       "</table>\n",
       "</div>"
      ],
      "text/plain": [
       "   id  step transtype    amount     nameOrig  oldbalanceOrg  newbalanceOrig  \\\n",
       "0   1     1   PAYMENT   9839.64  C1231006815       170136.0       160296.36   \n",
       "1   2     1   PAYMENT   1864.28  C1666544295        21249.0        19384.72   \n",
       "2   3     1  TRANSFER    181.00  C1305486145          181.0            0.00   \n",
       "3   4     1  CASH_OUT    181.00   C840083671          181.0            0.00   \n",
       "4   5     1   PAYMENT  11668.14  C2048537720        41554.0        29885.86   \n",
       "\n",
       "      nameDest  oldbalanceDest  newbalanceDest  isFraud  isFlaggedFraud  \\\n",
       "0  M1979787155             0.0             0.0        0               0   \n",
       "1  M2044282225             0.0             0.0        0               0   \n",
       "2   C553264065             0.0             0.0        1               0   \n",
       "3    C38997010         21182.0             0.0        1               0   \n",
       "4  M1230701703             0.0             0.0        0               0   \n",
       "\n",
       "   suspect_score  transtype_CASH_IN  transtype_CASH_OUT  transtype_DEBIT  \\\n",
       "0            0.0                0.0                 0.0              0.0   \n",
       "1            0.0                0.0                 0.0              0.0   \n",
       "2            1.0                0.0                 0.0              0.0   \n",
       "3            1.0                0.0                 1.0              0.0   \n",
       "4            0.0                0.0                 0.0              0.0   \n",
       "\n",
       "   transtype_PAYMENT  transtype_TRANSFER  \n",
       "0                1.0                 0.0  \n",
       "1                1.0                 0.0  \n",
       "2                0.0                 1.0  \n",
       "3                0.0                 0.0  \n",
       "4                1.0                 0.0  "
      ]
     },
     "execution_count": 103,
     "metadata": {},
     "output_type": "execute_result"
    }
   ],
   "source": [
    "paysim_data_cudf.head()"
   ]
  },
  {
   "cell_type": "code",
   "execution_count": 104,
   "metadata": {
    "execution": {
     "iopub.execute_input": "2020-10-23T05:51:07.437090Z",
     "iopub.status.busy": "2020-10-23T05:51:07.436828Z",
     "iopub.status.idle": "2020-10-23T05:51:07.513213Z",
     "shell.execute_reply": "2020-10-23T05:51:07.512715Z",
     "shell.execute_reply.started": "2020-10-23T05:51:07.437061Z"
    }
   },
   "outputs": [],
   "source": [
    "X = paysim_data_cudf[[\"step\",\"amount\",\"oldbalanceOrg\",\n",
    "                      \"newbalanceOrig\",\n",
    "                      \"oldbalanceDest\",\n",
    "                      \"newbalanceDest\",\n",
    "                      \"suspect_score\",\n",
    "                      \"transtype_CASH_IN\",\n",
    "                      \"transtype_CASH_OUT\",\n",
    "                      \"transtype_DEBIT\",\n",
    "                      \"transtype_PAYMENT\",\n",
    "                      \"transtype_TRANSFER\"]]\n",
    "Y = paysim_data_cudf[\"isFraud\"]\n",
    "X_train, X_test, Y_train, Y_test = train_test_split(X, Y,test_size=TEST_SIZE, random_state=RANDOM_STATE)"
   ]
  },
  {
   "cell_type": "code",
   "execution_count": null,
   "metadata": {
    "execution": {
     "iopub.execute_input": "2020-10-23T05:57:51.661133Z",
     "iopub.status.busy": "2020-10-23T05:57:51.660865Z"
    }
   },
   "outputs": [],
   "source": [
    "logisticRModel2 = LogisticRegression(C=100.0,max_iter=6000,linesearch_max_iter=300)\n",
    "logisticRModel2.fit(X_train,Y_train)"
   ]
  },
  {
   "cell_type": "code",
   "execution_count": 107,
   "metadata": {
    "execution": {
     "iopub.execute_input": "2020-10-23T05:55:49.693084Z",
     "iopub.status.busy": "2020-10-23T05:55:49.692817Z",
     "iopub.status.idle": "2020-10-23T05:55:50.376276Z",
     "shell.execute_reply": "2020-10-23T05:55:50.375743Z",
     "shell.execute_reply.started": "2020-10-23T05:55:49.693056Z"
    }
   },
   "outputs": [
    {
     "name": "stdout",
     "output_type": "stream",
     "text": [
      "              precision    recall  f1-score   support\n",
      "\n",
      "    NotFraud       1.00      1.00      1.00    635315\n",
      "       Fraud       0.95      0.51      0.66       947\n",
      "\n",
      "    accuracy                           1.00    636262\n",
      "   macro avg       0.97      0.75      0.83    636262\n",
      "weighted avg       1.00      1.00      1.00    636262\n",
      "\n"
     ]
    }
   ],
   "source": [
    "Y_pred = logisticRModel2.predict(X_test)\n",
    "Y_test_p = Y_test.to_pandas()\n",
    "Y_test_p = np.array(Y_test_p)\n",
    "Y_pred_p = Y_pred.to_pandas()\n",
    "Y_pred_p = np.array(Y_pred_p)\n",
    "print(classification_report(Y_test_p, Y_pred_p,target_names=target_names))"
   ]
  },
  {
   "cell_type": "code",
   "execution_count": null,
   "metadata": {},
   "outputs": [],
   "source": []
  }
 ],
 "metadata": {
  "kernelspec": {
   "display_name": "Python 3",
   "language": "python",
   "name": "python3"
  },
  "language_info": {
   "codemirror_mode": {
    "name": "ipython",
    "version": 3
   },
   "file_extension": ".py",
   "mimetype": "text/x-python",
   "name": "python",
   "nbconvert_exporter": "python",
   "pygments_lexer": "ipython3",
   "version": "3.8.6"
  }
 },
 "nbformat": 4,
 "nbformat_minor": 4
}
