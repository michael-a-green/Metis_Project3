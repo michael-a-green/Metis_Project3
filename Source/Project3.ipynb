{
 "cells": [
  {
   "cell_type": "markdown",
   "metadata": {},
   "source": [
    "# Project 3\n",
    "Fraud detection. Using dataset from Kaggle."
   ]
  },
  {
   "cell_type": "markdown",
   "metadata": {},
   "source": [
    "## Importing Modules"
   ]
  },
  {
   "cell_type": "code",
   "execution_count": 1,
   "metadata": {
    "execution": {
     "iopub.execute_input": "2020-10-18T21:02:46.088577Z",
     "iopub.status.busy": "2020-10-18T21:02:46.088304Z",
     "iopub.status.idle": "2020-10-18T21:02:47.076681Z",
     "shell.execute_reply": "2020-10-18T21:02:47.075894Z",
     "shell.execute_reply.started": "2020-10-18T21:02:46.088488Z"
    }
   },
   "outputs": [],
   "source": [
    "from bs4 import BeautifulSoup\n",
    "from random import randint\n",
    "import pandas as pd\n",
    "import numpy as np\n",
    "import matplotlib.pyplot as plt\n",
    "import requests\n",
    "import re\n",
    "import time\n",
    "import pickle\n",
    "import os\n",
    "import datetime\n",
    "import seaborn as sns\n",
    "import math\n",
    "import scipy.stats as stats\n",
    "\n",
    "from sklearn.linear_model import LinearRegression\n",
    "from sklearn.linear_model import LogisticRegressionCV\n",
    "from sklearn.linear_model import LogisticRegression\n",
    "\n",
    "from sklearn.linear_model import Ridge\n",
    "from sklearn.linear_model import Lasso\n",
    "from sklearn.linear_model import RidgeCV\n",
    "from sklearn.linear_model import LassoCV\n",
    "from sklearn.model_selection import train_test_split\n",
    "from sklearn.preprocessing import PolynomialFeatures\n",
    "from sklearn.model_selection import cross_validate\n",
    "from sklearn.model_selection import KFold\n",
    "from sklearn.pipeline import Pipeline\n",
    "from sklearn.preprocessing import StandardScaler\n",
    "from sklearn.model_selection import cross_val_score\n",
    "from sklearn.model_selection import cross_validate\n",
    "from sklearn.preprocessing import OneHotEncoder, StandardScaler\n",
    "from sklearn.metrics import plot_confusion_matrix, plot_roc_curve, classification_report"
   ]
  },
  {
   "cell_type": "code",
   "execution_count": 2,
   "metadata": {
    "execution": {
     "iopub.execute_input": "2020-10-18T21:02:47.078240Z",
     "iopub.status.busy": "2020-10-18T21:02:47.078070Z",
     "iopub.status.idle": "2020-10-18T21:02:47.081076Z",
     "shell.execute_reply": "2020-10-18T21:02:47.080424Z",
     "shell.execute_reply.started": "2020-10-18T21:02:47.078219Z"
    }
   },
   "outputs": [],
   "source": [
    "#Constants\n",
    "RANDOM_STATE = 999\n",
    "TEST_SIZE = 0.1\n"
   ]
  },
  {
   "cell_type": "markdown",
   "metadata": {},
   "source": [
    "## Data Download and Load Into SQL"
   ]
  },
  {
   "cell_type": "markdown",
   "metadata": {},
   "source": [
    "Note if you want a copy of the data you can download it from [here](https://www.kaggle.com/ntnu-testimon/paysim1) "
   ]
  },
  {
   "cell_type": "code",
   "execution_count": 3,
   "metadata": {
    "execution": {
     "iopub.execute_input": "2020-10-18T21:02:47.082186Z",
     "iopub.status.busy": "2020-10-18T21:02:47.082037Z",
     "iopub.status.idle": "2020-10-18T21:02:55.141318Z",
     "shell.execute_reply": "2020-10-18T21:02:55.140448Z",
     "shell.execute_reply.started": "2020-10-18T21:02:47.082167Z"
    }
   },
   "outputs": [],
   "source": [
    "data_df = pd.read_csv(\"../Data/PS_20174392719_1491204439457_log.csv\")"
   ]
  },
  {
   "cell_type": "markdown",
   "metadata": {},
   "source": [
    "## Data Cleaning"
   ]
  },
  {
   "cell_type": "code",
   "execution_count": 4,
   "metadata": {
    "execution": {
     "iopub.execute_input": "2020-10-18T21:02:55.142485Z",
     "iopub.status.busy": "2020-10-18T21:02:55.142324Z",
     "iopub.status.idle": "2020-10-18T21:02:55.151856Z",
     "shell.execute_reply": "2020-10-18T21:02:55.151109Z",
     "shell.execute_reply.started": "2020-10-18T21:02:55.142464Z"
    }
   },
   "outputs": [
    {
     "name": "stdout",
     "output_type": "stream",
     "text": [
      "<class 'pandas.core.frame.DataFrame'>\n",
      "RangeIndex: 6362620 entries, 0 to 6362619\n",
      "Data columns (total 11 columns):\n",
      " #   Column          Dtype  \n",
      "---  ------          -----  \n",
      " 0   step            int64  \n",
      " 1   type            object \n",
      " 2   amount          float64\n",
      " 3   nameOrig        object \n",
      " 4   oldbalanceOrg   float64\n",
      " 5   newbalanceOrig  float64\n",
      " 6   nameDest        object \n",
      " 7   oldbalanceDest  float64\n",
      " 8   newbalanceDest  float64\n",
      " 9   isFraud         int64  \n",
      " 10  isFlaggedFraud  int64  \n",
      "dtypes: float64(5), int64(3), object(3)\n",
      "memory usage: 534.0+ MB\n"
     ]
    }
   ],
   "source": [
    "data_df.info()"
   ]
  },
  {
   "cell_type": "code",
   "execution_count": null,
   "metadata": {},
   "outputs": [],
   "source": []
  },
  {
   "cell_type": "code",
   "execution_count": 5,
   "metadata": {
    "execution": {
     "iopub.execute_input": "2020-10-18T21:02:55.152872Z",
     "iopub.status.busy": "2020-10-18T21:02:55.152714Z",
     "iopub.status.idle": "2020-10-18T21:02:56.674274Z",
     "shell.execute_reply": "2020-10-18T21:02:56.673591Z",
     "shell.execute_reply.started": "2020-10-18T21:02:55.152852Z"
    }
   },
   "outputs": [
    {
     "data": {
      "text/html": [
       "<div>\n",
       "<style scoped>\n",
       "    .dataframe tbody tr th:only-of-type {\n",
       "        vertical-align: middle;\n",
       "    }\n",
       "\n",
       "    .dataframe tbody tr th {\n",
       "        vertical-align: top;\n",
       "    }\n",
       "\n",
       "    .dataframe thead th {\n",
       "        text-align: right;\n",
       "    }\n",
       "</style>\n",
       "<table border=\"1\" class=\"dataframe\">\n",
       "  <thead>\n",
       "    <tr style=\"text-align: right;\">\n",
       "      <th></th>\n",
       "      <th>step</th>\n",
       "      <th>amount</th>\n",
       "      <th>oldbalanceOrg</th>\n",
       "      <th>newbalanceOrig</th>\n",
       "      <th>oldbalanceDest</th>\n",
       "      <th>newbalanceDest</th>\n",
       "      <th>isFraud</th>\n",
       "      <th>isFlaggedFraud</th>\n",
       "    </tr>\n",
       "  </thead>\n",
       "  <tbody>\n",
       "    <tr>\n",
       "      <th>count</th>\n",
       "      <td>6.362620e+06</td>\n",
       "      <td>6.362620e+06</td>\n",
       "      <td>6.362620e+06</td>\n",
       "      <td>6.362620e+06</td>\n",
       "      <td>6.362620e+06</td>\n",
       "      <td>6.362620e+06</td>\n",
       "      <td>6.362620e+06</td>\n",
       "      <td>6.362620e+06</td>\n",
       "    </tr>\n",
       "    <tr>\n",
       "      <th>mean</th>\n",
       "      <td>2.433972e+02</td>\n",
       "      <td>1.798619e+05</td>\n",
       "      <td>8.338831e+05</td>\n",
       "      <td>8.551137e+05</td>\n",
       "      <td>1.100702e+06</td>\n",
       "      <td>1.224996e+06</td>\n",
       "      <td>1.290820e-03</td>\n",
       "      <td>2.514687e-06</td>\n",
       "    </tr>\n",
       "    <tr>\n",
       "      <th>std</th>\n",
       "      <td>1.423320e+02</td>\n",
       "      <td>6.038582e+05</td>\n",
       "      <td>2.888243e+06</td>\n",
       "      <td>2.924049e+06</td>\n",
       "      <td>3.399180e+06</td>\n",
       "      <td>3.674129e+06</td>\n",
       "      <td>3.590480e-02</td>\n",
       "      <td>1.585775e-03</td>\n",
       "    </tr>\n",
       "    <tr>\n",
       "      <th>min</th>\n",
       "      <td>1.000000e+00</td>\n",
       "      <td>0.000000e+00</td>\n",
       "      <td>0.000000e+00</td>\n",
       "      <td>0.000000e+00</td>\n",
       "      <td>0.000000e+00</td>\n",
       "      <td>0.000000e+00</td>\n",
       "      <td>0.000000e+00</td>\n",
       "      <td>0.000000e+00</td>\n",
       "    </tr>\n",
       "    <tr>\n",
       "      <th>25%</th>\n",
       "      <td>1.560000e+02</td>\n",
       "      <td>1.338957e+04</td>\n",
       "      <td>0.000000e+00</td>\n",
       "      <td>0.000000e+00</td>\n",
       "      <td>0.000000e+00</td>\n",
       "      <td>0.000000e+00</td>\n",
       "      <td>0.000000e+00</td>\n",
       "      <td>0.000000e+00</td>\n",
       "    </tr>\n",
       "    <tr>\n",
       "      <th>50%</th>\n",
       "      <td>2.390000e+02</td>\n",
       "      <td>7.487194e+04</td>\n",
       "      <td>1.420800e+04</td>\n",
       "      <td>0.000000e+00</td>\n",
       "      <td>1.327057e+05</td>\n",
       "      <td>2.146614e+05</td>\n",
       "      <td>0.000000e+00</td>\n",
       "      <td>0.000000e+00</td>\n",
       "    </tr>\n",
       "    <tr>\n",
       "      <th>75%</th>\n",
       "      <td>3.350000e+02</td>\n",
       "      <td>2.087215e+05</td>\n",
       "      <td>1.073152e+05</td>\n",
       "      <td>1.442584e+05</td>\n",
       "      <td>9.430367e+05</td>\n",
       "      <td>1.111909e+06</td>\n",
       "      <td>0.000000e+00</td>\n",
       "      <td>0.000000e+00</td>\n",
       "    </tr>\n",
       "    <tr>\n",
       "      <th>max</th>\n",
       "      <td>7.430000e+02</td>\n",
       "      <td>9.244552e+07</td>\n",
       "      <td>5.958504e+07</td>\n",
       "      <td>4.958504e+07</td>\n",
       "      <td>3.560159e+08</td>\n",
       "      <td>3.561793e+08</td>\n",
       "      <td>1.000000e+00</td>\n",
       "      <td>1.000000e+00</td>\n",
       "    </tr>\n",
       "  </tbody>\n",
       "</table>\n",
       "</div>"
      ],
      "text/plain": [
       "               step        amount  oldbalanceOrg  newbalanceOrig  \\\n",
       "count  6.362620e+06  6.362620e+06   6.362620e+06    6.362620e+06   \n",
       "mean   2.433972e+02  1.798619e+05   8.338831e+05    8.551137e+05   \n",
       "std    1.423320e+02  6.038582e+05   2.888243e+06    2.924049e+06   \n",
       "min    1.000000e+00  0.000000e+00   0.000000e+00    0.000000e+00   \n",
       "25%    1.560000e+02  1.338957e+04   0.000000e+00    0.000000e+00   \n",
       "50%    2.390000e+02  7.487194e+04   1.420800e+04    0.000000e+00   \n",
       "75%    3.350000e+02  2.087215e+05   1.073152e+05    1.442584e+05   \n",
       "max    7.430000e+02  9.244552e+07   5.958504e+07    4.958504e+07   \n",
       "\n",
       "       oldbalanceDest  newbalanceDest       isFraud  isFlaggedFraud  \n",
       "count    6.362620e+06    6.362620e+06  6.362620e+06    6.362620e+06  \n",
       "mean     1.100702e+06    1.224996e+06  1.290820e-03    2.514687e-06  \n",
       "std      3.399180e+06    3.674129e+06  3.590480e-02    1.585775e-03  \n",
       "min      0.000000e+00    0.000000e+00  0.000000e+00    0.000000e+00  \n",
       "25%      0.000000e+00    0.000000e+00  0.000000e+00    0.000000e+00  \n",
       "50%      1.327057e+05    2.146614e+05  0.000000e+00    0.000000e+00  \n",
       "75%      9.430367e+05    1.111909e+06  0.000000e+00    0.000000e+00  \n",
       "max      3.560159e+08    3.561793e+08  1.000000e+00    1.000000e+00  "
      ]
     },
     "execution_count": 5,
     "metadata": {},
     "output_type": "execute_result"
    }
   ],
   "source": [
    "data_df.describe()"
   ]
  },
  {
   "cell_type": "code",
   "execution_count": 6,
   "metadata": {
    "execution": {
     "iopub.execute_input": "2020-10-18T21:02:56.675283Z",
     "iopub.status.busy": "2020-10-18T21:02:56.675125Z",
     "iopub.status.idle": "2020-10-18T21:02:56.678874Z",
     "shell.execute_reply": "2020-10-18T21:02:56.678294Z",
     "shell.execute_reply.started": "2020-10-18T21:02:56.675263Z"
    }
   },
   "outputs": [
    {
     "data": {
      "text/plain": [
       "(6362620, 11)"
      ]
     },
     "execution_count": 6,
     "metadata": {},
     "output_type": "execute_result"
    }
   ],
   "source": [
    "data_df.shape"
   ]
  },
  {
   "cell_type": "code",
   "execution_count": 7,
   "metadata": {
    "execution": {
     "iopub.execute_input": "2020-10-18T21:02:56.680845Z",
     "iopub.status.busy": "2020-10-18T21:02:56.680688Z",
     "iopub.status.idle": "2020-10-18T21:02:58.057953Z",
     "shell.execute_reply": "2020-10-18T21:02:58.057213Z",
     "shell.execute_reply.started": "2020-10-18T21:02:56.680826Z"
    }
   },
   "outputs": [],
   "source": [
    "data_df.dropna(inplace=True)"
   ]
  },
  {
   "cell_type": "code",
   "execution_count": 8,
   "metadata": {
    "execution": {
     "iopub.execute_input": "2020-10-18T21:02:58.059442Z",
     "iopub.status.busy": "2020-10-18T21:02:58.059285Z",
     "iopub.status.idle": "2020-10-18T21:02:58.063146Z",
     "shell.execute_reply": "2020-10-18T21:02:58.062578Z",
     "shell.execute_reply.started": "2020-10-18T21:02:58.059422Z"
    }
   },
   "outputs": [
    {
     "data": {
      "text/plain": [
       "(6362620, 11)"
      ]
     },
     "execution_count": 8,
     "metadata": {},
     "output_type": "execute_result"
    }
   ],
   "source": [
    "data_df.shape"
   ]
  },
  {
   "cell_type": "code",
   "execution_count": 9,
   "metadata": {
    "execution": {
     "iopub.execute_input": "2020-10-18T21:02:58.064096Z",
     "iopub.status.busy": "2020-10-18T21:02:58.063946Z",
     "iopub.status.idle": "2020-10-18T21:02:58.083921Z",
     "shell.execute_reply": "2020-10-18T21:02:58.083272Z",
     "shell.execute_reply.started": "2020-10-18T21:02:58.064077Z"
    }
   },
   "outputs": [
    {
     "data": {
      "text/html": [
       "<div>\n",
       "<style scoped>\n",
       "    .dataframe tbody tr th:only-of-type {\n",
       "        vertical-align: middle;\n",
       "    }\n",
       "\n",
       "    .dataframe tbody tr th {\n",
       "        vertical-align: top;\n",
       "    }\n",
       "\n",
       "    .dataframe thead th {\n",
       "        text-align: right;\n",
       "    }\n",
       "</style>\n",
       "<table border=\"1\" class=\"dataframe\">\n",
       "  <thead>\n",
       "    <tr style=\"text-align: right;\">\n",
       "      <th></th>\n",
       "      <th>step</th>\n",
       "      <th>type</th>\n",
       "      <th>amount</th>\n",
       "      <th>nameOrig</th>\n",
       "      <th>oldbalanceOrg</th>\n",
       "      <th>newbalanceOrig</th>\n",
       "      <th>nameDest</th>\n",
       "      <th>oldbalanceDest</th>\n",
       "      <th>newbalanceDest</th>\n",
       "      <th>isFraud</th>\n",
       "      <th>isFlaggedFraud</th>\n",
       "    </tr>\n",
       "  </thead>\n",
       "  <tbody>\n",
       "    <tr>\n",
       "      <th>0</th>\n",
       "      <td>1</td>\n",
       "      <td>PAYMENT</td>\n",
       "      <td>9839.64</td>\n",
       "      <td>C1231006815</td>\n",
       "      <td>170136.0</td>\n",
       "      <td>160296.36</td>\n",
       "      <td>M1979787155</td>\n",
       "      <td>0.0</td>\n",
       "      <td>0.0</td>\n",
       "      <td>0</td>\n",
       "      <td>0</td>\n",
       "    </tr>\n",
       "    <tr>\n",
       "      <th>1</th>\n",
       "      <td>1</td>\n",
       "      <td>PAYMENT</td>\n",
       "      <td>1864.28</td>\n",
       "      <td>C1666544295</td>\n",
       "      <td>21249.0</td>\n",
       "      <td>19384.72</td>\n",
       "      <td>M2044282225</td>\n",
       "      <td>0.0</td>\n",
       "      <td>0.0</td>\n",
       "      <td>0</td>\n",
       "      <td>0</td>\n",
       "    </tr>\n",
       "    <tr>\n",
       "      <th>2</th>\n",
       "      <td>1</td>\n",
       "      <td>TRANSFER</td>\n",
       "      <td>181.00</td>\n",
       "      <td>C1305486145</td>\n",
       "      <td>181.0</td>\n",
       "      <td>0.00</td>\n",
       "      <td>C553264065</td>\n",
       "      <td>0.0</td>\n",
       "      <td>0.0</td>\n",
       "      <td>1</td>\n",
       "      <td>0</td>\n",
       "    </tr>\n",
       "    <tr>\n",
       "      <th>3</th>\n",
       "      <td>1</td>\n",
       "      <td>CASH_OUT</td>\n",
       "      <td>181.00</td>\n",
       "      <td>C840083671</td>\n",
       "      <td>181.0</td>\n",
       "      <td>0.00</td>\n",
       "      <td>C38997010</td>\n",
       "      <td>21182.0</td>\n",
       "      <td>0.0</td>\n",
       "      <td>1</td>\n",
       "      <td>0</td>\n",
       "    </tr>\n",
       "    <tr>\n",
       "      <th>4</th>\n",
       "      <td>1</td>\n",
       "      <td>PAYMENT</td>\n",
       "      <td>11668.14</td>\n",
       "      <td>C2048537720</td>\n",
       "      <td>41554.0</td>\n",
       "      <td>29885.86</td>\n",
       "      <td>M1230701703</td>\n",
       "      <td>0.0</td>\n",
       "      <td>0.0</td>\n",
       "      <td>0</td>\n",
       "      <td>0</td>\n",
       "    </tr>\n",
       "  </tbody>\n",
       "</table>\n",
       "</div>"
      ],
      "text/plain": [
       "   step      type    amount     nameOrig  oldbalanceOrg  newbalanceOrig  \\\n",
       "0     1   PAYMENT   9839.64  C1231006815       170136.0       160296.36   \n",
       "1     1   PAYMENT   1864.28  C1666544295        21249.0        19384.72   \n",
       "2     1  TRANSFER    181.00  C1305486145          181.0            0.00   \n",
       "3     1  CASH_OUT    181.00   C840083671          181.0            0.00   \n",
       "4     1   PAYMENT  11668.14  C2048537720        41554.0        29885.86   \n",
       "\n",
       "      nameDest  oldbalanceDest  newbalanceDest  isFraud  isFlaggedFraud  \n",
       "0  M1979787155             0.0             0.0        0               0  \n",
       "1  M2044282225             0.0             0.0        0               0  \n",
       "2   C553264065             0.0             0.0        1               0  \n",
       "3    C38997010         21182.0             0.0        1               0  \n",
       "4  M1230701703             0.0             0.0        0               0  "
      ]
     },
     "execution_count": 9,
     "metadata": {},
     "output_type": "execute_result"
    }
   ],
   "source": [
    "data_df.head()"
   ]
  },
  {
   "cell_type": "markdown",
   "metadata": {},
   "source": [
    "Imbalanced?"
   ]
  },
  {
   "cell_type": "code",
   "execution_count": 10,
   "metadata": {
    "execution": {
     "iopub.execute_input": "2020-10-18T21:02:58.084941Z",
     "iopub.status.busy": "2020-10-18T21:02:58.084785Z",
     "iopub.status.idle": "2020-10-18T21:02:58.125521Z",
     "shell.execute_reply": "2020-10-18T21:02:58.124867Z",
     "shell.execute_reply.started": "2020-10-18T21:02:58.084921Z"
    }
   },
   "outputs": [
    {
     "data": {
      "text/plain": [
       "0    6354407\n",
       "1       8213\n",
       "Name: isFraud, dtype: int64"
      ]
     },
     "execution_count": 10,
     "metadata": {},
     "output_type": "execute_result"
    }
   ],
   "source": [
    "data_df[\"isFraud\"].value_counts()"
   ]
  },
  {
   "cell_type": "markdown",
   "metadata": {},
   "source": [
    "**Yes**"
   ]
  },
  {
   "cell_type": "markdown",
   "metadata": {},
   "source": [
    "## EDA"
   ]
  },
  {
   "cell_type": "markdown",
   "metadata": {},
   "source": [
    "Initial thought is that `isFraud` is basically a function of `type` and `amount`"
   ]
  },
  {
   "cell_type": "markdown",
   "metadata": {},
   "source": [
    "one-hot-encoding `type`"
   ]
  },
  {
   "cell_type": "code",
   "execution_count": 11,
   "metadata": {
    "execution": {
     "iopub.execute_input": "2020-10-18T21:02:58.126560Z",
     "iopub.status.busy": "2020-10-18T21:02:58.126400Z",
     "iopub.status.idle": "2020-10-18T21:02:58.151188Z",
     "shell.execute_reply": "2020-10-18T21:02:58.150555Z",
     "shell.execute_reply.started": "2020-10-18T21:02:58.126539Z"
    }
   },
   "outputs": [
    {
     "data": {
      "text/plain": [
       "(6362620, 1)"
      ]
     },
     "execution_count": 11,
     "metadata": {},
     "output_type": "execute_result"
    }
   ],
   "source": [
    "ohe = OneHotEncoder(sparse=False)\n",
    "\n",
    "np_data_type = np.array(data_df[\"type\"])\n",
    "np_data_type = np_data_type.reshape(-1,1)\n",
    "np_data_type.shape\n",
    "\n"
   ]
  },
  {
   "cell_type": "code",
   "execution_count": 12,
   "metadata": {
    "execution": {
     "iopub.execute_input": "2020-10-18T21:02:58.152184Z",
     "iopub.status.busy": "2020-10-18T21:02:58.152033Z",
     "iopub.status.idle": "2020-10-18T21:02:59.565538Z",
     "shell.execute_reply": "2020-10-18T21:02:59.564866Z",
     "shell.execute_reply.started": "2020-10-18T21:02:58.152164Z"
    }
   },
   "outputs": [
    {
     "data": {
      "text/plain": [
       "(6362620, 5)"
      ]
     },
     "execution_count": 12,
     "metadata": {},
     "output_type": "execute_result"
    }
   ],
   "source": [
    "np_data_type_ohe = ohe.fit_transform(np_data_type)\n",
    "np_data_type_ohe.shape"
   ]
  },
  {
   "cell_type": "code",
   "execution_count": 13,
   "metadata": {
    "execution": {
     "iopub.execute_input": "2020-10-18T21:02:59.566579Z",
     "iopub.status.busy": "2020-10-18T21:02:59.566420Z",
     "iopub.status.idle": "2020-10-18T21:02:59.981470Z",
     "shell.execute_reply": "2020-10-18T21:02:59.980797Z",
     "shell.execute_reply.started": "2020-10-18T21:02:59.566560Z"
    }
   },
   "outputs": [
    {
     "data": {
      "text/html": [
       "<div>\n",
       "<style scoped>\n",
       "    .dataframe tbody tr th:only-of-type {\n",
       "        vertical-align: middle;\n",
       "    }\n",
       "\n",
       "    .dataframe tbody tr th {\n",
       "        vertical-align: top;\n",
       "    }\n",
       "\n",
       "    .dataframe thead th {\n",
       "        text-align: right;\n",
       "    }\n",
       "</style>\n",
       "<table border=\"1\" class=\"dataframe\">\n",
       "  <thead>\n",
       "    <tr style=\"text-align: right;\">\n",
       "      <th></th>\n",
       "      <th>step</th>\n",
       "      <th>type</th>\n",
       "      <th>amount</th>\n",
       "      <th>nameOrig</th>\n",
       "      <th>oldbalanceOrg</th>\n",
       "      <th>newbalanceOrig</th>\n",
       "      <th>nameDest</th>\n",
       "      <th>oldbalanceDest</th>\n",
       "      <th>newbalanceDest</th>\n",
       "      <th>isFraud</th>\n",
       "      <th>isFlaggedFraud</th>\n",
       "      <th>type_CASH_IN</th>\n",
       "      <th>type_CASH_OUT</th>\n",
       "      <th>type_DEBIT</th>\n",
       "      <th>type_PAYMENT</th>\n",
       "      <th>type_TRANSFER</th>\n",
       "    </tr>\n",
       "  </thead>\n",
       "  <tbody>\n",
       "    <tr>\n",
       "      <th>0</th>\n",
       "      <td>1</td>\n",
       "      <td>PAYMENT</td>\n",
       "      <td>9839.64</td>\n",
       "      <td>C1231006815</td>\n",
       "      <td>170136.0</td>\n",
       "      <td>160296.36</td>\n",
       "      <td>M1979787155</td>\n",
       "      <td>0.0</td>\n",
       "      <td>0.0</td>\n",
       "      <td>0</td>\n",
       "      <td>0</td>\n",
       "      <td>0.0</td>\n",
       "      <td>0.0</td>\n",
       "      <td>0.0</td>\n",
       "      <td>1.0</td>\n",
       "      <td>0.0</td>\n",
       "    </tr>\n",
       "    <tr>\n",
       "      <th>1</th>\n",
       "      <td>1</td>\n",
       "      <td>PAYMENT</td>\n",
       "      <td>1864.28</td>\n",
       "      <td>C1666544295</td>\n",
       "      <td>21249.0</td>\n",
       "      <td>19384.72</td>\n",
       "      <td>M2044282225</td>\n",
       "      <td>0.0</td>\n",
       "      <td>0.0</td>\n",
       "      <td>0</td>\n",
       "      <td>0</td>\n",
       "      <td>0.0</td>\n",
       "      <td>0.0</td>\n",
       "      <td>0.0</td>\n",
       "      <td>1.0</td>\n",
       "      <td>0.0</td>\n",
       "    </tr>\n",
       "    <tr>\n",
       "      <th>2</th>\n",
       "      <td>1</td>\n",
       "      <td>TRANSFER</td>\n",
       "      <td>181.00</td>\n",
       "      <td>C1305486145</td>\n",
       "      <td>181.0</td>\n",
       "      <td>0.00</td>\n",
       "      <td>C553264065</td>\n",
       "      <td>0.0</td>\n",
       "      <td>0.0</td>\n",
       "      <td>1</td>\n",
       "      <td>0</td>\n",
       "      <td>0.0</td>\n",
       "      <td>0.0</td>\n",
       "      <td>0.0</td>\n",
       "      <td>0.0</td>\n",
       "      <td>1.0</td>\n",
       "    </tr>\n",
       "    <tr>\n",
       "      <th>3</th>\n",
       "      <td>1</td>\n",
       "      <td>CASH_OUT</td>\n",
       "      <td>181.00</td>\n",
       "      <td>C840083671</td>\n",
       "      <td>181.0</td>\n",
       "      <td>0.00</td>\n",
       "      <td>C38997010</td>\n",
       "      <td>21182.0</td>\n",
       "      <td>0.0</td>\n",
       "      <td>1</td>\n",
       "      <td>0</td>\n",
       "      <td>0.0</td>\n",
       "      <td>1.0</td>\n",
       "      <td>0.0</td>\n",
       "      <td>0.0</td>\n",
       "      <td>0.0</td>\n",
       "    </tr>\n",
       "    <tr>\n",
       "      <th>4</th>\n",
       "      <td>1</td>\n",
       "      <td>PAYMENT</td>\n",
       "      <td>11668.14</td>\n",
       "      <td>C2048537720</td>\n",
       "      <td>41554.0</td>\n",
       "      <td>29885.86</td>\n",
       "      <td>M1230701703</td>\n",
       "      <td>0.0</td>\n",
       "      <td>0.0</td>\n",
       "      <td>0</td>\n",
       "      <td>0</td>\n",
       "      <td>0.0</td>\n",
       "      <td>0.0</td>\n",
       "      <td>0.0</td>\n",
       "      <td>1.0</td>\n",
       "      <td>0.0</td>\n",
       "    </tr>\n",
       "  </tbody>\n",
       "</table>\n",
       "</div>"
      ],
      "text/plain": [
       "   step      type    amount     nameOrig  oldbalanceOrg  newbalanceOrig  \\\n",
       "0     1   PAYMENT   9839.64  C1231006815       170136.0       160296.36   \n",
       "1     1   PAYMENT   1864.28  C1666544295        21249.0        19384.72   \n",
       "2     1  TRANSFER    181.00  C1305486145          181.0            0.00   \n",
       "3     1  CASH_OUT    181.00   C840083671          181.0            0.00   \n",
       "4     1   PAYMENT  11668.14  C2048537720        41554.0        29885.86   \n",
       "\n",
       "      nameDest  oldbalanceDest  newbalanceDest  isFraud  isFlaggedFraud  \\\n",
       "0  M1979787155             0.0             0.0        0               0   \n",
       "1  M2044282225             0.0             0.0        0               0   \n",
       "2   C553264065             0.0             0.0        1               0   \n",
       "3    C38997010         21182.0             0.0        1               0   \n",
       "4  M1230701703             0.0             0.0        0               0   \n",
       "\n",
       "   type_CASH_IN  type_CASH_OUT  type_DEBIT  type_PAYMENT  type_TRANSFER  \n",
       "0           0.0            0.0         0.0           1.0            0.0  \n",
       "1           0.0            0.0         0.0           1.0            0.0  \n",
       "2           0.0            0.0         0.0           0.0            1.0  \n",
       "3           0.0            1.0         0.0           0.0            0.0  \n",
       "4           0.0            0.0         0.0           1.0            0.0  "
      ]
     },
     "execution_count": 13,
     "metadata": {},
     "output_type": "execute_result"
    }
   ],
   "source": [
    "np_data_type_ohe_df= pd.DataFrame(np_data_type_ohe,\n",
    "                           columns=ohe.get_feature_names(['type']), #create meaningful column names\n",
    "                           index=data_df.index) #keep the same index values\n",
    "\n",
    "#np_data_type_ohe_df.head()\n",
    "\n",
    "#combine continuous and categorical data\n",
    "\n",
    "data_df = pd.concat([data_df, np_data_type_ohe_df], axis=1)\n",
    "data_df.head()"
   ]
  },
  {
   "cell_type": "markdown",
   "metadata": {},
   "source": [
    "A plot to help me understand how mixed together `isFraud==0` is with `isFraud==1` as a function of `type` and `amount`"
   ]
  },
  {
   "cell_type": "code",
   "execution_count": 14,
   "metadata": {
    "execution": {
     "iopub.execute_input": "2020-10-18T21:02:59.982571Z",
     "iopub.status.busy": "2020-10-18T21:02:59.982409Z",
     "iopub.status.idle": "2020-10-18T21:03:00.634615Z",
     "shell.execute_reply": "2020-10-18T21:03:00.633886Z",
     "shell.execute_reply.started": "2020-10-18T21:02:59.982550Z"
    }
   },
   "outputs": [],
   "source": [
    "NUM_OF_RANDOM_SAMPLES = 6000\n",
    "\n",
    "plot_data_df = data_df[[\"step\",\"isFraud\",\"amount\",\"type_CASH_IN\",\"type_CASH_OUT\",\"type_DEBIT\",\"type_PAYMENT\",\"type_TRANSFER\"]]\n",
    "#limit to the first time step\n",
    "plot_data_df = plot_data_df[ plot_data_df[\"step\"] == 1 ]\n",
    "#np_plot_data_df_indices = list(np.random.permutation(np.array(list(plot_data_df.index)))[:5000])\n",
    "#sns.pairplot(plot_data_df.iloc[[np_plot_data_df_indices]], hue='isFraud');"
   ]
  },
  {
   "cell_type": "code",
   "execution_count": 15,
   "metadata": {
    "execution": {
     "iopub.execute_input": "2020-10-18T21:03:00.635678Z",
     "iopub.status.busy": "2020-10-18T21:03:00.635520Z",
     "iopub.status.idle": "2020-10-18T21:03:00.639894Z",
     "shell.execute_reply": "2020-10-18T21:03:00.639298Z",
     "shell.execute_reply.started": "2020-10-18T21:03:00.635658Z"
    }
   },
   "outputs": [],
   "source": [
    "#This code is generating the index numbers for data frame plot_data_df\n",
    "#then randomizing the list containing those indices\n",
    "#then picking the first NUM_OF_RANDOM_SAMPLES from that list\n",
    "#this list of randomly picked indices will be used to pick the corresponding\n",
    "#rows out of plot_data_df to be used in the pair plot\n",
    "#to plot all 6M rows is not practical (on this machine) \n",
    "plot_data_df_indices = list(plot_data_df.index)\n",
    "plot_data_df_indices = np.random.permutation(plot_data_df_indices)\n",
    "plot_data_df_indices = plot_data_df_indices[:NUM_OF_RANDOM_SAMPLES]\n",
    "plot_data_df_indices = list(plot_data_df_indices)\n"
   ]
  },
  {
   "cell_type": "code",
   "execution_count": 16,
   "metadata": {
    "execution": {
     "iopub.execute_input": "2020-10-18T21:03:00.640836Z",
     "iopub.status.busy": "2020-10-18T21:03:00.640683Z",
     "iopub.status.idle": "2020-10-18T21:03:00.650039Z",
     "shell.execute_reply": "2020-10-18T21:03:00.649379Z",
     "shell.execute_reply.started": "2020-10-18T21:03:00.640817Z"
    }
   },
   "outputs": [],
   "source": [
    " plot_data_df = plot_data_df.iloc[plot_data_df_indices]"
   ]
  },
  {
   "cell_type": "code",
   "execution_count": 17,
   "metadata": {
    "execution": {
     "iopub.execute_input": "2020-10-18T21:03:00.651299Z",
     "iopub.status.busy": "2020-10-18T21:03:00.651092Z",
     "iopub.status.idle": "2020-10-18T21:03:00.657146Z",
     "shell.execute_reply": "2020-10-18T21:03:00.656462Z",
     "shell.execute_reply.started": "2020-10-18T21:03:00.651272Z"
    }
   },
   "outputs": [
    {
     "data": {
      "text/plain": [
       "(2708, 8)"
      ]
     },
     "execution_count": 17,
     "metadata": {},
     "output_type": "execute_result"
    }
   ],
   "source": [
    "plot_data_df.shape"
   ]
  },
  {
   "cell_type": "code",
   "execution_count": 18,
   "metadata": {
    "execution": {
     "iopub.execute_input": "2020-10-18T21:03:00.658284Z",
     "iopub.status.busy": "2020-10-18T21:03:00.658123Z",
     "iopub.status.idle": "2020-10-18T21:03:00.670976Z",
     "shell.execute_reply": "2020-10-18T21:03:00.670309Z",
     "shell.execute_reply.started": "2020-10-18T21:03:00.658265Z"
    }
   },
   "outputs": [
    {
     "data": {
      "text/html": [
       "<div>\n",
       "<style scoped>\n",
       "    .dataframe tbody tr th:only-of-type {\n",
       "        vertical-align: middle;\n",
       "    }\n",
       "\n",
       "    .dataframe tbody tr th {\n",
       "        vertical-align: top;\n",
       "    }\n",
       "\n",
       "    .dataframe thead th {\n",
       "        text-align: right;\n",
       "    }\n",
       "</style>\n",
       "<table border=\"1\" class=\"dataframe\">\n",
       "  <thead>\n",
       "    <tr style=\"text-align: right;\">\n",
       "      <th></th>\n",
       "      <th>step</th>\n",
       "      <th>isFraud</th>\n",
       "      <th>amount</th>\n",
       "      <th>type_CASH_IN</th>\n",
       "      <th>type_CASH_OUT</th>\n",
       "      <th>type_DEBIT</th>\n",
       "      <th>type_PAYMENT</th>\n",
       "      <th>type_TRANSFER</th>\n",
       "    </tr>\n",
       "  </thead>\n",
       "  <tbody>\n",
       "    <tr>\n",
       "      <th>1769</th>\n",
       "      <td>1</td>\n",
       "      <td>0</td>\n",
       "      <td>9305.93</td>\n",
       "      <td>0.0</td>\n",
       "      <td>0.0</td>\n",
       "      <td>0.0</td>\n",
       "      <td>1.0</td>\n",
       "      <td>0.0</td>\n",
       "    </tr>\n",
       "    <tr>\n",
       "      <th>1876</th>\n",
       "      <td>1</td>\n",
       "      <td>0</td>\n",
       "      <td>26844.84</td>\n",
       "      <td>0.0</td>\n",
       "      <td>1.0</td>\n",
       "      <td>0.0</td>\n",
       "      <td>0.0</td>\n",
       "      <td>0.0</td>\n",
       "    </tr>\n",
       "    <tr>\n",
       "      <th>1326</th>\n",
       "      <td>1</td>\n",
       "      <td>0</td>\n",
       "      <td>56912.01</td>\n",
       "      <td>1.0</td>\n",
       "      <td>0.0</td>\n",
       "      <td>0.0</td>\n",
       "      <td>0.0</td>\n",
       "      <td>0.0</td>\n",
       "    </tr>\n",
       "    <tr>\n",
       "      <th>1599</th>\n",
       "      <td>1</td>\n",
       "      <td>0</td>\n",
       "      <td>244964.08</td>\n",
       "      <td>0.0</td>\n",
       "      <td>0.0</td>\n",
       "      <td>0.0</td>\n",
       "      <td>0.0</td>\n",
       "      <td>1.0</td>\n",
       "    </tr>\n",
       "    <tr>\n",
       "      <th>915</th>\n",
       "      <td>1</td>\n",
       "      <td>0</td>\n",
       "      <td>6993.70</td>\n",
       "      <td>0.0</td>\n",
       "      <td>0.0</td>\n",
       "      <td>0.0</td>\n",
       "      <td>1.0</td>\n",
       "      <td>0.0</td>\n",
       "    </tr>\n",
       "  </tbody>\n",
       "</table>\n",
       "</div>"
      ],
      "text/plain": [
       "      step  isFraud     amount  type_CASH_IN  type_CASH_OUT  type_DEBIT  \\\n",
       "1769     1        0    9305.93           0.0            0.0         0.0   \n",
       "1876     1        0   26844.84           0.0            1.0         0.0   \n",
       "1326     1        0   56912.01           1.0            0.0         0.0   \n",
       "1599     1        0  244964.08           0.0            0.0         0.0   \n",
       "915      1        0    6993.70           0.0            0.0         0.0   \n",
       "\n",
       "      type_PAYMENT  type_TRANSFER  \n",
       "1769           1.0            0.0  \n",
       "1876           0.0            0.0  \n",
       "1326           0.0            0.0  \n",
       "1599           0.0            1.0  \n",
       "915            1.0            0.0  "
      ]
     },
     "execution_count": 18,
     "metadata": {},
     "output_type": "execute_result"
    }
   ],
   "source": [
    "plot_data_df.head()"
   ]
  },
  {
   "cell_type": "code",
   "execution_count": 19,
   "metadata": {
    "execution": {
     "iopub.execute_input": "2020-10-18T21:03:00.671980Z",
     "iopub.status.busy": "2020-10-18T21:03:00.671822Z",
     "iopub.status.idle": "2020-10-18T21:03:17.083073Z",
     "shell.execute_reply": "2020-10-18T21:03:17.082551Z",
     "shell.execute_reply.started": "2020-10-18T21:03:00.671960Z"
    }
   },
   "outputs": [
    {
     "name": "stderr",
     "output_type": "stream",
     "text": [
      "/home/magreen/anaconda3_2020_07/envs/metis_linux_venv/lib/python3.8/site-packages/seaborn/distributions.py:305: UserWarning: Dataset has 0 variance; skipping density estimate.\n",
      "  warnings.warn(msg, UserWarning)\n",
      "/home/magreen/anaconda3_2020_07/envs/metis_linux_venv/lib/python3.8/site-packages/seaborn/distributions.py:305: UserWarning: Dataset has 0 variance; skipping density estimate.\n",
      "  warnings.warn(msg, UserWarning)\n",
      "/home/magreen/anaconda3_2020_07/envs/metis_linux_venv/lib/python3.8/site-packages/seaborn/distributions.py:305: UserWarning: Dataset has 0 variance; skipping density estimate.\n",
      "  warnings.warn(msg, UserWarning)\n",
      "/home/magreen/anaconda3_2020_07/envs/metis_linux_venv/lib/python3.8/site-packages/seaborn/distributions.py:305: UserWarning: Dataset has 0 variance; skipping density estimate.\n",
      "  warnings.warn(msg, UserWarning)\n",
      "/home/magreen/anaconda3_2020_07/envs/metis_linux_venv/lib/python3.8/site-packages/seaborn/distributions.py:305: UserWarning: Dataset has 0 variance; skipping density estimate.\n",
      "  warnings.warn(msg, UserWarning)\n"
     ]
    },
    {
     "data": {
      "image/png": "[encoded data removed]",
      "text/plain": [
       "<Figure size 1304.12x1260 with 56 Axes>"
      ]
     },
     "metadata": {
      "needs_background": "light"
     },
     "output_type": "display_data"
    }
   ],
   "source": [
    "sns.pairplot(plot_data_df, hue='isFraud');"
   ]
  },
  {
   "cell_type": "markdown",
   "metadata": {},
   "source": [
    "Not looking like good parameters :("
   ]
  },
  {
   "cell_type": "markdown",
   "metadata": {},
   "source": [
    "## Baseline Model"
   ]
  },
  {
   "cell_type": "markdown",
   "metadata": {},
   "source": [
    "Random Guessing (50% chance of `isFraud==1` and 50% chance that `isFraud==0` will be the baseline model"
   ]
  },
  {
   "cell_type": "code",
   "execution_count": 20,
   "metadata": {
    "execution": {
     "iopub.execute_input": "2020-10-18T21:03:17.084130Z",
     "iopub.status.busy": "2020-10-18T21:03:17.083971Z",
     "iopub.status.idle": "2020-10-18T21:03:17.087806Z",
     "shell.execute_reply": "2020-10-18T21:03:17.087354Z",
     "shell.execute_reply.started": "2020-10-18T21:03:17.084108Z"
    }
   },
   "outputs": [
    {
     "data": {
      "text/plain": [
       "(6362620, 16)"
      ]
     },
     "execution_count": 20,
     "metadata": {},
     "output_type": "execute_result"
    }
   ],
   "source": [
    "data_df.shape"
   ]
  },
  {
   "cell_type": "code",
   "execution_count": 21,
   "metadata": {
    "execution": {
     "iopub.execute_input": "2020-10-18T21:03:17.088612Z",
     "iopub.status.busy": "2020-10-18T21:03:17.088457Z",
     "iopub.status.idle": "2020-10-18T21:03:18.130059Z",
     "shell.execute_reply": "2020-10-18T21:03:18.129490Z",
     "shell.execute_reply.started": "2020-10-18T21:03:17.088593Z"
    }
   },
   "outputs": [],
   "source": [
    "X = data_df[[\"step\",\"amount\",\"type_CASH_IN\",\"type_CASH_OUT\",\"type_DEBIT\",\"type_PAYMENT\",\"type_TRANSFER\"]]\n",
    "Y = data_df[\"isFraud\"]\n",
    "X_train, X_test, Y_train, Y_test = train_test_split(X, Y,test_size=TEST_SIZE, random_state=RANDOM_STATE)\n",
    "\n",
    "number_of_test_samples = X_test.shape[0]\n",
    "y_pred_zero = np.zeros(number_of_test_samples // 2)\n",
    "y_pred_one = np.ones( number_of_test_samples -  y_pred_zero.shape[0] )\n",
    "\n",
    "y_pred = np.array([y_pred_zero, y_pred_one])\n",
    "y_pred = y_pred.reshape(-1,)\n",
    "y_pred = np.random.permutation(y_pred)\n",
    "\n",
    "\n"
   ]
  },
  {
   "cell_type": "markdown",
   "metadata": {},
   "source": [
    "Scoring the baseline model"
   ]
  },
  {
   "cell_type": "code",
   "execution_count": 22,
   "metadata": {
    "execution": {
     "iopub.execute_input": "2020-10-18T21:03:18.132427Z",
     "iopub.status.busy": "2020-10-18T21:03:18.132277Z",
     "iopub.status.idle": "2020-10-18T21:03:19.330549Z",
     "shell.execute_reply": "2020-10-18T21:03:19.329974Z",
     "shell.execute_reply.started": "2020-10-18T21:03:18.132407Z"
    }
   },
   "outputs": [
    {
     "name": "stdout",
     "output_type": "stream",
     "text": [
      "              precision    recall  f1-score   support\n",
      "\n",
      "    NotFraud       1.00      0.50      0.67    635450\n",
      "       Fraud       0.00      0.47      0.00       812\n",
      "\n",
      "    accuracy                           0.50    636262\n",
      "   macro avg       0.50      0.49      0.33    636262\n",
      "weighted avg       1.00      0.50      0.67    636262\n",
      "\n"
     ]
    }
   ],
   "source": [
    "target_names = [\"NotFraud\",\"Fraud\"]\n",
    "print(classification_report(Y_test, y_pred,target_names=target_names))"
   ]
  },
  {
   "cell_type": "markdown",
   "metadata": {},
   "source": [
    "Thoughts about random guessing model:\n",
    "\n",
    "Precision (TP/(TP+FP)) and recall (TP/(TP+FN)) are high for the `NotFraud` class because most (99.97%) of the response variables in the test set are `NotFraud`. Precision and recall are very low for `Fraud` because there are very few chances to guess right and the random guessing model does not perform well in identifying them.\n",
    "\n",
    "Accuracy is meaningless for the same reason: It's easy to get 50% right as the vast majority of the results belong to one class. \n",
    "\n",
    "TODO: generate confusion matrix which will help illustrate this."
   ]
  },
  {
   "cell_type": "markdown",
   "metadata": {},
   "source": [
    "## Model Selection"
   ]
  },
  {
   "cell_type": "markdown",
   "metadata": {},
   "source": [
    "Just some notes about what model to select:\n",
    "\n",
    "**Logistic Models**\n",
    "For small datasets, ‘liblinear’ is a good choice, whereas ‘sag’ and ‘saga’ are faster for large ones.\n",
    "\n",
    "Note that ‘sag’ and ‘saga’ fast convergence is only guaranteed on features with approximately the same scale. You can preprocess the data with a scaler from sklearn.preprocessing.\n",
    "\n"
   ]
  },
  {
   "cell_type": "markdown",
   "metadata": {},
   "source": [
    "## Model Evaluation"
   ]
  },
  {
   "cell_type": "code",
   "execution_count": 23,
   "metadata": {
    "execution": {
     "iopub.execute_input": "2020-10-18T21:03:19.331629Z",
     "iopub.status.busy": "2020-10-18T21:03:19.331480Z",
     "iopub.status.idle": "2020-10-18T21:08:08.649269Z",
     "shell.execute_reply": "2020-10-18T21:08:08.648510Z",
     "shell.execute_reply.started": "2020-10-18T21:03:19.331609Z"
    }
   },
   "outputs": [
    {
     "name": "stderr",
     "output_type": "stream",
     "text": [
      "/home/magreen/anaconda3_2020_07/envs/metis_linux_venv/lib/python3.8/site-packages/sklearn/linear_model/_sag.py:329: ConvergenceWarning: The max_iter was reached which means the coef_ did not converge\n",
      "  warnings.warn(\"The max_iter was reached which means \"\n"
     ]
    },
    {
     "data": {
      "text/plain": [
       "LogisticRegression(C=100, n_jobs=-1, random_state=999, solver='sag')"
      ]
     },
     "execution_count": 23,
     "metadata": {},
     "output_type": "execute_result"
    }
   ],
   "source": [
    "#Since I'm using values that are either 1 or 0 along with amount which is a very large number, will normalize the data\n",
    "#to aid gradient descent\n",
    "normalizer = StandardScaler()\n",
    "X_train_normal = normalizer.fit_transform(X_train.values)\n",
    "X_test_normal = normalizer.transform(X_test.values)\n",
    "\n",
    "#logisticRModel = LogisticRegressionCV(Cs=100,cv=5,solver=\"sag\",n_jobs=-1,random_state=RANDOM_STATE)\n",
    "logisticRModel = LogisticRegression(C=100,solver=\"sag\",n_jobs=-1,random_state=RANDOM_STATE)\n",
    "\n",
    "logisticRModel.fit(X_train_normal,Y_train)"
   ]
  },
  {
   "cell_type": "code",
   "execution_count": 24,
   "metadata": {
    "execution": {
     "iopub.execute_input": "2020-10-18T21:08:08.651226Z",
     "iopub.status.busy": "2020-10-18T21:08:08.650935Z",
     "iopub.status.idle": "2020-10-18T21:08:08.665912Z",
     "shell.execute_reply": "2020-10-18T21:08:08.665335Z",
     "shell.execute_reply.started": "2020-10-18T21:08:08.651191Z"
    }
   },
   "outputs": [],
   "source": [
    "Y_pred = logisticRModel.predict(X_test_normal)"
   ]
  },
  {
   "cell_type": "code",
   "execution_count": 25,
   "metadata": {
    "execution": {
     "iopub.execute_input": "2020-10-18T21:08:08.666890Z",
     "iopub.status.busy": "2020-10-18T21:08:08.666724Z",
     "iopub.status.idle": "2020-10-18T21:08:09.438880Z",
     "shell.execute_reply": "2020-10-18T21:08:09.438408Z",
     "shell.execute_reply.started": "2020-10-18T21:08:08.666868Z"
    }
   },
   "outputs": [
    {
     "name": "stdout",
     "output_type": "stream",
     "text": [
      "              precision    recall  f1-score   support\n",
      "\n",
      "    NotFraud       1.00      1.00      1.00    635450\n",
      "       Fraud       0.00      0.00      0.00       812\n",
      "\n",
      "    accuracy                           1.00    636262\n",
      "   macro avg       0.50      0.50      0.50    636262\n",
      "weighted avg       1.00      1.00      1.00    636262\n",
      "\n"
     ]
    }
   ],
   "source": [
    "print(classification_report(Y_test, Y_pred,target_names=target_names))"
   ]
  },
  {
   "cell_type": "code",
   "execution_count": 26,
   "metadata": {
    "execution": {
     "iopub.execute_input": "2020-10-18T21:08:09.439734Z",
     "iopub.status.busy": "2020-10-18T21:08:09.439586Z",
     "iopub.status.idle": "2020-10-18T21:08:09.489724Z",
     "shell.execute_reply": "2020-10-18T21:08:09.489315Z",
     "shell.execute_reply.started": "2020-10-18T21:08:09.439715Z"
    }
   },
   "outputs": [
    {
     "data": {
      "text/plain": [
       "0.9987190811332438"
      ]
     },
     "execution_count": 26,
     "metadata": {},
     "output_type": "execute_result"
    }
   ],
   "source": [
    "logisticRModel.score(X_test_normal,Y_test)"
   ]
  },
  {
   "cell_type": "code",
   "execution_count": 27,
   "metadata": {
    "execution": {
     "iopub.execute_input": "2020-10-18T21:08:09.490537Z",
     "iopub.status.busy": "2020-10-18T21:08:09.490393Z",
     "iopub.status.idle": "2020-10-18T21:08:09.498168Z",
     "shell.execute_reply": "2020-10-18T21:08:09.497602Z",
     "shell.execute_reply.started": "2020-10-18T21:08:09.490517Z"
    }
   },
   "outputs": [
    {
     "data": {
      "text/plain": [
       "0    635450\n",
       "1       812\n",
       "Name: isFraud, dtype: int64"
      ]
     },
     "execution_count": 27,
     "metadata": {},
     "output_type": "execute_result"
    }
   ],
   "source": [
    "Y_test.value_counts()"
   ]
  },
  {
   "cell_type": "code",
   "execution_count": 28,
   "metadata": {
    "execution": {
     "iopub.execute_input": "2020-10-18T21:08:09.499015Z",
     "iopub.status.busy": "2020-10-18T21:08:09.498873Z",
     "iopub.status.idle": "2020-10-18T21:08:09.514107Z",
     "shell.execute_reply": "2020-10-18T21:08:09.513549Z",
     "shell.execute_reply.started": "2020-10-18T21:08:09.498995Z"
    }
   },
   "outputs": [
    {
     "data": {
      "text/plain": [
       "0    636259\n",
       "1         3\n",
       "dtype: int64"
      ]
     },
     "execution_count": 28,
     "metadata": {},
     "output_type": "execute_result"
    }
   ],
   "source": [
    "Y_pred_df = pd.DataFrame(Y_pred)\n",
    "Y_pred_df.value_counts()"
   ]
  },
  {
   "cell_type": "code",
   "execution_count": null,
   "metadata": {},
   "outputs": [],
   "source": [
    "logisticRModel.coef_"
   ]
  },
  {
   "cell_type": "markdown",
   "metadata": {},
   "source": [
    "Thoughts about baseline logistic model:\n",
    "\n",
    "Precision (TP/(TP+FP)) and recall (TP/(TP+FN)) are high for the `NotFraud` because most(99.97%) of the response variables in the test set are `NotFraud`. Precision and recall are very low for `Fraud` because there are very few chances to guess right and the random guessing model does not perform well in identify them.\n",
    "\n",
    "Accuracy is meaningless for the same reason: It's easy to get 50% right as the vast majority of the results belong to one class. \n",
    "\n",
    "TODO: generate confusion matrix which will help illustrate this."
   ]
  },
  {
   "cell_type": "code",
   "execution_count": null,
   "metadata": {},
   "outputs": [],
   "source": []
  }
 ],
 "metadata": {
  "kernelspec": {
   "display_name": "Python 3",
   "language": "python",
   "name": "python3"
  },
  "language_info": {
   "codemirror_mode": {
    "name": "ipython",
    "version": 3
   },
   "file_extension": ".py",
   "mimetype": "text/x-python",
   "name": "python",
   "nbconvert_exporter": "python",
   "pygments_lexer": "ipython3",
   "version": "3.8.3"
  }
 },
 "nbformat": 4,
 "nbformat_minor": 4
}
